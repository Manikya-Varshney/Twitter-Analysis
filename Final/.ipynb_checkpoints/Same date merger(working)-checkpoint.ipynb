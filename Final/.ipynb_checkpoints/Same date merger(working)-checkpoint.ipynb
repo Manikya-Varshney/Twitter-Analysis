{
 "cells": [
  {
   "cell_type": "code",
   "execution_count": 1,
   "metadata": {},
   "outputs": [],
   "source": [
    "import pandas as pd\n",
    "import numpy as np \n",
    "import csv\n",
    "import time"
   ]
  },
  {
   "cell_type": "code",
   "execution_count": 14,
   "metadata": {},
   "outputs": [],
   "source": [
    "inpath_1 = '/home/manikya_varshney/Documents/Python/Yale/Final Data/Final Datewise Sorted/(C&A)September8th.csv'\n",
    "inpath_2 = '/home/manikya_varshney/Documents/Python/Yale/Final Data/Final Datewise Sorted/(C&A)September8th(from 7th).csv'\n",
    "\n",
    "outpath = '/home/manikya_varshney/Documents/Python/Yale/Final Data/Final Date Merged/(Final)September8th.csv'"
   ]
  },
  {
   "cell_type": "code",
   "execution_count": 3,
   "metadata": {},
   "outputs": [
    {
     "name": "stdout",
     "output_type": "stream",
     "text": [
      "Read csv with pandas:  6.903908014297485 sec\n"
     ]
    }
   ],
   "source": [
    "start = time.time()\n",
    "data_1 = pd.read_csv(inpath_1, index_col=None, header=0, engine='python' )\n",
    "data_2 = pd.read_csv(inpath_2, index_col=None, header=0, engine='python' )\n",
    "end = time.time()\n",
    "print(\"Read csv with pandas: \",(end-start),\"sec\")"
   ]
  },
  {
   "cell_type": "code",
   "execution_count": 4,
   "metadata": {},
   "outputs": [
    {
     "data": {
      "text/html": [
       "<div>\n",
       "<style scoped>\n",
       "    .dataframe tbody tr th:only-of-type {\n",
       "        vertical-align: middle;\n",
       "    }\n",
       "\n",
       "    .dataframe tbody tr th {\n",
       "        vertical-align: top;\n",
       "    }\n",
       "\n",
       "    .dataframe thead th {\n",
       "        text-align: right;\n",
       "    }\n",
       "</style>\n",
       "<table border=\"1\" class=\"dataframe\">\n",
       "  <thead>\n",
       "    <tr style=\"text-align: right;\">\n",
       "      <th></th>\n",
       "      <th>created_at</th>\n",
       "      <th>id</th>\n",
       "      <th>user_id</th>\n",
       "      <th>coordinates</th>\n",
       "      <th>location</th>\n",
       "      <th>extended_tweet_full_text_duplicate</th>\n",
       "      <th>final</th>\n",
       "      <th>Date_Flag</th>\n",
       "    </tr>\n",
       "  </thead>\n",
       "  <tbody>\n",
       "    <tr>\n",
       "      <th>0</th>\n",
       "      <td>Tue Sep 08 04:01:22 +0000 2020</td>\n",
       "      <td>1.303182e+18</td>\n",
       "      <td>1.122185e+18</td>\n",
       "      <td>NaN</td>\n",
       "      <td>NaN</td>\n",
       "      <td>This lady rly just tried to come two inches ne...</td>\n",
       "      <td>lady rly try to come two inch next to to block...</td>\n",
       "      <td>True</td>\n",
       "    </tr>\n",
       "    <tr>\n",
       "      <th>1</th>\n",
       "      <td>Tue Sep 08 04:01:22 +0000 2020</td>\n",
       "      <td>1.303182e+18</td>\n",
       "      <td>3.199075e+09</td>\n",
       "      <td>NaN</td>\n",
       "      <td>NaN</td>\n",
       "      <td>@realDonaldTrump STOP DIVIDING THE COUNTRY!\\n\\...</td>\n",
       "      <td>stop divide the country president dont know to...</td>\n",
       "      <td>True</td>\n",
       "    </tr>\n",
       "    <tr>\n",
       "      <th>2</th>\n",
       "      <td>Tue Sep 08 04:01:22 +0000 2020</td>\n",
       "      <td>1.303182e+18</td>\n",
       "      <td>1.103441e+18</td>\n",
       "      <td>NaN</td>\n",
       "      <td>NaN</td>\n",
       "      <td>@SkyNewsAust NOTE!\\n\\nThis video should be vie...</td>\n",
       "      <td>note video view every australian man unassaila...</td>\n",
       "      <td>True</td>\n",
       "    </tr>\n",
       "    <tr>\n",
       "      <th>3</th>\n",
       "      <td>Tue Sep 08 04:01:22 +0000 2020</td>\n",
       "      <td>1.303182e+18</td>\n",
       "      <td>7.141611e+17</td>\n",
       "      <td>NaN</td>\n",
       "      <td>San Francisco, CA</td>\n",
       "      <td>Biggest comeback? Seeing the whole world back ...</td>\n",
       "      <td>big comeback see the whole world back to norma...</td>\n",
       "      <td>True</td>\n",
       "    </tr>\n",
       "    <tr>\n",
       "      <th>4</th>\n",
       "      <td>Tue Sep 08 04:01:22 +0000 2020</td>\n",
       "      <td>1.303182e+18</td>\n",
       "      <td>2.636616e+08</td>\n",
       "      <td>NaN</td>\n",
       "      <td>Virginia Beach, VA</td>\n",
       "      <td>@lenacarti I hear you!  But I'm gonna start tr...</td>\n",
       "      <td>hear im gon na start travel january to jamaica...</td>\n",
       "      <td>True</td>\n",
       "    </tr>\n",
       "    <tr>\n",
       "      <th>...</th>\n",
       "      <td>...</td>\n",
       "      <td>...</td>\n",
       "      <td>...</td>\n",
       "      <td>...</td>\n",
       "      <td>...</td>\n",
       "      <td>...</td>\n",
       "      <td>...</td>\n",
       "      <td>...</td>\n",
       "    </tr>\n",
       "    <tr>\n",
       "      <th>698662</th>\n",
       "      <td>Tue Sep 08 23:58:28 +0000 2020</td>\n",
       "      <td>1.300546e+18</td>\n",
       "      <td>2.785194e+08</td>\n",
       "      <td>NaN</td>\n",
       "      <td>NaN</td>\n",
       "      <td>Received my Official Furlough Notice today. @v...</td>\n",
       "      <td>receive official furlough notice today please ...</td>\n",
       "      <td>True</td>\n",
       "    </tr>\n",
       "    <tr>\n",
       "      <th>698663</th>\n",
       "      <td>Tue Sep 08 23:58:59 +0000 2020</td>\n",
       "      <td>1.300224e+18</td>\n",
       "      <td>4.550243e+08</td>\n",
       "      <td>NaN</td>\n",
       "      <td>Washington, DC</td>\n",
       "      <td>As you get ready for a new week, don't forget ...</td>\n",
       "      <td>get ready new week dont forget 3⃣ w to prevent...</td>\n",
       "      <td>True</td>\n",
       "    </tr>\n",
       "    <tr>\n",
       "      <th>698664</th>\n",
       "      <td>Tue Sep 08 23:59:28 +0000 2020</td>\n",
       "      <td>1.298920e+18</td>\n",
       "      <td>6.124730e+05</td>\n",
       "      <td>NaN</td>\n",
       "      <td>London</td>\n",
       "      <td>PM Boris Johnson hires personal trainer Harry ...</td>\n",
       "      <td>pm boris johnson hire personal trainer harry j...</td>\n",
       "      <td>True</td>\n",
       "    </tr>\n",
       "    <tr>\n",
       "      <th>698665</th>\n",
       "      <td>Tue Sep 08 23:59:34 +0000 2020</td>\n",
       "      <td>1.299761e+18</td>\n",
       "      <td>2.056583e+07</td>\n",
       "      <td>NaN</td>\n",
       "      <td>Washington, DC USA 🇺🇸</td>\n",
       "      <td>Headquarters of anti-LGBTQ group ‘Focus on the...</td>\n",
       "      <td>headquarters antilgbtq group ‘ focus the famil...</td>\n",
       "      <td>True</td>\n",
       "    </tr>\n",
       "    <tr>\n",
       "      <th>698666</th>\n",
       "      <td>Tue Sep 08 23:59:42 +0000 2020</td>\n",
       "      <td>1.281235e+18</td>\n",
       "      <td>2.683783e+09</td>\n",
       "      <td>NaN</td>\n",
       "      <td>Rivendell (Imladris)</td>\n",
       "      <td>WHICH SUIT?\\n1. The Ant-man suit\\n2. The Ironm...</td>\n",
       "      <td>suit 1 the antman suit 2 the ironman suit 3 th...</td>\n",
       "      <td>True</td>\n",
       "    </tr>\n",
       "  </tbody>\n",
       "</table>\n",
       "<p>698667 rows × 8 columns</p>\n",
       "</div>"
      ],
      "text/plain": [
       "                            created_at            id       user_id  \\\n",
       "0       Tue Sep 08 04:01:22 +0000 2020  1.303182e+18  1.122185e+18   \n",
       "1       Tue Sep 08 04:01:22 +0000 2020  1.303182e+18  3.199075e+09   \n",
       "2       Tue Sep 08 04:01:22 +0000 2020  1.303182e+18  1.103441e+18   \n",
       "3       Tue Sep 08 04:01:22 +0000 2020  1.303182e+18  7.141611e+17   \n",
       "4       Tue Sep 08 04:01:22 +0000 2020  1.303182e+18  2.636616e+08   \n",
       "...                                ...           ...           ...   \n",
       "698662  Tue Sep 08 23:58:28 +0000 2020  1.300546e+18  2.785194e+08   \n",
       "698663  Tue Sep 08 23:58:59 +0000 2020  1.300224e+18  4.550243e+08   \n",
       "698664  Tue Sep 08 23:59:28 +0000 2020  1.298920e+18  6.124730e+05   \n",
       "698665  Tue Sep 08 23:59:34 +0000 2020  1.299761e+18  2.056583e+07   \n",
       "698666  Tue Sep 08 23:59:42 +0000 2020  1.281235e+18  2.683783e+09   \n",
       "\n",
       "       coordinates               location  \\\n",
       "0              NaN                    NaN   \n",
       "1              NaN                    NaN   \n",
       "2              NaN                    NaN   \n",
       "3              NaN      San Francisco, CA   \n",
       "4              NaN     Virginia Beach, VA   \n",
       "...            ...                    ...   \n",
       "698662         NaN                    NaN   \n",
       "698663         NaN         Washington, DC   \n",
       "698664         NaN                 London   \n",
       "698665         NaN  Washington, DC USA 🇺🇸   \n",
       "698666         NaN   Rivendell (Imladris)   \n",
       "\n",
       "                       extended_tweet_full_text_duplicate  \\\n",
       "0       This lady rly just tried to come two inches ne...   \n",
       "1       @realDonaldTrump STOP DIVIDING THE COUNTRY!\\n\\...   \n",
       "2       @SkyNewsAust NOTE!\\n\\nThis video should be vie...   \n",
       "3       Biggest comeback? Seeing the whole world back ...   \n",
       "4       @lenacarti I hear you!  But I'm gonna start tr...   \n",
       "...                                                   ...   \n",
       "698662  Received my Official Furlough Notice today. @v...   \n",
       "698663  As you get ready for a new week, don't forget ...   \n",
       "698664  PM Boris Johnson hires personal trainer Harry ...   \n",
       "698665  Headquarters of anti-LGBTQ group ‘Focus on the...   \n",
       "698666  WHICH SUIT?\\n1. The Ant-man suit\\n2. The Ironm...   \n",
       "\n",
       "                                                    final  Date_Flag  \n",
       "0       lady rly try to come two inch next to to block...       True  \n",
       "1       stop divide the country president dont know to...       True  \n",
       "2       note video view every australian man unassaila...       True  \n",
       "3       big comeback see the whole world back to norma...       True  \n",
       "4       hear im gon na start travel january to jamaica...       True  \n",
       "...                                                   ...        ...  \n",
       "698662  receive official furlough notice today please ...       True  \n",
       "698663  get ready new week dont forget 3⃣ w to prevent...       True  \n",
       "698664  pm boris johnson hire personal trainer harry j...       True  \n",
       "698665  headquarters antilgbtq group ‘ focus the famil...       True  \n",
       "698666  suit 1 the antman suit 2 the ironman suit 3 th...       True  \n",
       "\n",
       "[698667 rows x 8 columns]"
      ]
     },
     "execution_count": 4,
     "metadata": {},
     "output_type": "execute_result"
    }
   ],
   "source": [
    "data_1"
   ]
  },
  {
   "cell_type": "code",
   "execution_count": 5,
   "metadata": {},
   "outputs": [
    {
     "data": {
      "text/html": [
       "<div>\n",
       "<style scoped>\n",
       "    .dataframe tbody tr th:only-of-type {\n",
       "        vertical-align: middle;\n",
       "    }\n",
       "\n",
       "    .dataframe tbody tr th {\n",
       "        vertical-align: top;\n",
       "    }\n",
       "\n",
       "    .dataframe thead th {\n",
       "        text-align: right;\n",
       "    }\n",
       "</style>\n",
       "<table border=\"1\" class=\"dataframe\">\n",
       "  <thead>\n",
       "    <tr style=\"text-align: right;\">\n",
       "      <th></th>\n",
       "      <th>created_at</th>\n",
       "      <th>id</th>\n",
       "      <th>user_id</th>\n",
       "      <th>coordinates</th>\n",
       "      <th>location</th>\n",
       "      <th>extended_tweet_full_text_duplicate</th>\n",
       "      <th>final</th>\n",
       "      <th>Date_Flag</th>\n",
       "    </tr>\n",
       "  </thead>\n",
       "  <tbody>\n",
       "    <tr>\n",
       "      <th>0</th>\n",
       "      <td>Tue Sep 08 02:24:35 +0000 2020</td>\n",
       "      <td>1.303157e+18</td>\n",
       "      <td>1.191796e+08</td>\n",
       "      <td>NaN</td>\n",
       "      <td>Pasadena, CA</td>\n",
       "      <td>@mamasherry21 @Alyssa_Milano Or the nearly 200...</td>\n",
       "      <td>the nearly 200000 dead from covid19 the 20mill...</td>\n",
       "      <td>True</td>\n",
       "    </tr>\n",
       "    <tr>\n",
       "      <th>1</th>\n",
       "      <td>Tue Sep 08 02:24:35 +0000 2020</td>\n",
       "      <td>1.303157e+18</td>\n",
       "      <td>1.139218e+08</td>\n",
       "      <td>NaN</td>\n",
       "      <td>Boston, MA</td>\n",
       "      <td>@DaveePena people REALLY are bored with this s...</td>\n",
       "      <td>people really bore shit rn lol like say late p...</td>\n",
       "      <td>True</td>\n",
       "    </tr>\n",
       "    <tr>\n",
       "      <th>2</th>\n",
       "      <td>Tue Sep 08 02:24:35 +0000 2020</td>\n",
       "      <td>1.303157e+18</td>\n",
       "      <td>1.309928e+08</td>\n",
       "      <td>NaN</td>\n",
       "      <td>Hobart, Tasmania</td>\n",
       "      <td>“What the Royal Commission and COVID-19 have s...</td>\n",
       "      <td>the royal commission covid19 show disconnect t...</td>\n",
       "      <td>True</td>\n",
       "    </tr>\n",
       "    <tr>\n",
       "      <th>3</th>\n",
       "      <td>Tue Sep 08 02:24:36 +0000 2020</td>\n",
       "      <td>1.303157e+18</td>\n",
       "      <td>1.687396e+09</td>\n",
       "      <td>NaN</td>\n",
       "      <td>129</td>\n",
       "      <td>Me have a glock 19 like covid 19 Buss out them...</td>\n",
       "      <td>glock 19 like covid 19 bus out head left brain...</td>\n",
       "      <td>True</td>\n",
       "    </tr>\n",
       "    <tr>\n",
       "      <th>4</th>\n",
       "      <td>Tue Sep 08 02:24:36 +0000 2020</td>\n",
       "      <td>1.303157e+18</td>\n",
       "      <td>3.033848e+09</td>\n",
       "      <td>NaN</td>\n",
       "      <td>Boston, MA</td>\n",
       "      <td>Just leaving the ER after being rushed back th...</td>\n",
       "      <td>leave the er rush back afternoon cant even lie...</td>\n",
       "      <td>True</td>\n",
       "    </tr>\n",
       "    <tr>\n",
       "      <th>...</th>\n",
       "      <td>...</td>\n",
       "      <td>...</td>\n",
       "      <td>...</td>\n",
       "      <td>...</td>\n",
       "      <td>...</td>\n",
       "      <td>...</td>\n",
       "      <td>...</td>\n",
       "      <td>...</td>\n",
       "    </tr>\n",
       "    <tr>\n",
       "      <th>123387</th>\n",
       "      <td>Tue Sep 08 04:01:05 +0000 2020</td>\n",
       "      <td>1.290860e+18</td>\n",
       "      <td>2.218708e+07</td>\n",
       "      <td>NaN</td>\n",
       "      <td>Washington, D.C.</td>\n",
       "      <td>The chief adviser to the Trump administration’...</td>\n",
       "      <td>the chief adviser to the trump administration ...</td>\n",
       "      <td>True</td>\n",
       "    </tr>\n",
       "    <tr>\n",
       "      <th>123388</th>\n",
       "      <td>Tue Sep 08 04:01:07 +0000 2020</td>\n",
       "      <td>1.302699e+18</td>\n",
       "      <td>2.704682e+09</td>\n",
       "      <td>NaN</td>\n",
       "      <td>USA and Client Nations</td>\n",
       "      <td>https://t.co/cT0Z7XrKS3</td>\n",
       "      <td>NaN</td>\n",
       "      <td>True</td>\n",
       "    </tr>\n",
       "    <tr>\n",
       "      <th>123389</th>\n",
       "      <td>Tue Sep 08 04:01:14 +0000 2020</td>\n",
       "      <td>1.244119e+18</td>\n",
       "      <td>2.126890e+07</td>\n",
       "      <td>NaN</td>\n",
       "      <td>New York City</td>\n",
       "      <td>Good lord this video. Like a thoroughbred maki...</td>\n",
       "      <td>good lord video like thoroughbred make late br...</td>\n",
       "      <td>True</td>\n",
       "    </tr>\n",
       "    <tr>\n",
       "      <th>123390</th>\n",
       "      <td>Tue Sep 08 04:01:20 +0000 2020</td>\n",
       "      <td>1.302943e+18</td>\n",
       "      <td>1.223450e+18</td>\n",
       "      <td>NaN</td>\n",
       "      <td>NaN</td>\n",
       "      <td>@AshishJaggi_1 @gauravbh @Rajput_Ramesh really...</td>\n",
       "      <td>really thankful to gaurabh bhatia sir solanki ...</td>\n",
       "      <td>True</td>\n",
       "    </tr>\n",
       "    <tr>\n",
       "      <th>123391</th>\n",
       "      <td>Tue Sep 08 04:01:20 +0000 2020</td>\n",
       "      <td>1.244043e+18</td>\n",
       "      <td>2.704715e+09</td>\n",
       "      <td>NaN</td>\n",
       "      <td>Atlanta, GA    she/her</td>\n",
       "      <td>You might have heard about the new test that c...</td>\n",
       "      <td>might heard the new test detect covid19 5 min ...</td>\n",
       "      <td>True</td>\n",
       "    </tr>\n",
       "  </tbody>\n",
       "</table>\n",
       "<p>123392 rows × 8 columns</p>\n",
       "</div>"
      ],
      "text/plain": [
       "                            created_at            id       user_id  \\\n",
       "0       Tue Sep 08 02:24:35 +0000 2020  1.303157e+18  1.191796e+08   \n",
       "1       Tue Sep 08 02:24:35 +0000 2020  1.303157e+18  1.139218e+08   \n",
       "2       Tue Sep 08 02:24:35 +0000 2020  1.303157e+18  1.309928e+08   \n",
       "3       Tue Sep 08 02:24:36 +0000 2020  1.303157e+18  1.687396e+09   \n",
       "4       Tue Sep 08 02:24:36 +0000 2020  1.303157e+18  3.033848e+09   \n",
       "...                                ...           ...           ...   \n",
       "123387  Tue Sep 08 04:01:05 +0000 2020  1.290860e+18  2.218708e+07   \n",
       "123388  Tue Sep 08 04:01:07 +0000 2020  1.302699e+18  2.704682e+09   \n",
       "123389  Tue Sep 08 04:01:14 +0000 2020  1.244119e+18  2.126890e+07   \n",
       "123390  Tue Sep 08 04:01:20 +0000 2020  1.302943e+18  1.223450e+18   \n",
       "123391  Tue Sep 08 04:01:20 +0000 2020  1.244043e+18  2.704715e+09   \n",
       "\n",
       "       coordinates                location  \\\n",
       "0              NaN            Pasadena, CA   \n",
       "1              NaN              Boston, MA   \n",
       "2              NaN        Hobart, Tasmania   \n",
       "3              NaN                    129    \n",
       "4              NaN              Boston, MA   \n",
       "...            ...                     ...   \n",
       "123387         NaN        Washington, D.C.   \n",
       "123388         NaN  USA and Client Nations   \n",
       "123389         NaN           New York City   \n",
       "123390         NaN                     NaN   \n",
       "123391         NaN  Atlanta, GA    she/her   \n",
       "\n",
       "                       extended_tweet_full_text_duplicate  \\\n",
       "0       @mamasherry21 @Alyssa_Milano Or the nearly 200...   \n",
       "1       @DaveePena people REALLY are bored with this s...   \n",
       "2       “What the Royal Commission and COVID-19 have s...   \n",
       "3       Me have a glock 19 like covid 19 Buss out them...   \n",
       "4       Just leaving the ER after being rushed back th...   \n",
       "...                                                   ...   \n",
       "123387  The chief adviser to the Trump administration’...   \n",
       "123388                            https://t.co/cT0Z7XrKS3   \n",
       "123389  Good lord this video. Like a thoroughbred maki...   \n",
       "123390  @AshishJaggi_1 @gauravbh @Rajput_Ramesh really...   \n",
       "123391  You might have heard about the new test that c...   \n",
       "\n",
       "                                                    final  Date_Flag  \n",
       "0       the nearly 200000 dead from covid19 the 20mill...       True  \n",
       "1       people really bore shit rn lol like say late p...       True  \n",
       "2       the royal commission covid19 show disconnect t...       True  \n",
       "3       glock 19 like covid 19 bus out head left brain...       True  \n",
       "4       leave the er rush back afternoon cant even lie...       True  \n",
       "...                                                   ...        ...  \n",
       "123387  the chief adviser to the trump administration ...       True  \n",
       "123388                                                NaN       True  \n",
       "123389  good lord video like thoroughbred make late br...       True  \n",
       "123390  really thankful to gaurabh bhatia sir solanki ...       True  \n",
       "123391  might heard the new test detect covid19 5 min ...       True  \n",
       "\n",
       "[123392 rows x 8 columns]"
      ]
     },
     "execution_count": 5,
     "metadata": {},
     "output_type": "execute_result"
    }
   ],
   "source": [
    "data_2"
   ]
  },
  {
   "cell_type": "code",
   "execution_count": 6,
   "metadata": {},
   "outputs": [
    {
     "name": "stdout",
     "output_type": "stream",
     "text": [
      "2\n"
     ]
    }
   ],
   "source": [
    "dfList = []\n",
    "\n",
    "dfList.append(data_1)\n",
    "dfList.append(data_2)\n",
    "\n",
    "print(len(dfList))\n",
    "\n",
    "concatDf = pd.concat(dfList, axis = 0)\n"
   ]
  },
  {
   "cell_type": "code",
   "execution_count": 7,
   "metadata": {},
   "outputs": [
    {
     "data": {
      "text/plain": [
       "(822059, 8)"
      ]
     },
     "execution_count": 7,
     "metadata": {},
     "output_type": "execute_result"
    }
   ],
   "source": [
    "concatDf.shape"
   ]
  },
  {
   "cell_type": "code",
   "execution_count": 8,
   "metadata": {},
   "outputs": [
    {
     "data": {
      "text/plain": [
       "True"
      ]
     },
     "execution_count": 8,
     "metadata": {},
     "output_type": "execute_result"
    }
   ],
   "source": [
    "data_1.shape[0] + data_2.shape[0] == concatDf.shape[0]"
   ]
  },
  {
   "cell_type": "code",
   "execution_count": 9,
   "metadata": {
    "scrolled": true
   },
   "outputs": [
    {
     "data": {
      "text/plain": [
       "1.241715e+18    2\n",
       "1.303161e+18    2\n",
       "1.302741e+18    2\n",
       "1.303111e+18    2\n",
       "1.303035e+18    2\n",
       "               ..\n",
       "1.303438e+18    1\n",
       "1.303227e+18    1\n",
       "1.303435e+18    1\n",
       "1.303358e+18    1\n",
       "1.303353e+18    1\n",
       "Name: id, Length: 800898, dtype: int64"
      ]
     },
     "execution_count": 9,
     "metadata": {},
     "output_type": "execute_result"
    }
   ],
   "source": [
    "concatDf['id'].value_counts()"
   ]
  },
  {
   "cell_type": "code",
   "execution_count": 10,
   "metadata": {},
   "outputs": [],
   "source": [
    "concatDf = concatDf.drop_duplicates(['id'])"
   ]
  },
  {
   "cell_type": "code",
   "execution_count": 11,
   "metadata": {},
   "outputs": [
    {
     "data": {
      "text/plain": [
       "1.303360e+18    1\n",
       "1.303291e+18    1\n",
       "1.303370e+18    1\n",
       "1.303228e+18    1\n",
       "1.303318e+18    1\n",
       "               ..\n",
       "1.303428e+18    1\n",
       "1.303355e+18    1\n",
       "1.303282e+18    1\n",
       "1.303463e+18    1\n",
       "1.303353e+18    1\n",
       "Name: id, Length: 800898, dtype: int64"
      ]
     },
     "execution_count": 11,
     "metadata": {},
     "output_type": "execute_result"
    }
   ],
   "source": [
    "concatDf['id'].value_counts()"
   ]
  },
  {
   "cell_type": "code",
   "execution_count": 12,
   "metadata": {},
   "outputs": [
    {
     "data": {
      "text/plain": [
       "(800899, 8)"
      ]
     },
     "execution_count": 12,
     "metadata": {},
     "output_type": "execute_result"
    }
   ],
   "source": [
    "concatDf.shape"
   ]
  },
  {
   "cell_type": "code",
   "execution_count": 13,
   "metadata": {},
   "outputs": [],
   "source": [
    "concatDf.to_csv(outpath, index = None)"
   ]
  }
 ],
 "metadata": {
  "kernelspec": {
   "display_name": "Python 3",
   "language": "python",
   "name": "python3"
  },
  "language_info": {
   "codemirror_mode": {
    "name": "ipython",
    "version": 3
   },
   "file_extension": ".py",
   "mimetype": "text/x-python",
   "name": "python",
   "nbconvert_exporter": "python",
   "pygments_lexer": "ipython3",
   "version": "3.8.5"
  }
 },
 "nbformat": 4,
 "nbformat_minor": 4
}
