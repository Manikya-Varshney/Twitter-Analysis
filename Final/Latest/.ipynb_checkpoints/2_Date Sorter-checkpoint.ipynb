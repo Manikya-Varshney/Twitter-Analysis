{
 "cells": [
  {
   "cell_type": "code",
   "execution_count": 15,
   "metadata": {},
   "outputs": [],
   "source": [
    "import pandas as pd\n",
    "import numpy as np \n",
    "import csv\n",
    "import time"
   ]
  },
  {
   "cell_type": "code",
   "execution_count": 16,
   "metadata": {},
   "outputs": [],
   "source": [
    "inpath = '/home/manikya_varshney/Documents/Python/Yale/Final Data/(C&A)September8th.csv'\n",
    "\n",
    "\n",
    "#outpath = '/home/manikya_varshney/Documents/Python/Yale/Final Data/Final Datewise Sorted/(C&A)September9th(from 8th).csv'\n",
    "outpath = '/home/manikya_varshney/Documents/Python/Yale/Final Data/Final Datewise Sorted/(C&A)September8th.csv'"
   ]
  },
  {
   "cell_type": "code",
   "execution_count": 17,
   "metadata": {
    "scrolled": true
   },
   "outputs": [
    {
     "name": "stdout",
     "output_type": "stream",
     "text": [
      "Read csv with pandas:  13.16039514541626 sec\n"
     ]
    }
   ],
   "source": [
    "start = time.time()\n",
    "data = pd.read_csv(inpath, index_col=None, header=0, engine='python' )\n",
    "end = time.time()\n",
    "print(\"Read csv with pandas: \",(end-start),\"sec\")"
   ]
  },
  {
   "cell_type": "code",
   "execution_count": 18,
   "metadata": {
    "scrolled": false
   },
   "outputs": [
    {
     "data": {
      "text/html": [
       "<div>\n",
       "<style scoped>\n",
       "    .dataframe tbody tr th:only-of-type {\n",
       "        vertical-align: middle;\n",
       "    }\n",
       "\n",
       "    .dataframe tbody tr th {\n",
       "        vertical-align: top;\n",
       "    }\n",
       "\n",
       "    .dataframe thead th {\n",
       "        text-align: right;\n",
       "    }\n",
       "</style>\n",
       "<table border=\"1\" class=\"dataframe\">\n",
       "  <thead>\n",
       "    <tr style=\"text-align: right;\">\n",
       "      <th></th>\n",
       "      <th>created_at</th>\n",
       "      <th>id</th>\n",
       "      <th>user_id</th>\n",
       "      <th>coordinates</th>\n",
       "      <th>location</th>\n",
       "      <th>extended_tweet_full_text_duplicate</th>\n",
       "      <th>final</th>\n",
       "    </tr>\n",
       "  </thead>\n",
       "  <tbody>\n",
       "    <tr>\n",
       "      <th>0</th>\n",
       "      <td>Tue Sep 08 04:01:22 +0000 2020</td>\n",
       "      <td>1.3031816109178716e+18</td>\n",
       "      <td>1.122185e+18</td>\n",
       "      <td>NaN</td>\n",
       "      <td>NaN</td>\n",
       "      <td>This lady rly just tried to come two inches ne...</td>\n",
       "      <td>lady rly try to come two inch next to to block...</td>\n",
       "    </tr>\n",
       "    <tr>\n",
       "      <th>1</th>\n",
       "      <td>Tue Sep 08 04:01:22 +0000 2020</td>\n",
       "      <td>1.3031816106369352e+18</td>\n",
       "      <td>3.199075e+09</td>\n",
       "      <td>NaN</td>\n",
       "      <td>NaN</td>\n",
       "      <td>@realDonaldTrump STOP DIVIDING THE COUNTRY!\\n\\...</td>\n",
       "      <td>stop divide the country president dont know to...</td>\n",
       "    </tr>\n",
       "    <tr>\n",
       "      <th>2</th>\n",
       "      <td>Tue Sep 08 04:01:22 +0000 2020</td>\n",
       "      <td>1.303181611274367e+18</td>\n",
       "      <td>1.103441e+18</td>\n",
       "      <td>NaN</td>\n",
       "      <td>NaN</td>\n",
       "      <td>@SkyNewsAust NOTE!\\n\\nThis video should be vie...</td>\n",
       "      <td>note video view every australian man unassaila...</td>\n",
       "    </tr>\n",
       "    <tr>\n",
       "      <th>3</th>\n",
       "      <td>Tue Sep 08 04:01:22 +0000 2020</td>\n",
       "      <td>1.3031816111948186e+18</td>\n",
       "      <td>7.141611e+17</td>\n",
       "      <td>NaN</td>\n",
       "      <td>San Francisco, CA</td>\n",
       "      <td>Biggest comeback? Seeing the whole world back ...</td>\n",
       "      <td>big comeback see the whole world back to norma...</td>\n",
       "    </tr>\n",
       "    <tr>\n",
       "      <th>4</th>\n",
       "      <td>Tue Sep 08 04:01:22 +0000 2020</td>\n",
       "      <td>1.3031816117359616e+18</td>\n",
       "      <td>2.636616e+08</td>\n",
       "      <td>NaN</td>\n",
       "      <td>Virginia Beach, VA</td>\n",
       "      <td>@lenacarti I hear you!  But I'm gonna start tr...</td>\n",
       "      <td>hear im gon na start travel january to jamaica...</td>\n",
       "    </tr>\n",
       "    <tr>\n",
       "      <th>...</th>\n",
       "      <td>...</td>\n",
       "      <td>...</td>\n",
       "      <td>...</td>\n",
       "      <td>...</td>\n",
       "      <td>...</td>\n",
       "      <td>...</td>\n",
       "      <td>...</td>\n",
       "    </tr>\n",
       "    <tr>\n",
       "      <th>1487850</th>\n",
       "      <td>Wed Sep 09 03:59:47 +0000 2020</td>\n",
       "      <td>1.3034938575610757e+18</td>\n",
       "      <td>3.011539e+08</td>\n",
       "      <td>NaN</td>\n",
       "      <td>Melbourne</td>\n",
       "      <td>@GayeCrispin Can someone, anyone out there, an...</td>\n",
       "      <td>someone anyone out answer question didnt scott...</td>\n",
       "    </tr>\n",
       "    <tr>\n",
       "      <th>1487851</th>\n",
       "      <td>Wed Sep 09 03:59:47 +0000 2020</td>\n",
       "      <td>1.3033275513270968e+18</td>\n",
       "      <td>1.107178e+09</td>\n",
       "      <td>NaN</td>\n",
       "      <td>University of Alberta Edmonton</td>\n",
       "      <td>PSA: a COVID-19 case at schools is not the sam...</td>\n",
       "      <td>psa covid19 case at school the school outbreak...</td>\n",
       "    </tr>\n",
       "    <tr>\n",
       "      <th>1487852</th>\n",
       "      <td>Wed Sep 09 03:59:48 +0000 2020</td>\n",
       "      <td>1.2435675767115612e+18</td>\n",
       "      <td>1.826669e+07</td>\n",
       "      <td>NaN</td>\n",
       "      <td>Washington, DC</td>\n",
       "      <td>Heavy lifting @JudicialWatch battling both Hil...</td>\n",
       "      <td>heavy lift battling hillary clinton adam schif...</td>\n",
       "    </tr>\n",
       "    <tr>\n",
       "      <th>1487853</th>\n",
       "      <td>Wed Sep 09 03:59:54 +0000 2020</td>\n",
       "      <td>1.3035030936493548e+18</td>\n",
       "      <td>3.153208e+07</td>\n",
       "      <td>NaN</td>\n",
       "      <td>Washington, DC</td>\n",
       "      <td>A senior administration official told reporter...</td>\n",
       "      <td>senior administration official told reporter a...</td>\n",
       "    </tr>\n",
       "    <tr>\n",
       "      <th>1487854</th>\n",
       "      <td>Wed Sep 09 03:59:56 +0000 2020</td>\n",
       "      <td>1.248648089528873e+18</td>\n",
       "      <td>2.932345e+09</td>\n",
       "      <td>NaN</td>\n",
       "      <td>New York, USA</td>\n",
       "      <td>😳 @BillGates explaining the risk profile of th...</td>\n",
       "      <td>explain the risk profile the get out jail card...</td>\n",
       "    </tr>\n",
       "  </tbody>\n",
       "</table>\n",
       "<p>1487855 rows × 7 columns</p>\n",
       "</div>"
      ],
      "text/plain": [
       "                             created_at                      id       user_id  \\\n",
       "0        Tue Sep 08 04:01:22 +0000 2020  1.3031816109178716e+18  1.122185e+18   \n",
       "1        Tue Sep 08 04:01:22 +0000 2020  1.3031816106369352e+18  3.199075e+09   \n",
       "2        Tue Sep 08 04:01:22 +0000 2020   1.303181611274367e+18  1.103441e+18   \n",
       "3        Tue Sep 08 04:01:22 +0000 2020  1.3031816111948186e+18  7.141611e+17   \n",
       "4        Tue Sep 08 04:01:22 +0000 2020  1.3031816117359616e+18  2.636616e+08   \n",
       "...                                 ...                     ...           ...   \n",
       "1487850  Wed Sep 09 03:59:47 +0000 2020  1.3034938575610757e+18  3.011539e+08   \n",
       "1487851  Wed Sep 09 03:59:47 +0000 2020  1.3033275513270968e+18  1.107178e+09   \n",
       "1487852  Wed Sep 09 03:59:48 +0000 2020  1.2435675767115612e+18  1.826669e+07   \n",
       "1487853  Wed Sep 09 03:59:54 +0000 2020  1.3035030936493548e+18  3.153208e+07   \n",
       "1487854  Wed Sep 09 03:59:56 +0000 2020   1.248648089528873e+18  2.932345e+09   \n",
       "\n",
       "        coordinates                        location  \\\n",
       "0               NaN                             NaN   \n",
       "1               NaN                             NaN   \n",
       "2               NaN                             NaN   \n",
       "3               NaN               San Francisco, CA   \n",
       "4               NaN              Virginia Beach, VA   \n",
       "...             ...                             ...   \n",
       "1487850         NaN                       Melbourne   \n",
       "1487851         NaN  University of Alberta Edmonton   \n",
       "1487852         NaN                  Washington, DC   \n",
       "1487853         NaN                  Washington, DC   \n",
       "1487854         NaN                   New York, USA   \n",
       "\n",
       "                        extended_tweet_full_text_duplicate  \\\n",
       "0        This lady rly just tried to come two inches ne...   \n",
       "1        @realDonaldTrump STOP DIVIDING THE COUNTRY!\\n\\...   \n",
       "2        @SkyNewsAust NOTE!\\n\\nThis video should be vie...   \n",
       "3        Biggest comeback? Seeing the whole world back ...   \n",
       "4        @lenacarti I hear you!  But I'm gonna start tr...   \n",
       "...                                                    ...   \n",
       "1487850  @GayeCrispin Can someone, anyone out there, an...   \n",
       "1487851  PSA: a COVID-19 case at schools is not the sam...   \n",
       "1487852  Heavy lifting @JudicialWatch battling both Hil...   \n",
       "1487853  A senior administration official told reporter...   \n",
       "1487854  😳 @BillGates explaining the risk profile of th...   \n",
       "\n",
       "                                                     final  \n",
       "0        lady rly try to come two inch next to to block...  \n",
       "1        stop divide the country president dont know to...  \n",
       "2        note video view every australian man unassaila...  \n",
       "3        big comeback see the whole world back to norma...  \n",
       "4        hear im gon na start travel january to jamaica...  \n",
       "...                                                    ...  \n",
       "1487850  someone anyone out answer question didnt scott...  \n",
       "1487851  psa covid19 case at school the school outbreak...  \n",
       "1487852  heavy lift battling hillary clinton adam schif...  \n",
       "1487853  senior administration official told reporter a...  \n",
       "1487854  explain the risk profile the get out jail card...  \n",
       "\n",
       "[1487855 rows x 7 columns]"
      ]
     },
     "execution_count": 18,
     "metadata": {},
     "output_type": "execute_result"
    }
   ],
   "source": [
    "data"
   ]
  },
  {
   "cell_type": "markdown",
   "metadata": {},
   "source": [
    "### Date check"
   ]
  },
  {
   "cell_type": "code",
   "execution_count": 19,
   "metadata": {},
   "outputs": [],
   "source": [
    "data['Date_Flag'] = data['created_at'].str[:10] == 'Wed Sep 09'"
   ]
  },
  {
   "cell_type": "code",
   "execution_count": 20,
   "metadata": {},
   "outputs": [
    {
     "data": {
      "text/plain": [
       "False    1180355\n",
       "True      307500\n",
       "Name: Date_Flag, dtype: int64"
      ]
     },
     "execution_count": 20,
     "metadata": {},
     "output_type": "execute_result"
    }
   ],
   "source": [
    "data['Date_Flag'].value_counts()"
   ]
  },
  {
   "cell_type": "code",
   "execution_count": 21,
   "metadata": {},
   "outputs": [],
   "source": [
    "data = data[np.where((data['Date_Flag'] == True),True,False)].reset_index(drop=True)"
   ]
  },
  {
   "cell_type": "code",
   "execution_count": 22,
   "metadata": {},
   "outputs": [
    {
     "data": {
      "text/plain": [
       "(307500, 8)"
      ]
     },
     "execution_count": 22,
     "metadata": {},
     "output_type": "execute_result"
    }
   ],
   "source": [
    "data.shape"
   ]
  },
  {
   "cell_type": "code",
   "execution_count": 23,
   "metadata": {},
   "outputs": [
    {
     "data": {
      "text/html": [
       "<div>\n",
       "<style scoped>\n",
       "    .dataframe tbody tr th:only-of-type {\n",
       "        vertical-align: middle;\n",
       "    }\n",
       "\n",
       "    .dataframe tbody tr th {\n",
       "        vertical-align: top;\n",
       "    }\n",
       "\n",
       "    .dataframe thead th {\n",
       "        text-align: right;\n",
       "    }\n",
       "</style>\n",
       "<table border=\"1\" class=\"dataframe\">\n",
       "  <thead>\n",
       "    <tr style=\"text-align: right;\">\n",
       "      <th></th>\n",
       "      <th>created_at</th>\n",
       "      <th>id</th>\n",
       "      <th>user_id</th>\n",
       "      <th>coordinates</th>\n",
       "      <th>location</th>\n",
       "      <th>extended_tweet_full_text_duplicate</th>\n",
       "      <th>final</th>\n",
       "      <th>Date_Flag</th>\n",
       "    </tr>\n",
       "  </thead>\n",
       "  <tbody>\n",
       "    <tr>\n",
       "      <th>0</th>\n",
       "      <td>Wed Sep 09 00:23:48 +0000 2020</td>\n",
       "      <td>1.303489244132909e+18</td>\n",
       "      <td>6.900497e+07</td>\n",
       "      <td>NaN</td>\n",
       "      <td>he/him matt.pearce@latimes.com</td>\n",
       "      <td>Not sure what is more surreal -- a 44.6% posit...</td>\n",
       "      <td>sure surreal 446 positive rate covid boone cou...</td>\n",
       "      <td>True</td>\n",
       "    </tr>\n",
       "    <tr>\n",
       "      <th>1</th>\n",
       "      <td>Wed Sep 09 00:23:48 +0000 2020</td>\n",
       "      <td>1.3034892455465329e+18</td>\n",
       "      <td>1.110730e+08</td>\n",
       "      <td>NaN</td>\n",
       "      <td>Des Moines, Iowa USA</td>\n",
       "      <td>'Please speak up': Mask buttons help those who...</td>\n",
       "      <td>please speak mask button help wear hearing aid</td>\n",
       "      <td>True</td>\n",
       "    </tr>\n",
       "    <tr>\n",
       "      <th>2</th>\n",
       "      <td>Wed Sep 09 00:23:48 +0000 2020</td>\n",
       "      <td>1.303489245466833e+18</td>\n",
       "      <td>1.284070e+18</td>\n",
       "      <td>NaN</td>\n",
       "      <td>Niagara Falls, NY</td>\n",
       "      <td>@kayleighmcenany @TeamTrump @realDonaldTrump H...</td>\n",
       "      <td>many get sick from covid19 possibly die thank ...</td>\n",
       "      <td>True</td>\n",
       "    </tr>\n",
       "    <tr>\n",
       "      <th>3</th>\n",
       "      <td>Wed Sep 09 00:23:48 +0000 2020</td>\n",
       "      <td>1.3034892458988462e+18</td>\n",
       "      <td>1.904087e+08</td>\n",
       "      <td>NaN</td>\n",
       "      <td>MD 🦀</td>\n",
       "      <td>@TheBwoyDej so ask ? 🥴 lol everybody grown unt...</td>\n",
       "      <td>ask lol everybody grown  time to talk adult sh...</td>\n",
       "      <td>True</td>\n",
       "    </tr>\n",
       "    <tr>\n",
       "      <th>4</th>\n",
       "      <td>Wed Sep 09 00:23:48 +0000 2020</td>\n",
       "      <td>1.3034892463474074e+18</td>\n",
       "      <td>1.148398e+18</td>\n",
       "      <td>NaN</td>\n",
       "      <td>Maple Ridge, British Columbia</td>\n",
       "      <td>Rising COVID-19 numbers ‘not a good sign’ http...</td>\n",
       "      <td>rise covid19 number ‘ good sign  go to go to zero</td>\n",
       "      <td>True</td>\n",
       "    </tr>\n",
       "    <tr>\n",
       "      <th>...</th>\n",
       "      <td>...</td>\n",
       "      <td>...</td>\n",
       "      <td>...</td>\n",
       "      <td>...</td>\n",
       "      <td>...</td>\n",
       "      <td>...</td>\n",
       "      <td>...</td>\n",
       "      <td>...</td>\n",
       "    </tr>\n",
       "    <tr>\n",
       "      <th>307495</th>\n",
       "      <td>Wed Sep 09 03:59:47 +0000 2020</td>\n",
       "      <td>1.3034938575610757e+18</td>\n",
       "      <td>3.011539e+08</td>\n",
       "      <td>NaN</td>\n",
       "      <td>Melbourne</td>\n",
       "      <td>@GayeCrispin Can someone, anyone out there, an...</td>\n",
       "      <td>someone anyone out answer question didnt scott...</td>\n",
       "      <td>True</td>\n",
       "    </tr>\n",
       "    <tr>\n",
       "      <th>307496</th>\n",
       "      <td>Wed Sep 09 03:59:47 +0000 2020</td>\n",
       "      <td>1.3033275513270968e+18</td>\n",
       "      <td>1.107178e+09</td>\n",
       "      <td>NaN</td>\n",
       "      <td>University of Alberta Edmonton</td>\n",
       "      <td>PSA: a COVID-19 case at schools is not the sam...</td>\n",
       "      <td>psa covid19 case at school the school outbreak...</td>\n",
       "      <td>True</td>\n",
       "    </tr>\n",
       "    <tr>\n",
       "      <th>307497</th>\n",
       "      <td>Wed Sep 09 03:59:48 +0000 2020</td>\n",
       "      <td>1.2435675767115612e+18</td>\n",
       "      <td>1.826669e+07</td>\n",
       "      <td>NaN</td>\n",
       "      <td>Washington, DC</td>\n",
       "      <td>Heavy lifting @JudicialWatch battling both Hil...</td>\n",
       "      <td>heavy lift battling hillary clinton adam schif...</td>\n",
       "      <td>True</td>\n",
       "    </tr>\n",
       "    <tr>\n",
       "      <th>307498</th>\n",
       "      <td>Wed Sep 09 03:59:54 +0000 2020</td>\n",
       "      <td>1.3035030936493548e+18</td>\n",
       "      <td>3.153208e+07</td>\n",
       "      <td>NaN</td>\n",
       "      <td>Washington, DC</td>\n",
       "      <td>A senior administration official told reporter...</td>\n",
       "      <td>senior administration official told reporter a...</td>\n",
       "      <td>True</td>\n",
       "    </tr>\n",
       "    <tr>\n",
       "      <th>307499</th>\n",
       "      <td>Wed Sep 09 03:59:56 +0000 2020</td>\n",
       "      <td>1.248648089528873e+18</td>\n",
       "      <td>2.932345e+09</td>\n",
       "      <td>NaN</td>\n",
       "      <td>New York, USA</td>\n",
       "      <td>😳 @BillGates explaining the risk profile of th...</td>\n",
       "      <td>explain the risk profile the get out jail card...</td>\n",
       "      <td>True</td>\n",
       "    </tr>\n",
       "  </tbody>\n",
       "</table>\n",
       "<p>307500 rows × 8 columns</p>\n",
       "</div>"
      ],
      "text/plain": [
       "                            created_at                      id       user_id  \\\n",
       "0       Wed Sep 09 00:23:48 +0000 2020   1.303489244132909e+18  6.900497e+07   \n",
       "1       Wed Sep 09 00:23:48 +0000 2020  1.3034892455465329e+18  1.110730e+08   \n",
       "2       Wed Sep 09 00:23:48 +0000 2020   1.303489245466833e+18  1.284070e+18   \n",
       "3       Wed Sep 09 00:23:48 +0000 2020  1.3034892458988462e+18  1.904087e+08   \n",
       "4       Wed Sep 09 00:23:48 +0000 2020  1.3034892463474074e+18  1.148398e+18   \n",
       "...                                ...                     ...           ...   \n",
       "307495  Wed Sep 09 03:59:47 +0000 2020  1.3034938575610757e+18  3.011539e+08   \n",
       "307496  Wed Sep 09 03:59:47 +0000 2020  1.3033275513270968e+18  1.107178e+09   \n",
       "307497  Wed Sep 09 03:59:48 +0000 2020  1.2435675767115612e+18  1.826669e+07   \n",
       "307498  Wed Sep 09 03:59:54 +0000 2020  1.3035030936493548e+18  3.153208e+07   \n",
       "307499  Wed Sep 09 03:59:56 +0000 2020   1.248648089528873e+18  2.932345e+09   \n",
       "\n",
       "       coordinates                        location  \\\n",
       "0              NaN  he/him matt.pearce@latimes.com   \n",
       "1              NaN            Des Moines, Iowa USA   \n",
       "2              NaN               Niagara Falls, NY   \n",
       "3              NaN                            MD 🦀   \n",
       "4              NaN   Maple Ridge, British Columbia   \n",
       "...            ...                             ...   \n",
       "307495         NaN                       Melbourne   \n",
       "307496         NaN  University of Alberta Edmonton   \n",
       "307497         NaN                  Washington, DC   \n",
       "307498         NaN                  Washington, DC   \n",
       "307499         NaN                   New York, USA   \n",
       "\n",
       "                       extended_tweet_full_text_duplicate  \\\n",
       "0       Not sure what is more surreal -- a 44.6% posit...   \n",
       "1       'Please speak up': Mask buttons help those who...   \n",
       "2       @kayleighmcenany @TeamTrump @realDonaldTrump H...   \n",
       "3       @TheBwoyDej so ask ? 🥴 lol everybody grown unt...   \n",
       "4       Rising COVID-19 numbers ‘not a good sign’ http...   \n",
       "...                                                   ...   \n",
       "307495  @GayeCrispin Can someone, anyone out there, an...   \n",
       "307496  PSA: a COVID-19 case at schools is not the sam...   \n",
       "307497  Heavy lifting @JudicialWatch battling both Hil...   \n",
       "307498  A senior administration official told reporter...   \n",
       "307499  😳 @BillGates explaining the risk profile of th...   \n",
       "\n",
       "                                                    final  Date_Flag  \n",
       "0       sure surreal 446 positive rate covid boone cou...       True  \n",
       "1          please speak mask button help wear hearing aid       True  \n",
       "2       many get sick from covid19 possibly die thank ...       True  \n",
       "3       ask lol everybody grown  time to talk adult sh...       True  \n",
       "4       rise covid19 number ‘ good sign  go to go to zero       True  \n",
       "...                                                   ...        ...  \n",
       "307495  someone anyone out answer question didnt scott...       True  \n",
       "307496  psa covid19 case at school the school outbreak...       True  \n",
       "307497  heavy lift battling hillary clinton adam schif...       True  \n",
       "307498  senior administration official told reporter a...       True  \n",
       "307499  explain the risk profile the get out jail card...       True  \n",
       "\n",
       "[307500 rows x 8 columns]"
      ]
     },
     "execution_count": 23,
     "metadata": {},
     "output_type": "execute_result"
    }
   ],
   "source": [
    "data"
   ]
  },
  {
   "cell_type": "code",
   "execution_count": 24,
   "metadata": {},
   "outputs": [
    {
     "data": {
      "text/plain": [
       "1.3033278338555904e+18    49\n",
       "1.3033880679657964e+18    49\n",
       "1.302480031638147e+18     49\n",
       "1.303435239751123e+18     49\n",
       "1.3034515128914166e+18    49\n",
       "                          ..\n",
       "1.3035042739892756e+18     1\n",
       "1.303477385187205e+18      1\n",
       "1.3035286533772083e+18     1\n",
       "1.3035244319778284e+18     1\n",
       "1.3035115838054646e+18     1\n",
       "Name: id, Length: 187881, dtype: int64"
      ]
     },
     "execution_count": 24,
     "metadata": {},
     "output_type": "execute_result"
    }
   ],
   "source": [
    "data['id'].value_counts()"
   ]
  },
  {
   "cell_type": "raw",
   "metadata": {},
   "source": [
    "data[data['id'] == '1.2962335805579305e+18']"
   ]
  },
  {
   "cell_type": "code",
   "execution_count": 25,
   "metadata": {},
   "outputs": [],
   "source": [
    "data = data.drop_duplicates(['id'])"
   ]
  },
  {
   "cell_type": "code",
   "execution_count": 26,
   "metadata": {},
   "outputs": [
    {
     "data": {
      "text/plain": [
       "(187882, 8)"
      ]
     },
     "execution_count": 26,
     "metadata": {},
     "output_type": "execute_result"
    }
   ],
   "source": [
    "data.shape"
   ]
  },
  {
   "cell_type": "code",
   "execution_count": 27,
   "metadata": {},
   "outputs": [
    {
     "data": {
      "text/plain": [
       "1.3028697992994734e+18    1\n",
       "1.3035034170006487e+18    1\n",
       "1.3034994558412022e+18    1\n",
       "1.3035171861752381e+18    1\n",
       "1.3030802027765883e+18    1\n",
       "                         ..\n",
       "1.303531908190679e+18     1\n",
       "1.3035358017712538e+18    1\n",
       "1.3033977050840064e+18    1\n",
       "1.3034911388259164e+18    1\n",
       "1.3035115838054646e+18    1\n",
       "Name: id, Length: 187881, dtype: int64"
      ]
     },
     "execution_count": 27,
     "metadata": {},
     "output_type": "execute_result"
    }
   ],
   "source": [
    "data['id'].value_counts()"
   ]
  },
  {
   "cell_type": "code",
   "execution_count": 28,
   "metadata": {},
   "outputs": [],
   "source": [
    "data.to_csv(outpath, index=False)"
   ]
  }
 ],
 "metadata": {
  "kernelspec": {
   "display_name": "Python 3",
   "language": "python",
   "name": "python3"
  },
  "language_info": {
   "codemirror_mode": {
    "name": "ipython",
    "version": 3
   },
   "file_extension": ".py",
   "mimetype": "text/x-python",
   "name": "python",
   "nbconvert_exporter": "python",
   "pygments_lexer": "ipython3",
   "version": "3.8.5"
  }
 },
 "nbformat": 4,
 "nbformat_minor": 4
}
