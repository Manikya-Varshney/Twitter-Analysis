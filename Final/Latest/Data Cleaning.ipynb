{
 "cells": [
  {
   "cell_type": "code",
   "execution_count": 1,
   "metadata": {},
   "outputs": [],
   "source": [
    "import pandas as pd\n",
    "import numpy as np \n",
    "import csv\n",
    "import re\n",
    "import string\n",
    "import time\n",
    "\n",
    "import nltk\n",
    "from nltk.corpus import stopwords\n",
    "from nltk.tokenize import word_tokenize\n",
    "from nltk.stem import PorterStemmer\n",
    "from nltk.stem import WordNetLemmatizer\n",
    "\n",
    "import warnings\n",
    "warnings.filterwarnings(\"ignore\")"
   ]
  },
  {
   "cell_type": "code",
   "execution_count": 2,
   "metadata": {},
   "outputs": [
    {
     "name": "stdout",
     "output_type": "stream",
     "text": [
      "Read csv with pandas:  0.6255223751068115 sec\n"
     ]
    }
   ],
   "source": [
    "start = time.time()\n",
    "path = '/home/manikya_varshney/Documents/Python/Yale/h01-20200818-10files/h01-20200818-153021.csv'\n",
    "#data = pd.read_csv(path, index_col=None, header=0, engine='python' )\n",
    "data = pd.read_csv(path, low_memory=False)\n",
    "end = time.time()\n",
    "print(\"Read csv with pandas: \",(end-start),\"sec\")"
   ]
  },
  {
   "cell_type": "code",
   "execution_count": 3,
   "metadata": {},
   "outputs": [
    {
     "data": {
      "text/plain": [
       "(19992, 79)"
      ]
     },
     "execution_count": 3,
     "metadata": {},
     "output_type": "execute_result"
    }
   ],
   "source": [
    "data.shape"
   ]
  },
  {
   "cell_type": "code",
   "execution_count": 4,
   "metadata": {},
   "outputs": [],
   "source": [
    "cols = [0, 1, 3, 4, 5, 6, 7, 8, 9,\n",
    "        10, 11, 12, 13, 14, 15, 16, 17, 18, 19,\n",
    "        22, 29,\n",
    "        30, 31, 32, 33, 34, 35, 36, 37, 38, 39,\n",
    "        40, 41, 42, 43, 45, \n",
    "        50, 51, 52, 53, 54, 55, 56, 57, 58, 59,\n",
    "        60, 61, 62, 63, 64, 65, 67,\n",
    "        72, 73, 74, 75, 76, 77]\n",
    "\n",
    "data = data[data.columns.values[cols]]"
   ]
  },
  {
   "cell_type": "code",
   "execution_count": 5,
   "metadata": {},
   "outputs": [
    {
     "data": {
      "text/plain": [
       "(19992, 59)"
      ]
     },
     "execution_count": 5,
     "metadata": {},
     "output_type": "execute_result"
    }
   ],
   "source": [
    "data.shape"
   ]
  },
  {
   "cell_type": "code",
   "execution_count": 6,
   "metadata": {},
   "outputs": [],
   "source": [
    "data_en = data[data['lang'] == 'en'].reset_index(drop=True)"
   ]
  },
  {
   "cell_type": "code",
   "execution_count": 7,
   "metadata": {},
   "outputs": [
    {
     "data": {
      "text/plain": [
       "(11229, 59)"
      ]
     },
     "execution_count": 7,
     "metadata": {},
     "output_type": "execute_result"
    }
   ],
   "source": [
    "data_en.shape"
   ]
  },
  {
   "cell_type": "code",
   "execution_count": 8,
   "metadata": {},
   "outputs": [],
   "source": [
    "data_en['RT_Flag'] = data_en['text'].str[:2]=='RT'"
   ]
  },
  {
   "cell_type": "code",
   "execution_count": 9,
   "metadata": {},
   "outputs": [
    {
     "data": {
      "text/plain": [
       "(11229, 60)"
      ]
     },
     "execution_count": 9,
     "metadata": {},
     "output_type": "execute_result"
    }
   ],
   "source": [
    "data_en.shape"
   ]
  },
  {
   "cell_type": "code",
   "execution_count": 10,
   "metadata": {},
   "outputs": [],
   "source": [
    "data_en = data_en.drop_duplicates()"
   ]
  },
  {
   "cell_type": "markdown",
   "metadata": {},
   "source": [
    "##### Merge text and full text columns"
   ]
  },
  {
   "cell_type": "code",
   "execution_count": 11,
   "metadata": {},
   "outputs": [],
   "source": [
    "data_en['extended_tweet_full_text'] = np.where(~data_en['truncated'], data_en['text'], data_en['extended_tweet_full_text'])"
   ]
  },
  {
   "cell_type": "code",
   "execution_count": 12,
   "metadata": {},
   "outputs": [],
   "source": [
    "data_en['RT_full_text'] = np.where(data_en['RT_full_text'].isna(),data_en['RT_text'],data_en['RT_full_text'])"
   ]
  },
  {
   "cell_type": "code",
   "execution_count": 13,
   "metadata": {},
   "outputs": [],
   "source": [
    "data_en['QT_full_text'] = np.where(data_en['QT_full_text'].isna(),data_en['QT_text'],data_en['QT_full_text'])"
   ]
  },
  {
   "cell_type": "code",
   "execution_count": 14,
   "metadata": {},
   "outputs": [
    {
     "data": {
      "text/plain": [
       "(11229, 60)"
      ]
     },
     "execution_count": 14,
     "metadata": {},
     "output_type": "execute_result"
    }
   ],
   "source": [
    "data_en.shape"
   ]
  },
  {
   "cell_type": "code",
   "execution_count": 15,
   "metadata": {},
   "outputs": [
    {
     "data": {
      "text/plain": [
       "0        can we wear clone helmets instead of masks to ...\n",
       "1        RT @PhilipWegmann: Biden thanks Cuomo. The AP ...\n",
       "2        The economic recovery that's unfolding before ...\n",
       "3        This is where we launch the Little River Clean...\n",
       "4        RT @_behindherlense: Nothing that includes men...\n",
       "                               ...                        \n",
       "11224    Covid is raging in Florida, and I just got a c...\n",
       "11225    I thought I’d like working from home for these...\n",
       "11226    RT @_Dumile: Lessons from covid:\\n\\nLife is an...\n",
       "11227    RT @abbygov: it’s a good thing tattoo parlors ...\n",
       "11228                I—-we ain’t never goin off quarantine\n",
       "Name: extended_tweet_full_text, Length: 11229, dtype: object"
      ]
     },
     "execution_count": 15,
     "metadata": {},
     "output_type": "execute_result"
    }
   ],
   "source": [
    "data_en['extended_tweet_full_text']"
   ]
  },
  {
   "cell_type": "markdown",
   "metadata": {},
   "source": [
    "##### Data Cleaning"
   ]
  },
  {
   "cell_type": "code",
   "execution_count": 16,
   "metadata": {},
   "outputs": [
    {
     "name": "stderr",
     "output_type": "stream",
     "text": [
      "[nltk_data] Downloading package stopwords to\n",
      "[nltk_data]     /home/manikya_varshney/nltk_data...\n",
      "[nltk_data]   Package stopwords is already up-to-date!\n",
      "[nltk_data] Downloading package punkt to\n",
      "[nltk_data]     /home/manikya_varshney/nltk_data...\n",
      "[nltk_data]   Package punkt is already up-to-date!\n",
      "[nltk_data] Downloading package wordnet to\n",
      "[nltk_data]     /home/manikya_varshney/nltk_data...\n",
      "[nltk_data]   Package wordnet is already up-to-date!\n",
      "[nltk_data] Downloading package averaged_perceptron_tagger to\n",
      "[nltk_data]     /home/manikya_varshney/nltk_data...\n",
      "[nltk_data]   Package averaged_perceptron_tagger is already up-to-\n",
      "[nltk_data]       date!\n"
     ]
    }
   ],
   "source": [
    "import pandas as pd\n",
    "import numpy as np \n",
    "import csv\n",
    "import re\n",
    "import string\n",
    "import emoji\n",
    "\n",
    "import nltk\n",
    "from nltk import pos_tag, pos_tag_sents\n",
    "from nltk.corpus import stopwords\n",
    "from nltk.corpus import wordnet\n",
    "from nltk.tokenize import word_tokenize\n",
    "from nltk.stem import PorterStemmer\n",
    "from nltk.stem import WordNetLemmatizer\n",
    "from sklearn.feature_extraction.text import TfidfVectorizer\n",
    "\n",
    "from fuzzywuzzy import fuzz\n",
    "from fuzzywuzzy import process\n",
    "\n",
    "import warnings\n",
    "warnings.filterwarnings(\"ignore\")\n",
    "\n",
    "import nltk\n",
    "nltk.download('stopwords')\n",
    "nltk.download('punkt')\n",
    "nltk.download('wordnet')\n",
    "nltk.download('averaged_perceptron_tagger')\n",
    "stop_words = set(stopwords.words('english')) - set(['at', 'do', 'your', 'from', 'to', 'out', 'no', 'the'])\n",
    "#demoji.download_codes()"
   ]
  },
  {
   "cell_type": "code",
   "execution_count": 17,
   "metadata": {},
   "outputs": [],
   "source": [
    "#Convert to lower case\n",
    "data_en['extended_tweet_full_text'] = data_en['extended_tweet_full_text'].str.lower()\n",
    "data_en['RT_full_text'] = data_en['RT_full_text'].str.lower()\n",
    "data_en['QT_full_text'] = data_en['QT_full_text'].str.lower()"
   ]
  },
  {
   "cell_type": "code",
   "execution_count": 18,
   "metadata": {},
   "outputs": [
    {
     "data": {
      "text/plain": [
       "0        can we wear clone helmets instead of masks to ...\n",
       "1        rt @philipwegmann: biden thanks cuomo. the ap ...\n",
       "2        the economic recovery that's unfolding before ...\n",
       "3        this is where we launch the little river clean...\n",
       "4        rt @_behindherlense: nothing that includes men...\n",
       "                               ...                        \n",
       "11224    covid is raging in florida, and i just got a c...\n",
       "11225    i thought i’d like working from home for these...\n",
       "11226    rt @_dumile: lessons from covid:\\n\\nlife is an...\n",
       "11227    rt @abbygov: it’s a good thing tattoo parlors ...\n",
       "11228                i—-we ain’t never goin off quarantine\n",
       "Name: extended_tweet_full_text, Length: 11229, dtype: object"
      ]
     },
     "execution_count": 18,
     "metadata": {},
     "output_type": "execute_result"
    }
   ],
   "source": [
    "data_en['extended_tweet_full_text']"
   ]
  },
  {
   "cell_type": "code",
   "execution_count": 19,
   "metadata": {},
   "outputs": [],
   "source": [
    "#Removing emojis\n",
    "def demoji(text):\n",
    "    emoji_pattern = re.compile(\"[\"\n",
    "        u\"\\U0001F600-\\U0001F64F\"  # emoticons\n",
    "        u\"\\U0001F300-\\U0001F5FF\"  # symbols & pictographs\n",
    "        u\"\\U0001F680-\\U0001F6FF\"  # transport & map symbols\n",
    "        u\"\\U0001F1E0-\\U0001F1FF\"  # flags (iOS)\n",
    "        u\"\\U00002702-\\U000027B0\"\n",
    "        u\"\\U000024C2-\\U0001F251\"\n",
    "        u\"\\U00010000-\\U0010ffff\"\n",
    "                               \"]+\", flags=re.UNICODE)\n",
    "    return(emoji_pattern.sub(r'', text))\n",
    "\n",
    "data_en['extended_tweet_full_text'] = data_en['extended_tweet_full_text'].astype(str)\n",
    "data_en['extended_tweet_full_text'] = data_en['extended_tweet_full_text'].apply(lambda x:demoji(x))\n",
    "\n",
    "data_en['RT_full_text'] = data_en['RT_full_text'].astype(str)\n",
    "data_en['RT_full_text'] = data_en['RT_full_text'].apply(lambda x:demoji(x))\n",
    "\n",
    "data_en['QT_full_text'] = data_en['QT_full_text'].astype(str)\n",
    "data_en['QT_full_text'] = data_en['QT_full_text'].apply(lambda x:demoji(x))"
   ]
  },
  {
   "cell_type": "code",
   "execution_count": 20,
   "metadata": {},
   "outputs": [
    {
     "data": {
      "text/plain": [
       "0        can we wear clone helmets instead of masks to ...\n",
       "1        rt @philipwegmann: biden thanks cuomo. the ap ...\n",
       "2        the economic recovery that's unfolding before ...\n",
       "3        this is where we launch the little river clean...\n",
       "4        rt @_behindherlense: nothing that includes men...\n",
       "                               ...                        \n",
       "11224    covid is raging in florida, and i just got a c...\n",
       "11225    i thought i’d like working from home for these...\n",
       "11226    rt @_dumile: lessons from covid:\\n\\nlife is an...\n",
       "11227    rt @abbygov: it’s a good thing tattoo parlors ...\n",
       "11228                i—-we ain’t never goin off quarantine\n",
       "Name: extended_tweet_full_text, Length: 11229, dtype: object"
      ]
     },
     "execution_count": 20,
     "metadata": {},
     "output_type": "execute_result"
    }
   ],
   "source": [
    "data_en['extended_tweet_full_text']"
   ]
  },
  {
   "cell_type": "code",
   "execution_count": 21,
   "metadata": {},
   "outputs": [],
   "source": [
    "#Remove URLs\n",
    "data_en['extended_tweet_full_text'] = data_en['extended_tweet_full_text'].str.replace(r\"http\\S+| www\\S+| https\\S+| \\S+\\.com\\S+| \\S+\\.com\", \"\", regex=True)\n",
    "\n",
    "data_en['RT_full_text'] = data_en['RT_full_text'].str.replace(r\"http\\S+| www\\S+| https\\S+| \\S+\\.com\\S+| \\S+\\.com\", \"\", regex=True)\n",
    "\n",
    "data_en['QT_full_text'] = data_en['QT_full_text'].str.replace(r\"http\\S+| www\\S+| https\\S+| \\S+\\.com\\S+| \\S+\\.com\", \"\", regex=True)"
   ]
  },
  {
   "cell_type": "code",
   "execution_count": 22,
   "metadata": {},
   "outputs": [
    {
     "data": {
      "text/plain": [
       "0        can we wear clone helmets instead of masks to ...\n",
       "1        rt @philipwegmann: biden thanks cuomo. the ap ...\n",
       "2        the economic recovery that's unfolding before ...\n",
       "3        this is where we launch the little river clean...\n",
       "4        rt @_behindherlense: nothing that includes men...\n",
       "                               ...                        \n",
       "11224    covid is raging in florida, and i just got a c...\n",
       "11225    i thought i’d like working from home for these...\n",
       "11226    rt @_dumile: lessons from covid:\\n\\nlife is an...\n",
       "11227    rt @abbygov: it’s a good thing tattoo parlors ...\n",
       "11228                i—-we ain’t never goin off quarantine\n",
       "Name: extended_tweet_full_text, Length: 11229, dtype: object"
      ]
     },
     "execution_count": 22,
     "metadata": {},
     "output_type": "execute_result"
    }
   ],
   "source": [
    "data_en['extended_tweet_full_text']"
   ]
  },
  {
   "cell_type": "code",
   "execution_count": 23,
   "metadata": {},
   "outputs": [],
   "source": [
    "#Remove user @\n",
    "data_en['extended_tweet_full_text'] = data_en['extended_tweet_full_text'].str.replace(r'\\@[\\w]+', \"\", regex=True)\n",
    "\n",
    "data_en['RT_full_text'] = data_en['RT_full_text'].str.replace(r'\\@[\\w]+', \"\", regex=True)\n",
    "\n",
    "data_en['QT_full_text'] = data_en['QT_full_text'].str.replace(r'\\@[\\w]+', \"\", regex=True)"
   ]
  },
  {
   "cell_type": "code",
   "execution_count": 24,
   "metadata": {},
   "outputs": [
    {
     "data": {
      "text/plain": [
       "0        can we wear clone helmets instead of masks to ...\n",
       "1        rt : biden thanks cuomo. the ap recently estim...\n",
       "2        the economic recovery that's unfolding before ...\n",
       "3        this is where we launch the little river clean...\n",
       "4        rt : nothing that includes men at night is wor...\n",
       "                               ...                        \n",
       "11224    covid is raging in florida, and i just got a c...\n",
       "11225    i thought i’d like working from home for these...\n",
       "11226    rt : lessons from covid:\\n\\nlife is an absolut...\n",
       "11227    rt : it’s a good thing tattoo parlors are clos...\n",
       "11228                i—-we ain’t never goin off quarantine\n",
       "Name: extended_tweet_full_text, Length: 11229, dtype: object"
      ]
     },
     "execution_count": 24,
     "metadata": {},
     "output_type": "execute_result"
    }
   ],
   "source": [
    "data_en['extended_tweet_full_text']"
   ]
  },
  {
   "cell_type": "code",
   "execution_count": 25,
   "metadata": {},
   "outputs": [],
   "source": [
    "#Remove punctuations\n",
    "data_en['extended_tweet_full_text'] = data_en['extended_tweet_full_text'].str.translate(str.maketrans(\"\", \"\", string.punctuation))\n",
    "\n",
    "data_en['RT_full_text'] = data_en['RT_full_text'].str.translate(str.maketrans(\"\", \"\", string.punctuation))\n",
    "\n",
    "data_en['QT_full_text'] = data_en['QT_full_text'].str.translate(str.maketrans(\"\", \"\", string.punctuation))"
   ]
  },
  {
   "cell_type": "code",
   "execution_count": 26,
   "metadata": {},
   "outputs": [
    {
     "data": {
      "text/plain": [
       "0        can we wear clone helmets instead of masks to ...\n",
       "1        rt  biden thanks cuomo the ap recently estimat...\n",
       "2        the economic recovery thats unfolding before u...\n",
       "3        this is where we launch the little river clean...\n",
       "4        rt  nothing that includes men at night is wort...\n",
       "                               ...                        \n",
       "11224    covid is raging in florida and i just got a co...\n",
       "11225    i thought i’d like working from home for these...\n",
       "11226    rt  lessons from covid\\n\\nlife is an absolute ...\n",
       "11227    rt  it’s a good thing tattoo parlors are close...\n",
       "11228                 i—we ain’t never goin off quarantine\n",
       "Name: extended_tweet_full_text, Length: 11229, dtype: object"
      ]
     },
     "execution_count": 26,
     "metadata": {},
     "output_type": "execute_result"
    }
   ],
   "source": [
    "data_en['extended_tweet_full_text']"
   ]
  },
  {
   "cell_type": "code",
   "execution_count": 27,
   "metadata": {},
   "outputs": [],
   "source": [
    "#More Cleaning\n",
    "data_en['extended_tweet_full_text'] = data_en['extended_tweet_full_text'].astype(str).str.replace('/[^a-zA-Z0-9 ]/g', '', regex=True).str.replace('\\n',' ', regex=True).str.replace('—',' ', regex=True).str.strip('“').str.strip('”').str.strip('’').str.lstrip(' ').str.rstrip(' ')\n",
    "data_en['extended_tweet_full_text'] = data_en['extended_tweet_full_text'].str.lower()\\\n",
    "          .str.replace('(@[a-z0-9]+)\\w+',' ')\\\n",
    "          .str.replace('(http\\S+)', ' ')\\\n",
    "          .str.replace('([^0-9a-z \\t])',' ')\\\n",
    "          .str.replace(' +',' ')\n",
    "\n",
    "data_en['RT_full_text'] = data_en['RT_full_text'].astype(str).str.replace('/[^a-zA-Z0-9 ]/g', '', regex=True).str.replace('\\n',' ', regex=True).str.replace('—',' ', regex=True).str.strip('“').str.strip('”').str.strip('’').str.lstrip(' ').str.rstrip(' ')\n",
    "data_en['RT_full_text'] = data_en['RT_full_text'].str.lower()\\\n",
    "          .str.replace('(@[a-z0-9]+)\\w+',' ')\\\n",
    "          .str.replace('(http\\S+)', ' ')\\\n",
    "          .str.replace('([^0-9a-z \\t])',' ')\\\n",
    "          .str.replace(' +',' ')\n",
    "\n",
    "data_en['QT_full_text'] = data_en['QT_full_text'].astype(str).str.replace('/[^a-zA-Z0-9 ]/g', '', regex=True).str.replace('\\n',' ', regex=True).str.replace('—',' ', regex=True).str.strip('“').str.strip('”').str.strip('’').str.lstrip(' ').str.rstrip(' ')\n",
    "data_en['QT_full_text'] = data_en['QT_full_text'].str.lower()\\\n",
    "          .str.replace('(@[a-z0-9]+)\\w+',' ')\\\n",
    "          .str.replace('(http\\S+)', ' ')\\\n",
    "          .str.replace('([^0-9a-z \\t])',' ')\\\n",
    "          .str.replace(' +',' ')"
   ]
  },
  {
   "cell_type": "code",
   "execution_count": 28,
   "metadata": {},
   "outputs": [
    {
     "data": {
      "text/plain": [
       "0        can we wear clone helmets instead of masks to ...\n",
       "1        rt biden thanks cuomo the ap recently estimate...\n",
       "2        the economic recovery thats unfolding before u...\n",
       "3        this is where we launch the little river clean...\n",
       "4        rt nothing that includes men at night is worth it\n",
       "                               ...                        \n",
       "11224    covid is raging in florida and i just got a co...\n",
       "11225    i thought i d like working from home for these...\n",
       "11226    rt lessons from covid life is an absolute gift...\n",
       "11227    rt it s a good thing tattoo parlors are closed...\n",
       "11228                 i we ain t never goin off quarantine\n",
       "Name: extended_tweet_full_text, Length: 11229, dtype: object"
      ]
     },
     "execution_count": 28,
     "metadata": {},
     "output_type": "execute_result"
    }
   ],
   "source": [
    "data_en['extended_tweet_full_text']"
   ]
  },
  {
   "cell_type": "code",
   "execution_count": 29,
   "metadata": {},
   "outputs": [],
   "source": [
    "#Tokenizing\n",
    "data_en.extended_tweet_full_text = data_en.extended_tweet_full_text.astype(str)\n",
    "data_en['extended_tweet_full_text'] = data_en.apply(lambda row: nltk.word_tokenize(row.extended_tweet_full_text), axis=1)\n",
    "\n",
    "\n",
    "data_en.RT_full_text = data_en.RT_full_text.astype(str)\n",
    "data_en['RT_full_text'] = data_en.apply(lambda row: nltk.word_tokenize(row.RT_full_text), axis=1)\n",
    "\n",
    "\n",
    "data_en.QT_full_text = data_en.QT_full_text.astype(str)\n",
    "data_en['QT_full_text'] = data_en.apply(lambda row: nltk.word_tokenize(row.QT_full_text), axis=1)\n",
    "\n",
    "# remove stopwords\n",
    "data_en['extended_tweet_full_text'] = data_en['extended_tweet_full_text'].apply(lambda x: [word for word in x if word not in stop_words])\n",
    "\n",
    "data_en['RT_full_text'] = data_en['RT_full_text'].apply(lambda x: [word for word in x if word not in stop_words])\n",
    "\n",
    "data_en['QT_full_text'] = data_en['QT_full_text'].apply(lambda x: [word for word in x if word not in stop_words])"
   ]
  },
  {
   "cell_type": "code",
   "execution_count": 30,
   "metadata": {},
   "outputs": [
    {
     "data": {
      "text/plain": [
       "['due',\n",
       " 'to',\n",
       " 'covid19',\n",
       " 'consumers',\n",
       " 'initiating',\n",
       " 'startling',\n",
       " 'number',\n",
       " 'chargebacks',\n",
       " 'improve',\n",
       " 'your',\n",
       " 'companys',\n",
       " 'defense',\n",
       " 'unwarranted',\n",
       " 'refund',\n",
       " 'requests',\n",
       " 'clicking',\n",
       " 'the',\n",
       " 'link',\n",
       " 'chargebacks']"
      ]
     },
     "execution_count": 30,
     "metadata": {},
     "output_type": "execute_result"
    }
   ],
   "source": [
    "data_en['extended_tweet_full_text'][26]"
   ]
  },
  {
   "cell_type": "code",
   "execution_count": 31,
   "metadata": {},
   "outputs": [],
   "source": [
    "#POSTags\n",
    "def get_wordnet_pos(word):\n",
    "    \"\"\"Map POS tag to first character lemmatize() accepts\"\"\"\n",
    "    tag = nltk.pos_tag([word])[0][1][0].upper()\n",
    "    tag_dict = {\"J\": wordnet.ADJ, \"N\": wordnet.NOUN, \"V\": wordnet.VERB, \"R\": wordnet.ADV}\n",
    "    return tag_dict.get(tag, wordnet.NOUN)"
   ]
  },
  {
   "cell_type": "code",
   "execution_count": 32,
   "metadata": {},
   "outputs": [],
   "source": [
    "#Lemmatizing\n",
    "lemmatizer = WordNetLemmatizer()\n",
    "data_en['extended_tweet_full_text'] = data_en['extended_tweet_full_text'].apply(lambda x: [lemmatizer.lemmatize(y, get_wordnet_pos(y)) for y in x])\n",
    "\n",
    "data_en['RT_full_text'] = data_en['RT_full_text'].apply(lambda x: [lemmatizer.lemmatize(y, get_wordnet_pos(y)) for y in x])\n",
    "\n",
    "data_en['QT_full_text'] = data_en['QT_full_text'].apply(lambda x: [lemmatizer.lemmatize(y, get_wordnet_pos(y)) for y in x])"
   ]
  },
  {
   "cell_type": "code",
   "execution_count": 33,
   "metadata": {},
   "outputs": [
    {
     "data": {
      "text/plain": [
       "['due',\n",
       " 'to',\n",
       " 'covid19',\n",
       " 'consumer',\n",
       " 'initiate',\n",
       " 'startle',\n",
       " 'number',\n",
       " 'chargebacks',\n",
       " 'improve',\n",
       " 'your',\n",
       " 'company',\n",
       " 'defense',\n",
       " 'unwarranted',\n",
       " 'refund',\n",
       " 'request',\n",
       " 'click',\n",
       " 'the',\n",
       " 'link',\n",
       " 'chargebacks']"
      ]
     },
     "execution_count": 33,
     "metadata": {},
     "output_type": "execute_result"
    }
   ],
   "source": [
    "data_en['extended_tweet_full_text'][26]"
   ]
  },
  {
   "cell_type": "raw",
   "metadata": {},
   "source": [
    "#Stemming\n",
    "ps = PorterStemmer()\n",
    "data_en['extended_tweet_full_text'] = data_en['extended_tweet_full_text'].apply(lambda x: [ps.stem(y) for y in x])\n",
    "\n",
    "data_en['RT_full_text'] = data_en['RT_full_text'].apply(lambda x: [ps.stem(y) for y in x])\n",
    "\n",
    "data_en['QT_full_text'] = data_en['QT_full_text'].apply(lambda x: [ps.stem(y) for y in x])"
   ]
  },
  {
   "cell_type": "raw",
   "metadata": {},
   "source": [
    "data_en['extended_tweet_full_text'][26]"
   ]
  },
  {
   "cell_type": "code",
   "execution_count": 34,
   "metadata": {},
   "outputs": [],
   "source": [
    "#Joining the lemmetized tokens to form string\n",
    "data_en['extended_tweet_full_text'] = data_en['extended_tweet_full_text'].apply(lambda x: \" \".join([word for word in x]))\n",
    "\n",
    "data_en['RT_full_text'] = data_en['RT_full_text'].apply(lambda x: \" \".join([word for word in x]))\n",
    "\n",
    "data_en['QT_full_text'] = data_en['QT_full_text'].apply(lambda x: \" \".join([word for word in x]))"
   ]
  },
  {
   "cell_type": "code",
   "execution_count": 35,
   "metadata": {},
   "outputs": [
    {
     "data": {
      "text/plain": [
       "'due to covid19 consumer initiate startle number chargebacks improve your company defense unwarranted refund request click the link chargebacks'"
      ]
     },
     "execution_count": 35,
     "metadata": {},
     "output_type": "execute_result"
    }
   ],
   "source": [
    "data_en['extended_tweet_full_text'][26]"
   ]
  },
  {
   "cell_type": "code",
   "execution_count": 36,
   "metadata": {},
   "outputs": [],
   "source": [
    "#Remove punctuations\n",
    "data_en['extended_tweet_full_text'] = data_en['extended_tweet_full_text'].str.translate(str.maketrans(\"\", \"\", string.punctuation))\n",
    "data_en['extended_tweet_full_text'] = data_en['extended_tweet_full_text'].str.replace(\"’\", '').str.replace(\"“\", '').str.replace(\"”\", '')\n",
    "data_en['extended_tweet_full_text'] = data_en['extended_tweet_full_text'].astype(str).str.replace('/[^a-zA-Z0-9 ]/g', '', regex=True).str.replace('\\n',' ', regex=True).str.replace('—',' ', regex=True).str.strip('“').str.strip('”').str.strip('’').str.lstrip(' ').str.rstrip(' ')\n",
    "\n",
    "data_en['RT_full_text'] = data_en['RT_full_text'].str.translate(str.maketrans(\"\", \"\", string.punctuation))\n",
    "data_en['RT_full_text'] = data_en['RT_full_text'].str.replace(\"’\", '').str.replace(\"“\", '').str.replace(\"”\", '')\n",
    "data_en['RT_full_text'] = data_en['RT_full_text'].astype(str).str.replace('/[^a-zA-Z0-9 ]/g', '', regex=True).str.replace('\\n',' ', regex=True).str.replace('—',' ', regex=True).str.strip('“').str.strip('”').str.strip('’').str.lstrip(' ').str.rstrip(' ')\n",
    "\n",
    "data_en['QT_full_text'] = data_en['QT_full_text'].str.translate(str.maketrans(\"\", \"\", string.punctuation))\n",
    "data_en['QT_full_text'] = data_en['QT_full_text'].str.replace(\"’\", '').str.replace(\"“\", '').str.replace(\"”\", '')\n",
    "data_en['QT_full_text'] = data_en['QT_full_text'].astype(str).str.replace('/[^a-zA-Z0-9 ]/g', '', regex=True).str.replace('\\n',' ', regex=True).str.replace('—',' ', regex=True).str.strip('“').str.strip('”').str.strip('’').str.lstrip(' ').str.rstrip(' ')"
   ]
  },
  {
   "cell_type": "code",
   "execution_count": 37,
   "metadata": {},
   "outputs": [
    {
     "data": {
      "text/plain": [
       "0                 wear clone helmet instead mask to school\n",
       "1        rt biden thanks cuomo the ap recently estimate...\n",
       "2        the economic recovery thats unfold u encourage...\n",
       "3        launch the little river cleanup last time clea...\n",
       "4                    rt nothing include men at night worth\n",
       "                               ...                        \n",
       "11224    covid rag florida get cold call from someone b...\n",
       "11225    thought like work from home next two week day ...\n",
       "11226    rt lesson from covid life absolute gift job tr...\n",
       "11227    rt good thing tattoo parlor close covid otherw...\n",
       "11228                                never goin quarantine\n",
       "Name: extended_tweet_full_text, Length: 11229, dtype: object"
      ]
     },
     "execution_count": 37,
     "metadata": {},
     "output_type": "execute_result"
    }
   ],
   "source": [
    "data_en['extended_tweet_full_text']"
   ]
  },
  {
   "cell_type": "code",
   "execution_count": 38,
   "metadata": {},
   "outputs": [
    {
     "data": {
      "text/plain": [
       "(11229, 60)"
      ]
     },
     "execution_count": 38,
     "metadata": {},
     "output_type": "execute_result"
    }
   ],
   "source": [
    "data_en.shape"
   ]
  },
  {
   "cell_type": "code",
   "execution_count": 39,
   "metadata": {},
   "outputs": [],
   "source": [
    "sample = data_en[['user_id', 'id','extended_tweet_full_text', 'RT_user_id', 'RT_id','RT_full_text',\n",
    "                  'QT_user_id', 'QT_id','QT_full_text',]]"
   ]
  },
  {
   "cell_type": "code",
   "execution_count": 40,
   "metadata": {},
   "outputs": [],
   "source": [
    "sample.to_csv('/home/manikya_varshney/Documents/Python/Yale/h01-20200818-10files/check.csv',index=False)"
   ]
  }
 ],
 "metadata": {
  "kernelspec": {
   "display_name": "Python 3",
   "language": "python",
   "name": "python3"
  },
  "language_info": {
   "codemirror_mode": {
    "name": "ipython",
    "version": 3
   },
   "file_extension": ".py",
   "mimetype": "text/x-python",
   "name": "python",
   "nbconvert_exporter": "python",
   "pygments_lexer": "ipython3",
   "version": "3.8.5"
  }
 },
 "nbformat": 4,
 "nbformat_minor": 4
}
