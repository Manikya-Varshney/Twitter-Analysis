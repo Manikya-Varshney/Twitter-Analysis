{
 "cells": [
  {
   "cell_type": "code",
   "execution_count": 1,
   "metadata": {},
   "outputs": [],
   "source": [
    "import os\n",
    "import glob\n",
    "import pandas as pd"
   ]
  },
  {
   "cell_type": "code",
   "execution_count": 2,
   "metadata": {},
   "outputs": [],
   "source": [
    "indir = \"/media/manikya_varshney/My Passport/Mani(Yale)/Data/h01-20200818-20200824/h01-20200818\"\n",
    "outfile = \"/media/manikya_varshney/My Passport/Mani(Yale)/Data/h01-20200818-20200824/August18th.csv\""
   ]
  },
  {
   "cell_type": "code",
   "execution_count": 3,
   "metadata": {},
   "outputs": [],
   "source": [
    "def concatenate(indir, outfile):\n",
    "    os.chdir(indir)\n",
    "    fileList = glob.glob(\"*.csv\")\n",
    "    dfList = []\n",
    "    for filename in fileList:\n",
    "        print(filename)\n",
    "        df = pd.read_csv(filename, header = None, low_memory=False)\n",
    "        dfList.append(df)\n",
    "    print(len(dfList))\n",
    "    concatDf = pd.concat(dfList, axis = 0)\n",
    "    concatDf.to_csv(outfile, index = None)"
   ]
  },
  {
   "cell_type": "code",
   "execution_count": null,
   "metadata": {},
   "outputs": [
    {
     "name": "stdout",
     "output_type": "stream",
     "text": [
      "h01-20200818-153021.csv\n",
      "h01-20200818-153426.csv\n",
      "h01-20200818-153830.csv\n",
      "h01-20200818-154234.csv\n",
      "h01-20200818-154636.csv\n",
      "h01-20200818-155117.csv\n",
      "h01-20200818-155641.csv\n",
      "h01-20200818-160151.csv\n",
      "h01-20200818-160818.csv\n",
      "h01-20200818-161626.csv\n",
      "h01-20200818-162227.csv\n",
      "h01-20200818-162640.csv\n",
      "h01-20200818-163157.csv\n",
      "h01-20200818-163834.csv\n",
      "h01-20200818-165050.csv\n",
      "h01-20200818-172043.csv\n",
      "h01-20200818-172914.csv\n",
      "h01-20200818-173254.csv\n",
      "h01-20200818-173634.csv\n",
      "h01-20200818-174016.csv\n",
      "h01-20200818-174519.csv\n",
      "h01-20200818-175019.csv\n",
      "h01-20200818-175534.csv\n",
      "h01-20200818-180035.csv\n",
      "h01-20200818-180540.csv\n",
      "h01-20200818-181046.csv\n",
      "h01-20200818-181544.csv\n",
      "h01-20200818-182047.csv\n",
      "h01-20200818-182554.csv\n",
      "h01-20200818-183055.csv\n",
      "h01-20200818-184100.csv\n",
      "h01-20200818-184556.csv\n",
      "h01-20200818-185052.csv\n",
      "h01-20200818-185554.csv\n",
      "h01-20200818-190054.csv\n",
      "h01-20200818-190559.csv\n",
      "h01-20200818-191112.csv\n",
      "h01-20200818-191625.csv\n",
      "h01-20200818-192132.csv\n",
      "h01-20200818-192646.csv\n",
      "h01-20200818-193150.csv\n",
      "h01-20200818-193656.csv\n",
      "h01-20200818-194138.csv\n",
      "h01-20200818-194530.csv\n",
      "h01-20200818-194924.csv\n",
      "h01-20200818-195715.csv\n",
      "h01-20200818-200104.csv\n",
      "h01-20200818-200502.csv\n",
      "h01-20200818-200907.csv\n",
      "h01-20200818-201305.csv\n",
      "h01-20200818-201703.csv\n",
      "h01-20200818-202108.csv\n",
      "h01-20200818-202511.csv\n",
      "h01-20200818-202918.csv\n",
      "h01-20200818-203314.csv\n",
      "h01-20200818-203717.csv\n",
      "h01-20200818-204115.csv\n",
      "h01-20200818-204513.csv\n",
      "h01-20200818-204910.csv\n",
      "h01-20200818-205310.csv\n",
      "h01-20200818-170553.csv\n",
      "h01-20200818-183600.csv\n",
      "h01-20200818-195319.csv\n",
      "h01-20200818-205706.csv\n",
      "h01-20200818-210056.csv\n",
      "h01-20200818-210501.csv\n",
      "h01-20200818-210906.csv\n",
      "h01-20200818-211303.csv\n",
      "h01-20200818-211654.csv\n",
      "h01-20200818-212053.csv\n",
      "h01-20200818-212453.csv\n",
      "h01-20200818-212850.csv\n",
      "h01-20200818-213240.csv\n",
      "h01-20200818-213630.csv\n",
      "h01-20200818-214018.csv\n",
      "h01-20200818-214406.csv\n",
      "h01-20200818-214751.csv\n",
      "h01-20200818-215140.csv\n",
      "h01-20200818-215524.csv\n",
      "h01-20200818-215917.csv\n",
      "h01-20200818-220300.csv\n",
      "h01-20200818-220651.csv\n",
      "h01-20200818-221045.csv\n",
      "h01-20200818-221442.csv\n",
      "h01-20200818-221858.csv\n",
      "h01-20200818-223155.csv\n",
      "h01-20200818-224752.csv\n",
      "h01-20200818-230420.csv\n",
      "h01-20200818-232012.csv\n",
      "h01-20200818-233535.csv\n",
      "h01-20200818-235138.csv\n",
      "91\n"
     ]
    }
   ],
   "source": [
    "concatenate(indir, outfile)"
   ]
  }
 ],
 "metadata": {
  "kernelspec": {
   "display_name": "Python 3",
   "language": "python",
   "name": "python3"
  },
  "language_info": {
   "codemirror_mode": {
    "name": "ipython",
    "version": 3
   },
   "file_extension": ".py",
   "mimetype": "text/x-python",
   "name": "python",
   "nbconvert_exporter": "python",
   "pygments_lexer": "ipython3",
   "version": "3.8.5"
  }
 },
 "nbformat": 4,
 "nbformat_minor": 4
}
