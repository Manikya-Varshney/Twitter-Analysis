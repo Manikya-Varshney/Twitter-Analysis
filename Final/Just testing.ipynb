{
 "cells": [
  {
   "cell_type": "code",
   "execution_count": 19,
   "metadata": {},
   "outputs": [],
   "source": [
    "import pandas as pd\n",
    "import numpy as np \n",
    "import csv\n",
    "import time"
   ]
  },
  {
   "cell_type": "code",
   "execution_count": 26,
   "metadata": {},
   "outputs": [
    {
     "name": "stdout",
     "output_type": "stream",
     "text": [
      "Read parquet with pandas:  0.3315002918243408 sec\n"
     ]
    }
   ],
   "source": [
    "start = time.time()\n",
    "path = '/home/manikya_varshney/Downloads/h01-20200903-204359().csv'\n",
    "#data = pd.read_csv(path, index_col=None, header=0, engine='python' )\n",
    "data = pd.read_csv(path, low_memory=False)\n",
    "end = time.time()\n",
    "print(\"Read parquet with pandas: \",(end-start),\"sec\")"
   ]
  },
  {
   "cell_type": "code",
   "execution_count": 3,
   "metadata": {},
   "outputs": [],
   "source": [
    "cols = [0, 1, 3, 4, 5,6, 7, 8, 14, 15, 16, 17, 18, 19, 22, 30, 31, 32, 34, 35, 36, 41, 42, 43, 45, 51, 52, 53, 54, 55, 56, 58, 63, 64, 65, 67, 73, 74, 75, 76, 77]\n",
    "    \n",
    "data = data[data.columns.values[cols]]\n",
    "\n",
    "data_en = data[data['lang'] == 'en'].reset_index(drop=True)"
   ]
  },
  {
   "cell_type": "code",
   "execution_count": 4,
   "metadata": {},
   "outputs": [],
   "source": [
    "data_en['RT_Flag'] = data_en['text'].str[:2]=='RT'\n",
    "interim = data_en[np.where((data_en['is_quote_tweet'] == False) & (data_en['RT_Flag']==False),True,False)].reset_index(drop=True)\n",
    "\n",
    "interim['extended_tweet_full_text'] = np.where(~interim['truncated'], interim['text'], interim['extended_tweet_full_text'])\n",
    "\n",
    "non_rep = interim[['created_at', 'id','user_id', 'coordinates', 'location', 'extended_tweet_full_text']]\n",
    "non_rep = non_rep.drop_duplicates(['id']).reset_index(drop=True)\n",
    "\n",
    "############### is_quote_tweet --> False --> RT ###############\n",
    "\n",
    "interim = data_en[np.where((data_en['is_quote_tweet'] == False) & (data_en['RT_Flag']== True),True,False)].reset_index(drop=True)\n",
    "\n",
    "interim['RT_full_text'] = np.where(interim['RT_full_text'].isna(),interim['RT_text'],interim['RT_full_text'])\n",
    "\n",
    "interim = interim[['created_at', 'RT_id','RT_user_id', 'RT_coordinates', 'RT_location','RT_full_text']]\n",
    "\n",
    "interim = interim.drop_duplicates(['RT_id']).reset_index(drop=True)\n",
    "\n",
    "interim.columns = non_rep.columns\n",
    "\n",
    "non_rep = non_rep.append(interim,ignore_index=True)\n",
    "\n",
    "non_rep = non_rep.drop_duplicates(['id']).reset_index(drop=True)\n",
    "\n",
    "    ############### is_quote_tweet --> True --> Non RT ###############\n",
    "\n",
    "interim = data_en[np.where((data_en['is_quote_tweet']== True) & (data_en['RT_Flag']== False),True,False)].reset_index(drop=True)\n",
    "\n",
    "interim['extended_tweet_full_text'] = np.where(~interim['truncated'],interim['text'],interim['extended_tweet_full_text'])\n",
    "interim = interim[['created_at', 'id','user_id', 'coordinates', 'location', 'extended_tweet_full_text']]\n",
    "interim.columns = non_rep.columns\n",
    "interim = interim.drop_duplicates(['id']).reset_index(drop=True)\n",
    "\n",
    "non_rep = non_rep.append(interim,ignore_index=True)\n",
    "\n",
    "non_rep = non_rep.drop_duplicates(['id']).reset_index(drop=True)\n",
    "\n",
    "interim = data_en[np.where((data_en['is_quote_tweet'] == True) & (data_en['RT_Flag']== False),True,False)].reset_index(drop=True)\n",
    "\n",
    "interim['QT_full_text'] = np.where(interim['QT_full_text'].isna(),interim['QT_text'],interim['QT_full_text'])\n",
    "\n",
    "interim = interim[['created_at','QT_id','QT_user_id', 'QT_coordinates', 'QT_location', 'QT_full_text']]\n",
    "\n",
    "interim = interim.drop_duplicates(['QT_id']).reset_index(drop=True)\n",
    "\n",
    "interim.columns = non_rep.columns\n",
    "\n",
    "non_rep = non_rep.append(interim,ignore_index=True)\n",
    "\n",
    "non_rep = non_rep.drop_duplicates(['id']).reset_index(drop=True)\n",
    "    ############### is_quote_tweet --> True --> RT ###############\n",
    "\n",
    "interim = data_en[np.where((data_en['is_quote_tweet'] == True) & (data_en['RT_Flag']== True),True,False)].reset_index(drop=True)\n",
    "\n",
    "interim['RT_full_text'] = np.where(interim['RT_full_text'].isna(),interim['RT_text'],interim['RT_full_text'])\n",
    "    \n",
    "interim = interim[['created_at', 'RT_id','RT_user_id', 'RT_coordinates', 'RT_location','RT_full_text']]\n",
    "\n",
    "interim = interim.drop_duplicates(['RT_id']).reset_index(drop=True)\n",
    "\n",
    "interim.columns = non_rep.columns\n",
    "non_rep = non_rep.append(interim,ignore_index=True)\n",
    "\n",
    "non_rep = non_rep.drop_duplicates(['id']).reset_index(drop=True)\n",
    "\n",
    "interim = data_en[np.where((data_en['is_quote_tweet']== True ) & (data_en['RT_Flag']== True),True,False)].reset_index(drop=True)\n",
    "\n",
    "interim['QT_full_text'] = np.where(interim['QT_full_text'].isna(),interim['QT_text'],interim['QT_full_text'])\n",
    "interim = interim[['created_at', 'QT_id','QT_user_id', 'QT_coordinates', 'QT_location', 'QT_full_text']]\n",
    "\n",
    "interim = interim.drop_duplicates(['QT_id']).reset_index(drop=True)\n",
    "\n",
    "interim.columns = non_rep.columns\n",
    "\n",
    "non_rep = non_rep.append(interim,ignore_index=True)\n",
    "\n",
    "non_rep = non_rep.drop_duplicates(['id']).reset_index(drop=True)"
   ]
  },
  {
   "cell_type": "code",
   "execution_count": 27,
   "metadata": {},
   "outputs": [
    {
     "data": {
      "text/plain": [
       "False    17414\n",
       "True      2523\n",
       "Name: truncated, dtype: int64"
      ]
     },
     "execution_count": 27,
     "metadata": {},
     "output_type": "execute_result"
    }
   ],
   "source": [
    "data['truncated'].value_counts()"
   ]
  },
  {
   "cell_type": "code",
   "execution_count": 28,
   "metadata": {},
   "outputs": [
    {
     "data": {
      "text/plain": [
       "(19937, 79)"
      ]
     },
     "execution_count": 28,
     "metadata": {},
     "output_type": "execute_result"
    }
   ],
   "source": [
    "data.shape"
   ]
  },
  {
   "cell_type": "code",
   "execution_count": 29,
   "metadata": {},
   "outputs": [
    {
     "data": {
      "text/plain": [
       "False    19937\n",
       "Name: truncated, dtype: int64"
      ]
     },
     "execution_count": 29,
     "metadata": {},
     "output_type": "execute_result"
    }
   ],
   "source": [
    "data['truncated'].isna().value_counts()"
   ]
  },
  {
   "cell_type": "code",
   "execution_count": 24,
   "metadata": {},
   "outputs": [],
   "source": [
    "nan_value = float(\"NaN\")\n",
    "data['truncated'].replace(\"\", nan_value, inplace=True)"
   ]
  },
  {
   "cell_type": "code",
   "execution_count": 25,
   "metadata": {},
   "outputs": [],
   "source": [
    "data.dropna(subset = [\"truncated\"], inplace=True)"
   ]
  },
  {
   "cell_type": "code",
   "execution_count": 18,
   "metadata": {},
   "outputs": [],
   "source": [
    "data.to_csv('/home/manikya_varshney/Downloads/h01-20200903-204359.csv',index=False)"
   ]
  },
  {
   "cell_type": "code",
   "execution_count": null,
   "metadata": {},
   "outputs": [],
   "source": []
  }
 ],
 "metadata": {
  "kernelspec": {
   "display_name": "Python 3",
   "language": "python",
   "name": "python3"
  },
  "language_info": {
   "codemirror_mode": {
    "name": "ipython",
    "version": 3
   },
   "file_extension": ".py",
   "mimetype": "text/x-python",
   "name": "python",
   "nbconvert_exporter": "python",
   "pygments_lexer": "ipython3",
   "version": "3.8.5"
  }
 },
 "nbformat": 4,
 "nbformat_minor": 4
}
