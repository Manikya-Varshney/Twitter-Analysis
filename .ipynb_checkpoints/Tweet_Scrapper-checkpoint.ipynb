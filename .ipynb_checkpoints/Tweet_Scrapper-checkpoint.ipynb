{
 "cells": [
  {
   "cell_type": "markdown",
   "metadata": {},
   "source": [
    "# Install Twint"
   ]
  },
  {
   "cell_type": "markdown",
   "metadata": {},
   "source": [
    "!git clone https://github.com/twintproject/twint.git"
   ]
  },
  {
   "cell_type": "markdown",
   "metadata": {},
   "source": [
    "cd twint"
   ]
  },
  {
   "cell_type": "markdown",
   "metadata": {},
   "source": [
    "!pip install . -r requirements.txt"
   ]
  },
  {
   "cell_type": "markdown",
   "metadata": {},
   "source": [
    "!pip install twint"
   ]
  },
  {
   "cell_type": "code",
   "execution_count": null,
   "metadata": {},
   "outputs": [],
   "source": [
    "import twint\n",
    "import nest_asyncio\n",
    "nest_asyncio.apply()"
   ]
  },
  {
   "cell_type": "code",
   "execution_count": null,
   "metadata": {
    "scrolled": true
   },
   "outputs": [],
   "source": [
    "#configuration\n",
    "config = twint.Config()\n",
    "\n",
    "config.Store_object = True\n",
    "config.User_full = True\n",
    "\n",
    "config.Search = \"coronavirus\"\n",
    "config.Lang = \"en\"\n",
    "config.Limit = 10\n",
    "\n",
    "config.Format = \"Tweet id: {id} | Language:{language} | Date: {date} | Time: {time} |  Timezone: {timezone} | Place: {place} | Tweet: {tweet}\"\n",
    "\n",
    "config.Since = \"2020-04-01\"\n",
    "config.Until = \"2020-07-01\"\n",
    "\n",
    "config.Pandas = True\n",
    "config.Store_csv=True\n",
    "config.Output = \"Scrapped_Tweet.csv\"\n",
    "\n",
    "#running search\n",
    "twint.run.Search(config)\n",
    "\n",
    "\n"
   ]
  },
  {
   "cell_type": "code",
   "execution_count": null,
   "metadata": {},
   "outputs": [],
   "source": [
    "import pandas as pd\n",
    "#pd.set_option('display.max_columns', None)\n",
    "#pd.options.display.max_coloumns = 100\n",
    "import csv"
   ]
  },
  {
   "cell_type": "code",
   "execution_count": null,
   "metadata": {},
   "outputs": [],
   "source": [
    "data = pd.read_csv(\"Scrapped_Tweet.csv\")"
   ]
  },
  {
   "cell_type": "code",
   "execution_count": null,
   "metadata": {},
   "outputs": [],
   "source": [
    "data.shape"
   ]
  },
  {
   "cell_type": "code",
   "execution_count": null,
   "metadata": {},
   "outputs": [],
   "source": [
    "data.head()"
   ]
  },
  {
   "cell_type": "code",
   "execution_count": null,
   "metadata": {},
   "outputs": [],
   "source": [
    "with open(\"Scrapped_Tweet.csv\", \"r\") as source: \n",
    "    reader = csv.reader(source) \n",
    "      \n",
    "    with open(\"Scrapped_Tweet_output.csv\", \"w\") as result: \n",
    "        writer = csv.writer(result) \n",
    "        for r in reader: \n",
    "            \n",
    "            # Use CSV Index to remove a column from CSV \n",
    "            #r[3] = r['year'] \n",
    "            writer.writerow((r[3], r[6], r[7], r[8],r[11], r[14], r[15], r[16], r[19]))"
   ]
  },
  {
   "cell_type": "code",
   "execution_count": null,
   "metadata": {},
   "outputs": [],
   "source": []
  }
 ],
 "metadata": {
  "kernelspec": {
   "display_name": "Python 3",
   "language": "python",
   "name": "python3"
  },
  "language_info": {
   "codemirror_mode": {
    "name": "ipython",
    "version": 3
   },
   "file_extension": ".py",
   "mimetype": "text/x-python",
   "name": "python",
   "nbconvert_exporter": "python",
   "pygments_lexer": "ipython3",
   "version": "3.8.5"
  }
 },
 "nbformat": 4,
 "nbformat_minor": 4
}
