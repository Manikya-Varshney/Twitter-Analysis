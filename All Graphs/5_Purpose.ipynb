{
 "cells": [
  {
   "cell_type": "raw",
   "metadata": {},
   "source": [
    "!pip install -U python-Levenshtein"
   ]
  },
  {
   "cell_type": "raw",
   "metadata": {},
   "source": [
    "import sys \n",
    "!{sys.executable} -m pip install python-Levenshtein"
   ]
  },
  {
   "cell_type": "code",
   "execution_count": 1,
   "metadata": {},
   "outputs": [
    {
     "name": "stderr",
     "output_type": "stream",
     "text": [
      "[nltk_data] Downloading package stopwords to\n",
      "[nltk_data]     /home/manikya_varshney/nltk_data...\n",
      "[nltk_data]   Package stopwords is already up-to-date!\n"
     ]
    }
   ],
   "source": [
    "import pandas as pd\n",
    "from fuzzywuzzy import fuzz\n",
    "from fuzzywuzzy import process\n",
    "import string\n",
    "\n",
    "import nltk\n",
    "from nltk import pos_tag, pos_tag_sents\n",
    "from nltk.corpus import stopwords\n",
    "from nltk.corpus import wordnet\n",
    "from nltk.tokenize import word_tokenize\n",
    "from nltk.stem import PorterStemmer\n",
    "from nltk.stem import WordNetLemmatizer\n",
    "nltk.download('stopwords')\n",
    "stop_words = set(stopwords.words('english')) - set(['at', 'do', 'your', 'from', 'to', 'out', 'no', 'the'])"
   ]
  },
  {
   "cell_type": "code",
   "execution_count": 2,
   "metadata": {},
   "outputs": [],
   "source": [
    "path = '/home/manikya_varshney/Documents/Python/Yale/All Graphs/Test Data/final_processed_april01.csv'\n",
    "data = pd.read_csv(path, low_memory=False)"
   ]
  },
  {
   "cell_type": "raw",
   "metadata": {},
   "source": [
    "Flatten the curve\n",
    "Slow the spread\n",
    "slow transmission\n",
    "protect\n",
    "save\n",
    "#stayhomesavelives"
   ]
  },
  {
   "cell_type": "code",
   "execution_count": 3,
   "metadata": {},
   "outputs": [],
   "source": [
    "keywords = ['Flatten the curve' , 'Slow the spread', 'slow transmission', \n",
    "            'protect', 'save', '#stayhomesavelives']"
   ]
  },
  {
   "cell_type": "markdown",
   "metadata": {},
   "source": [
    "##### 1. Casing (Upper or lower case)\n",
    "##### 2. Noise Removal (Removal of punctuation, white spaces, special characters, HTML tags)\n",
    "##### 3. Tokenization (Tweets to tokens i.e. words seprated by spaces)\n",
    "##### 4. Stopword Removal\n",
    "##### 5. Text Normalization (Stemming and Lemmatization)"
   ]
  },
  {
   "cell_type": "code",
   "execution_count": 4,
   "metadata": {},
   "outputs": [],
   "source": [
    "#Convert to lower\n",
    "for i in range(len(keywords)): \n",
    "    keywords[i] = keywords[i].lower()\n",
    "\n",
    "#Remove punctuations   \n",
    "for i in range(len(keywords)): \n",
    "    keywords[i] = keywords[i].translate(str.maketrans('','',string.punctuation))\n",
    "\n",
    "#More cleaning\n",
    "for i in range(len(keywords)): \n",
    "    keywords[i] = keywords[i].replace('/[^a-zA-Z0-9 ]/g', '').replace('\\n',' ').strip('“').strip('“').strip('’').lstrip(' ').rstrip(' ')\n",
    "\n",
    "#Tokenize\n",
    "#keywords_tokens = [sub.split() for sub in keywords] \n",
    "\n",
    "#Remove stop words\n",
    "def remove_stopwords(data):\n",
    "    output_array=[]\n",
    "    for sentence in data:\n",
    "        temp_list=[]\n",
    "        for word in sentence.split():\n",
    "            if word not in stop_words:\n",
    "                temp_list.append(word)\n",
    "        output_array.append(' '.join(temp_list))\n",
    "    return output_array\n",
    "\n",
    "keywords_filtered=remove_stopwords(keywords)\n",
    "\n",
    "#Stemming\n",
    "ps = PorterStemmer()\n",
    "keywords_stem = [[ps.stem(word) for word in sentence.split(\" \")] for sentence in keywords_filtered]\n",
    "keywords_stem = [\" \".join(sentence) for sentence in keywords_stem]\n",
    "\n",
    "#Lemmetizing\n",
    "\n",
    "#POSTags\n",
    "def get_wordnet_pos(word):\n",
    "    \"\"\"Map POS tag to first character lemmatize() accepts\"\"\"\n",
    "    tag = nltk.pos_tag([word])[0][1][0].upper()\n",
    "    tag_dict = {\"J\": wordnet.ADJ, \"N\": wordnet.NOUN, \"V\": wordnet.VERB, \"R\": wordnet.ADV}\n",
    "    return tag_dict.get(tag, wordnet.NOUN)\n",
    "\n",
    "lemmatizer = WordNetLemmatizer()\n",
    "keywords_lem = [[lemmatizer.lemmatize(y, get_wordnet_pos(y)) for y in sentence.split(\" \")] for sentence in keywords_filtered]\n",
    "keywords_final = [\" \".join(sentence) for sentence in keywords_lem]"
   ]
  },
  {
   "cell_type": "markdown",
   "metadata": {},
   "source": [
    "## Fuzzy Matching"
   ]
  },
  {
   "cell_type": "code",
   "execution_count": 5,
   "metadata": {},
   "outputs": [],
   "source": [
    "data['final'] = data['final'].apply(str)\n",
    "choices = data['final'].tolist()"
   ]
  },
  {
   "cell_type": "code",
   "execution_count": 6,
   "metadata": {},
   "outputs": [],
   "source": [
    " def fuzzy_m(row):\n",
    "        keyword_match, score = process.extractOne(row['final'], keywords_final, scorer = fuzz.partial_ratio)\n",
    "        row['final_score'] = score\n",
    "        row['final_keyword_match'] = keyword_match\n",
    "        return row"
   ]
  },
  {
   "cell_type": "code",
   "execution_count": 7,
   "metadata": {},
   "outputs": [],
   "source": [
    "nan_value = float(\"NaN\")\n",
    "data['final'].replace(\"\", nan_value, inplace=True)\n",
    "data.dropna(subset = [\"final\"], inplace=True)"
   ]
  },
  {
   "cell_type": "code",
   "execution_count": 8,
   "metadata": {},
   "outputs": [
    {
     "name": "stderr",
     "output_type": "stream",
     "text": [
      "WARNING:root:Applied processor reduces input query to empty string, all comparisons will have score 0. [Query: '‍']\n"
     ]
    }
   ],
   "source": [
    "interim_purp = data.apply(fuzzy_m, axis=1)"
   ]
  },
  {
   "cell_type": "code",
   "execution_count": 9,
   "metadata": {},
   "outputs": [
    {
     "data": {
      "text/html": [
       "<div>\n",
       "<style scoped>\n",
       "    .dataframe tbody tr th:only-of-type {\n",
       "        vertical-align: middle;\n",
       "    }\n",
       "\n",
       "    .dataframe tbody tr th {\n",
       "        vertical-align: top;\n",
       "    }\n",
       "\n",
       "    .dataframe thead th {\n",
       "        text-align: right;\n",
       "    }\n",
       "</style>\n",
       "<table border=\"1\" class=\"dataframe\">\n",
       "  <thead>\n",
       "    <tr style=\"text-align: right;\">\n",
       "      <th></th>\n",
       "      <th>user_id</th>\n",
       "      <th>text_duplicate</th>\n",
       "      <th>final</th>\n",
       "      <th>final_score</th>\n",
       "      <th>final_keyword_match</th>\n",
       "    </tr>\n",
       "  </thead>\n",
       "  <tbody>\n",
       "    <tr>\n",
       "      <th>0</th>\n",
       "      <td>2.843399e+07</td>\n",
       "      <td>As Chicago households fill out 2020 census dur...</td>\n",
       "      <td>chicago household fill out 2020 census coronav...</td>\n",
       "      <td>57</td>\n",
       "      <td>protect</td>\n",
       "    </tr>\n",
       "    <tr>\n",
       "      <th>1</th>\n",
       "      <td>1.010439e+08</td>\n",
       "      <td>Most of the press corps is very busy covering ...</td>\n",
       "      <td>the press corp busy cover the really important...</td>\n",
       "      <td>57</td>\n",
       "      <td>protect</td>\n",
       "    </tr>\n",
       "    <tr>\n",
       "      <th>2</th>\n",
       "      <td>1.647527e+07</td>\n",
       "      <td>@realDonaldTrump Mar 10–he was very specific: ...</td>\n",
       "      <td>mar 10–he specific  google 1700 engineer work ...</td>\n",
       "      <td>50</td>\n",
       "      <td>save</td>\n",
       "    </tr>\n",
       "    <tr>\n",
       "      <th>3</th>\n",
       "      <td>1.647527e+07</td>\n",
       "      <td>@realDonaldTrump , You were caustic &amp;amp; sarc...</td>\n",
       "      <td>caustic amp sarcastic the rollout  come even f...</td>\n",
       "      <td>50</td>\n",
       "      <td>save</td>\n",
       "    </tr>\n",
       "    <tr>\n",
       "      <th>4</th>\n",
       "      <td>3.453977e+08</td>\n",
       "      <td>Florida nears 8,000 coronavirus cases, as stat...</td>\n",
       "      <td>florida nears 8000 coronavirus case state repo...</td>\n",
       "      <td>50</td>\n",
       "      <td>save</td>\n",
       "    </tr>\n",
       "    <tr>\n",
       "      <th>...</th>\n",
       "      <td>...</td>\n",
       "      <td>...</td>\n",
       "      <td>...</td>\n",
       "      <td>...</td>\n",
       "      <td>...</td>\n",
       "    </tr>\n",
       "    <tr>\n",
       "      <th>16920</th>\n",
       "      <td>9.832288e+17</td>\n",
       "      <td>#SierraLeone has registered its index case of ...</td>\n",
       "      <td>sierraleone register index case covid19 from d...</td>\n",
       "      <td>71</td>\n",
       "      <td>protect</td>\n",
       "    </tr>\n",
       "    <tr>\n",
       "      <th>16921</th>\n",
       "      <td>1.856380e+07</td>\n",
       "      <td>KTAR News reporter @TaylorKinnerup gives a cor...</td>\n",
       "      <td>ktar news reporter give coronavirus update ari...</td>\n",
       "      <td>57</td>\n",
       "      <td>protect</td>\n",
       "    </tr>\n",
       "    <tr>\n",
       "      <th>16922</th>\n",
       "      <td>9.186279e+08</td>\n",
       "      <td>Part of a 1938 public health map: https://t.co...</td>\n",
       "      <td>part 1938 public health map</td>\n",
       "      <td>43</td>\n",
       "      <td>protect</td>\n",
       "    </tr>\n",
       "    <tr>\n",
       "      <th>16923</th>\n",
       "      <td>1.240031e+18</td>\n",
       "      <td>While the resourcefulness and hustle shown by ...</td>\n",
       "      <td>the resourcefulness hustle show many to produc...</td>\n",
       "      <td>59</td>\n",
       "      <td>flatten the curve</td>\n",
       "    </tr>\n",
       "    <tr>\n",
       "      <th>16924</th>\n",
       "      <td>3.223426e+09</td>\n",
       "      <td>Six days ago, there were 13,355 new coronaviru...</td>\n",
       "      <td>six day ago 13355 new coronavirus case daily t...</td>\n",
       "      <td>53</td>\n",
       "      <td>flatten the curve</td>\n",
       "    </tr>\n",
       "  </tbody>\n",
       "</table>\n",
       "<p>16925 rows × 5 columns</p>\n",
       "</div>"
      ],
      "text/plain": [
       "            user_id                                     text_duplicate  \\\n",
       "0      2.843399e+07  As Chicago households fill out 2020 census dur...   \n",
       "1      1.010439e+08  Most of the press corps is very busy covering ...   \n",
       "2      1.647527e+07  @realDonaldTrump Mar 10–he was very specific: ...   \n",
       "3      1.647527e+07  @realDonaldTrump , You were caustic &amp; sarc...   \n",
       "4      3.453977e+08  Florida nears 8,000 coronavirus cases, as stat...   \n",
       "...             ...                                                ...   \n",
       "16920  9.832288e+17  #SierraLeone has registered its index case of ...   \n",
       "16921  1.856380e+07  KTAR News reporter @TaylorKinnerup gives a cor...   \n",
       "16922  9.186279e+08  Part of a 1938 public health map: https://t.co...   \n",
       "16923  1.240031e+18  While the resourcefulness and hustle shown by ...   \n",
       "16924  3.223426e+09  Six days ago, there were 13,355 new coronaviru...   \n",
       "\n",
       "                                                   final  final_score  \\\n",
       "0      chicago household fill out 2020 census coronav...           57   \n",
       "1      the press corp busy cover the really important...           57   \n",
       "2      mar 10–he specific  google 1700 engineer work ...           50   \n",
       "3      caustic amp sarcastic the rollout  come even f...           50   \n",
       "4      florida nears 8000 coronavirus case state repo...           50   \n",
       "...                                                  ...          ...   \n",
       "16920  sierraleone register index case covid19 from d...           71   \n",
       "16921  ktar news reporter give coronavirus update ari...           57   \n",
       "16922                        part 1938 public health map           43   \n",
       "16923  the resourcefulness hustle show many to produc...           59   \n",
       "16924  six day ago 13355 new coronavirus case daily t...           53   \n",
       "\n",
       "      final_keyword_match  \n",
       "0                 protect  \n",
       "1                 protect  \n",
       "2                    save  \n",
       "3                    save  \n",
       "4                    save  \n",
       "...                   ...  \n",
       "16920             protect  \n",
       "16921             protect  \n",
       "16922             protect  \n",
       "16923   flatten the curve  \n",
       "16924   flatten the curve  \n",
       "\n",
       "[16925 rows x 5 columns]"
      ]
     },
     "execution_count": 9,
     "metadata": {},
     "output_type": "execute_result"
    }
   ],
   "source": [
    "interim_purp"
   ]
  },
  {
   "cell_type": "code",
   "execution_count": 10,
   "metadata": {},
   "outputs": [],
   "source": [
    "denominator = interim_purp.shape[0]"
   ]
  },
  {
   "cell_type": "code",
   "execution_count": 11,
   "metadata": {},
   "outputs": [],
   "source": [
    "interim_purp['final_score'] = interim_purp['final_score'].astype(int)"
   ]
  },
  {
   "cell_type": "code",
   "execution_count": 12,
   "metadata": {},
   "outputs": [],
   "source": [
    "interim_purp = interim_purp[interim_purp['final_score'] == 100]"
   ]
  },
  {
   "cell_type": "code",
   "execution_count": 13,
   "metadata": {},
   "outputs": [
    {
     "data": {
      "text/html": [
       "<div>\n",
       "<style scoped>\n",
       "    .dataframe tbody tr th:only-of-type {\n",
       "        vertical-align: middle;\n",
       "    }\n",
       "\n",
       "    .dataframe tbody tr th {\n",
       "        vertical-align: top;\n",
       "    }\n",
       "\n",
       "    .dataframe thead th {\n",
       "        text-align: right;\n",
       "    }\n",
       "</style>\n",
       "<table border=\"1\" class=\"dataframe\">\n",
       "  <thead>\n",
       "    <tr style=\"text-align: right;\">\n",
       "      <th></th>\n",
       "      <th>user_id</th>\n",
       "      <th>text_duplicate</th>\n",
       "      <th>final</th>\n",
       "      <th>final_score</th>\n",
       "      <th>final_keyword_match</th>\n",
       "    </tr>\n",
       "  </thead>\n",
       "  <tbody>\n",
       "    <tr>\n",
       "      <th>53</th>\n",
       "      <td>8.232312e+17</td>\n",
       "      <td>@Lyramydog True.\\nBut the MILITARY is no longe...</td>\n",
       "      <td>true the military no longer protect the wh no ...</td>\n",
       "      <td>100</td>\n",
       "      <td>protect</td>\n",
       "    </tr>\n",
       "    <tr>\n",
       "      <th>272</th>\n",
       "      <td>9.668292e+08</td>\n",
       "      <td>This is infuriating!!! Such bullshit that an a...</td>\n",
       "      <td>infuriate bullshit antiquate policy would uphe...</td>\n",
       "      <td>100</td>\n",
       "      <td>save</td>\n",
       "    </tr>\n",
       "    <tr>\n",
       "      <th>302</th>\n",
       "      <td>1.005509e+18</td>\n",
       "      <td>@CDCgov @GovEvers \\n\\nReminder:\\n\\n#BrendanDas...</td>\n",
       "      <td>reminder brendandassey innocent help  already ...</td>\n",
       "      <td>100</td>\n",
       "      <td>protect</td>\n",
       "    </tr>\n",
       "    <tr>\n",
       "      <th>330</th>\n",
       "      <td>9.501876e+08</td>\n",
       "      <td>*Wellness check!*\\nFirst— Shout out to all the...</td>\n",
       "      <td>wellness check first shout out to the essentia...</td>\n",
       "      <td>100</td>\n",
       "      <td>stayhomesavelives</td>\n",
       "    </tr>\n",
       "    <tr>\n",
       "      <th>433</th>\n",
       "      <td>1.098554e+18</td>\n",
       "      <td>COVID-19 is enough of a threat itself, and the...</td>\n",
       "      <td>covid19 enough threat the result spread lethal...</td>\n",
       "      <td>100</td>\n",
       "      <td>slow the spread</td>\n",
       "    </tr>\n",
       "    <tr>\n",
       "      <th>...</th>\n",
       "      <td>...</td>\n",
       "      <td>...</td>\n",
       "      <td>...</td>\n",
       "      <td>...</td>\n",
       "      <td>...</td>\n",
       "    </tr>\n",
       "    <tr>\n",
       "      <th>16790</th>\n",
       "      <td>3.034372e+07</td>\n",
       "      <td>The health order to stay home is extended thro...</td>\n",
       "      <td>the health order to stay home extend may 3 202...</td>\n",
       "      <td>100</td>\n",
       "      <td>slow the spread</td>\n",
       "    </tr>\n",
       "    <tr>\n",
       "      <th>16798</th>\n",
       "      <td>1.690826e+09</td>\n",
       "      <td>Hey @MTA @NYCTSubway @FeinbergSarah @NYGovCuom...</td>\n",
       "      <td>hey essential worker deliver much need n95 mas...</td>\n",
       "      <td>100</td>\n",
       "      <td>protect</td>\n",
       "    </tr>\n",
       "    <tr>\n",
       "      <th>16855</th>\n",
       "      <td>7.398442e+17</td>\n",
       "      <td>March 11th. “It will go away; just stay calm, ...</td>\n",
       "      <td>march 11th  go away stay calm go away   to pro...</td>\n",
       "      <td>100</td>\n",
       "      <td>protect</td>\n",
       "    </tr>\n",
       "    <tr>\n",
       "      <th>16901</th>\n",
       "      <td>1.678039e+07</td>\n",
       "      <td>Stay Home. Stay Safe. Save Lives. The state of...</td>\n",
       "      <td>stay home stay safe save life the state michig...</td>\n",
       "      <td>100</td>\n",
       "      <td>save</td>\n",
       "    </tr>\n",
       "    <tr>\n",
       "      <th>16912</th>\n",
       "      <td>2.187489e+09</td>\n",
       "      <td>\"Feel Something\" with @Excision &amp;amp; @IPrevai...</td>\n",
       "      <td>feel something amp come out friday presave →</td>\n",
       "      <td>100</td>\n",
       "      <td>save</td>\n",
       "    </tr>\n",
       "  </tbody>\n",
       "</table>\n",
       "<p>414 rows × 5 columns</p>\n",
       "</div>"
      ],
      "text/plain": [
       "            user_id                                     text_duplicate  \\\n",
       "53     8.232312e+17  @Lyramydog True.\\nBut the MILITARY is no longe...   \n",
       "272    9.668292e+08  This is infuriating!!! Such bullshit that an a...   \n",
       "302    1.005509e+18  @CDCgov @GovEvers \\n\\nReminder:\\n\\n#BrendanDas...   \n",
       "330    9.501876e+08  *Wellness check!*\\nFirst— Shout out to all the...   \n",
       "433    1.098554e+18  COVID-19 is enough of a threat itself, and the...   \n",
       "...             ...                                                ...   \n",
       "16790  3.034372e+07  The health order to stay home is extended thro...   \n",
       "16798  1.690826e+09  Hey @MTA @NYCTSubway @FeinbergSarah @NYGovCuom...   \n",
       "16855  7.398442e+17  March 11th. “It will go away; just stay calm, ...   \n",
       "16901  1.678039e+07  Stay Home. Stay Safe. Save Lives. The state of...   \n",
       "16912  2.187489e+09  \"Feel Something\" with @Excision &amp; @IPrevai...   \n",
       "\n",
       "                                                   final  final_score  \\\n",
       "53     true the military no longer protect the wh no ...          100   \n",
       "272    infuriate bullshit antiquate policy would uphe...          100   \n",
       "302    reminder brendandassey innocent help  already ...          100   \n",
       "330    wellness check first shout out to the essentia...          100   \n",
       "433    covid19 enough threat the result spread lethal...          100   \n",
       "...                                                  ...          ...   \n",
       "16790  the health order to stay home extend may 3 202...          100   \n",
       "16798  hey essential worker deliver much need n95 mas...          100   \n",
       "16855  march 11th  go away stay calm go away   to pro...          100   \n",
       "16901  stay home stay safe save life the state michig...          100   \n",
       "16912       feel something amp come out friday presave →          100   \n",
       "\n",
       "      final_keyword_match  \n",
       "53                protect  \n",
       "272                  save  \n",
       "302               protect  \n",
       "330     stayhomesavelives  \n",
       "433       slow the spread  \n",
       "...                   ...  \n",
       "16790     slow the spread  \n",
       "16798             protect  \n",
       "16855             protect  \n",
       "16901                save  \n",
       "16912                save  \n",
       "\n",
       "[414 rows x 5 columns]"
      ]
     },
     "execution_count": 13,
     "metadata": {},
     "output_type": "execute_result"
    }
   ],
   "source": [
    "interim_purp"
   ]
  },
  {
   "cell_type": "code",
   "execution_count": 14,
   "metadata": {},
   "outputs": [],
   "source": [
    "numerator = interim_purp.shape[0]"
   ]
  },
  {
   "cell_type": "code",
   "execution_count": 15,
   "metadata": {},
   "outputs": [
    {
     "name": "stdout",
     "output_type": "stream",
     "text": [
      "0.02446085672082718\n"
     ]
    }
   ],
   "source": [
    "proportion = (numerator/denominator)\n",
    "print(proportion)"
   ]
  }
 ],
 "metadata": {
  "kernelspec": {
   "display_name": "Python 3",
   "language": "python",
   "name": "python3"
  },
  "language_info": {
   "codemirror_mode": {
    "name": "ipython",
    "version": 3
   },
   "file_extension": ".py",
   "mimetype": "text/x-python",
   "name": "python",
   "nbconvert_exporter": "python",
   "pygments_lexer": "ipython3",
   "version": "3.8.5"
  }
 },
 "nbformat": 4,
 "nbformat_minor": 4
}
