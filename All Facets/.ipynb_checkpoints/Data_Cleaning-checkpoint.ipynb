{
 "cells": [
  {
   "cell_type": "raw",
   "metadata": {},
   "source": [
    "!pip install -U numpy"
   ]
  },
  {
   "cell_type": "raw",
   "metadata": {},
   "source": [
    "import sys\n",
    "print(sys.path) \n",
    "print(sys.executable)"
   ]
  },
  {
   "cell_type": "raw",
   "metadata": {},
   "source": [
    "import sys \n",
    "!{sys.executable} -m pip install nltk"
   ]
  },
  {
   "cell_type": "markdown",
   "metadata": {},
   "source": [
    "# Import Packages"
   ]
  },
  {
   "cell_type": "code",
   "execution_count": 1,
   "metadata": {},
   "outputs": [],
   "source": [
    "import pandas as pd\n",
    "import numpy as np \n",
    "import csv\n",
    "import re\n",
    "import string\n",
    "\n",
    "import nltk\n",
    "from nltk.corpus import stopwords\n",
    "from nltk.tokenize import word_tokenize\n",
    "from nltk.stem import PorterStemmer\n",
    "from nltk.stem import WordNetLemmatizer\n",
    "\n",
    "import warnings\n",
    "warnings.filterwarnings(\"ignore\")\n"
   ]
  },
  {
   "cell_type": "markdown",
   "metadata": {},
   "source": [
    "# Dataset Cleaning"
   ]
  },
  {
   "cell_type": "code",
   "execution_count": 2,
   "metadata": {},
   "outputs": [],
   "source": [
    "path = '/home/manikya_varshney/Documents/Python/Yale/h01-20200818-10files/h01-20200818-153021.csv'\n",
    "data = pd.read_csv(path, low_memory=False)"
   ]
  },
  {
   "cell_type": "code",
   "execution_count": 3,
   "metadata": {},
   "outputs": [
    {
     "data": {
      "text/plain": [
       "(19992, 79)"
      ]
     },
     "execution_count": 3,
     "metadata": {},
     "output_type": "execute_result"
    }
   ],
   "source": [
    "data.shape"
   ]
  },
  {
   "cell_type": "code",
   "execution_count": 4,
   "metadata": {},
   "outputs": [],
   "source": [
    "cols = [1, 3, 4, 5,6, 7, 8, 14, 15, 16, 17, 18, 19, 22, 30, 31, 32, 34, 35, 36, 41, 42, 43, 45, 51, 52, 53, 54, 55, 56, 58, 63, 64, 65, 67, 73, 74, 75, 76, 77]"
   ]
  },
  {
   "cell_type": "code",
   "execution_count": 5,
   "metadata": {},
   "outputs": [],
   "source": [
    "data = data[data.columns.values[cols]]"
   ]
  },
  {
   "cell_type": "code",
   "execution_count": 6,
   "metadata": {},
   "outputs": [
    {
     "data": {
      "text/html": [
       "<div>\n",
       "<style scoped>\n",
       "    .dataframe tbody tr th:only-of-type {\n",
       "        vertical-align: middle;\n",
       "    }\n",
       "\n",
       "    .dataframe tbody tr th {\n",
       "        vertical-align: top;\n",
       "    }\n",
       "\n",
       "    .dataframe thead th {\n",
       "        text-align: right;\n",
       "    }\n",
       "</style>\n",
       "<table border=\"1\" class=\"dataframe\">\n",
       "  <thead>\n",
       "    <tr style=\"text-align: right;\">\n",
       "      <th></th>\n",
       "      <th>id</th>\n",
       "      <th>is_quote_tweet</th>\n",
       "      <th>quoted_tweet_id</th>\n",
       "      <th>in_reply_to_status_id_str</th>\n",
       "      <th>in_reply_to_user_id_str</th>\n",
       "      <th>in_reply_to_screen_name</th>\n",
       "      <th>lang</th>\n",
       "      <th>place_full_name</th>\n",
       "      <th>place_country_code</th>\n",
       "      <th>coordinates</th>\n",
       "      <th>...</th>\n",
       "      <th>QT_lang</th>\n",
       "      <th>QT_user_id</th>\n",
       "      <th>QT_username</th>\n",
       "      <th>QT_name</th>\n",
       "      <th>QT_location</th>\n",
       "      <th>QT_place_full_name</th>\n",
       "      <th>QT_place_country_code</th>\n",
       "      <th>QT_coordinates</th>\n",
       "      <th>QT_text</th>\n",
       "      <th>QT_full_text</th>\n",
       "    </tr>\n",
       "  </thead>\n",
       "  <tbody>\n",
       "    <tr>\n",
       "      <th>0</th>\n",
       "      <td>1295805209722183684</td>\n",
       "      <td>False</td>\n",
       "      <td>NaN</td>\n",
       "      <td>NaN</td>\n",
       "      <td>NaN</td>\n",
       "      <td>NaN</td>\n",
       "      <td>en</td>\n",
       "      <td>NaN</td>\n",
       "      <td>NaN</td>\n",
       "      <td>NaN</td>\n",
       "      <td>...</td>\n",
       "      <td>NaN</td>\n",
       "      <td>NaN</td>\n",
       "      <td>NaN</td>\n",
       "      <td>NaN</td>\n",
       "      <td>NaN</td>\n",
       "      <td>NaN</td>\n",
       "      <td>NaN</td>\n",
       "      <td>NaN</td>\n",
       "      <td>NaN</td>\n",
       "      <td>NaN</td>\n",
       "    </tr>\n",
       "    <tr>\n",
       "      <th>1</th>\n",
       "      <td>1295805209738911745</td>\n",
       "      <td>True</td>\n",
       "      <td>1.295733e+18</td>\n",
       "      <td>NaN</td>\n",
       "      <td>NaN</td>\n",
       "      <td>NaN</td>\n",
       "      <td>und</td>\n",
       "      <td>Rossville, MD</td>\n",
       "      <td>US</td>\n",
       "      <td>NaN</td>\n",
       "      <td>...</td>\n",
       "      <td>en</td>\n",
       "      <td>2.968145e+08</td>\n",
       "      <td>HealthyFla</td>\n",
       "      <td>Florida Dept. Health</td>\n",
       "      <td>Tallahassee, FL</td>\n",
       "      <td>NaN</td>\n",
       "      <td>NaN</td>\n",
       "      <td>NaN</td>\n",
       "      <td>Wearing a mask correctly can prevent the sprea...</td>\n",
       "      <td>Wearing a mask correctly can prevent the sprea...</td>\n",
       "    </tr>\n",
       "    <tr>\n",
       "      <th>2</th>\n",
       "      <td>1295805209852215297</td>\n",
       "      <td>False</td>\n",
       "      <td>NaN</td>\n",
       "      <td>NaN</td>\n",
       "      <td>NaN</td>\n",
       "      <td>NaN</td>\n",
       "      <td>es</td>\n",
       "      <td>NaN</td>\n",
       "      <td>NaN</td>\n",
       "      <td>NaN</td>\n",
       "      <td>...</td>\n",
       "      <td>NaN</td>\n",
       "      <td>NaN</td>\n",
       "      <td>NaN</td>\n",
       "      <td>NaN</td>\n",
       "      <td>NaN</td>\n",
       "      <td>NaN</td>\n",
       "      <td>NaN</td>\n",
       "      <td>NaN</td>\n",
       "      <td>NaN</td>\n",
       "      <td>NaN</td>\n",
       "    </tr>\n",
       "    <tr>\n",
       "      <th>3</th>\n",
       "      <td>1295805209596366848</td>\n",
       "      <td>True</td>\n",
       "      <td>1.295797e+18</td>\n",
       "      <td>NaN</td>\n",
       "      <td>7.852330e+07</td>\n",
       "      <td>RealJamesWoods</td>\n",
       "      <td>und</td>\n",
       "      <td>NaN</td>\n",
       "      <td>NaN</td>\n",
       "      <td>NaN</td>\n",
       "      <td>...</td>\n",
       "      <td>en</td>\n",
       "      <td>1.220829e+18</td>\n",
       "      <td>AZKAYTE</td>\n",
       "      <td>AZKayte</td>\n",
       "      <td>Rent Free in Libs Heads</td>\n",
       "      <td>NaN</td>\n",
       "      <td>NaN</td>\n",
       "      <td>NaN</td>\n",
       "      <td>🔥ON FIRE!🔥\\n\\n#CarlosZapata (not Picatta) from...</td>\n",
       "      <td>🔥ON FIRE!🔥\\n\\n#CarlosZapata (not Picatta) from...</td>\n",
       "    </tr>\n",
       "    <tr>\n",
       "      <th>4</th>\n",
       "      <td>1295805209940299776</td>\n",
       "      <td>False</td>\n",
       "      <td>NaN</td>\n",
       "      <td>1.295688e+18</td>\n",
       "      <td>9.227776e+17</td>\n",
       "      <td>PierolaMarcelo</td>\n",
       "      <td>es</td>\n",
       "      <td>NaN</td>\n",
       "      <td>NaN</td>\n",
       "      <td>NaN</td>\n",
       "      <td>...</td>\n",
       "      <td>NaN</td>\n",
       "      <td>NaN</td>\n",
       "      <td>NaN</td>\n",
       "      <td>NaN</td>\n",
       "      <td>NaN</td>\n",
       "      <td>NaN</td>\n",
       "      <td>NaN</td>\n",
       "      <td>NaN</td>\n",
       "      <td>NaN</td>\n",
       "      <td>NaN</td>\n",
       "    </tr>\n",
       "    <tr>\n",
       "      <th>...</th>\n",
       "      <td>...</td>\n",
       "      <td>...</td>\n",
       "      <td>...</td>\n",
       "      <td>...</td>\n",
       "      <td>...</td>\n",
       "      <td>...</td>\n",
       "      <td>...</td>\n",
       "      <td>...</td>\n",
       "      <td>...</td>\n",
       "      <td>...</td>\n",
       "      <td>...</td>\n",
       "      <td>...</td>\n",
       "      <td>...</td>\n",
       "      <td>...</td>\n",
       "      <td>...</td>\n",
       "      <td>...</td>\n",
       "      <td>...</td>\n",
       "      <td>...</td>\n",
       "      <td>...</td>\n",
       "      <td>...</td>\n",
       "      <td>...</td>\n",
       "    </tr>\n",
       "    <tr>\n",
       "      <th>19987</th>\n",
       "      <td>1295806236273840128</td>\n",
       "      <td>True</td>\n",
       "      <td>1.295802e+18</td>\n",
       "      <td>NaN</td>\n",
       "      <td>NaN</td>\n",
       "      <td>NaN</td>\n",
       "      <td>it</td>\n",
       "      <td>NaN</td>\n",
       "      <td>NaN</td>\n",
       "      <td>NaN</td>\n",
       "      <td>...</td>\n",
       "      <td>it</td>\n",
       "      <td>1.214241e+08</td>\n",
       "      <td>La7tv</td>\n",
       "      <td>La7</td>\n",
       "      <td>Italy</td>\n",
       "      <td>NaN</td>\n",
       "      <td>NaN</td>\n",
       "      <td>NaN</td>\n",
       "      <td>#inonda @DSantanche è pessimista sulla riapert...</td>\n",
       "      <td>NaN</td>\n",
       "    </tr>\n",
       "    <tr>\n",
       "      <th>19988</th>\n",
       "      <td>1295806236416528384</td>\n",
       "      <td>False</td>\n",
       "      <td>NaN</td>\n",
       "      <td>NaN</td>\n",
       "      <td>NaN</td>\n",
       "      <td>NaN</td>\n",
       "      <td>en</td>\n",
       "      <td>NaN</td>\n",
       "      <td>NaN</td>\n",
       "      <td>NaN</td>\n",
       "      <td>...</td>\n",
       "      <td>NaN</td>\n",
       "      <td>NaN</td>\n",
       "      <td>NaN</td>\n",
       "      <td>NaN</td>\n",
       "      <td>NaN</td>\n",
       "      <td>NaN</td>\n",
       "      <td>NaN</td>\n",
       "      <td>NaN</td>\n",
       "      <td>NaN</td>\n",
       "      <td>NaN</td>\n",
       "    </tr>\n",
       "    <tr>\n",
       "      <th>19989</th>\n",
       "      <td>1295806236349390850</td>\n",
       "      <td>False</td>\n",
       "      <td>NaN</td>\n",
       "      <td>NaN</td>\n",
       "      <td>NaN</td>\n",
       "      <td>NaN</td>\n",
       "      <td>en</td>\n",
       "      <td>NaN</td>\n",
       "      <td>NaN</td>\n",
       "      <td>NaN</td>\n",
       "      <td>...</td>\n",
       "      <td>NaN</td>\n",
       "      <td>NaN</td>\n",
       "      <td>NaN</td>\n",
       "      <td>NaN</td>\n",
       "      <td>NaN</td>\n",
       "      <td>NaN</td>\n",
       "      <td>NaN</td>\n",
       "      <td>NaN</td>\n",
       "      <td>NaN</td>\n",
       "      <td>NaN</td>\n",
       "    </tr>\n",
       "    <tr>\n",
       "      <th>19990</th>\n",
       "      <td>1295806236504535041</td>\n",
       "      <td>False</td>\n",
       "      <td>NaN</td>\n",
       "      <td>NaN</td>\n",
       "      <td>NaN</td>\n",
       "      <td>NaN</td>\n",
       "      <td>en</td>\n",
       "      <td>NaN</td>\n",
       "      <td>NaN</td>\n",
       "      <td>NaN</td>\n",
       "      <td>...</td>\n",
       "      <td>NaN</td>\n",
       "      <td>NaN</td>\n",
       "      <td>NaN</td>\n",
       "      <td>NaN</td>\n",
       "      <td>NaN</td>\n",
       "      <td>NaN</td>\n",
       "      <td>NaN</td>\n",
       "      <td>NaN</td>\n",
       "      <td>NaN</td>\n",
       "      <td>NaN</td>\n",
       "    </tr>\n",
       "    <tr>\n",
       "      <th>19991</th>\n",
       "      <td>1295806236068327424</td>\n",
       "      <td>True</td>\n",
       "      <td>1.295256e+18</td>\n",
       "      <td>NaN</td>\n",
       "      <td>NaN</td>\n",
       "      <td>NaN</td>\n",
       "      <td>en</td>\n",
       "      <td>NaN</td>\n",
       "      <td>NaN</td>\n",
       "      <td>NaN</td>\n",
       "      <td>...</td>\n",
       "      <td>en</td>\n",
       "      <td>3.806486e+08</td>\n",
       "      <td>AFP</td>\n",
       "      <td>AFP news agency</td>\n",
       "      <td>France</td>\n",
       "      <td>NaN</td>\n",
       "      <td>NaN</td>\n",
       "      <td>NaN</td>\n",
       "      <td>Wuhan wave.\\n\\nPeople watch a performance as t...</td>\n",
       "      <td>NaN</td>\n",
       "    </tr>\n",
       "  </tbody>\n",
       "</table>\n",
       "<p>19992 rows × 40 columns</p>\n",
       "</div>"
      ],
      "text/plain": [
       "                        id  is_quote_tweet  quoted_tweet_id  \\\n",
       "0      1295805209722183684           False              NaN   \n",
       "1      1295805209738911745            True     1.295733e+18   \n",
       "2      1295805209852215297           False              NaN   \n",
       "3      1295805209596366848            True     1.295797e+18   \n",
       "4      1295805209940299776           False              NaN   \n",
       "...                    ...             ...              ...   \n",
       "19987  1295806236273840128            True     1.295802e+18   \n",
       "19988  1295806236416528384           False              NaN   \n",
       "19989  1295806236349390850           False              NaN   \n",
       "19990  1295806236504535041           False              NaN   \n",
       "19991  1295806236068327424            True     1.295256e+18   \n",
       "\n",
       "       in_reply_to_status_id_str  in_reply_to_user_id_str  \\\n",
       "0                            NaN                      NaN   \n",
       "1                            NaN                      NaN   \n",
       "2                            NaN                      NaN   \n",
       "3                            NaN             7.852330e+07   \n",
       "4                   1.295688e+18             9.227776e+17   \n",
       "...                          ...                      ...   \n",
       "19987                        NaN                      NaN   \n",
       "19988                        NaN                      NaN   \n",
       "19989                        NaN                      NaN   \n",
       "19990                        NaN                      NaN   \n",
       "19991                        NaN                      NaN   \n",
       "\n",
       "      in_reply_to_screen_name lang place_full_name place_country_code  \\\n",
       "0                         NaN   en             NaN                NaN   \n",
       "1                         NaN  und   Rossville, MD                 US   \n",
       "2                         NaN   es             NaN                NaN   \n",
       "3              RealJamesWoods  und             NaN                NaN   \n",
       "4              PierolaMarcelo   es             NaN                NaN   \n",
       "...                       ...  ...             ...                ...   \n",
       "19987                     NaN   it             NaN                NaN   \n",
       "19988                     NaN   en             NaN                NaN   \n",
       "19989                     NaN   en             NaN                NaN   \n",
       "19990                     NaN   en             NaN                NaN   \n",
       "19991                     NaN   en             NaN                NaN   \n",
       "\n",
       "      coordinates  ... QT_lang    QT_user_id  QT_username  \\\n",
       "0             NaN  ...     NaN           NaN          NaN   \n",
       "1             NaN  ...      en  2.968145e+08   HealthyFla   \n",
       "2             NaN  ...     NaN           NaN          NaN   \n",
       "3             NaN  ...      en  1.220829e+18      AZKAYTE   \n",
       "4             NaN  ...     NaN           NaN          NaN   \n",
       "...           ...  ...     ...           ...          ...   \n",
       "19987         NaN  ...      it  1.214241e+08        La7tv   \n",
       "19988         NaN  ...     NaN           NaN          NaN   \n",
       "19989         NaN  ...     NaN           NaN          NaN   \n",
       "19990         NaN  ...     NaN           NaN          NaN   \n",
       "19991         NaN  ...      en  3.806486e+08          AFP   \n",
       "\n",
       "                    QT_name              QT_location QT_place_full_name  \\\n",
       "0                       NaN                      NaN                NaN   \n",
       "1      Florida Dept. Health          Tallahassee, FL                NaN   \n",
       "2                       NaN                      NaN                NaN   \n",
       "3                   AZKayte  Rent Free in Libs Heads                NaN   \n",
       "4                       NaN                      NaN                NaN   \n",
       "...                     ...                      ...                ...   \n",
       "19987                   La7                    Italy                NaN   \n",
       "19988                   NaN                      NaN                NaN   \n",
       "19989                   NaN                      NaN                NaN   \n",
       "19990                   NaN                      NaN                NaN   \n",
       "19991       AFP news agency                   France                NaN   \n",
       "\n",
       "      QT_place_country_code  QT_coordinates  \\\n",
       "0                       NaN             NaN   \n",
       "1                       NaN             NaN   \n",
       "2                       NaN             NaN   \n",
       "3                       NaN             NaN   \n",
       "4                       NaN             NaN   \n",
       "...                     ...             ...   \n",
       "19987                   NaN             NaN   \n",
       "19988                   NaN             NaN   \n",
       "19989                   NaN             NaN   \n",
       "19990                   NaN             NaN   \n",
       "19991                   NaN             NaN   \n",
       "\n",
       "                                                 QT_text  \\\n",
       "0                                                    NaN   \n",
       "1      Wearing a mask correctly can prevent the sprea...   \n",
       "2                                                    NaN   \n",
       "3      🔥ON FIRE!🔥\\n\\n#CarlosZapata (not Picatta) from...   \n",
       "4                                                    NaN   \n",
       "...                                                  ...   \n",
       "19987  #inonda @DSantanche è pessimista sulla riapert...   \n",
       "19988                                                NaN   \n",
       "19989                                                NaN   \n",
       "19990                                                NaN   \n",
       "19991  Wuhan wave.\\n\\nPeople watch a performance as t...   \n",
       "\n",
       "                                            QT_full_text  \n",
       "0                                                    NaN  \n",
       "1      Wearing a mask correctly can prevent the sprea...  \n",
       "2                                                    NaN  \n",
       "3      🔥ON FIRE!🔥\\n\\n#CarlosZapata (not Picatta) from...  \n",
       "4                                                    NaN  \n",
       "...                                                  ...  \n",
       "19987                                                NaN  \n",
       "19988                                                NaN  \n",
       "19989                                                NaN  \n",
       "19990                                                NaN  \n",
       "19991                                                NaN  \n",
       "\n",
       "[19992 rows x 40 columns]"
      ]
     },
     "execution_count": 6,
     "metadata": {},
     "output_type": "execute_result"
    }
   ],
   "source": [
    "data"
   ]
  },
  {
   "cell_type": "code",
   "execution_count": 7,
   "metadata": {},
   "outputs": [
    {
     "data": {
      "text/plain": [
       "(19992, 40)"
      ]
     },
     "execution_count": 7,
     "metadata": {},
     "output_type": "execute_result"
    }
   ],
   "source": [
    "data.shape"
   ]
  },
  {
   "cell_type": "code",
   "execution_count": 8,
   "metadata": {},
   "outputs": [],
   "source": [
    "#data.to_csv('cols_filtered_h01-20200912-101538.csv',index=False)"
   ]
  },
  {
   "cell_type": "raw",
   "metadata": {},
   "source": [
    "path_output = '/home/manikya_varshney/Documents/Python/Yale/h01-20200912-101538_output.csv'\n",
    "with open(path, \"r\") as source: \n",
    "    reader = csv.reader(source) \n",
    "      \n",
    "    with open(path_output, \"w\") as result: \n",
    "        writer = csv.writer(result) \n",
    "        for r in reader: \n",
    "            \n",
    "            # Use CSV Index to remove a column from CSV \n",
    "            #r[3] = r['year'] \n",
    "            writer.writerow((r[1], r[3], r[4], r[5],r[6], r[7], r[8], r[9], r[10], r[11], r[17], r[18], r[19], r[22], r[30], r[31], r[32], r[34], r[35], r[36], r[37], r[38], r[39], r[40], r[41], r[42], r[43], r[45], r[54], r[55], r[56], r[58], r[63], r[64], r[65], r[67], r[76], r[77]))"
   ]
  },
  {
   "cell_type": "raw",
   "metadata": {},
   "source": [
    "path_output = '/home/manikya_varshney/Documents/Python/Yale/h01-20200912-101538_output.csv'\n",
    "data_output = pd.read_csv(path_output, low_memory=False)"
   ]
  },
  {
   "cell_type": "code",
   "execution_count": 9,
   "metadata": {},
   "outputs": [
    {
     "data": {
      "text/plain": [
       "en     11229\n",
       "es      4317\n",
       "pt      1518\n",
       "ja       539\n",
       "und      468\n",
       "fr       338\n",
       "tr       256\n",
       "de       204\n",
       "it       190\n",
       "nl       181\n",
       "ko       162\n",
       "hi       153\n",
       "ar        93\n",
       "ca        55\n",
       "tl        48\n",
       "in        39\n",
       "pl        38\n",
       "zh        19\n",
       "el        18\n",
       "ru        16\n",
       "ro        13\n",
       "ht        10\n",
       "et        10\n",
       "sv        10\n",
       "cs         8\n",
       "sl         7\n",
       "da         6\n",
       "ur         6\n",
       "th         5\n",
       "eu         5\n",
       "cy         5\n",
       "ta         3\n",
       "lv         3\n",
       "fi         3\n",
       "bn         3\n",
       "mr         3\n",
       "hu         2\n",
       "no         2\n",
       "vi         1\n",
       "my         1\n",
       "is         1\n",
       "ne         1\n",
       "te         1\n",
       "fa         1\n",
       "uk         1\n",
       "Name: lang, dtype: int64"
      ]
     },
     "execution_count": 9,
     "metadata": {},
     "output_type": "execute_result"
    }
   ],
   "source": [
    "data['lang'].value_counts()"
   ]
  },
  {
   "cell_type": "code",
   "execution_count": 10,
   "metadata": {},
   "outputs": [
    {
     "data": {
      "text/plain": [
       "(11229, 40)"
      ]
     },
     "execution_count": 10,
     "metadata": {},
     "output_type": "execute_result"
    }
   ],
   "source": [
    "data[data['lang'] == 'en'].shape"
   ]
  },
  {
   "cell_type": "code",
   "execution_count": 11,
   "metadata": {},
   "outputs": [],
   "source": [
    "data_en = data[data['lang'] == 'en'].reset_index(drop=True)"
   ]
  },
  {
   "cell_type": "code",
   "execution_count": 12,
   "metadata": {},
   "outputs": [
    {
     "data": {
      "text/html": [
       "<div>\n",
       "<style scoped>\n",
       "    .dataframe tbody tr th:only-of-type {\n",
       "        vertical-align: middle;\n",
       "    }\n",
       "\n",
       "    .dataframe tbody tr th {\n",
       "        vertical-align: top;\n",
       "    }\n",
       "\n",
       "    .dataframe thead th {\n",
       "        text-align: right;\n",
       "    }\n",
       "</style>\n",
       "<table border=\"1\" class=\"dataframe\">\n",
       "  <thead>\n",
       "    <tr style=\"text-align: right;\">\n",
       "      <th></th>\n",
       "      <th>id</th>\n",
       "      <th>is_quote_tweet</th>\n",
       "      <th>quoted_tweet_id</th>\n",
       "      <th>in_reply_to_status_id_str</th>\n",
       "      <th>in_reply_to_user_id_str</th>\n",
       "      <th>in_reply_to_screen_name</th>\n",
       "      <th>lang</th>\n",
       "      <th>place_full_name</th>\n",
       "      <th>place_country_code</th>\n",
       "      <th>coordinates</th>\n",
       "      <th>...</th>\n",
       "      <th>QT_lang</th>\n",
       "      <th>QT_user_id</th>\n",
       "      <th>QT_username</th>\n",
       "      <th>QT_name</th>\n",
       "      <th>QT_location</th>\n",
       "      <th>QT_place_full_name</th>\n",
       "      <th>QT_place_country_code</th>\n",
       "      <th>QT_coordinates</th>\n",
       "      <th>QT_text</th>\n",
       "      <th>QT_full_text</th>\n",
       "    </tr>\n",
       "  </thead>\n",
       "  <tbody>\n",
       "    <tr>\n",
       "      <th>0</th>\n",
       "      <td>1295805209722183684</td>\n",
       "      <td>False</td>\n",
       "      <td>NaN</td>\n",
       "      <td>NaN</td>\n",
       "      <td>NaN</td>\n",
       "      <td>NaN</td>\n",
       "      <td>en</td>\n",
       "      <td>NaN</td>\n",
       "      <td>NaN</td>\n",
       "      <td>NaN</td>\n",
       "      <td>...</td>\n",
       "      <td>NaN</td>\n",
       "      <td>NaN</td>\n",
       "      <td>NaN</td>\n",
       "      <td>NaN</td>\n",
       "      <td>NaN</td>\n",
       "      <td>NaN</td>\n",
       "      <td>NaN</td>\n",
       "      <td>NaN</td>\n",
       "      <td>NaN</td>\n",
       "      <td>NaN</td>\n",
       "    </tr>\n",
       "    <tr>\n",
       "      <th>1</th>\n",
       "      <td>1295805209545932802</td>\n",
       "      <td>True</td>\n",
       "      <td>1.295540e+18</td>\n",
       "      <td>NaN</td>\n",
       "      <td>NaN</td>\n",
       "      <td>NaN</td>\n",
       "      <td>en</td>\n",
       "      <td>NaN</td>\n",
       "      <td>NaN</td>\n",
       "      <td>NaN</td>\n",
       "      <td>...</td>\n",
       "      <td>en</td>\n",
       "      <td>9.390910e+05</td>\n",
       "      <td>JoeBiden</td>\n",
       "      <td>Joe Biden</td>\n",
       "      <td>Wilmington, DE</td>\n",
       "      <td>NaN</td>\n",
       "      <td>NaN</td>\n",
       "      <td>NaN</td>\n",
       "      <td>.@AndrewCuomo, thank you for your leadership a...</td>\n",
       "      <td>.@AndrewCuomo, thank you for your leadership a...</td>\n",
       "    </tr>\n",
       "    <tr>\n",
       "      <th>2</th>\n",
       "      <td>1295805210040897536</td>\n",
       "      <td>True</td>\n",
       "      <td>1.295798e+18</td>\n",
       "      <td>NaN</td>\n",
       "      <td>NaN</td>\n",
       "      <td>NaN</td>\n",
       "      <td>en</td>\n",
       "      <td>NaN</td>\n",
       "      <td>NaN</td>\n",
       "      <td>NaN</td>\n",
       "      <td>...</td>\n",
       "      <td>en</td>\n",
       "      <td>3.988421e+08</td>\n",
       "      <td>ITROutlook</td>\n",
       "      <td>ITR Economics®</td>\n",
       "      <td>Manchester, NH</td>\n",
       "      <td>NaN</td>\n",
       "      <td>NaN</td>\n",
       "      <td>NaN</td>\n",
       "      <td>“Our forecast for the US economy ... reflects ...</td>\n",
       "      <td>“Our forecast for the US economy ... reflects ...</td>\n",
       "    </tr>\n",
       "    <tr>\n",
       "      <th>3</th>\n",
       "      <td>1295805209923530763</td>\n",
       "      <td>True</td>\n",
       "      <td>1.295572e+18</td>\n",
       "      <td>NaN</td>\n",
       "      <td>NaN</td>\n",
       "      <td>NaN</td>\n",
       "      <td>en</td>\n",
       "      <td>NaN</td>\n",
       "      <td>NaN</td>\n",
       "      <td>NaN</td>\n",
       "      <td>...</td>\n",
       "      <td>en</td>\n",
       "      <td>5.881261e+07</td>\n",
       "      <td>LOUISAGUIRRE</td>\n",
       "      <td>Louis Aguirre</td>\n",
       "      <td>Los Angeles</td>\n",
       "      <td>NaN</td>\n",
       "      <td>NaN</td>\n",
       "      <td>NaN</td>\n",
       "      <td>Miami Dade’s antiquated storm drain system dum...</td>\n",
       "      <td>Miami Dade’s antiquated storm drain system dum...</td>\n",
       "    </tr>\n",
       "    <tr>\n",
       "      <th>4</th>\n",
       "      <td>1295805209634119681</td>\n",
       "      <td>True</td>\n",
       "      <td>1.295673e+18</td>\n",
       "      <td>NaN</td>\n",
       "      <td>NaN</td>\n",
       "      <td>NaN</td>\n",
       "      <td>en</td>\n",
       "      <td>NaN</td>\n",
       "      <td>NaN</td>\n",
       "      <td>NaN</td>\n",
       "      <td>...</td>\n",
       "      <td>en</td>\n",
       "      <td>2.902877e+09</td>\n",
       "      <td>barneyjiri</td>\n",
       "      <td>MANIFESTOR</td>\n",
       "      <td>High frequency</td>\n",
       "      <td>NaN</td>\n",
       "      <td>NaN</td>\n",
       "      <td>NaN</td>\n",
       "      <td>Gold Reef City  would make the money they’ve l...</td>\n",
       "      <td>NaN</td>\n",
       "    </tr>\n",
       "    <tr>\n",
       "      <th>...</th>\n",
       "      <td>...</td>\n",
       "      <td>...</td>\n",
       "      <td>...</td>\n",
       "      <td>...</td>\n",
       "      <td>...</td>\n",
       "      <td>...</td>\n",
       "      <td>...</td>\n",
       "      <td>...</td>\n",
       "      <td>...</td>\n",
       "      <td>...</td>\n",
       "      <td>...</td>\n",
       "      <td>...</td>\n",
       "      <td>...</td>\n",
       "      <td>...</td>\n",
       "      <td>...</td>\n",
       "      <td>...</td>\n",
       "      <td>...</td>\n",
       "      <td>...</td>\n",
       "      <td>...</td>\n",
       "      <td>...</td>\n",
       "      <td>...</td>\n",
       "    </tr>\n",
       "    <tr>\n",
       "      <th>11224</th>\n",
       "      <td>1295806236173238273</td>\n",
       "      <td>False</td>\n",
       "      <td>NaN</td>\n",
       "      <td>NaN</td>\n",
       "      <td>NaN</td>\n",
       "      <td>NaN</td>\n",
       "      <td>en</td>\n",
       "      <td>NaN</td>\n",
       "      <td>NaN</td>\n",
       "      <td>NaN</td>\n",
       "      <td>...</td>\n",
       "      <td>NaN</td>\n",
       "      <td>NaN</td>\n",
       "      <td>NaN</td>\n",
       "      <td>NaN</td>\n",
       "      <td>NaN</td>\n",
       "      <td>NaN</td>\n",
       "      <td>NaN</td>\n",
       "      <td>NaN</td>\n",
       "      <td>NaN</td>\n",
       "      <td>NaN</td>\n",
       "    </tr>\n",
       "    <tr>\n",
       "      <th>11225</th>\n",
       "      <td>1295806236416528384</td>\n",
       "      <td>False</td>\n",
       "      <td>NaN</td>\n",
       "      <td>NaN</td>\n",
       "      <td>NaN</td>\n",
       "      <td>NaN</td>\n",
       "      <td>en</td>\n",
       "      <td>NaN</td>\n",
       "      <td>NaN</td>\n",
       "      <td>NaN</td>\n",
       "      <td>...</td>\n",
       "      <td>NaN</td>\n",
       "      <td>NaN</td>\n",
       "      <td>NaN</td>\n",
       "      <td>NaN</td>\n",
       "      <td>NaN</td>\n",
       "      <td>NaN</td>\n",
       "      <td>NaN</td>\n",
       "      <td>NaN</td>\n",
       "      <td>NaN</td>\n",
       "      <td>NaN</td>\n",
       "    </tr>\n",
       "    <tr>\n",
       "      <th>11226</th>\n",
       "      <td>1295806236349390850</td>\n",
       "      <td>False</td>\n",
       "      <td>NaN</td>\n",
       "      <td>NaN</td>\n",
       "      <td>NaN</td>\n",
       "      <td>NaN</td>\n",
       "      <td>en</td>\n",
       "      <td>NaN</td>\n",
       "      <td>NaN</td>\n",
       "      <td>NaN</td>\n",
       "      <td>...</td>\n",
       "      <td>NaN</td>\n",
       "      <td>NaN</td>\n",
       "      <td>NaN</td>\n",
       "      <td>NaN</td>\n",
       "      <td>NaN</td>\n",
       "      <td>NaN</td>\n",
       "      <td>NaN</td>\n",
       "      <td>NaN</td>\n",
       "      <td>NaN</td>\n",
       "      <td>NaN</td>\n",
       "    </tr>\n",
       "    <tr>\n",
       "      <th>11227</th>\n",
       "      <td>1295806236504535041</td>\n",
       "      <td>False</td>\n",
       "      <td>NaN</td>\n",
       "      <td>NaN</td>\n",
       "      <td>NaN</td>\n",
       "      <td>NaN</td>\n",
       "      <td>en</td>\n",
       "      <td>NaN</td>\n",
       "      <td>NaN</td>\n",
       "      <td>NaN</td>\n",
       "      <td>...</td>\n",
       "      <td>NaN</td>\n",
       "      <td>NaN</td>\n",
       "      <td>NaN</td>\n",
       "      <td>NaN</td>\n",
       "      <td>NaN</td>\n",
       "      <td>NaN</td>\n",
       "      <td>NaN</td>\n",
       "      <td>NaN</td>\n",
       "      <td>NaN</td>\n",
       "      <td>NaN</td>\n",
       "    </tr>\n",
       "    <tr>\n",
       "      <th>11228</th>\n",
       "      <td>1295806236068327424</td>\n",
       "      <td>True</td>\n",
       "      <td>1.295256e+18</td>\n",
       "      <td>NaN</td>\n",
       "      <td>NaN</td>\n",
       "      <td>NaN</td>\n",
       "      <td>en</td>\n",
       "      <td>NaN</td>\n",
       "      <td>NaN</td>\n",
       "      <td>NaN</td>\n",
       "      <td>...</td>\n",
       "      <td>en</td>\n",
       "      <td>3.806486e+08</td>\n",
       "      <td>AFP</td>\n",
       "      <td>AFP news agency</td>\n",
       "      <td>France</td>\n",
       "      <td>NaN</td>\n",
       "      <td>NaN</td>\n",
       "      <td>NaN</td>\n",
       "      <td>Wuhan wave.\\n\\nPeople watch a performance as t...</td>\n",
       "      <td>NaN</td>\n",
       "    </tr>\n",
       "  </tbody>\n",
       "</table>\n",
       "<p>11229 rows × 40 columns</p>\n",
       "</div>"
      ],
      "text/plain": [
       "                        id  is_quote_tweet  quoted_tweet_id  \\\n",
       "0      1295805209722183684           False              NaN   \n",
       "1      1295805209545932802            True     1.295540e+18   \n",
       "2      1295805210040897536            True     1.295798e+18   \n",
       "3      1295805209923530763            True     1.295572e+18   \n",
       "4      1295805209634119681            True     1.295673e+18   \n",
       "...                    ...             ...              ...   \n",
       "11224  1295806236173238273           False              NaN   \n",
       "11225  1295806236416528384           False              NaN   \n",
       "11226  1295806236349390850           False              NaN   \n",
       "11227  1295806236504535041           False              NaN   \n",
       "11228  1295806236068327424            True     1.295256e+18   \n",
       "\n",
       "       in_reply_to_status_id_str  in_reply_to_user_id_str  \\\n",
       "0                            NaN                      NaN   \n",
       "1                            NaN                      NaN   \n",
       "2                            NaN                      NaN   \n",
       "3                            NaN                      NaN   \n",
       "4                            NaN                      NaN   \n",
       "...                          ...                      ...   \n",
       "11224                        NaN                      NaN   \n",
       "11225                        NaN                      NaN   \n",
       "11226                        NaN                      NaN   \n",
       "11227                        NaN                      NaN   \n",
       "11228                        NaN                      NaN   \n",
       "\n",
       "      in_reply_to_screen_name lang place_full_name place_country_code  \\\n",
       "0                         NaN   en             NaN                NaN   \n",
       "1                         NaN   en             NaN                NaN   \n",
       "2                         NaN   en             NaN                NaN   \n",
       "3                         NaN   en             NaN                NaN   \n",
       "4                         NaN   en             NaN                NaN   \n",
       "...                       ...  ...             ...                ...   \n",
       "11224                     NaN   en             NaN                NaN   \n",
       "11225                     NaN   en             NaN                NaN   \n",
       "11226                     NaN   en             NaN                NaN   \n",
       "11227                     NaN   en             NaN                NaN   \n",
       "11228                     NaN   en             NaN                NaN   \n",
       "\n",
       "      coordinates  ... QT_lang    QT_user_id   QT_username          QT_name  \\\n",
       "0             NaN  ...     NaN           NaN           NaN              NaN   \n",
       "1             NaN  ...      en  9.390910e+05      JoeBiden        Joe Biden   \n",
       "2             NaN  ...      en  3.988421e+08    ITROutlook   ITR Economics®   \n",
       "3             NaN  ...      en  5.881261e+07  LOUISAGUIRRE    Louis Aguirre   \n",
       "4             NaN  ...      en  2.902877e+09    barneyjiri       MANIFESTOR   \n",
       "...           ...  ...     ...           ...           ...              ...   \n",
       "11224         NaN  ...     NaN           NaN           NaN              NaN   \n",
       "11225         NaN  ...     NaN           NaN           NaN              NaN   \n",
       "11226         NaN  ...     NaN           NaN           NaN              NaN   \n",
       "11227         NaN  ...     NaN           NaN           NaN              NaN   \n",
       "11228         NaN  ...      en  3.806486e+08           AFP  AFP news agency   \n",
       "\n",
       "          QT_location QT_place_full_name QT_place_country_code  \\\n",
       "0                 NaN                NaN                   NaN   \n",
       "1      Wilmington, DE                NaN                   NaN   \n",
       "2      Manchester, NH                NaN                   NaN   \n",
       "3         Los Angeles                NaN                   NaN   \n",
       "4      High frequency                NaN                   NaN   \n",
       "...               ...                ...                   ...   \n",
       "11224             NaN                NaN                   NaN   \n",
       "11225             NaN                NaN                   NaN   \n",
       "11226             NaN                NaN                   NaN   \n",
       "11227             NaN                NaN                   NaN   \n",
       "11228          France                NaN                   NaN   \n",
       "\n",
       "       QT_coordinates                                            QT_text  \\\n",
       "0                 NaN                                                NaN   \n",
       "1                 NaN  .@AndrewCuomo, thank you for your leadership a...   \n",
       "2                 NaN  “Our forecast for the US economy ... reflects ...   \n",
       "3                 NaN  Miami Dade’s antiquated storm drain system dum...   \n",
       "4                 NaN  Gold Reef City  would make the money they’ve l...   \n",
       "...               ...                                                ...   \n",
       "11224             NaN                                                NaN   \n",
       "11225             NaN                                                NaN   \n",
       "11226             NaN                                                NaN   \n",
       "11227             NaN                                                NaN   \n",
       "11228             NaN  Wuhan wave.\\n\\nPeople watch a performance as t...   \n",
       "\n",
       "                                            QT_full_text  \n",
       "0                                                    NaN  \n",
       "1      .@AndrewCuomo, thank you for your leadership a...  \n",
       "2      “Our forecast for the US economy ... reflects ...  \n",
       "3      Miami Dade’s antiquated storm drain system dum...  \n",
       "4                                                    NaN  \n",
       "...                                                  ...  \n",
       "11224                                                NaN  \n",
       "11225                                                NaN  \n",
       "11226                                                NaN  \n",
       "11227                                                NaN  \n",
       "11228                                                NaN  \n",
       "\n",
       "[11229 rows x 40 columns]"
      ]
     },
     "execution_count": 12,
     "metadata": {},
     "output_type": "execute_result"
    }
   ],
   "source": [
    "data_en"
   ]
  },
  {
   "cell_type": "code",
   "execution_count": 13,
   "metadata": {},
   "outputs": [],
   "source": [
    "data_en['RT_Flag'] = data_en['text'].str[:2]=='RT'"
   ]
  },
  {
   "cell_type": "code",
   "execution_count": 14,
   "metadata": {},
   "outputs": [
    {
     "data": {
      "text/plain": [
       "(11229, 41)"
      ]
     },
     "execution_count": 14,
     "metadata": {},
     "output_type": "execute_result"
    }
   ],
   "source": [
    "data_en.shape"
   ]
  },
  {
   "cell_type": "markdown",
   "metadata": {},
   "source": [
    "##### is_quote_tweet --> False --> Non RT"
   ]
  },
  {
   "cell_type": "code",
   "execution_count": 15,
   "metadata": {},
   "outputs": [],
   "source": [
    "interim = data_en[np.where((data_en['is_quote_tweet']==False) & (data_en['RT_Flag']==False),True,False)].reset_index(drop=True)"
   ]
  },
  {
   "cell_type": "code",
   "execution_count": 16,
   "metadata": {},
   "outputs": [],
   "source": [
    "interim['extended_tweet_full_text'] = np.where(~interim['truncated'],interim['text'],interim['extended_tweet_full_text'])"
   ]
  },
  {
   "cell_type": "code",
   "execution_count": 17,
   "metadata": {},
   "outputs": [
    {
     "data": {
      "text/plain": [
       "(2953, 41)"
      ]
     },
     "execution_count": 17,
     "metadata": {},
     "output_type": "execute_result"
    }
   ],
   "source": [
    "interim.shape"
   ]
  },
  {
   "cell_type": "code",
   "execution_count": 18,
   "metadata": {},
   "outputs": [],
   "source": [
    "non_rep = interim[['id','user_id','extended_tweet_full_text']]"
   ]
  },
  {
   "cell_type": "code",
   "execution_count": 19,
   "metadata": {},
   "outputs": [
    {
     "data": {
      "text/plain": [
       "(2953, 3)"
      ]
     },
     "execution_count": 19,
     "metadata": {},
     "output_type": "execute_result"
    }
   ],
   "source": [
    "non_rep.shape"
   ]
  },
  {
   "cell_type": "code",
   "execution_count": 20,
   "metadata": {},
   "outputs": [
    {
     "data": {
      "text/plain": [
       "(2953, 3)"
      ]
     },
     "execution_count": 20,
     "metadata": {},
     "output_type": "execute_result"
    }
   ],
   "source": [
    "non_rep.drop_duplicates(['id']).shape"
   ]
  },
  {
   "cell_type": "code",
   "execution_count": 21,
   "metadata": {},
   "outputs": [],
   "source": [
    "non_rep = non_rep.drop_duplicates(['id']).reset_index(drop=True)"
   ]
  },
  {
   "cell_type": "markdown",
   "metadata": {},
   "source": [
    "##### is_quote_tweet --> False --> RT"
   ]
  },
  {
   "cell_type": "code",
   "execution_count": 22,
   "metadata": {},
   "outputs": [],
   "source": [
    "interim = data_en[np.where((data_en['is_quote_tweet']== False) & (data_en['RT_Flag']== True),True,False)].reset_index(drop=True)"
   ]
  },
  {
   "cell_type": "code",
   "execution_count": 23,
   "metadata": {},
   "outputs": [
    {
     "data": {
      "text/plain": [
       "(5589, 41)"
      ]
     },
     "execution_count": 23,
     "metadata": {},
     "output_type": "execute_result"
    }
   ],
   "source": [
    "interim.shape"
   ]
  },
  {
   "cell_type": "code",
   "execution_count": 24,
   "metadata": {},
   "outputs": [
    {
     "data": {
      "text/html": [
       "<div>\n",
       "<style scoped>\n",
       "    .dataframe tbody tr th:only-of-type {\n",
       "        vertical-align: middle;\n",
       "    }\n",
       "\n",
       "    .dataframe tbody tr th {\n",
       "        vertical-align: top;\n",
       "    }\n",
       "\n",
       "    .dataframe thead th {\n",
       "        text-align: right;\n",
       "    }\n",
       "</style>\n",
       "<table border=\"1\" class=\"dataframe\">\n",
       "  <thead>\n",
       "    <tr style=\"text-align: right;\">\n",
       "      <th></th>\n",
       "      <th>RT_text</th>\n",
       "      <th>RT_full_text</th>\n",
       "    </tr>\n",
       "  </thead>\n",
       "  <tbody>\n",
       "    <tr>\n",
       "      <th>0</th>\n",
       "      <td>Me in Quarantine vs the story I'll tell my gra...</td>\n",
       "      <td>NaN</td>\n",
       "    </tr>\n",
       "    <tr>\n",
       "      <th>1</th>\n",
       "      <td>Trust us. This time the data is good.\\n\\n2020,...</td>\n",
       "      <td>Trust us. This time the data is good.\\n\\n2020,...</td>\n",
       "    </tr>\n",
       "    <tr>\n",
       "      <th>2</th>\n",
       "      <td>I can’t believe China is partying and America ...</td>\n",
       "      <td>I can’t believe China is partying and America ...</td>\n",
       "    </tr>\n",
       "    <tr>\n",
       "      <th>3</th>\n",
       "      <td>Me in Quarantine vs the story I'll tell my gra...</td>\n",
       "      <td>NaN</td>\n",
       "    </tr>\n",
       "    <tr>\n",
       "      <th>4</th>\n",
       "      <td>pregnancy and corona really neck and neck for ...</td>\n",
       "      <td>NaN</td>\n",
       "    </tr>\n",
       "    <tr>\n",
       "      <th>...</th>\n",
       "      <td>...</td>\n",
       "      <td>...</td>\n",
       "    </tr>\n",
       "    <tr>\n",
       "      <th>5584</th>\n",
       "      <td>Florida reported 26,164 COVID-19 tests today w...</td>\n",
       "      <td>Florida reported 26,164 COVID-19 tests today w...</td>\n",
       "    </tr>\n",
       "    <tr>\n",
       "      <th>5585</th>\n",
       "      <td>Happy that netball is back next month, but now...</td>\n",
       "      <td>Happy that netball is back next month, but now...</td>\n",
       "    </tr>\n",
       "    <tr>\n",
       "      <th>5586</th>\n",
       "      <td>The best \"own\" that Trump has is that Michelle...</td>\n",
       "      <td>The best \"own\" that Trump has is that Michelle...</td>\n",
       "    </tr>\n",
       "    <tr>\n",
       "      <th>5587</th>\n",
       "      <td>Lessons from covid:\\n\\nLife is an absolute gif...</td>\n",
       "      <td>Lessons from covid:\\n\\nLife is an absolute gif...</td>\n",
       "    </tr>\n",
       "    <tr>\n",
       "      <th>5588</th>\n",
       "      <td>it’s a good thing tattoo parlors are closed du...</td>\n",
       "      <td>it’s a good thing tattoo parlors are closed du...</td>\n",
       "    </tr>\n",
       "  </tbody>\n",
       "</table>\n",
       "<p>5589 rows × 2 columns</p>\n",
       "</div>"
      ],
      "text/plain": [
       "                                                RT_text  \\\n",
       "0     Me in Quarantine vs the story I'll tell my gra...   \n",
       "1     Trust us. This time the data is good.\\n\\n2020,...   \n",
       "2     I can’t believe China is partying and America ...   \n",
       "3     Me in Quarantine vs the story I'll tell my gra...   \n",
       "4     pregnancy and corona really neck and neck for ...   \n",
       "...                                                 ...   \n",
       "5584  Florida reported 26,164 COVID-19 tests today w...   \n",
       "5585  Happy that netball is back next month, but now...   \n",
       "5586  The best \"own\" that Trump has is that Michelle...   \n",
       "5587  Lessons from covid:\\n\\nLife is an absolute gif...   \n",
       "5588  it’s a good thing tattoo parlors are closed du...   \n",
       "\n",
       "                                           RT_full_text  \n",
       "0                                                   NaN  \n",
       "1     Trust us. This time the data is good.\\n\\n2020,...  \n",
       "2     I can’t believe China is partying and America ...  \n",
       "3                                                   NaN  \n",
       "4                                                   NaN  \n",
       "...                                                 ...  \n",
       "5584  Florida reported 26,164 COVID-19 tests today w...  \n",
       "5585  Happy that netball is back next month, but now...  \n",
       "5586  The best \"own\" that Trump has is that Michelle...  \n",
       "5587  Lessons from covid:\\n\\nLife is an absolute gif...  \n",
       "5588  it’s a good thing tattoo parlors are closed du...  \n",
       "\n",
       "[5589 rows x 2 columns]"
      ]
     },
     "execution_count": 24,
     "metadata": {},
     "output_type": "execute_result"
    }
   ],
   "source": [
    "interim[['RT_text','RT_full_text']]"
   ]
  },
  {
   "cell_type": "code",
   "execution_count": 25,
   "metadata": {},
   "outputs": [],
   "source": [
    "interim['RT_full_text'] = np.where(interim['RT_full_text'].isna(),interim['RT_text'],interim['RT_full_text'])"
   ]
  },
  {
   "cell_type": "code",
   "execution_count": 26,
   "metadata": {},
   "outputs": [],
   "source": [
    "interim = interim[['RT_id','RT_user_id','RT_full_text']]"
   ]
  },
  {
   "cell_type": "code",
   "execution_count": 27,
   "metadata": {},
   "outputs": [],
   "source": [
    "interim.columns = non_rep.columns"
   ]
  },
  {
   "cell_type": "code",
   "execution_count": 28,
   "metadata": {},
   "outputs": [
    {
     "data": {
      "text/plain": [
       "(5589, 3)"
      ]
     },
     "execution_count": 28,
     "metadata": {},
     "output_type": "execute_result"
    }
   ],
   "source": [
    "interim.shape"
   ]
  },
  {
   "cell_type": "code",
   "execution_count": 99,
   "metadata": {},
   "outputs": [],
   "source": [
    "interim = interim.drop_duplicates(['id','user_id']).reset_index(drop=True)"
   ]
  },
  {
   "cell_type": "code",
   "execution_count": 30,
   "metadata": {},
   "outputs": [
    {
     "data": {
      "text/plain": [
       "(2272, 3)"
      ]
     },
     "execution_count": 30,
     "metadata": {},
     "output_type": "execute_result"
    }
   ],
   "source": [
    "interim.shape"
   ]
  },
  {
   "cell_type": "code",
   "execution_count": 31,
   "metadata": {},
   "outputs": [],
   "source": [
    "non_rep = non_rep.append(interim,ignore_index=True)"
   ]
  },
  {
   "cell_type": "code",
   "execution_count": 32,
   "metadata": {},
   "outputs": [
    {
     "data": {
      "text/plain": [
       "(5225, 3)"
      ]
     },
     "execution_count": 32,
     "metadata": {},
     "output_type": "execute_result"
    }
   ],
   "source": [
    "non_rep.shape"
   ]
  },
  {
   "cell_type": "code",
   "execution_count": 33,
   "metadata": {},
   "outputs": [
    {
     "data": {
      "text/plain": [
       "1.295806e+18    2\n",
       "1.295805e+18    2\n",
       "1.295806e+18    2\n",
       "1.295806e+18    2\n",
       "1.295806e+18    2\n",
       "               ..\n",
       "1.294645e+18    1\n",
       "1.295786e+18    1\n",
       "1.295572e+18    1\n",
       "1.295805e+18    1\n",
       "1.295776e+18    1\n",
       "Name: id, Length: 5113, dtype: int64"
      ]
     },
     "execution_count": 33,
     "metadata": {},
     "output_type": "execute_result"
    }
   ],
   "source": [
    "non_rep['id'].value_counts()"
   ]
  },
  {
   "cell_type": "code",
   "execution_count": 34,
   "metadata": {},
   "outputs": [],
   "source": [
    "non_rep = non_rep.drop_duplicates(['id']).reset_index(drop=True)"
   ]
  },
  {
   "cell_type": "code",
   "execution_count": 35,
   "metadata": {},
   "outputs": [
    {
     "data": {
      "text/plain": [
       "(5114, 3)"
      ]
     },
     "execution_count": 35,
     "metadata": {},
     "output_type": "execute_result"
    }
   ],
   "source": [
    "non_rep.shape"
   ]
  },
  {
   "cell_type": "markdown",
   "metadata": {},
   "source": [
    "##### is_quote_tweet --> True --> Non RT"
   ]
  },
  {
   "cell_type": "code",
   "execution_count": 36,
   "metadata": {},
   "outputs": [],
   "source": [
    "interim = data_en[np.where((data_en['is_quote_tweet']== True) & (data_en['RT_Flag']== False),True,False)].reset_index(drop=True)"
   ]
  },
  {
   "cell_type": "code",
   "execution_count": 37,
   "metadata": {},
   "outputs": [
    {
     "data": {
      "text/plain": [
       "(923, 41)"
      ]
     },
     "execution_count": 37,
     "metadata": {},
     "output_type": "execute_result"
    }
   ],
   "source": [
    "interim.shape"
   ]
  },
  {
   "cell_type": "code",
   "execution_count": 38,
   "metadata": {},
   "outputs": [],
   "source": [
    "interim['extended_tweet_full_text'] = np.where(~interim['truncated'],interim['text'],interim['extended_tweet_full_text'])"
   ]
  },
  {
   "cell_type": "code",
   "execution_count": 39,
   "metadata": {},
   "outputs": [
    {
     "data": {
      "text/html": [
       "<div>\n",
       "<style scoped>\n",
       "    .dataframe tbody tr th:only-of-type {\n",
       "        vertical-align: middle;\n",
       "    }\n",
       "\n",
       "    .dataframe tbody tr th {\n",
       "        vertical-align: top;\n",
       "    }\n",
       "\n",
       "    .dataframe thead th {\n",
       "        text-align: right;\n",
       "    }\n",
       "</style>\n",
       "<table border=\"1\" class=\"dataframe\">\n",
       "  <thead>\n",
       "    <tr style=\"text-align: right;\">\n",
       "      <th></th>\n",
       "      <th>text</th>\n",
       "      <th>extended_tweet_full_text</th>\n",
       "    </tr>\n",
       "  </thead>\n",
       "  <tbody>\n",
       "    <tr>\n",
       "      <th>0</th>\n",
       "      <td>The economic recovery that's unfolding before ...</td>\n",
       "      <td>The economic recovery that's unfolding before ...</td>\n",
       "    </tr>\n",
       "    <tr>\n",
       "      <th>1</th>\n",
       "      <td>This is where we launch the Little River Clean...</td>\n",
       "      <td>This is where we launch the Little River Clean...</td>\n",
       "    </tr>\n",
       "    <tr>\n",
       "      <th>2</th>\n",
       "      <td>Some good things to come out of the pandemic! ...</td>\n",
       "      <td>Some good things to come out of the pandemic! ...</td>\n",
       "    </tr>\n",
       "    <tr>\n",
       "      <th>3</th>\n",
       "      <td>Everything you don’t like is a “threat to our ...</td>\n",
       "      <td>Everything you don’t like is a “threat to our ...</td>\n",
       "    </tr>\n",
       "    <tr>\n",
       "      <th>4</th>\n",
       "      <td>Damn they let someone come with you doing Covi...</td>\n",
       "      <td>Damn they let someone come with you doing Covi...</td>\n",
       "    </tr>\n",
       "    <tr>\n",
       "      <th>...</th>\n",
       "      <td>...</td>\n",
       "      <td>...</td>\n",
       "    </tr>\n",
       "    <tr>\n",
       "      <th>918</th>\n",
       "      <td>49 deaths RECORDED in 2 weeks.</td>\n",
       "      <td>49 deaths RECORDED in 2 weeks.</td>\n",
       "    </tr>\n",
       "    <tr>\n",
       "      <th>919</th>\n",
       "      <td>Keep it up, my friend 😀</td>\n",
       "      <td>Keep it up, my friend 😀</td>\n",
       "    </tr>\n",
       "    <tr>\n",
       "      <th>920</th>\n",
       "      <td>Sir we pg medical students of knruhs requestin...</td>\n",
       "      <td>Sir we pg medical students of knruhs requestin...</td>\n",
       "    </tr>\n",
       "    <tr>\n",
       "      <th>921</th>\n",
       "      <td>Vote register pack a lunch , get a mask and st...</td>\n",
       "      <td>Vote register pack a lunch , get a mask and st...</td>\n",
       "    </tr>\n",
       "    <tr>\n",
       "      <th>922</th>\n",
       "      <td>I—-we ain’t never goin off quarantine</td>\n",
       "      <td>I—-we ain’t never goin off quarantine</td>\n",
       "    </tr>\n",
       "  </tbody>\n",
       "</table>\n",
       "<p>923 rows × 2 columns</p>\n",
       "</div>"
      ],
      "text/plain": [
       "                                                  text  \\\n",
       "0    The economic recovery that's unfolding before ...   \n",
       "1    This is where we launch the Little River Clean...   \n",
       "2    Some good things to come out of the pandemic! ...   \n",
       "3    Everything you don’t like is a “threat to our ...   \n",
       "4    Damn they let someone come with you doing Covi...   \n",
       "..                                                 ...   \n",
       "918                     49 deaths RECORDED in 2 weeks.   \n",
       "919                            Keep it up, my friend 😀   \n",
       "920  Sir we pg medical students of knruhs requestin...   \n",
       "921  Vote register pack a lunch , get a mask and st...   \n",
       "922              I—-we ain’t never goin off quarantine   \n",
       "\n",
       "                              extended_tweet_full_text  \n",
       "0    The economic recovery that's unfolding before ...  \n",
       "1    This is where we launch the Little River Clean...  \n",
       "2    Some good things to come out of the pandemic! ...  \n",
       "3    Everything you don’t like is a “threat to our ...  \n",
       "4    Damn they let someone come with you doing Covi...  \n",
       "..                                                 ...  \n",
       "918                     49 deaths RECORDED in 2 weeks.  \n",
       "919                            Keep it up, my friend 😀  \n",
       "920  Sir we pg medical students of knruhs requestin...  \n",
       "921  Vote register pack a lunch , get a mask and st...  \n",
       "922              I—-we ain’t never goin off quarantine  \n",
       "\n",
       "[923 rows x 2 columns]"
      ]
     },
     "execution_count": 39,
     "metadata": {},
     "output_type": "execute_result"
    }
   ],
   "source": [
    "interim[['text','extended_tweet_full_text']]"
   ]
  },
  {
   "cell_type": "code",
   "execution_count": 40,
   "metadata": {},
   "outputs": [],
   "source": [
    "interim = interim[['id','user_id','extended_tweet_full_text']]"
   ]
  },
  {
   "cell_type": "code",
   "execution_count": 41,
   "metadata": {},
   "outputs": [],
   "source": [
    "interim.columns = non_rep.columns"
   ]
  },
  {
   "cell_type": "code",
   "execution_count": 42,
   "metadata": {},
   "outputs": [
    {
     "data": {
      "text/plain": [
       "(923, 3)"
      ]
     },
     "execution_count": 42,
     "metadata": {},
     "output_type": "execute_result"
    }
   ],
   "source": [
    "interim.shape"
   ]
  },
  {
   "cell_type": "code",
   "execution_count": 43,
   "metadata": {},
   "outputs": [
    {
     "data": {
      "text/html": [
       "<div>\n",
       "<style scoped>\n",
       "    .dataframe tbody tr th:only-of-type {\n",
       "        vertical-align: middle;\n",
       "    }\n",
       "\n",
       "    .dataframe tbody tr th {\n",
       "        vertical-align: top;\n",
       "    }\n",
       "\n",
       "    .dataframe thead th {\n",
       "        text-align: right;\n",
       "    }\n",
       "</style>\n",
       "<table border=\"1\" class=\"dataframe\">\n",
       "  <thead>\n",
       "    <tr style=\"text-align: right;\">\n",
       "      <th></th>\n",
       "      <th>id</th>\n",
       "      <th>user_id</th>\n",
       "      <th>extended_tweet_full_text</th>\n",
       "    </tr>\n",
       "  </thead>\n",
       "  <tbody>\n",
       "    <tr>\n",
       "      <th>0</th>\n",
       "      <td>1295805210040897536</td>\n",
       "      <td>2559377299</td>\n",
       "      <td>The economic recovery that's unfolding before ...</td>\n",
       "    </tr>\n",
       "    <tr>\n",
       "      <th>1</th>\n",
       "      <td>1295805209923530763</td>\n",
       "      <td>1184132670999150592</td>\n",
       "      <td>This is where we launch the Little River Clean...</td>\n",
       "    </tr>\n",
       "    <tr>\n",
       "      <th>2</th>\n",
       "      <td>1295805211315904513</td>\n",
       "      <td>979188812529262592</td>\n",
       "      <td>Some good things to come out of the pandemic! ...</td>\n",
       "    </tr>\n",
       "    <tr>\n",
       "      <th>3</th>\n",
       "      <td>1295805211920015360</td>\n",
       "      <td>1118359980</td>\n",
       "      <td>Everything you don’t like is a “threat to our ...</td>\n",
       "    </tr>\n",
       "    <tr>\n",
       "      <th>4</th>\n",
       "      <td>1295805210758197248</td>\n",
       "      <td>2721123053</td>\n",
       "      <td>Damn they let someone come with you doing Covi...</td>\n",
       "    </tr>\n",
       "    <tr>\n",
       "      <th>...</th>\n",
       "      <td>...</td>\n",
       "      <td>...</td>\n",
       "      <td>...</td>\n",
       "    </tr>\n",
       "    <tr>\n",
       "      <th>918</th>\n",
       "      <td>1295806231983136768</td>\n",
       "      <td>58463472</td>\n",
       "      <td>49 deaths RECORDED in 2 weeks.</td>\n",
       "    </tr>\n",
       "    <tr>\n",
       "      <th>919</th>\n",
       "      <td>1295806233337790465</td>\n",
       "      <td>1166449700003811329</td>\n",
       "      <td>Keep it up, my friend 😀</td>\n",
       "    </tr>\n",
       "    <tr>\n",
       "      <th>920</th>\n",
       "      <td>1295806233673232384</td>\n",
       "      <td>1295803129347227648</td>\n",
       "      <td>Sir we pg medical students of knruhs requestin...</td>\n",
       "    </tr>\n",
       "    <tr>\n",
       "      <th>921</th>\n",
       "      <td>1295806233941770244</td>\n",
       "      <td>1269729626001231872</td>\n",
       "      <td>Vote register pack a lunch , get a mask and st...</td>\n",
       "    </tr>\n",
       "    <tr>\n",
       "      <th>922</th>\n",
       "      <td>1295806236068327424</td>\n",
       "      <td>869568408395943939</td>\n",
       "      <td>I—-we ain’t never goin off quarantine</td>\n",
       "    </tr>\n",
       "  </tbody>\n",
       "</table>\n",
       "<p>923 rows × 3 columns</p>\n",
       "</div>"
      ],
      "text/plain": [
       "                      id              user_id  \\\n",
       "0    1295805210040897536           2559377299   \n",
       "1    1295805209923530763  1184132670999150592   \n",
       "2    1295805211315904513   979188812529262592   \n",
       "3    1295805211920015360           1118359980   \n",
       "4    1295805210758197248           2721123053   \n",
       "..                   ...                  ...   \n",
       "918  1295806231983136768             58463472   \n",
       "919  1295806233337790465  1166449700003811329   \n",
       "920  1295806233673232384  1295803129347227648   \n",
       "921  1295806233941770244  1269729626001231872   \n",
       "922  1295806236068327424   869568408395943939   \n",
       "\n",
       "                              extended_tweet_full_text  \n",
       "0    The economic recovery that's unfolding before ...  \n",
       "1    This is where we launch the Little River Clean...  \n",
       "2    Some good things to come out of the pandemic! ...  \n",
       "3    Everything you don’t like is a “threat to our ...  \n",
       "4    Damn they let someone come with you doing Covi...  \n",
       "..                                                 ...  \n",
       "918                     49 deaths RECORDED in 2 weeks.  \n",
       "919                            Keep it up, my friend 😀  \n",
       "920  Sir we pg medical students of knruhs requestin...  \n",
       "921  Vote register pack a lunch , get a mask and st...  \n",
       "922              I—-we ain’t never goin off quarantine  \n",
       "\n",
       "[923 rows x 3 columns]"
      ]
     },
     "execution_count": 43,
     "metadata": {},
     "output_type": "execute_result"
    }
   ],
   "source": [
    "interim"
   ]
  },
  {
   "cell_type": "code",
   "execution_count": 44,
   "metadata": {},
   "outputs": [],
   "source": [
    "interim = interim.drop_duplicates(['id','user_id']).reset_index(drop=True)"
   ]
  },
  {
   "cell_type": "code",
   "execution_count": 45,
   "metadata": {},
   "outputs": [
    {
     "data": {
      "text/plain": [
       "(923, 3)"
      ]
     },
     "execution_count": 45,
     "metadata": {},
     "output_type": "execute_result"
    }
   ],
   "source": [
    "interim.shape"
   ]
  },
  {
   "cell_type": "code",
   "execution_count": 46,
   "metadata": {},
   "outputs": [],
   "source": [
    "non_rep = non_rep.append(interim,ignore_index=True)"
   ]
  },
  {
   "cell_type": "code",
   "execution_count": 47,
   "metadata": {},
   "outputs": [
    {
     "data": {
      "text/plain": [
       "(6037, 3)"
      ]
     },
     "execution_count": 47,
     "metadata": {},
     "output_type": "execute_result"
    }
   ],
   "source": [
    "non_rep.shape"
   ]
  },
  {
   "cell_type": "code",
   "execution_count": 48,
   "metadata": {},
   "outputs": [],
   "source": [
    "non_rep = non_rep.drop_duplicates(['id']).reset_index(drop=True)"
   ]
  },
  {
   "cell_type": "code",
   "execution_count": 49,
   "metadata": {},
   "outputs": [
    {
     "data": {
      "text/plain": [
       "(6036, 3)"
      ]
     },
     "execution_count": 49,
     "metadata": {},
     "output_type": "execute_result"
    }
   ],
   "source": [
    "non_rep.shape"
   ]
  },
  {
   "cell_type": "code",
   "execution_count": 50,
   "metadata": {},
   "outputs": [],
   "source": [
    "interim = data_en[np.where((data_en['is_quote_tweet']== True) & (data_en['RT_Flag']== False),True,False)].reset_index(drop=True)"
   ]
  },
  {
   "cell_type": "code",
   "execution_count": 51,
   "metadata": {},
   "outputs": [
    {
     "data": {
      "text/plain": [
       "(923, 41)"
      ]
     },
     "execution_count": 51,
     "metadata": {},
     "output_type": "execute_result"
    }
   ],
   "source": [
    "interim.shape"
   ]
  },
  {
   "cell_type": "code",
   "execution_count": 52,
   "metadata": {},
   "outputs": [
    {
     "data": {
      "text/html": [
       "<div>\n",
       "<style scoped>\n",
       "    .dataframe tbody tr th:only-of-type {\n",
       "        vertical-align: middle;\n",
       "    }\n",
       "\n",
       "    .dataframe tbody tr th {\n",
       "        vertical-align: top;\n",
       "    }\n",
       "\n",
       "    .dataframe thead th {\n",
       "        text-align: right;\n",
       "    }\n",
       "</style>\n",
       "<table border=\"1\" class=\"dataframe\">\n",
       "  <thead>\n",
       "    <tr style=\"text-align: right;\">\n",
       "      <th></th>\n",
       "      <th>QT_text</th>\n",
       "      <th>QT_full_text</th>\n",
       "    </tr>\n",
       "  </thead>\n",
       "  <tbody>\n",
       "    <tr>\n",
       "      <th>0</th>\n",
       "      <td>“Our forecast for the US economy ... reflects ...</td>\n",
       "      <td>“Our forecast for the US economy ... reflects ...</td>\n",
       "    </tr>\n",
       "    <tr>\n",
       "      <th>1</th>\n",
       "      <td>Miami Dade’s antiquated storm drain system dum...</td>\n",
       "      <td>Miami Dade’s antiquated storm drain system dum...</td>\n",
       "    </tr>\n",
       "    <tr>\n",
       "      <th>2</th>\n",
       "      <td>Our Department will be opening up many of its ...</td>\n",
       "      <td>Our Department will be opening up many of its ...</td>\n",
       "    </tr>\n",
       "    <tr>\n",
       "      <th>3</th>\n",
       "      <td>I’m on a call with @SenBobCasey and @PAAttorne...</td>\n",
       "      <td>I’m on a call with @SenBobCasey and @PAAttorne...</td>\n",
       "    </tr>\n",
       "    <tr>\n",
       "      <th>4</th>\n",
       "      <td>my bf never missed a apt❤️ except for today ca...</td>\n",
       "      <td>NaN</td>\n",
       "    </tr>\n",
       "    <tr>\n",
       "      <th>...</th>\n",
       "      <td>...</td>\n",
       "      <td>...</td>\n",
       "    </tr>\n",
       "    <tr>\n",
       "      <th>918</th>\n",
       "      <td>UPDATE: COVID-19 cases in Ghana\\n\\nConfirmed -...</td>\n",
       "      <td>NaN</td>\n",
       "    </tr>\n",
       "    <tr>\n",
       "      <th>919</th>\n",
       "      <td>Never thought I would see the day I was sharin...</td>\n",
       "      <td>Never thought I would see the day I was sharin...</td>\n",
       "    </tr>\n",
       "    <tr>\n",
       "      <th>920</th>\n",
       "      <td>కావాల్సిన మందులు, పరికరాలు, ఇంజక్షన్లు, వెంటిల...</td>\n",
       "      <td>కావాల్సిన మందులు, పరికరాలు, ఇంజక్షన్లు, వెంటిల...</td>\n",
       "    </tr>\n",
       "    <tr>\n",
       "      <th>921</th>\n",
       "      <td>@realDonaldTrump The Trump Virus is making Ame...</td>\n",
       "      <td>@realDonaldTrump The Trump Virus is making Ame...</td>\n",
       "    </tr>\n",
       "    <tr>\n",
       "      <th>922</th>\n",
       "      <td>Wuhan wave.\\n\\nPeople watch a performance as t...</td>\n",
       "      <td>NaN</td>\n",
       "    </tr>\n",
       "  </tbody>\n",
       "</table>\n",
       "<p>923 rows × 2 columns</p>\n",
       "</div>"
      ],
      "text/plain": [
       "                                               QT_text  \\\n",
       "0    “Our forecast for the US economy ... reflects ...   \n",
       "1    Miami Dade’s antiquated storm drain system dum...   \n",
       "2    Our Department will be opening up many of its ...   \n",
       "3    I’m on a call with @SenBobCasey and @PAAttorne...   \n",
       "4    my bf never missed a apt❤️ except for today ca...   \n",
       "..                                                 ...   \n",
       "918  UPDATE: COVID-19 cases in Ghana\\n\\nConfirmed -...   \n",
       "919  Never thought I would see the day I was sharin...   \n",
       "920  కావాల్సిన మందులు, పరికరాలు, ఇంజక్షన్లు, వెంటిల...   \n",
       "921  @realDonaldTrump The Trump Virus is making Ame...   \n",
       "922  Wuhan wave.\\n\\nPeople watch a performance as t...   \n",
       "\n",
       "                                          QT_full_text  \n",
       "0    “Our forecast for the US economy ... reflects ...  \n",
       "1    Miami Dade’s antiquated storm drain system dum...  \n",
       "2    Our Department will be opening up many of its ...  \n",
       "3    I’m on a call with @SenBobCasey and @PAAttorne...  \n",
       "4                                                  NaN  \n",
       "..                                                 ...  \n",
       "918                                                NaN  \n",
       "919  Never thought I would see the day I was sharin...  \n",
       "920  కావాల్సిన మందులు, పరికరాలు, ఇంజక్షన్లు, వెంటిల...  \n",
       "921  @realDonaldTrump The Trump Virus is making Ame...  \n",
       "922                                                NaN  \n",
       "\n",
       "[923 rows x 2 columns]"
      ]
     },
     "execution_count": 52,
     "metadata": {},
     "output_type": "execute_result"
    }
   ],
   "source": [
    "interim[['QT_text','QT_full_text']]"
   ]
  },
  {
   "cell_type": "code",
   "execution_count": 53,
   "metadata": {},
   "outputs": [],
   "source": [
    "interim['QT_full_text'] = np.where(interim['QT_full_text'].isna(),interim['QT_text'],interim['QT_full_text'])"
   ]
  },
  {
   "cell_type": "code",
   "execution_count": 54,
   "metadata": {},
   "outputs": [
    {
     "data": {
      "text/plain": [
       "(923, 41)"
      ]
     },
     "execution_count": 54,
     "metadata": {},
     "output_type": "execute_result"
    }
   ],
   "source": [
    "interim.shape"
   ]
  },
  {
   "cell_type": "code",
   "execution_count": 55,
   "metadata": {},
   "outputs": [
    {
     "data": {
      "text/html": [
       "<div>\n",
       "<style scoped>\n",
       "    .dataframe tbody tr th:only-of-type {\n",
       "        vertical-align: middle;\n",
       "    }\n",
       "\n",
       "    .dataframe tbody tr th {\n",
       "        vertical-align: top;\n",
       "    }\n",
       "\n",
       "    .dataframe thead th {\n",
       "        text-align: right;\n",
       "    }\n",
       "</style>\n",
       "<table border=\"1\" class=\"dataframe\">\n",
       "  <thead>\n",
       "    <tr style=\"text-align: right;\">\n",
       "      <th></th>\n",
       "      <th>QT_text</th>\n",
       "      <th>QT_full_text</th>\n",
       "    </tr>\n",
       "  </thead>\n",
       "  <tbody>\n",
       "    <tr>\n",
       "      <th>0</th>\n",
       "      <td>“Our forecast for the US economy ... reflects ...</td>\n",
       "      <td>“Our forecast for the US economy ... reflects ...</td>\n",
       "    </tr>\n",
       "    <tr>\n",
       "      <th>1</th>\n",
       "      <td>Miami Dade’s antiquated storm drain system dum...</td>\n",
       "      <td>Miami Dade’s antiquated storm drain system dum...</td>\n",
       "    </tr>\n",
       "    <tr>\n",
       "      <th>2</th>\n",
       "      <td>Our Department will be opening up many of its ...</td>\n",
       "      <td>Our Department will be opening up many of its ...</td>\n",
       "    </tr>\n",
       "    <tr>\n",
       "      <th>3</th>\n",
       "      <td>I’m on a call with @SenBobCasey and @PAAttorne...</td>\n",
       "      <td>I’m on a call with @SenBobCasey and @PAAttorne...</td>\n",
       "    </tr>\n",
       "    <tr>\n",
       "      <th>4</th>\n",
       "      <td>my bf never missed a apt❤️ except for today ca...</td>\n",
       "      <td>my bf never missed a apt❤️ except for today ca...</td>\n",
       "    </tr>\n",
       "    <tr>\n",
       "      <th>...</th>\n",
       "      <td>...</td>\n",
       "      <td>...</td>\n",
       "    </tr>\n",
       "    <tr>\n",
       "      <th>918</th>\n",
       "      <td>UPDATE: COVID-19 cases in Ghana\\n\\nConfirmed -...</td>\n",
       "      <td>UPDATE: COVID-19 cases in Ghana\\n\\nConfirmed -...</td>\n",
       "    </tr>\n",
       "    <tr>\n",
       "      <th>919</th>\n",
       "      <td>Never thought I would see the day I was sharin...</td>\n",
       "      <td>Never thought I would see the day I was sharin...</td>\n",
       "    </tr>\n",
       "    <tr>\n",
       "      <th>920</th>\n",
       "      <td>కావాల్సిన మందులు, పరికరాలు, ఇంజక్షన్లు, వెంటిల...</td>\n",
       "      <td>కావాల్సిన మందులు, పరికరాలు, ఇంజక్షన్లు, వెంటిల...</td>\n",
       "    </tr>\n",
       "    <tr>\n",
       "      <th>921</th>\n",
       "      <td>@realDonaldTrump The Trump Virus is making Ame...</td>\n",
       "      <td>@realDonaldTrump The Trump Virus is making Ame...</td>\n",
       "    </tr>\n",
       "    <tr>\n",
       "      <th>922</th>\n",
       "      <td>Wuhan wave.\\n\\nPeople watch a performance as t...</td>\n",
       "      <td>Wuhan wave.\\n\\nPeople watch a performance as t...</td>\n",
       "    </tr>\n",
       "  </tbody>\n",
       "</table>\n",
       "<p>923 rows × 2 columns</p>\n",
       "</div>"
      ],
      "text/plain": [
       "                                               QT_text  \\\n",
       "0    “Our forecast for the US economy ... reflects ...   \n",
       "1    Miami Dade’s antiquated storm drain system dum...   \n",
       "2    Our Department will be opening up many of its ...   \n",
       "3    I’m on a call with @SenBobCasey and @PAAttorne...   \n",
       "4    my bf never missed a apt❤️ except for today ca...   \n",
       "..                                                 ...   \n",
       "918  UPDATE: COVID-19 cases in Ghana\\n\\nConfirmed -...   \n",
       "919  Never thought I would see the day I was sharin...   \n",
       "920  కావాల్సిన మందులు, పరికరాలు, ఇంజక్షన్లు, వెంటిల...   \n",
       "921  @realDonaldTrump The Trump Virus is making Ame...   \n",
       "922  Wuhan wave.\\n\\nPeople watch a performance as t...   \n",
       "\n",
       "                                          QT_full_text  \n",
       "0    “Our forecast for the US economy ... reflects ...  \n",
       "1    Miami Dade’s antiquated storm drain system dum...  \n",
       "2    Our Department will be opening up many of its ...  \n",
       "3    I’m on a call with @SenBobCasey and @PAAttorne...  \n",
       "4    my bf never missed a apt❤️ except for today ca...  \n",
       "..                                                 ...  \n",
       "918  UPDATE: COVID-19 cases in Ghana\\n\\nConfirmed -...  \n",
       "919  Never thought I would see the day I was sharin...  \n",
       "920  కావాల్సిన మందులు, పరికరాలు, ఇంజక్షన్లు, వెంటిల...  \n",
       "921  @realDonaldTrump The Trump Virus is making Ame...  \n",
       "922  Wuhan wave.\\n\\nPeople watch a performance as t...  \n",
       "\n",
       "[923 rows x 2 columns]"
      ]
     },
     "execution_count": 55,
     "metadata": {},
     "output_type": "execute_result"
    }
   ],
   "source": [
    "interim[['QT_text','QT_full_text']]"
   ]
  },
  {
   "cell_type": "code",
   "execution_count": 56,
   "metadata": {},
   "outputs": [],
   "source": [
    "interim = interim[['QT_id','QT_user_id','QT_full_text']]"
   ]
  },
  {
   "cell_type": "code",
   "execution_count": 57,
   "metadata": {
    "scrolled": true
   },
   "outputs": [],
   "source": [
    "interim.columns = non_rep.columns"
   ]
  },
  {
   "cell_type": "code",
   "execution_count": 58,
   "metadata": {},
   "outputs": [
    {
     "data": {
      "text/html": [
       "<div>\n",
       "<style scoped>\n",
       "    .dataframe tbody tr th:only-of-type {\n",
       "        vertical-align: middle;\n",
       "    }\n",
       "\n",
       "    .dataframe tbody tr th {\n",
       "        vertical-align: top;\n",
       "    }\n",
       "\n",
       "    .dataframe thead th {\n",
       "        text-align: right;\n",
       "    }\n",
       "</style>\n",
       "<table border=\"1\" class=\"dataframe\">\n",
       "  <thead>\n",
       "    <tr style=\"text-align: right;\">\n",
       "      <th></th>\n",
       "      <th>id</th>\n",
       "      <th>user_id</th>\n",
       "      <th>extended_tweet_full_text</th>\n",
       "    </tr>\n",
       "  </thead>\n",
       "  <tbody>\n",
       "    <tr>\n",
       "      <th>0</th>\n",
       "      <td>1.295798e+18</td>\n",
       "      <td>3.988421e+08</td>\n",
       "      <td>“Our forecast for the US economy ... reflects ...</td>\n",
       "    </tr>\n",
       "    <tr>\n",
       "      <th>1</th>\n",
       "      <td>1.295572e+18</td>\n",
       "      <td>5.881261e+07</td>\n",
       "      <td>Miami Dade’s antiquated storm drain system dum...</td>\n",
       "    </tr>\n",
       "    <tr>\n",
       "      <th>2</th>\n",
       "      <td>1.295707e+18</td>\n",
       "      <td>7.054442e+17</td>\n",
       "      <td>Our Department will be opening up many of its ...</td>\n",
       "    </tr>\n",
       "    <tr>\n",
       "      <th>3</th>\n",
       "      <td>1.295789e+18</td>\n",
       "      <td>2.978838e+09</td>\n",
       "      <td>I’m on a call with @SenBobCasey and @PAAttorne...</td>\n",
       "    </tr>\n",
       "    <tr>\n",
       "      <th>4</th>\n",
       "      <td>1.295805e+18</td>\n",
       "      <td>1.245075e+18</td>\n",
       "      <td>my bf never missed a apt❤️ except for today ca...</td>\n",
       "    </tr>\n",
       "    <tr>\n",
       "      <th>...</th>\n",
       "      <td>...</td>\n",
       "      <td>...</td>\n",
       "      <td>...</td>\n",
       "    </tr>\n",
       "    <tr>\n",
       "      <th>918</th>\n",
       "      <td>1.295805e+18</td>\n",
       "      <td>1.200873e+18</td>\n",
       "      <td>UPDATE: COVID-19 cases in Ghana\\n\\nConfirmed -...</td>\n",
       "    </tr>\n",
       "    <tr>\n",
       "      <th>919</th>\n",
       "      <td>1.295721e+18</td>\n",
       "      <td>1.207341e+18</td>\n",
       "      <td>Never thought I would see the day I was sharin...</td>\n",
       "    </tr>\n",
       "    <tr>\n",
       "      <th>920</th>\n",
       "      <td>1.295729e+18</td>\n",
       "      <td>2.558684e+09</td>\n",
       "      <td>కావాల్సిన మందులు, పరికరాలు, ఇంజక్షన్లు, వెంటిల...</td>\n",
       "    </tr>\n",
       "    <tr>\n",
       "      <th>921</th>\n",
       "      <td>1.295793e+18</td>\n",
       "      <td>1.225147e+18</td>\n",
       "      <td>@realDonaldTrump The Trump Virus is making Ame...</td>\n",
       "    </tr>\n",
       "    <tr>\n",
       "      <th>922</th>\n",
       "      <td>1.295256e+18</td>\n",
       "      <td>3.806486e+08</td>\n",
       "      <td>Wuhan wave.\\n\\nPeople watch a performance as t...</td>\n",
       "    </tr>\n",
       "  </tbody>\n",
       "</table>\n",
       "<p>923 rows × 3 columns</p>\n",
       "</div>"
      ],
      "text/plain": [
       "               id       user_id  \\\n",
       "0    1.295798e+18  3.988421e+08   \n",
       "1    1.295572e+18  5.881261e+07   \n",
       "2    1.295707e+18  7.054442e+17   \n",
       "3    1.295789e+18  2.978838e+09   \n",
       "4    1.295805e+18  1.245075e+18   \n",
       "..            ...           ...   \n",
       "918  1.295805e+18  1.200873e+18   \n",
       "919  1.295721e+18  1.207341e+18   \n",
       "920  1.295729e+18  2.558684e+09   \n",
       "921  1.295793e+18  1.225147e+18   \n",
       "922  1.295256e+18  3.806486e+08   \n",
       "\n",
       "                              extended_tweet_full_text  \n",
       "0    “Our forecast for the US economy ... reflects ...  \n",
       "1    Miami Dade’s antiquated storm drain system dum...  \n",
       "2    Our Department will be opening up many of its ...  \n",
       "3    I’m on a call with @SenBobCasey and @PAAttorne...  \n",
       "4    my bf never missed a apt❤️ except for today ca...  \n",
       "..                                                 ...  \n",
       "918  UPDATE: COVID-19 cases in Ghana\\n\\nConfirmed -...  \n",
       "919  Never thought I would see the day I was sharin...  \n",
       "920  కావాల్సిన మందులు, పరికరాలు, ఇంజక్షన్లు, వెంటిల...  \n",
       "921  @realDonaldTrump The Trump Virus is making Ame...  \n",
       "922  Wuhan wave.\\n\\nPeople watch a performance as t...  \n",
       "\n",
       "[923 rows x 3 columns]"
      ]
     },
     "execution_count": 58,
     "metadata": {},
     "output_type": "execute_result"
    }
   ],
   "source": [
    "interim"
   ]
  },
  {
   "cell_type": "code",
   "execution_count": 59,
   "metadata": {},
   "outputs": [],
   "source": [
    "interim = interim.drop_duplicates(['id','user_id']).reset_index(drop=True)"
   ]
  },
  {
   "cell_type": "code",
   "execution_count": 60,
   "metadata": {},
   "outputs": [
    {
     "data": {
      "text/plain": [
       "(680, 3)"
      ]
     },
     "execution_count": 60,
     "metadata": {},
     "output_type": "execute_result"
    }
   ],
   "source": [
    "interim.shape"
   ]
  },
  {
   "cell_type": "code",
   "execution_count": 61,
   "metadata": {},
   "outputs": [],
   "source": [
    "non_rep = non_rep.append(interim,ignore_index=True)"
   ]
  },
  {
   "cell_type": "code",
   "execution_count": 62,
   "metadata": {},
   "outputs": [
    {
     "data": {
      "text/plain": [
       "(6716, 3)"
      ]
     },
     "execution_count": 62,
     "metadata": {},
     "output_type": "execute_result"
    }
   ],
   "source": [
    "non_rep.shape"
   ]
  },
  {
   "cell_type": "code",
   "execution_count": 63,
   "metadata": {},
   "outputs": [],
   "source": [
    "non_rep = non_rep.drop_duplicates(['id']).reset_index(drop=True)"
   ]
  },
  {
   "cell_type": "code",
   "execution_count": 64,
   "metadata": {},
   "outputs": [
    {
     "data": {
      "text/plain": [
       "(6553, 3)"
      ]
     },
     "execution_count": 64,
     "metadata": {},
     "output_type": "execute_result"
    }
   ],
   "source": [
    "non_rep.shape"
   ]
  },
  {
   "cell_type": "markdown",
   "metadata": {},
   "source": [
    "##### is_quote_tweet --> True --> RT"
   ]
  },
  {
   "cell_type": "code",
   "execution_count": 65,
   "metadata": {},
   "outputs": [],
   "source": [
    "interim = data_en[np.where((data_en['is_quote_tweet']== True) & (data_en['RT_Flag']== True),True,False)].reset_index(drop=True)"
   ]
  },
  {
   "cell_type": "code",
   "execution_count": 66,
   "metadata": {},
   "outputs": [
    {
     "data": {
      "text/plain": [
       "(1764, 41)"
      ]
     },
     "execution_count": 66,
     "metadata": {},
     "output_type": "execute_result"
    }
   ],
   "source": [
    "interim.shape"
   ]
  },
  {
   "cell_type": "code",
   "execution_count": 67,
   "metadata": {},
   "outputs": [
    {
     "data": {
      "text/html": [
       "<div>\n",
       "<style scoped>\n",
       "    .dataframe tbody tr th:only-of-type {\n",
       "        vertical-align: middle;\n",
       "    }\n",
       "\n",
       "    .dataframe tbody tr th {\n",
       "        vertical-align: top;\n",
       "    }\n",
       "\n",
       "    .dataframe thead th {\n",
       "        text-align: right;\n",
       "    }\n",
       "</style>\n",
       "<table border=\"1\" class=\"dataframe\">\n",
       "  <thead>\n",
       "    <tr style=\"text-align: right;\">\n",
       "      <th></th>\n",
       "      <th>RT_text</th>\n",
       "      <th>RT_full_text</th>\n",
       "    </tr>\n",
       "  </thead>\n",
       "  <tbody>\n",
       "    <tr>\n",
       "      <th>0</th>\n",
       "      <td>Biden thanks Cuomo. The AP recently estimated ...</td>\n",
       "      <td>Biden thanks Cuomo. The AP recently estimated ...</td>\n",
       "    </tr>\n",
       "    <tr>\n",
       "      <th>1</th>\n",
       "      <td>Nothing that includes men at night is worth it</td>\n",
       "      <td>NaN</td>\n",
       "    </tr>\n",
       "    <tr>\n",
       "      <th>2</th>\n",
       "      <td>.If they can't count tests properly, how can t...</td>\n",
       "      <td>NaN</td>\n",
       "    </tr>\n",
       "    <tr>\n",
       "      <th>3</th>\n",
       "      <td>Remember..Kim Klacik's husband Jeff Klacik is ...</td>\n",
       "      <td>Remember..Kim Klacik's husband Jeff Klacik is ...</td>\n",
       "    </tr>\n",
       "    <tr>\n",
       "      <th>4</th>\n",
       "      <td>The “I want female rappers with substance” cro...</td>\n",
       "      <td>NaN</td>\n",
       "    </tr>\n",
       "    <tr>\n",
       "      <th>...</th>\n",
       "      <td>...</td>\n",
       "      <td>...</td>\n",
       "    </tr>\n",
       "    <tr>\n",
       "      <th>1759</th>\n",
       "      <td>@drharshvardhan @myogiadityanath @republic @Re...</td>\n",
       "      <td>@drharshvardhan @myogiadityanath @republic @Re...</td>\n",
       "    </tr>\n",
       "    <tr>\n",
       "      <th>1760</th>\n",
       "      <td>Join us tonight at 8pm! Let's talk about back ...</td>\n",
       "      <td>NaN</td>\n",
       "    </tr>\n",
       "    <tr>\n",
       "      <th>1761</th>\n",
       "      <td>How BLOODY CORRUPT doe's it have to be, Wuhan ...</td>\n",
       "      <td>NaN</td>\n",
       "    </tr>\n",
       "    <tr>\n",
       "      <th>1762</th>\n",
       "      <td>More than 10,000 Texans have died from covid, ...</td>\n",
       "      <td>More than 10,000 Texans have died from covid, ...</td>\n",
       "    </tr>\n",
       "    <tr>\n",
       "      <th>1763</th>\n",
       "      <td>Freeport need a hospital ASAP\\n\\nRehire all ju...</td>\n",
       "      <td>Freeport need a hospital ASAP\\n\\nRehire all ju...</td>\n",
       "    </tr>\n",
       "  </tbody>\n",
       "</table>\n",
       "<p>1764 rows × 2 columns</p>\n",
       "</div>"
      ],
      "text/plain": [
       "                                                RT_text  \\\n",
       "0     Biden thanks Cuomo. The AP recently estimated ...   \n",
       "1        Nothing that includes men at night is worth it   \n",
       "2     .If they can't count tests properly, how can t...   \n",
       "3     Remember..Kim Klacik's husband Jeff Klacik is ...   \n",
       "4     The “I want female rappers with substance” cro...   \n",
       "...                                                 ...   \n",
       "1759  @drharshvardhan @myogiadityanath @republic @Re...   \n",
       "1760  Join us tonight at 8pm! Let's talk about back ...   \n",
       "1761  How BLOODY CORRUPT doe's it have to be, Wuhan ...   \n",
       "1762  More than 10,000 Texans have died from covid, ...   \n",
       "1763  Freeport need a hospital ASAP\\n\\nRehire all ju...   \n",
       "\n",
       "                                           RT_full_text  \n",
       "0     Biden thanks Cuomo. The AP recently estimated ...  \n",
       "1                                                   NaN  \n",
       "2                                                   NaN  \n",
       "3     Remember..Kim Klacik's husband Jeff Klacik is ...  \n",
       "4                                                   NaN  \n",
       "...                                                 ...  \n",
       "1759  @drharshvardhan @myogiadityanath @republic @Re...  \n",
       "1760                                                NaN  \n",
       "1761                                                NaN  \n",
       "1762  More than 10,000 Texans have died from covid, ...  \n",
       "1763  Freeport need a hospital ASAP\\n\\nRehire all ju...  \n",
       "\n",
       "[1764 rows x 2 columns]"
      ]
     },
     "execution_count": 67,
     "metadata": {},
     "output_type": "execute_result"
    }
   ],
   "source": [
    "interim[['RT_text','RT_full_text']]"
   ]
  },
  {
   "cell_type": "code",
   "execution_count": 68,
   "metadata": {},
   "outputs": [],
   "source": [
    "interim['RT_full_text'] = np.where(interim['RT_full_text'].isna(),interim['RT_text'],interim['RT_full_text'])"
   ]
  },
  {
   "cell_type": "code",
   "execution_count": 69,
   "metadata": {},
   "outputs": [
    {
     "data": {
      "text/plain": [
       "(1764, 41)"
      ]
     },
     "execution_count": 69,
     "metadata": {},
     "output_type": "execute_result"
    }
   ],
   "source": [
    "interim.shape"
   ]
  },
  {
   "cell_type": "code",
   "execution_count": 70,
   "metadata": {},
   "outputs": [
    {
     "data": {
      "text/html": [
       "<div>\n",
       "<style scoped>\n",
       "    .dataframe tbody tr th:only-of-type {\n",
       "        vertical-align: middle;\n",
       "    }\n",
       "\n",
       "    .dataframe tbody tr th {\n",
       "        vertical-align: top;\n",
       "    }\n",
       "\n",
       "    .dataframe thead th {\n",
       "        text-align: right;\n",
       "    }\n",
       "</style>\n",
       "<table border=\"1\" class=\"dataframe\">\n",
       "  <thead>\n",
       "    <tr style=\"text-align: right;\">\n",
       "      <th></th>\n",
       "      <th>RT_text</th>\n",
       "      <th>RT_full_text</th>\n",
       "    </tr>\n",
       "  </thead>\n",
       "  <tbody>\n",
       "    <tr>\n",
       "      <th>0</th>\n",
       "      <td>Biden thanks Cuomo. The AP recently estimated ...</td>\n",
       "      <td>Biden thanks Cuomo. The AP recently estimated ...</td>\n",
       "    </tr>\n",
       "    <tr>\n",
       "      <th>1</th>\n",
       "      <td>Nothing that includes men at night is worth it</td>\n",
       "      <td>Nothing that includes men at night is worth it</td>\n",
       "    </tr>\n",
       "    <tr>\n",
       "      <th>2</th>\n",
       "      <td>.If they can't count tests properly, how can t...</td>\n",
       "      <td>.If they can't count tests properly, how can t...</td>\n",
       "    </tr>\n",
       "    <tr>\n",
       "      <th>3</th>\n",
       "      <td>Remember..Kim Klacik's husband Jeff Klacik is ...</td>\n",
       "      <td>Remember..Kim Klacik's husband Jeff Klacik is ...</td>\n",
       "    </tr>\n",
       "    <tr>\n",
       "      <th>4</th>\n",
       "      <td>The “I want female rappers with substance” cro...</td>\n",
       "      <td>The “I want female rappers with substance” cro...</td>\n",
       "    </tr>\n",
       "    <tr>\n",
       "      <th>...</th>\n",
       "      <td>...</td>\n",
       "      <td>...</td>\n",
       "    </tr>\n",
       "    <tr>\n",
       "      <th>1759</th>\n",
       "      <td>@drharshvardhan @myogiadityanath @republic @Re...</td>\n",
       "      <td>@drharshvardhan @myogiadityanath @republic @Re...</td>\n",
       "    </tr>\n",
       "    <tr>\n",
       "      <th>1760</th>\n",
       "      <td>Join us tonight at 8pm! Let's talk about back ...</td>\n",
       "      <td>Join us tonight at 8pm! Let's talk about back ...</td>\n",
       "    </tr>\n",
       "    <tr>\n",
       "      <th>1761</th>\n",
       "      <td>How BLOODY CORRUPT doe's it have to be, Wuhan ...</td>\n",
       "      <td>How BLOODY CORRUPT doe's it have to be, Wuhan ...</td>\n",
       "    </tr>\n",
       "    <tr>\n",
       "      <th>1762</th>\n",
       "      <td>More than 10,000 Texans have died from covid, ...</td>\n",
       "      <td>More than 10,000 Texans have died from covid, ...</td>\n",
       "    </tr>\n",
       "    <tr>\n",
       "      <th>1763</th>\n",
       "      <td>Freeport need a hospital ASAP\\n\\nRehire all ju...</td>\n",
       "      <td>Freeport need a hospital ASAP\\n\\nRehire all ju...</td>\n",
       "    </tr>\n",
       "  </tbody>\n",
       "</table>\n",
       "<p>1764 rows × 2 columns</p>\n",
       "</div>"
      ],
      "text/plain": [
       "                                                RT_text  \\\n",
       "0     Biden thanks Cuomo. The AP recently estimated ...   \n",
       "1        Nothing that includes men at night is worth it   \n",
       "2     .If they can't count tests properly, how can t...   \n",
       "3     Remember..Kim Klacik's husband Jeff Klacik is ...   \n",
       "4     The “I want female rappers with substance” cro...   \n",
       "...                                                 ...   \n",
       "1759  @drharshvardhan @myogiadityanath @republic @Re...   \n",
       "1760  Join us tonight at 8pm! Let's talk about back ...   \n",
       "1761  How BLOODY CORRUPT doe's it have to be, Wuhan ...   \n",
       "1762  More than 10,000 Texans have died from covid, ...   \n",
       "1763  Freeport need a hospital ASAP\\n\\nRehire all ju...   \n",
       "\n",
       "                                           RT_full_text  \n",
       "0     Biden thanks Cuomo. The AP recently estimated ...  \n",
       "1        Nothing that includes men at night is worth it  \n",
       "2     .If they can't count tests properly, how can t...  \n",
       "3     Remember..Kim Klacik's husband Jeff Klacik is ...  \n",
       "4     The “I want female rappers with substance” cro...  \n",
       "...                                                 ...  \n",
       "1759  @drharshvardhan @myogiadityanath @republic @Re...  \n",
       "1760  Join us tonight at 8pm! Let's talk about back ...  \n",
       "1761  How BLOODY CORRUPT doe's it have to be, Wuhan ...  \n",
       "1762  More than 10,000 Texans have died from covid, ...  \n",
       "1763  Freeport need a hospital ASAP\\n\\nRehire all ju...  \n",
       "\n",
       "[1764 rows x 2 columns]"
      ]
     },
     "execution_count": 70,
     "metadata": {},
     "output_type": "execute_result"
    }
   ],
   "source": [
    "interim[['RT_text','RT_full_text']]"
   ]
  },
  {
   "cell_type": "code",
   "execution_count": 71,
   "metadata": {},
   "outputs": [],
   "source": [
    "interim = interim[['RT_id','RT_user_id','RT_full_text']]"
   ]
  },
  {
   "cell_type": "code",
   "execution_count": 72,
   "metadata": {},
   "outputs": [],
   "source": [
    "interim.columns = non_rep.columns"
   ]
  },
  {
   "cell_type": "code",
   "execution_count": 73,
   "metadata": {},
   "outputs": [
    {
     "data": {
      "text/html": [
       "<div>\n",
       "<style scoped>\n",
       "    .dataframe tbody tr th:only-of-type {\n",
       "        vertical-align: middle;\n",
       "    }\n",
       "\n",
       "    .dataframe tbody tr th {\n",
       "        vertical-align: top;\n",
       "    }\n",
       "\n",
       "    .dataframe thead th {\n",
       "        text-align: right;\n",
       "    }\n",
       "</style>\n",
       "<table border=\"1\" class=\"dataframe\">\n",
       "  <thead>\n",
       "    <tr style=\"text-align: right;\">\n",
       "      <th></th>\n",
       "      <th>id</th>\n",
       "      <th>user_id</th>\n",
       "      <th>extended_tweet_full_text</th>\n",
       "    </tr>\n",
       "  </thead>\n",
       "  <tbody>\n",
       "    <tr>\n",
       "      <th>0</th>\n",
       "      <td>1.295540e+18</td>\n",
       "      <td>5.919733e+08</td>\n",
       "      <td>Biden thanks Cuomo. The AP recently estimated ...</td>\n",
       "    </tr>\n",
       "    <tr>\n",
       "      <th>1</th>\n",
       "      <td>1.295752e+18</td>\n",
       "      <td>1.699632e+09</td>\n",
       "      <td>Nothing that includes men at night is worth it</td>\n",
       "    </tr>\n",
       "    <tr>\n",
       "      <th>2</th>\n",
       "      <td>1.295743e+18</td>\n",
       "      <td>1.254551e+08</td>\n",
       "      <td>.If they can't count tests properly, how can t...</td>\n",
       "    </tr>\n",
       "    <tr>\n",
       "      <th>3</th>\n",
       "      <td>1.295800e+18</td>\n",
       "      <td>1.694849e+07</td>\n",
       "      <td>Remember..Kim Klacik's husband Jeff Klacik is ...</td>\n",
       "    </tr>\n",
       "    <tr>\n",
       "      <th>4</th>\n",
       "      <td>1.295401e+18</td>\n",
       "      <td>2.975633e+07</td>\n",
       "      <td>The “I want female rappers with substance” cro...</td>\n",
       "    </tr>\n",
       "    <tr>\n",
       "      <th>...</th>\n",
       "      <td>...</td>\n",
       "      <td>...</td>\n",
       "      <td>...</td>\n",
       "    </tr>\n",
       "    <tr>\n",
       "      <th>1759</th>\n",
       "      <td>1.295806e+18</td>\n",
       "      <td>1.247131e+18</td>\n",
       "      <td>@drharshvardhan @myogiadityanath @republic @Re...</td>\n",
       "    </tr>\n",
       "    <tr>\n",
       "      <th>1760</th>\n",
       "      <td>1.295782e+18</td>\n",
       "      <td>5.495877e+08</td>\n",
       "      <td>Join us tonight at 8pm! Let's talk about back ...</td>\n",
       "    </tr>\n",
       "    <tr>\n",
       "      <th>1761</th>\n",
       "      <td>1.295723e+18</td>\n",
       "      <td>1.249334e+18</td>\n",
       "      <td>How BLOODY CORRUPT doe's it have to be, Wuhan ...</td>\n",
       "    </tr>\n",
       "    <tr>\n",
       "      <th>1762</th>\n",
       "      <td>1.295806e+18</td>\n",
       "      <td>3.428633e+08</td>\n",
       "      <td>More than 10,000 Texans have died from covid, ...</td>\n",
       "    </tr>\n",
       "    <tr>\n",
       "      <th>1763</th>\n",
       "      <td>1.295778e+18</td>\n",
       "      <td>7.660720e+17</td>\n",
       "      <td>Freeport need a hospital ASAP\\n\\nRehire all ju...</td>\n",
       "    </tr>\n",
       "  </tbody>\n",
       "</table>\n",
       "<p>1764 rows × 3 columns</p>\n",
       "</div>"
      ],
      "text/plain": [
       "                id       user_id  \\\n",
       "0     1.295540e+18  5.919733e+08   \n",
       "1     1.295752e+18  1.699632e+09   \n",
       "2     1.295743e+18  1.254551e+08   \n",
       "3     1.295800e+18  1.694849e+07   \n",
       "4     1.295401e+18  2.975633e+07   \n",
       "...            ...           ...   \n",
       "1759  1.295806e+18  1.247131e+18   \n",
       "1760  1.295782e+18  5.495877e+08   \n",
       "1761  1.295723e+18  1.249334e+18   \n",
       "1762  1.295806e+18  3.428633e+08   \n",
       "1763  1.295778e+18  7.660720e+17   \n",
       "\n",
       "                               extended_tweet_full_text  \n",
       "0     Biden thanks Cuomo. The AP recently estimated ...  \n",
       "1        Nothing that includes men at night is worth it  \n",
       "2     .If they can't count tests properly, how can t...  \n",
       "3     Remember..Kim Klacik's husband Jeff Klacik is ...  \n",
       "4     The “I want female rappers with substance” cro...  \n",
       "...                                                 ...  \n",
       "1759  @drharshvardhan @myogiadityanath @republic @Re...  \n",
       "1760  Join us tonight at 8pm! Let's talk about back ...  \n",
       "1761  How BLOODY CORRUPT doe's it have to be, Wuhan ...  \n",
       "1762  More than 10,000 Texans have died from covid, ...  \n",
       "1763  Freeport need a hospital ASAP\\n\\nRehire all ju...  \n",
       "\n",
       "[1764 rows x 3 columns]"
      ]
     },
     "execution_count": 73,
     "metadata": {},
     "output_type": "execute_result"
    }
   ],
   "source": [
    "interim"
   ]
  },
  {
   "cell_type": "code",
   "execution_count": 74,
   "metadata": {},
   "outputs": [],
   "source": [
    "interim = interim.drop_duplicates(['id','user_id']).reset_index(drop=True)"
   ]
  },
  {
   "cell_type": "code",
   "execution_count": 75,
   "metadata": {},
   "outputs": [
    {
     "data": {
      "text/plain": [
       "(812, 3)"
      ]
     },
     "execution_count": 75,
     "metadata": {},
     "output_type": "execute_result"
    }
   ],
   "source": [
    "interim.shape"
   ]
  },
  {
   "cell_type": "code",
   "execution_count": 76,
   "metadata": {},
   "outputs": [],
   "source": [
    "non_rep = non_rep.append(interim,ignore_index=True)"
   ]
  },
  {
   "cell_type": "code",
   "execution_count": 77,
   "metadata": {},
   "outputs": [
    {
     "data": {
      "text/plain": [
       "(7365, 3)"
      ]
     },
     "execution_count": 77,
     "metadata": {},
     "output_type": "execute_result"
    }
   ],
   "source": [
    "non_rep.shape"
   ]
  },
  {
   "cell_type": "code",
   "execution_count": 78,
   "metadata": {},
   "outputs": [],
   "source": [
    "non_rep = non_rep.drop_duplicates(['id']).reset_index(drop=True)"
   ]
  },
  {
   "cell_type": "code",
   "execution_count": 79,
   "metadata": {},
   "outputs": [
    {
     "data": {
      "text/plain": [
       "(7297, 3)"
      ]
     },
     "execution_count": 79,
     "metadata": {},
     "output_type": "execute_result"
    }
   ],
   "source": [
    "non_rep.shape"
   ]
  },
  {
   "cell_type": "code",
   "execution_count": 80,
   "metadata": {},
   "outputs": [],
   "source": [
    "interim = data_en[np.where((data_en['is_quote_tweet']== True) & (data_en['RT_Flag']== True),True,False)].reset_index(drop=True)"
   ]
  },
  {
   "cell_type": "code",
   "execution_count": 81,
   "metadata": {},
   "outputs": [
    {
     "data": {
      "text/plain": [
       "(1764, 41)"
      ]
     },
     "execution_count": 81,
     "metadata": {},
     "output_type": "execute_result"
    }
   ],
   "source": [
    "interim.shape"
   ]
  },
  {
   "cell_type": "code",
   "execution_count": 82,
   "metadata": {},
   "outputs": [
    {
     "data": {
      "text/html": [
       "<div>\n",
       "<style scoped>\n",
       "    .dataframe tbody tr th:only-of-type {\n",
       "        vertical-align: middle;\n",
       "    }\n",
       "\n",
       "    .dataframe tbody tr th {\n",
       "        vertical-align: top;\n",
       "    }\n",
       "\n",
       "    .dataframe thead th {\n",
       "        text-align: right;\n",
       "    }\n",
       "</style>\n",
       "<table border=\"1\" class=\"dataframe\">\n",
       "  <thead>\n",
       "    <tr style=\"text-align: right;\">\n",
       "      <th></th>\n",
       "      <th>QT_text</th>\n",
       "      <th>QT_full_text</th>\n",
       "    </tr>\n",
       "  </thead>\n",
       "  <tbody>\n",
       "    <tr>\n",
       "      <th>0</th>\n",
       "      <td>.@AndrewCuomo, thank you for your leadership a...</td>\n",
       "      <td>.@AndrewCuomo, thank you for your leadership a...</td>\n",
       "    </tr>\n",
       "    <tr>\n",
       "      <th>1</th>\n",
       "      <td>Gold Reef City  would make the money they’ve l...</td>\n",
       "      <td>NaN</td>\n",
       "    </tr>\n",
       "    <tr>\n",
       "      <th>2</th>\n",
       "      <td>North Carolina is now reporting they OVERCOUNT...</td>\n",
       "      <td>NaN</td>\n",
       "    </tr>\n",
       "    <tr>\n",
       "      <th>3</th>\n",
       "      <td>Data shows a low % of children in single paren...</td>\n",
       "      <td>Data shows a low % of children in single paren...</td>\n",
       "    </tr>\n",
       "    <tr>\n",
       "      <th>4</th>\n",
       "      <td>Watch @iamCardiB and @JoeBiden talk police bru...</td>\n",
       "      <td>NaN</td>\n",
       "    </tr>\n",
       "    <tr>\n",
       "      <th>...</th>\n",
       "      <td>...</td>\n",
       "      <td>...</td>\n",
       "    </tr>\n",
       "    <tr>\n",
       "      <th>1759</th>\n",
       "      <td>Lakhs of students asking you for NOT taking Ex...</td>\n",
       "      <td>Lakhs of students asking you for NOT taking Ex...</td>\n",
       "    </tr>\n",
       "    <tr>\n",
       "      <th>1760</th>\n",
       "      <td>Join us Tuesday for an important back-to-schoo...</td>\n",
       "      <td>NaN</td>\n",
       "    </tr>\n",
       "    <tr>\n",
       "      <th>1761</th>\n",
       "      <td>Due to the laughable \"recount\" of deaths in th...</td>\n",
       "      <td>Due to the laughable \"recount\" of deaths in th...</td>\n",
       "    </tr>\n",
       "    <tr>\n",
       "      <th>1762</th>\n",
       "      <td>As an ER doc, I've seen countless people die f...</td>\n",
       "      <td>As an ER doc, I've seen countless people die f...</td>\n",
       "    </tr>\n",
       "    <tr>\n",
       "      <th>1763</th>\n",
       "      <td>https://t.co/K25QaQYTtz</td>\n",
       "      <td>NaN</td>\n",
       "    </tr>\n",
       "  </tbody>\n",
       "</table>\n",
       "<p>1764 rows × 2 columns</p>\n",
       "</div>"
      ],
      "text/plain": [
       "                                                QT_text  \\\n",
       "0     .@AndrewCuomo, thank you for your leadership a...   \n",
       "1     Gold Reef City  would make the money they’ve l...   \n",
       "2     North Carolina is now reporting they OVERCOUNT...   \n",
       "3     Data shows a low % of children in single paren...   \n",
       "4     Watch @iamCardiB and @JoeBiden talk police bru...   \n",
       "...                                                 ...   \n",
       "1759  Lakhs of students asking you for NOT taking Ex...   \n",
       "1760  Join us Tuesday for an important back-to-schoo...   \n",
       "1761  Due to the laughable \"recount\" of deaths in th...   \n",
       "1762  As an ER doc, I've seen countless people die f...   \n",
       "1763                            https://t.co/K25QaQYTtz   \n",
       "\n",
       "                                           QT_full_text  \n",
       "0     .@AndrewCuomo, thank you for your leadership a...  \n",
       "1                                                   NaN  \n",
       "2                                                   NaN  \n",
       "3     Data shows a low % of children in single paren...  \n",
       "4                                                   NaN  \n",
       "...                                                 ...  \n",
       "1759  Lakhs of students asking you for NOT taking Ex...  \n",
       "1760                                                NaN  \n",
       "1761  Due to the laughable \"recount\" of deaths in th...  \n",
       "1762  As an ER doc, I've seen countless people die f...  \n",
       "1763                                                NaN  \n",
       "\n",
       "[1764 rows x 2 columns]"
      ]
     },
     "execution_count": 82,
     "metadata": {},
     "output_type": "execute_result"
    }
   ],
   "source": [
    "interim[['QT_text','QT_full_text']]"
   ]
  },
  {
   "cell_type": "code",
   "execution_count": 83,
   "metadata": {},
   "outputs": [],
   "source": [
    "interim['QT_full_text'] = np.where(interim['QT_full_text'].isna(),interim['QT_text'],interim['QT_full_text'])"
   ]
  },
  {
   "cell_type": "code",
   "execution_count": 84,
   "metadata": {},
   "outputs": [
    {
     "data": {
      "text/plain": [
       "(1764, 41)"
      ]
     },
     "execution_count": 84,
     "metadata": {},
     "output_type": "execute_result"
    }
   ],
   "source": [
    "interim.shape"
   ]
  },
  {
   "cell_type": "code",
   "execution_count": 85,
   "metadata": {},
   "outputs": [
    {
     "data": {
      "text/html": [
       "<div>\n",
       "<style scoped>\n",
       "    .dataframe tbody tr th:only-of-type {\n",
       "        vertical-align: middle;\n",
       "    }\n",
       "\n",
       "    .dataframe tbody tr th {\n",
       "        vertical-align: top;\n",
       "    }\n",
       "\n",
       "    .dataframe thead th {\n",
       "        text-align: right;\n",
       "    }\n",
       "</style>\n",
       "<table border=\"1\" class=\"dataframe\">\n",
       "  <thead>\n",
       "    <tr style=\"text-align: right;\">\n",
       "      <th></th>\n",
       "      <th>QT_text</th>\n",
       "      <th>QT_full_text</th>\n",
       "    </tr>\n",
       "  </thead>\n",
       "  <tbody>\n",
       "    <tr>\n",
       "      <th>0</th>\n",
       "      <td>.@AndrewCuomo, thank you for your leadership a...</td>\n",
       "      <td>.@AndrewCuomo, thank you for your leadership a...</td>\n",
       "    </tr>\n",
       "    <tr>\n",
       "      <th>1</th>\n",
       "      <td>Gold Reef City  would make the money they’ve l...</td>\n",
       "      <td>Gold Reef City  would make the money they’ve l...</td>\n",
       "    </tr>\n",
       "    <tr>\n",
       "      <th>2</th>\n",
       "      <td>North Carolina is now reporting they OVERCOUNT...</td>\n",
       "      <td>North Carolina is now reporting they OVERCOUNT...</td>\n",
       "    </tr>\n",
       "    <tr>\n",
       "      <th>3</th>\n",
       "      <td>Data shows a low % of children in single paren...</td>\n",
       "      <td>Data shows a low % of children in single paren...</td>\n",
       "    </tr>\n",
       "    <tr>\n",
       "      <th>4</th>\n",
       "      <td>Watch @iamCardiB and @JoeBiden talk police bru...</td>\n",
       "      <td>Watch @iamCardiB and @JoeBiden talk police bru...</td>\n",
       "    </tr>\n",
       "    <tr>\n",
       "      <th>...</th>\n",
       "      <td>...</td>\n",
       "      <td>...</td>\n",
       "    </tr>\n",
       "    <tr>\n",
       "      <th>1759</th>\n",
       "      <td>Lakhs of students asking you for NOT taking Ex...</td>\n",
       "      <td>Lakhs of students asking you for NOT taking Ex...</td>\n",
       "    </tr>\n",
       "    <tr>\n",
       "      <th>1760</th>\n",
       "      <td>Join us Tuesday for an important back-to-schoo...</td>\n",
       "      <td>Join us Tuesday for an important back-to-schoo...</td>\n",
       "    </tr>\n",
       "    <tr>\n",
       "      <th>1761</th>\n",
       "      <td>Due to the laughable \"recount\" of deaths in th...</td>\n",
       "      <td>Due to the laughable \"recount\" of deaths in th...</td>\n",
       "    </tr>\n",
       "    <tr>\n",
       "      <th>1762</th>\n",
       "      <td>As an ER doc, I've seen countless people die f...</td>\n",
       "      <td>As an ER doc, I've seen countless people die f...</td>\n",
       "    </tr>\n",
       "    <tr>\n",
       "      <th>1763</th>\n",
       "      <td>https://t.co/K25QaQYTtz</td>\n",
       "      <td>https://t.co/K25QaQYTtz</td>\n",
       "    </tr>\n",
       "  </tbody>\n",
       "</table>\n",
       "<p>1764 rows × 2 columns</p>\n",
       "</div>"
      ],
      "text/plain": [
       "                                                QT_text  \\\n",
       "0     .@AndrewCuomo, thank you for your leadership a...   \n",
       "1     Gold Reef City  would make the money they’ve l...   \n",
       "2     North Carolina is now reporting they OVERCOUNT...   \n",
       "3     Data shows a low % of children in single paren...   \n",
       "4     Watch @iamCardiB and @JoeBiden talk police bru...   \n",
       "...                                                 ...   \n",
       "1759  Lakhs of students asking you for NOT taking Ex...   \n",
       "1760  Join us Tuesday for an important back-to-schoo...   \n",
       "1761  Due to the laughable \"recount\" of deaths in th...   \n",
       "1762  As an ER doc, I've seen countless people die f...   \n",
       "1763                            https://t.co/K25QaQYTtz   \n",
       "\n",
       "                                           QT_full_text  \n",
       "0     .@AndrewCuomo, thank you for your leadership a...  \n",
       "1     Gold Reef City  would make the money they’ve l...  \n",
       "2     North Carolina is now reporting they OVERCOUNT...  \n",
       "3     Data shows a low % of children in single paren...  \n",
       "4     Watch @iamCardiB and @JoeBiden talk police bru...  \n",
       "...                                                 ...  \n",
       "1759  Lakhs of students asking you for NOT taking Ex...  \n",
       "1760  Join us Tuesday for an important back-to-schoo...  \n",
       "1761  Due to the laughable \"recount\" of deaths in th...  \n",
       "1762  As an ER doc, I've seen countless people die f...  \n",
       "1763                            https://t.co/K25QaQYTtz  \n",
       "\n",
       "[1764 rows x 2 columns]"
      ]
     },
     "execution_count": 85,
     "metadata": {},
     "output_type": "execute_result"
    }
   ],
   "source": [
    "interim[['QT_text','QT_full_text']]"
   ]
  },
  {
   "cell_type": "code",
   "execution_count": 86,
   "metadata": {},
   "outputs": [],
   "source": [
    "interim = interim[['QT_id','QT_user_id','QT_full_text']]"
   ]
  },
  {
   "cell_type": "code",
   "execution_count": 87,
   "metadata": {},
   "outputs": [],
   "source": [
    "interim.columns = non_rep.columns"
   ]
  },
  {
   "cell_type": "code",
   "execution_count": 88,
   "metadata": {},
   "outputs": [
    {
     "data": {
      "text/html": [
       "<div>\n",
       "<style scoped>\n",
       "    .dataframe tbody tr th:only-of-type {\n",
       "        vertical-align: middle;\n",
       "    }\n",
       "\n",
       "    .dataframe tbody tr th {\n",
       "        vertical-align: top;\n",
       "    }\n",
       "\n",
       "    .dataframe thead th {\n",
       "        text-align: right;\n",
       "    }\n",
       "</style>\n",
       "<table border=\"1\" class=\"dataframe\">\n",
       "  <thead>\n",
       "    <tr style=\"text-align: right;\">\n",
       "      <th></th>\n",
       "      <th>id</th>\n",
       "      <th>user_id</th>\n",
       "      <th>extended_tweet_full_text</th>\n",
       "    </tr>\n",
       "  </thead>\n",
       "  <tbody>\n",
       "    <tr>\n",
       "      <th>0</th>\n",
       "      <td>1.295540e+18</td>\n",
       "      <td>9.390910e+05</td>\n",
       "      <td>.@AndrewCuomo, thank you for your leadership a...</td>\n",
       "    </tr>\n",
       "    <tr>\n",
       "      <th>1</th>\n",
       "      <td>1.295673e+18</td>\n",
       "      <td>2.902877e+09</td>\n",
       "      <td>Gold Reef City  would make the money they’ve l...</td>\n",
       "    </tr>\n",
       "    <tr>\n",
       "      <th>2</th>\n",
       "      <td>1.295721e+18</td>\n",
       "      <td>1.196555e+08</td>\n",
       "      <td>North Carolina is now reporting they OVERCOUNT...</td>\n",
       "    </tr>\n",
       "    <tr>\n",
       "      <th>3</th>\n",
       "      <td>1.295315e+18</td>\n",
       "      <td>1.259714e+09</td>\n",
       "      <td>Data shows a low % of children in single paren...</td>\n",
       "    </tr>\n",
       "    <tr>\n",
       "      <th>4</th>\n",
       "      <td>1.295368e+18</td>\n",
       "      <td>2.397873e+07</td>\n",
       "      <td>Watch @iamCardiB and @JoeBiden talk police bru...</td>\n",
       "    </tr>\n",
       "    <tr>\n",
       "      <th>...</th>\n",
       "      <td>...</td>\n",
       "      <td>...</td>\n",
       "      <td>...</td>\n",
       "    </tr>\n",
       "    <tr>\n",
       "      <th>1759</th>\n",
       "      <td>1.295692e+18</td>\n",
       "      <td>1.421498e+09</td>\n",
       "      <td>Lakhs of students asking you for NOT taking Ex...</td>\n",
       "    </tr>\n",
       "    <tr>\n",
       "      <th>1760</th>\n",
       "      <td>1.295004e+18</td>\n",
       "      <td>3.486331e+08</td>\n",
       "      <td>Join us Tuesday for an important back-to-schoo...</td>\n",
       "    </tr>\n",
       "    <tr>\n",
       "      <th>1761</th>\n",
       "      <td>1.295096e+18</td>\n",
       "      <td>2.666017e+09</td>\n",
       "      <td>Due to the laughable \"recount\" of deaths in th...</td>\n",
       "    </tr>\n",
       "    <tr>\n",
       "      <th>1762</th>\n",
       "      <td>1.295278e+18</td>\n",
       "      <td>9.539242e+17</td>\n",
       "      <td>As an ER doc, I've seen countless people die f...</td>\n",
       "    </tr>\n",
       "    <tr>\n",
       "      <th>1763</th>\n",
       "      <td>1.295766e+18</td>\n",
       "      <td>1.027784e+08</td>\n",
       "      <td>https://t.co/K25QaQYTtz</td>\n",
       "    </tr>\n",
       "  </tbody>\n",
       "</table>\n",
       "<p>1764 rows × 3 columns</p>\n",
       "</div>"
      ],
      "text/plain": [
       "                id       user_id  \\\n",
       "0     1.295540e+18  9.390910e+05   \n",
       "1     1.295673e+18  2.902877e+09   \n",
       "2     1.295721e+18  1.196555e+08   \n",
       "3     1.295315e+18  1.259714e+09   \n",
       "4     1.295368e+18  2.397873e+07   \n",
       "...            ...           ...   \n",
       "1759  1.295692e+18  1.421498e+09   \n",
       "1760  1.295004e+18  3.486331e+08   \n",
       "1761  1.295096e+18  2.666017e+09   \n",
       "1762  1.295278e+18  9.539242e+17   \n",
       "1763  1.295766e+18  1.027784e+08   \n",
       "\n",
       "                               extended_tweet_full_text  \n",
       "0     .@AndrewCuomo, thank you for your leadership a...  \n",
       "1     Gold Reef City  would make the money they’ve l...  \n",
       "2     North Carolina is now reporting they OVERCOUNT...  \n",
       "3     Data shows a low % of children in single paren...  \n",
       "4     Watch @iamCardiB and @JoeBiden talk police bru...  \n",
       "...                                                 ...  \n",
       "1759  Lakhs of students asking you for NOT taking Ex...  \n",
       "1760  Join us Tuesday for an important back-to-schoo...  \n",
       "1761  Due to the laughable \"recount\" of deaths in th...  \n",
       "1762  As an ER doc, I've seen countless people die f...  \n",
       "1763                            https://t.co/K25QaQYTtz  \n",
       "\n",
       "[1764 rows x 3 columns]"
      ]
     },
     "execution_count": 88,
     "metadata": {},
     "output_type": "execute_result"
    }
   ],
   "source": [
    "interim"
   ]
  },
  {
   "cell_type": "code",
   "execution_count": 89,
   "metadata": {},
   "outputs": [],
   "source": [
    "interim = interim.drop_duplicates(['id','user_id']).reset_index(drop=True)"
   ]
  },
  {
   "cell_type": "code",
   "execution_count": 90,
   "metadata": {},
   "outputs": [
    {
     "data": {
      "text/plain": [
       "(641, 3)"
      ]
     },
     "execution_count": 90,
     "metadata": {},
     "output_type": "execute_result"
    }
   ],
   "source": [
    "interim.shape"
   ]
  },
  {
   "cell_type": "code",
   "execution_count": 91,
   "metadata": {},
   "outputs": [],
   "source": [
    "non_rep = non_rep.append(interim,ignore_index=True)"
   ]
  },
  {
   "cell_type": "code",
   "execution_count": 92,
   "metadata": {},
   "outputs": [
    {
     "data": {
      "text/plain": [
       "(7938, 3)"
      ]
     },
     "execution_count": 92,
     "metadata": {},
     "output_type": "execute_result"
    }
   ],
   "source": [
    "non_rep.shape"
   ]
  },
  {
   "cell_type": "code",
   "execution_count": 93,
   "metadata": {},
   "outputs": [],
   "source": [
    "non_rep = non_rep.drop_duplicates(['id']).reset_index(drop=True)"
   ]
  },
  {
   "cell_type": "code",
   "execution_count": 94,
   "metadata": {},
   "outputs": [
    {
     "data": {
      "text/plain": [
       "(7746, 3)"
      ]
     },
     "execution_count": 94,
     "metadata": {},
     "output_type": "execute_result"
    }
   ],
   "source": [
    "non_rep.shape"
   ]
  },
  {
   "cell_type": "code",
   "execution_count": null,
   "metadata": {},
   "outputs": [],
   "source": [
    "non_rep.to_csv('final(Cleaned)_h01-20200912-101538.csv',index=False)"
   ]
  },
  {
   "cell_type": "markdown",
   "metadata": {},
   "source": [
    "# Checking"
   ]
  },
  {
   "cell_type": "code",
   "execution_count": 128,
   "metadata": {},
   "outputs": [],
   "source": [
    "path = '/home/manikya_varshney/Documents/Python/Yale/h01-20200818-10files/h01-20200818-153021.csv'\n",
    "data = pd.read_csv(path, low_memory=False)"
   ]
  },
  {
   "cell_type": "code",
   "execution_count": 129,
   "metadata": {},
   "outputs": [
    {
     "data": {
      "text/plain": [
       "(19992, 79)"
      ]
     },
     "execution_count": 129,
     "metadata": {},
     "output_type": "execute_result"
    }
   ],
   "source": [
    "data.shape"
   ]
  },
  {
   "cell_type": "code",
   "execution_count": 130,
   "metadata": {},
   "outputs": [],
   "source": [
    "data = data[data['lang']=='en'].reset_index(drop=True)"
   ]
  },
  {
   "cell_type": "code",
   "execution_count": 131,
   "metadata": {},
   "outputs": [
    {
     "data": {
      "text/plain": [
       "(11229, 79)"
      ]
     },
     "execution_count": 131,
     "metadata": {},
     "output_type": "execute_result"
    }
   ],
   "source": [
    "data.shape"
   ]
  },
  {
   "cell_type": "code",
   "execution_count": null,
   "metadata": {},
   "outputs": [],
   "source": [
    "f = pd.DataFrame({'tweet':np.where(~data['truncated'],data['text'],data['extended_tweet_full_text'])})"
   ]
  },
  {
   "cell_type": "code",
   "execution_count": null,
   "metadata": {},
   "outputs": [],
   "source": [
    "f =f['tweet'].append(pd.Series(np.where(data['RT_full_text'].isna(),data['RT_text'],data['RT_full_text'])),ignore_index=True)"
   ]
  },
  {
   "cell_type": "code",
   "execution_count": null,
   "metadata": {},
   "outputs": [],
   "source": [
    "f = f.append(pd.Series(np.where(data['QT_full_text'].isna(),data['QT_text'],data['QT_full_text'])),ignore_index=True)"
   ]
  },
  {
   "cell_type": "code",
   "execution_count": null,
   "metadata": {},
   "outputs": [],
   "source": [
    "f"
   ]
  },
  {
   "cell_type": "code",
   "execution_count": null,
   "metadata": {},
   "outputs": [],
   "source": [
    "f[~f.isna()].reset_index(drop=True).str.strip('RT').drop_duplicates()"
   ]
  },
  {
   "cell_type": "code",
   "execution_count": null,
   "metadata": {},
   "outputs": [],
   "source": [
    "f = f[~f.isna()].reset_index(drop=True).str.strip('RT').drop_duplicates()"
   ]
  },
  {
   "cell_type": "code",
   "execution_count": null,
   "metadata": {},
   "outputs": [],
   "source": [
    "f"
   ]
  },
  {
   "cell_type": "code",
   "execution_count": null,
   "metadata": {},
   "outputs": [],
   "source": [
    "f = data['id'].append(data['RT_id'],ignore_index=True).append(data['QT_id'],ignore_index=True)"
   ]
  },
  {
   "cell_type": "code",
   "execution_count": null,
   "metadata": {},
   "outputs": [],
   "source": [
    "f[~f.isna()].astype(int).reset_index(drop=True).drop_duplicates()"
   ]
  },
  {
   "cell_type": "code",
   "execution_count": null,
   "metadata": {},
   "outputs": [],
   "source": [
    "f = f[~f.isna()].astype(int).reset_index(drop=True).drop_duplicates()"
   ]
  },
  {
   "cell_type": "code",
   "execution_count": null,
   "metadata": {},
   "outputs": [],
   "source": [
    "f"
   ]
  }
 ],
 "metadata": {
  "kernelspec": {
   "display_name": "Python 3",
   "language": "python",
   "name": "python3"
  },
  "language_info": {
   "codemirror_mode": {
    "name": "ipython",
    "version": 3
   },
   "file_extension": ".py",
   "mimetype": "text/x-python",
   "name": "python",
   "nbconvert_exporter": "python",
   "pygments_lexer": "ipython3",
   "version": "3.8.5"
  }
 },
 "nbformat": 4,
 "nbformat_minor": 4
}
