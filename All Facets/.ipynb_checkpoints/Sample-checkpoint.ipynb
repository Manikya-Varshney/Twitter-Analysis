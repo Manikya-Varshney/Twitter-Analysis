{
 "cells": [
  {
   "cell_type": "code",
   "execution_count": 1,
   "metadata": {},
   "outputs": [],
   "source": [
    "import pandas as pd\n",
    "import numpy as np \n",
    "import csv\n",
    "import re\n",
    "import string\n",
    "\n",
    "import nltk\n",
    "from nltk.corpus import stopwords\n",
    "from nltk.tokenize import word_tokenize\n",
    "from nltk.stem import PorterStemmer\n",
    "from nltk.stem import WordNetLemmatizer\n",
    "\n",
    "import warnings\n",
    "warnings.filterwarnings(\"ignore\")"
   ]
  },
  {
   "cell_type": "code",
   "execution_count": 2,
   "metadata": {},
   "outputs": [],
   "source": [
    "path = '/home/manikya_varshney/Documents/Python/Yale/h01-20200818-10files/h01-20200818-153021.csv'\n",
    "data = pd.read_csv(path, low_memory=False)"
   ]
  },
  {
   "cell_type": "code",
   "execution_count": 3,
   "metadata": {},
   "outputs": [
    {
     "data": {
      "text/plain": [
       "(19992, 79)"
      ]
     },
     "execution_count": 3,
     "metadata": {},
     "output_type": "execute_result"
    }
   ],
   "source": [
    "data.shape"
   ]
  },
  {
   "cell_type": "code",
   "execution_count": 4,
   "metadata": {},
   "outputs": [],
   "source": [
    "cols = [1, 3, 4, 5,6, 7, 8, 14, 15, 16, 17, 18, 19, 22, 30, 31, 32, 34, 35, 36, 41, 42, 43, 45, 51, 52, 53, 54, 55, 56, 58, 63, 64, 65, 67, 73, 74, 75, 76, 77]"
   ]
  },
  {
   "cell_type": "code",
   "execution_count": 5,
   "metadata": {},
   "outputs": [],
   "source": [
    "data = data[data.columns.values[cols]]"
   ]
  },
  {
   "cell_type": "code",
   "execution_count": 6,
   "metadata": {},
   "outputs": [
    {
     "data": {
      "text/html": [
       "<div>\n",
       "<style scoped>\n",
       "    .dataframe tbody tr th:only-of-type {\n",
       "        vertical-align: middle;\n",
       "    }\n",
       "\n",
       "    .dataframe tbody tr th {\n",
       "        vertical-align: top;\n",
       "    }\n",
       "\n",
       "    .dataframe thead th {\n",
       "        text-align: right;\n",
       "    }\n",
       "</style>\n",
       "<table border=\"1\" class=\"dataframe\">\n",
       "  <thead>\n",
       "    <tr style=\"text-align: right;\">\n",
       "      <th></th>\n",
       "      <th>id</th>\n",
       "      <th>is_quote_tweet</th>\n",
       "      <th>quoted_tweet_id</th>\n",
       "      <th>in_reply_to_status_id_str</th>\n",
       "      <th>in_reply_to_user_id_str</th>\n",
       "      <th>in_reply_to_screen_name</th>\n",
       "      <th>lang</th>\n",
       "      <th>place_full_name</th>\n",
       "      <th>place_country_code</th>\n",
       "      <th>coordinates</th>\n",
       "      <th>...</th>\n",
       "      <th>QT_lang</th>\n",
       "      <th>QT_user_id</th>\n",
       "      <th>QT_username</th>\n",
       "      <th>QT_name</th>\n",
       "      <th>QT_location</th>\n",
       "      <th>QT_place_full_name</th>\n",
       "      <th>QT_place_country_code</th>\n",
       "      <th>QT_coordinates</th>\n",
       "      <th>QT_text</th>\n",
       "      <th>QT_full_text</th>\n",
       "    </tr>\n",
       "  </thead>\n",
       "  <tbody>\n",
       "    <tr>\n",
       "      <th>0</th>\n",
       "      <td>1295805209722183684</td>\n",
       "      <td>False</td>\n",
       "      <td>NaN</td>\n",
       "      <td>NaN</td>\n",
       "      <td>NaN</td>\n",
       "      <td>NaN</td>\n",
       "      <td>en</td>\n",
       "      <td>NaN</td>\n",
       "      <td>NaN</td>\n",
       "      <td>NaN</td>\n",
       "      <td>...</td>\n",
       "      <td>NaN</td>\n",
       "      <td>NaN</td>\n",
       "      <td>NaN</td>\n",
       "      <td>NaN</td>\n",
       "      <td>NaN</td>\n",
       "      <td>NaN</td>\n",
       "      <td>NaN</td>\n",
       "      <td>NaN</td>\n",
       "      <td>NaN</td>\n",
       "      <td>NaN</td>\n",
       "    </tr>\n",
       "    <tr>\n",
       "      <th>1</th>\n",
       "      <td>1295805209738911745</td>\n",
       "      <td>True</td>\n",
       "      <td>1.295733e+18</td>\n",
       "      <td>NaN</td>\n",
       "      <td>NaN</td>\n",
       "      <td>NaN</td>\n",
       "      <td>und</td>\n",
       "      <td>Rossville, MD</td>\n",
       "      <td>US</td>\n",
       "      <td>NaN</td>\n",
       "      <td>...</td>\n",
       "      <td>en</td>\n",
       "      <td>2.968145e+08</td>\n",
       "      <td>HealthyFla</td>\n",
       "      <td>Florida Dept. Health</td>\n",
       "      <td>Tallahassee, FL</td>\n",
       "      <td>NaN</td>\n",
       "      <td>NaN</td>\n",
       "      <td>NaN</td>\n",
       "      <td>Wearing a mask correctly can prevent the sprea...</td>\n",
       "      <td>Wearing a mask correctly can prevent the sprea...</td>\n",
       "    </tr>\n",
       "    <tr>\n",
       "      <th>2</th>\n",
       "      <td>1295805209852215297</td>\n",
       "      <td>False</td>\n",
       "      <td>NaN</td>\n",
       "      <td>NaN</td>\n",
       "      <td>NaN</td>\n",
       "      <td>NaN</td>\n",
       "      <td>es</td>\n",
       "      <td>NaN</td>\n",
       "      <td>NaN</td>\n",
       "      <td>NaN</td>\n",
       "      <td>...</td>\n",
       "      <td>NaN</td>\n",
       "      <td>NaN</td>\n",
       "      <td>NaN</td>\n",
       "      <td>NaN</td>\n",
       "      <td>NaN</td>\n",
       "      <td>NaN</td>\n",
       "      <td>NaN</td>\n",
       "      <td>NaN</td>\n",
       "      <td>NaN</td>\n",
       "      <td>NaN</td>\n",
       "    </tr>\n",
       "    <tr>\n",
       "      <th>3</th>\n",
       "      <td>1295805209596366848</td>\n",
       "      <td>True</td>\n",
       "      <td>1.295797e+18</td>\n",
       "      <td>NaN</td>\n",
       "      <td>7.852330e+07</td>\n",
       "      <td>RealJamesWoods</td>\n",
       "      <td>und</td>\n",
       "      <td>NaN</td>\n",
       "      <td>NaN</td>\n",
       "      <td>NaN</td>\n",
       "      <td>...</td>\n",
       "      <td>en</td>\n",
       "      <td>1.220829e+18</td>\n",
       "      <td>AZKAYTE</td>\n",
       "      <td>AZKayte</td>\n",
       "      <td>Rent Free in Libs Heads</td>\n",
       "      <td>NaN</td>\n",
       "      <td>NaN</td>\n",
       "      <td>NaN</td>\n",
       "      <td>🔥ON FIRE!🔥\\n\\n#CarlosZapata (not Picatta) from...</td>\n",
       "      <td>🔥ON FIRE!🔥\\n\\n#CarlosZapata (not Picatta) from...</td>\n",
       "    </tr>\n",
       "    <tr>\n",
       "      <th>4</th>\n",
       "      <td>1295805209940299776</td>\n",
       "      <td>False</td>\n",
       "      <td>NaN</td>\n",
       "      <td>1.295688e+18</td>\n",
       "      <td>9.227776e+17</td>\n",
       "      <td>PierolaMarcelo</td>\n",
       "      <td>es</td>\n",
       "      <td>NaN</td>\n",
       "      <td>NaN</td>\n",
       "      <td>NaN</td>\n",
       "      <td>...</td>\n",
       "      <td>NaN</td>\n",
       "      <td>NaN</td>\n",
       "      <td>NaN</td>\n",
       "      <td>NaN</td>\n",
       "      <td>NaN</td>\n",
       "      <td>NaN</td>\n",
       "      <td>NaN</td>\n",
       "      <td>NaN</td>\n",
       "      <td>NaN</td>\n",
       "      <td>NaN</td>\n",
       "    </tr>\n",
       "    <tr>\n",
       "      <th>...</th>\n",
       "      <td>...</td>\n",
       "      <td>...</td>\n",
       "      <td>...</td>\n",
       "      <td>...</td>\n",
       "      <td>...</td>\n",
       "      <td>...</td>\n",
       "      <td>...</td>\n",
       "      <td>...</td>\n",
       "      <td>...</td>\n",
       "      <td>...</td>\n",
       "      <td>...</td>\n",
       "      <td>...</td>\n",
       "      <td>...</td>\n",
       "      <td>...</td>\n",
       "      <td>...</td>\n",
       "      <td>...</td>\n",
       "      <td>...</td>\n",
       "      <td>...</td>\n",
       "      <td>...</td>\n",
       "      <td>...</td>\n",
       "      <td>...</td>\n",
       "    </tr>\n",
       "    <tr>\n",
       "      <th>19987</th>\n",
       "      <td>1295806236273840128</td>\n",
       "      <td>True</td>\n",
       "      <td>1.295802e+18</td>\n",
       "      <td>NaN</td>\n",
       "      <td>NaN</td>\n",
       "      <td>NaN</td>\n",
       "      <td>it</td>\n",
       "      <td>NaN</td>\n",
       "      <td>NaN</td>\n",
       "      <td>NaN</td>\n",
       "      <td>...</td>\n",
       "      <td>it</td>\n",
       "      <td>1.214241e+08</td>\n",
       "      <td>La7tv</td>\n",
       "      <td>La7</td>\n",
       "      <td>Italy</td>\n",
       "      <td>NaN</td>\n",
       "      <td>NaN</td>\n",
       "      <td>NaN</td>\n",
       "      <td>#inonda @DSantanche è pessimista sulla riapert...</td>\n",
       "      <td>NaN</td>\n",
       "    </tr>\n",
       "    <tr>\n",
       "      <th>19988</th>\n",
       "      <td>1295806236416528384</td>\n",
       "      <td>False</td>\n",
       "      <td>NaN</td>\n",
       "      <td>NaN</td>\n",
       "      <td>NaN</td>\n",
       "      <td>NaN</td>\n",
       "      <td>en</td>\n",
       "      <td>NaN</td>\n",
       "      <td>NaN</td>\n",
       "      <td>NaN</td>\n",
       "      <td>...</td>\n",
       "      <td>NaN</td>\n",
       "      <td>NaN</td>\n",
       "      <td>NaN</td>\n",
       "      <td>NaN</td>\n",
       "      <td>NaN</td>\n",
       "      <td>NaN</td>\n",
       "      <td>NaN</td>\n",
       "      <td>NaN</td>\n",
       "      <td>NaN</td>\n",
       "      <td>NaN</td>\n",
       "    </tr>\n",
       "    <tr>\n",
       "      <th>19989</th>\n",
       "      <td>1295806236349390850</td>\n",
       "      <td>False</td>\n",
       "      <td>NaN</td>\n",
       "      <td>NaN</td>\n",
       "      <td>NaN</td>\n",
       "      <td>NaN</td>\n",
       "      <td>en</td>\n",
       "      <td>NaN</td>\n",
       "      <td>NaN</td>\n",
       "      <td>NaN</td>\n",
       "      <td>...</td>\n",
       "      <td>NaN</td>\n",
       "      <td>NaN</td>\n",
       "      <td>NaN</td>\n",
       "      <td>NaN</td>\n",
       "      <td>NaN</td>\n",
       "      <td>NaN</td>\n",
       "      <td>NaN</td>\n",
       "      <td>NaN</td>\n",
       "      <td>NaN</td>\n",
       "      <td>NaN</td>\n",
       "    </tr>\n",
       "    <tr>\n",
       "      <th>19990</th>\n",
       "      <td>1295806236504535041</td>\n",
       "      <td>False</td>\n",
       "      <td>NaN</td>\n",
       "      <td>NaN</td>\n",
       "      <td>NaN</td>\n",
       "      <td>NaN</td>\n",
       "      <td>en</td>\n",
       "      <td>NaN</td>\n",
       "      <td>NaN</td>\n",
       "      <td>NaN</td>\n",
       "      <td>...</td>\n",
       "      <td>NaN</td>\n",
       "      <td>NaN</td>\n",
       "      <td>NaN</td>\n",
       "      <td>NaN</td>\n",
       "      <td>NaN</td>\n",
       "      <td>NaN</td>\n",
       "      <td>NaN</td>\n",
       "      <td>NaN</td>\n",
       "      <td>NaN</td>\n",
       "      <td>NaN</td>\n",
       "    </tr>\n",
       "    <tr>\n",
       "      <th>19991</th>\n",
       "      <td>1295806236068327424</td>\n",
       "      <td>True</td>\n",
       "      <td>1.295256e+18</td>\n",
       "      <td>NaN</td>\n",
       "      <td>NaN</td>\n",
       "      <td>NaN</td>\n",
       "      <td>en</td>\n",
       "      <td>NaN</td>\n",
       "      <td>NaN</td>\n",
       "      <td>NaN</td>\n",
       "      <td>...</td>\n",
       "      <td>en</td>\n",
       "      <td>3.806486e+08</td>\n",
       "      <td>AFP</td>\n",
       "      <td>AFP news agency</td>\n",
       "      <td>France</td>\n",
       "      <td>NaN</td>\n",
       "      <td>NaN</td>\n",
       "      <td>NaN</td>\n",
       "      <td>Wuhan wave.\\n\\nPeople watch a performance as t...</td>\n",
       "      <td>NaN</td>\n",
       "    </tr>\n",
       "  </tbody>\n",
       "</table>\n",
       "<p>19992 rows × 40 columns</p>\n",
       "</div>"
      ],
      "text/plain": [
       "                        id  is_quote_tweet  quoted_tweet_id  \\\n",
       "0      1295805209722183684           False              NaN   \n",
       "1      1295805209738911745            True     1.295733e+18   \n",
       "2      1295805209852215297           False              NaN   \n",
       "3      1295805209596366848            True     1.295797e+18   \n",
       "4      1295805209940299776           False              NaN   \n",
       "...                    ...             ...              ...   \n",
       "19987  1295806236273840128            True     1.295802e+18   \n",
       "19988  1295806236416528384           False              NaN   \n",
       "19989  1295806236349390850           False              NaN   \n",
       "19990  1295806236504535041           False              NaN   \n",
       "19991  1295806236068327424            True     1.295256e+18   \n",
       "\n",
       "       in_reply_to_status_id_str  in_reply_to_user_id_str  \\\n",
       "0                            NaN                      NaN   \n",
       "1                            NaN                      NaN   \n",
       "2                            NaN                      NaN   \n",
       "3                            NaN             7.852330e+07   \n",
       "4                   1.295688e+18             9.227776e+17   \n",
       "...                          ...                      ...   \n",
       "19987                        NaN                      NaN   \n",
       "19988                        NaN                      NaN   \n",
       "19989                        NaN                      NaN   \n",
       "19990                        NaN                      NaN   \n",
       "19991                        NaN                      NaN   \n",
       "\n",
       "      in_reply_to_screen_name lang place_full_name place_country_code  \\\n",
       "0                         NaN   en             NaN                NaN   \n",
       "1                         NaN  und   Rossville, MD                 US   \n",
       "2                         NaN   es             NaN                NaN   \n",
       "3              RealJamesWoods  und             NaN                NaN   \n",
       "4              PierolaMarcelo   es             NaN                NaN   \n",
       "...                       ...  ...             ...                ...   \n",
       "19987                     NaN   it             NaN                NaN   \n",
       "19988                     NaN   en             NaN                NaN   \n",
       "19989                     NaN   en             NaN                NaN   \n",
       "19990                     NaN   en             NaN                NaN   \n",
       "19991                     NaN   en             NaN                NaN   \n",
       "\n",
       "      coordinates  ... QT_lang    QT_user_id  QT_username  \\\n",
       "0             NaN  ...     NaN           NaN          NaN   \n",
       "1             NaN  ...      en  2.968145e+08   HealthyFla   \n",
       "2             NaN  ...     NaN           NaN          NaN   \n",
       "3             NaN  ...      en  1.220829e+18      AZKAYTE   \n",
       "4             NaN  ...     NaN           NaN          NaN   \n",
       "...           ...  ...     ...           ...          ...   \n",
       "19987         NaN  ...      it  1.214241e+08        La7tv   \n",
       "19988         NaN  ...     NaN           NaN          NaN   \n",
       "19989         NaN  ...     NaN           NaN          NaN   \n",
       "19990         NaN  ...     NaN           NaN          NaN   \n",
       "19991         NaN  ...      en  3.806486e+08          AFP   \n",
       "\n",
       "                    QT_name              QT_location QT_place_full_name  \\\n",
       "0                       NaN                      NaN                NaN   \n",
       "1      Florida Dept. Health          Tallahassee, FL                NaN   \n",
       "2                       NaN                      NaN                NaN   \n",
       "3                   AZKayte  Rent Free in Libs Heads                NaN   \n",
       "4                       NaN                      NaN                NaN   \n",
       "...                     ...                      ...                ...   \n",
       "19987                   La7                    Italy                NaN   \n",
       "19988                   NaN                      NaN                NaN   \n",
       "19989                   NaN                      NaN                NaN   \n",
       "19990                   NaN                      NaN                NaN   \n",
       "19991       AFP news agency                   France                NaN   \n",
       "\n",
       "      QT_place_country_code  QT_coordinates  \\\n",
       "0                       NaN             NaN   \n",
       "1                       NaN             NaN   \n",
       "2                       NaN             NaN   \n",
       "3                       NaN             NaN   \n",
       "4                       NaN             NaN   \n",
       "...                     ...             ...   \n",
       "19987                   NaN             NaN   \n",
       "19988                   NaN             NaN   \n",
       "19989                   NaN             NaN   \n",
       "19990                   NaN             NaN   \n",
       "19991                   NaN             NaN   \n",
       "\n",
       "                                                 QT_text  \\\n",
       "0                                                    NaN   \n",
       "1      Wearing a mask correctly can prevent the sprea...   \n",
       "2                                                    NaN   \n",
       "3      🔥ON FIRE!🔥\\n\\n#CarlosZapata (not Picatta) from...   \n",
       "4                                                    NaN   \n",
       "...                                                  ...   \n",
       "19987  #inonda @DSantanche è pessimista sulla riapert...   \n",
       "19988                                                NaN   \n",
       "19989                                                NaN   \n",
       "19990                                                NaN   \n",
       "19991  Wuhan wave.\\n\\nPeople watch a performance as t...   \n",
       "\n",
       "                                            QT_full_text  \n",
       "0                                                    NaN  \n",
       "1      Wearing a mask correctly can prevent the sprea...  \n",
       "2                                                    NaN  \n",
       "3      🔥ON FIRE!🔥\\n\\n#CarlosZapata (not Picatta) from...  \n",
       "4                                                    NaN  \n",
       "...                                                  ...  \n",
       "19987                                                NaN  \n",
       "19988                                                NaN  \n",
       "19989                                                NaN  \n",
       "19990                                                NaN  \n",
       "19991                                                NaN  \n",
       "\n",
       "[19992 rows x 40 columns]"
      ]
     },
     "execution_count": 6,
     "metadata": {},
     "output_type": "execute_result"
    }
   ],
   "source": [
    "data"
   ]
  },
  {
   "cell_type": "code",
   "execution_count": 7,
   "metadata": {},
   "outputs": [
    {
     "data": {
      "text/plain": [
       "(19992, 40)"
      ]
     },
     "execution_count": 7,
     "metadata": {},
     "output_type": "execute_result"
    }
   ],
   "source": [
    "data.shape"
   ]
  },
  {
   "cell_type": "code",
   "execution_count": 8,
   "metadata": {},
   "outputs": [
    {
     "data": {
      "text/plain": [
       "en     11229\n",
       "es      4317\n",
       "pt      1518\n",
       "ja       539\n",
       "und      468\n",
       "fr       338\n",
       "tr       256\n",
       "de       204\n",
       "it       190\n",
       "nl       181\n",
       "ko       162\n",
       "hi       153\n",
       "ar        93\n",
       "ca        55\n",
       "tl        48\n",
       "in        39\n",
       "pl        38\n",
       "zh        19\n",
       "el        18\n",
       "ru        16\n",
       "ro        13\n",
       "ht        10\n",
       "sv        10\n",
       "et        10\n",
       "cs         8\n",
       "sl         7\n",
       "da         6\n",
       "ur         6\n",
       "eu         5\n",
       "th         5\n",
       "cy         5\n",
       "ta         3\n",
       "lv         3\n",
       "mr         3\n",
       "fi         3\n",
       "bn         3\n",
       "hu         2\n",
       "no         2\n",
       "vi         1\n",
       "fa         1\n",
       "is         1\n",
       "ne         1\n",
       "te         1\n",
       "uk         1\n",
       "my         1\n",
       "Name: lang, dtype: int64"
      ]
     },
     "execution_count": 8,
     "metadata": {},
     "output_type": "execute_result"
    }
   ],
   "source": [
    "data['lang'].value_counts()"
   ]
  },
  {
   "cell_type": "code",
   "execution_count": 9,
   "metadata": {},
   "outputs": [
    {
     "data": {
      "text/plain": [
       "(11229, 40)"
      ]
     },
     "execution_count": 9,
     "metadata": {},
     "output_type": "execute_result"
    }
   ],
   "source": [
    "data[data['lang'] == 'en'].shape"
   ]
  },
  {
   "cell_type": "code",
   "execution_count": 10,
   "metadata": {},
   "outputs": [],
   "source": [
    "data_en = data[data['lang'] == 'en'].reset_index(drop=True)"
   ]
  },
  {
   "cell_type": "code",
   "execution_count": 11,
   "metadata": {},
   "outputs": [
    {
     "data": {
      "text/html": [
       "<div>\n",
       "<style scoped>\n",
       "    .dataframe tbody tr th:only-of-type {\n",
       "        vertical-align: middle;\n",
       "    }\n",
       "\n",
       "    .dataframe tbody tr th {\n",
       "        vertical-align: top;\n",
       "    }\n",
       "\n",
       "    .dataframe thead th {\n",
       "        text-align: right;\n",
       "    }\n",
       "</style>\n",
       "<table border=\"1\" class=\"dataframe\">\n",
       "  <thead>\n",
       "    <tr style=\"text-align: right;\">\n",
       "      <th></th>\n",
       "      <th>id</th>\n",
       "      <th>is_quote_tweet</th>\n",
       "      <th>quoted_tweet_id</th>\n",
       "      <th>in_reply_to_status_id_str</th>\n",
       "      <th>in_reply_to_user_id_str</th>\n",
       "      <th>in_reply_to_screen_name</th>\n",
       "      <th>lang</th>\n",
       "      <th>place_full_name</th>\n",
       "      <th>place_country_code</th>\n",
       "      <th>coordinates</th>\n",
       "      <th>...</th>\n",
       "      <th>QT_lang</th>\n",
       "      <th>QT_user_id</th>\n",
       "      <th>QT_username</th>\n",
       "      <th>QT_name</th>\n",
       "      <th>QT_location</th>\n",
       "      <th>QT_place_full_name</th>\n",
       "      <th>QT_place_country_code</th>\n",
       "      <th>QT_coordinates</th>\n",
       "      <th>QT_text</th>\n",
       "      <th>QT_full_text</th>\n",
       "    </tr>\n",
       "  </thead>\n",
       "  <tbody>\n",
       "    <tr>\n",
       "      <th>0</th>\n",
       "      <td>1295805209722183684</td>\n",
       "      <td>False</td>\n",
       "      <td>NaN</td>\n",
       "      <td>NaN</td>\n",
       "      <td>NaN</td>\n",
       "      <td>NaN</td>\n",
       "      <td>en</td>\n",
       "      <td>NaN</td>\n",
       "      <td>NaN</td>\n",
       "      <td>NaN</td>\n",
       "      <td>...</td>\n",
       "      <td>NaN</td>\n",
       "      <td>NaN</td>\n",
       "      <td>NaN</td>\n",
       "      <td>NaN</td>\n",
       "      <td>NaN</td>\n",
       "      <td>NaN</td>\n",
       "      <td>NaN</td>\n",
       "      <td>NaN</td>\n",
       "      <td>NaN</td>\n",
       "      <td>NaN</td>\n",
       "    </tr>\n",
       "    <tr>\n",
       "      <th>1</th>\n",
       "      <td>1295805209545932802</td>\n",
       "      <td>True</td>\n",
       "      <td>1.295540e+18</td>\n",
       "      <td>NaN</td>\n",
       "      <td>NaN</td>\n",
       "      <td>NaN</td>\n",
       "      <td>en</td>\n",
       "      <td>NaN</td>\n",
       "      <td>NaN</td>\n",
       "      <td>NaN</td>\n",
       "      <td>...</td>\n",
       "      <td>en</td>\n",
       "      <td>9.390910e+05</td>\n",
       "      <td>JoeBiden</td>\n",
       "      <td>Joe Biden</td>\n",
       "      <td>Wilmington, DE</td>\n",
       "      <td>NaN</td>\n",
       "      <td>NaN</td>\n",
       "      <td>NaN</td>\n",
       "      <td>.@AndrewCuomo, thank you for your leadership a...</td>\n",
       "      <td>.@AndrewCuomo, thank you for your leadership a...</td>\n",
       "    </tr>\n",
       "    <tr>\n",
       "      <th>2</th>\n",
       "      <td>1295805210040897536</td>\n",
       "      <td>True</td>\n",
       "      <td>1.295798e+18</td>\n",
       "      <td>NaN</td>\n",
       "      <td>NaN</td>\n",
       "      <td>NaN</td>\n",
       "      <td>en</td>\n",
       "      <td>NaN</td>\n",
       "      <td>NaN</td>\n",
       "      <td>NaN</td>\n",
       "      <td>...</td>\n",
       "      <td>en</td>\n",
       "      <td>3.988421e+08</td>\n",
       "      <td>ITROutlook</td>\n",
       "      <td>ITR Economics®</td>\n",
       "      <td>Manchester, NH</td>\n",
       "      <td>NaN</td>\n",
       "      <td>NaN</td>\n",
       "      <td>NaN</td>\n",
       "      <td>“Our forecast for the US economy ... reflects ...</td>\n",
       "      <td>“Our forecast for the US economy ... reflects ...</td>\n",
       "    </tr>\n",
       "    <tr>\n",
       "      <th>3</th>\n",
       "      <td>1295805209923530763</td>\n",
       "      <td>True</td>\n",
       "      <td>1.295572e+18</td>\n",
       "      <td>NaN</td>\n",
       "      <td>NaN</td>\n",
       "      <td>NaN</td>\n",
       "      <td>en</td>\n",
       "      <td>NaN</td>\n",
       "      <td>NaN</td>\n",
       "      <td>NaN</td>\n",
       "      <td>...</td>\n",
       "      <td>en</td>\n",
       "      <td>5.881261e+07</td>\n",
       "      <td>LOUISAGUIRRE</td>\n",
       "      <td>Louis Aguirre</td>\n",
       "      <td>Los Angeles</td>\n",
       "      <td>NaN</td>\n",
       "      <td>NaN</td>\n",
       "      <td>NaN</td>\n",
       "      <td>Miami Dade’s antiquated storm drain system dum...</td>\n",
       "      <td>Miami Dade’s antiquated storm drain system dum...</td>\n",
       "    </tr>\n",
       "    <tr>\n",
       "      <th>4</th>\n",
       "      <td>1295805209634119681</td>\n",
       "      <td>True</td>\n",
       "      <td>1.295673e+18</td>\n",
       "      <td>NaN</td>\n",
       "      <td>NaN</td>\n",
       "      <td>NaN</td>\n",
       "      <td>en</td>\n",
       "      <td>NaN</td>\n",
       "      <td>NaN</td>\n",
       "      <td>NaN</td>\n",
       "      <td>...</td>\n",
       "      <td>en</td>\n",
       "      <td>2.902877e+09</td>\n",
       "      <td>barneyjiri</td>\n",
       "      <td>MANIFESTOR</td>\n",
       "      <td>High frequency</td>\n",
       "      <td>NaN</td>\n",
       "      <td>NaN</td>\n",
       "      <td>NaN</td>\n",
       "      <td>Gold Reef City  would make the money they’ve l...</td>\n",
       "      <td>NaN</td>\n",
       "    </tr>\n",
       "    <tr>\n",
       "      <th>...</th>\n",
       "      <td>...</td>\n",
       "      <td>...</td>\n",
       "      <td>...</td>\n",
       "      <td>...</td>\n",
       "      <td>...</td>\n",
       "      <td>...</td>\n",
       "      <td>...</td>\n",
       "      <td>...</td>\n",
       "      <td>...</td>\n",
       "      <td>...</td>\n",
       "      <td>...</td>\n",
       "      <td>...</td>\n",
       "      <td>...</td>\n",
       "      <td>...</td>\n",
       "      <td>...</td>\n",
       "      <td>...</td>\n",
       "      <td>...</td>\n",
       "      <td>...</td>\n",
       "      <td>...</td>\n",
       "      <td>...</td>\n",
       "      <td>...</td>\n",
       "    </tr>\n",
       "    <tr>\n",
       "      <th>11224</th>\n",
       "      <td>1295806236173238273</td>\n",
       "      <td>False</td>\n",
       "      <td>NaN</td>\n",
       "      <td>NaN</td>\n",
       "      <td>NaN</td>\n",
       "      <td>NaN</td>\n",
       "      <td>en</td>\n",
       "      <td>NaN</td>\n",
       "      <td>NaN</td>\n",
       "      <td>NaN</td>\n",
       "      <td>...</td>\n",
       "      <td>NaN</td>\n",
       "      <td>NaN</td>\n",
       "      <td>NaN</td>\n",
       "      <td>NaN</td>\n",
       "      <td>NaN</td>\n",
       "      <td>NaN</td>\n",
       "      <td>NaN</td>\n",
       "      <td>NaN</td>\n",
       "      <td>NaN</td>\n",
       "      <td>NaN</td>\n",
       "    </tr>\n",
       "    <tr>\n",
       "      <th>11225</th>\n",
       "      <td>1295806236416528384</td>\n",
       "      <td>False</td>\n",
       "      <td>NaN</td>\n",
       "      <td>NaN</td>\n",
       "      <td>NaN</td>\n",
       "      <td>NaN</td>\n",
       "      <td>en</td>\n",
       "      <td>NaN</td>\n",
       "      <td>NaN</td>\n",
       "      <td>NaN</td>\n",
       "      <td>...</td>\n",
       "      <td>NaN</td>\n",
       "      <td>NaN</td>\n",
       "      <td>NaN</td>\n",
       "      <td>NaN</td>\n",
       "      <td>NaN</td>\n",
       "      <td>NaN</td>\n",
       "      <td>NaN</td>\n",
       "      <td>NaN</td>\n",
       "      <td>NaN</td>\n",
       "      <td>NaN</td>\n",
       "    </tr>\n",
       "    <tr>\n",
       "      <th>11226</th>\n",
       "      <td>1295806236349390850</td>\n",
       "      <td>False</td>\n",
       "      <td>NaN</td>\n",
       "      <td>NaN</td>\n",
       "      <td>NaN</td>\n",
       "      <td>NaN</td>\n",
       "      <td>en</td>\n",
       "      <td>NaN</td>\n",
       "      <td>NaN</td>\n",
       "      <td>NaN</td>\n",
       "      <td>...</td>\n",
       "      <td>NaN</td>\n",
       "      <td>NaN</td>\n",
       "      <td>NaN</td>\n",
       "      <td>NaN</td>\n",
       "      <td>NaN</td>\n",
       "      <td>NaN</td>\n",
       "      <td>NaN</td>\n",
       "      <td>NaN</td>\n",
       "      <td>NaN</td>\n",
       "      <td>NaN</td>\n",
       "    </tr>\n",
       "    <tr>\n",
       "      <th>11227</th>\n",
       "      <td>1295806236504535041</td>\n",
       "      <td>False</td>\n",
       "      <td>NaN</td>\n",
       "      <td>NaN</td>\n",
       "      <td>NaN</td>\n",
       "      <td>NaN</td>\n",
       "      <td>en</td>\n",
       "      <td>NaN</td>\n",
       "      <td>NaN</td>\n",
       "      <td>NaN</td>\n",
       "      <td>...</td>\n",
       "      <td>NaN</td>\n",
       "      <td>NaN</td>\n",
       "      <td>NaN</td>\n",
       "      <td>NaN</td>\n",
       "      <td>NaN</td>\n",
       "      <td>NaN</td>\n",
       "      <td>NaN</td>\n",
       "      <td>NaN</td>\n",
       "      <td>NaN</td>\n",
       "      <td>NaN</td>\n",
       "    </tr>\n",
       "    <tr>\n",
       "      <th>11228</th>\n",
       "      <td>1295806236068327424</td>\n",
       "      <td>True</td>\n",
       "      <td>1.295256e+18</td>\n",
       "      <td>NaN</td>\n",
       "      <td>NaN</td>\n",
       "      <td>NaN</td>\n",
       "      <td>en</td>\n",
       "      <td>NaN</td>\n",
       "      <td>NaN</td>\n",
       "      <td>NaN</td>\n",
       "      <td>...</td>\n",
       "      <td>en</td>\n",
       "      <td>3.806486e+08</td>\n",
       "      <td>AFP</td>\n",
       "      <td>AFP news agency</td>\n",
       "      <td>France</td>\n",
       "      <td>NaN</td>\n",
       "      <td>NaN</td>\n",
       "      <td>NaN</td>\n",
       "      <td>Wuhan wave.\\n\\nPeople watch a performance as t...</td>\n",
       "      <td>NaN</td>\n",
       "    </tr>\n",
       "  </tbody>\n",
       "</table>\n",
       "<p>11229 rows × 40 columns</p>\n",
       "</div>"
      ],
      "text/plain": [
       "                        id  is_quote_tweet  quoted_tweet_id  \\\n",
       "0      1295805209722183684           False              NaN   \n",
       "1      1295805209545932802            True     1.295540e+18   \n",
       "2      1295805210040897536            True     1.295798e+18   \n",
       "3      1295805209923530763            True     1.295572e+18   \n",
       "4      1295805209634119681            True     1.295673e+18   \n",
       "...                    ...             ...              ...   \n",
       "11224  1295806236173238273           False              NaN   \n",
       "11225  1295806236416528384           False              NaN   \n",
       "11226  1295806236349390850           False              NaN   \n",
       "11227  1295806236504535041           False              NaN   \n",
       "11228  1295806236068327424            True     1.295256e+18   \n",
       "\n",
       "       in_reply_to_status_id_str  in_reply_to_user_id_str  \\\n",
       "0                            NaN                      NaN   \n",
       "1                            NaN                      NaN   \n",
       "2                            NaN                      NaN   \n",
       "3                            NaN                      NaN   \n",
       "4                            NaN                      NaN   \n",
       "...                          ...                      ...   \n",
       "11224                        NaN                      NaN   \n",
       "11225                        NaN                      NaN   \n",
       "11226                        NaN                      NaN   \n",
       "11227                        NaN                      NaN   \n",
       "11228                        NaN                      NaN   \n",
       "\n",
       "      in_reply_to_screen_name lang place_full_name place_country_code  \\\n",
       "0                         NaN   en             NaN                NaN   \n",
       "1                         NaN   en             NaN                NaN   \n",
       "2                         NaN   en             NaN                NaN   \n",
       "3                         NaN   en             NaN                NaN   \n",
       "4                         NaN   en             NaN                NaN   \n",
       "...                       ...  ...             ...                ...   \n",
       "11224                     NaN   en             NaN                NaN   \n",
       "11225                     NaN   en             NaN                NaN   \n",
       "11226                     NaN   en             NaN                NaN   \n",
       "11227                     NaN   en             NaN                NaN   \n",
       "11228                     NaN   en             NaN                NaN   \n",
       "\n",
       "      coordinates  ... QT_lang    QT_user_id   QT_username          QT_name  \\\n",
       "0             NaN  ...     NaN           NaN           NaN              NaN   \n",
       "1             NaN  ...      en  9.390910e+05      JoeBiden        Joe Biden   \n",
       "2             NaN  ...      en  3.988421e+08    ITROutlook   ITR Economics®   \n",
       "3             NaN  ...      en  5.881261e+07  LOUISAGUIRRE    Louis Aguirre   \n",
       "4             NaN  ...      en  2.902877e+09    barneyjiri       MANIFESTOR   \n",
       "...           ...  ...     ...           ...           ...              ...   \n",
       "11224         NaN  ...     NaN           NaN           NaN              NaN   \n",
       "11225         NaN  ...     NaN           NaN           NaN              NaN   \n",
       "11226         NaN  ...     NaN           NaN           NaN              NaN   \n",
       "11227         NaN  ...     NaN           NaN           NaN              NaN   \n",
       "11228         NaN  ...      en  3.806486e+08           AFP  AFP news agency   \n",
       "\n",
       "          QT_location QT_place_full_name QT_place_country_code  \\\n",
       "0                 NaN                NaN                   NaN   \n",
       "1      Wilmington, DE                NaN                   NaN   \n",
       "2      Manchester, NH                NaN                   NaN   \n",
       "3         Los Angeles                NaN                   NaN   \n",
       "4      High frequency                NaN                   NaN   \n",
       "...               ...                ...                   ...   \n",
       "11224             NaN                NaN                   NaN   \n",
       "11225             NaN                NaN                   NaN   \n",
       "11226             NaN                NaN                   NaN   \n",
       "11227             NaN                NaN                   NaN   \n",
       "11228          France                NaN                   NaN   \n",
       "\n",
       "       QT_coordinates                                            QT_text  \\\n",
       "0                 NaN                                                NaN   \n",
       "1                 NaN  .@AndrewCuomo, thank you for your leadership a...   \n",
       "2                 NaN  “Our forecast for the US economy ... reflects ...   \n",
       "3                 NaN  Miami Dade’s antiquated storm drain system dum...   \n",
       "4                 NaN  Gold Reef City  would make the money they’ve l...   \n",
       "...               ...                                                ...   \n",
       "11224             NaN                                                NaN   \n",
       "11225             NaN                                                NaN   \n",
       "11226             NaN                                                NaN   \n",
       "11227             NaN                                                NaN   \n",
       "11228             NaN  Wuhan wave.\\n\\nPeople watch a performance as t...   \n",
       "\n",
       "                                            QT_full_text  \n",
       "0                                                    NaN  \n",
       "1      .@AndrewCuomo, thank you for your leadership a...  \n",
       "2      “Our forecast for the US economy ... reflects ...  \n",
       "3      Miami Dade’s antiquated storm drain system dum...  \n",
       "4                                                    NaN  \n",
       "...                                                  ...  \n",
       "11224                                                NaN  \n",
       "11225                                                NaN  \n",
       "11226                                                NaN  \n",
       "11227                                                NaN  \n",
       "11228                                                NaN  \n",
       "\n",
       "[11229 rows x 40 columns]"
      ]
     },
     "execution_count": 11,
     "metadata": {},
     "output_type": "execute_result"
    }
   ],
   "source": [
    "data_en"
   ]
  },
  {
   "cell_type": "code",
   "execution_count": 12,
   "metadata": {},
   "outputs": [],
   "source": [
    "data_en['RT_Flag'] = data_en['text'].str[:2]=='RT'"
   ]
  },
  {
   "cell_type": "code",
   "execution_count": 13,
   "metadata": {},
   "outputs": [
    {
     "data": {
      "text/plain": [
       "(11229, 41)"
      ]
     },
     "execution_count": 13,
     "metadata": {},
     "output_type": "execute_result"
    }
   ],
   "source": [
    "data_en.shape"
   ]
  },
  {
   "cell_type": "markdown",
   "metadata": {},
   "source": [
    "##### is_quote_tweet --> False --> Non RT"
   ]
  },
  {
   "cell_type": "code",
   "execution_count": 14,
   "metadata": {},
   "outputs": [],
   "source": [
    "interim = data_en[np.where((data_en['is_quote_tweet']==False) & (data_en['RT_Flag']==False),True,False)].reset_index(drop=True)"
   ]
  },
  {
   "cell_type": "code",
   "execution_count": 15,
   "metadata": {},
   "outputs": [],
   "source": [
    "interim['extended_tweet_full_text'] = np.where(~interim['truncated'],interim['text'],interim['extended_tweet_full_text'])"
   ]
  },
  {
   "cell_type": "code",
   "execution_count": 16,
   "metadata": {},
   "outputs": [
    {
     "data": {
      "text/plain": [
       "(2953, 41)"
      ]
     },
     "execution_count": 16,
     "metadata": {},
     "output_type": "execute_result"
    }
   ],
   "source": [
    "interim.shape"
   ]
  },
  {
   "cell_type": "code",
   "execution_count": 17,
   "metadata": {},
   "outputs": [],
   "source": [
    "non_rep = interim[['id','user_id', 'coordinates', 'location', 'extended_tweet_full_text']]"
   ]
  },
  {
   "cell_type": "code",
   "execution_count": 18,
   "metadata": {},
   "outputs": [
    {
     "data": {
      "text/plain": [
       "(2953, 5)"
      ]
     },
     "execution_count": 18,
     "metadata": {},
     "output_type": "execute_result"
    }
   ],
   "source": [
    "non_rep.shape"
   ]
  },
  {
   "cell_type": "code",
   "execution_count": 19,
   "metadata": {},
   "outputs": [
    {
     "data": {
      "text/html": [
       "<div>\n",
       "<style scoped>\n",
       "    .dataframe tbody tr th:only-of-type {\n",
       "        vertical-align: middle;\n",
       "    }\n",
       "\n",
       "    .dataframe tbody tr th {\n",
       "        vertical-align: top;\n",
       "    }\n",
       "\n",
       "    .dataframe thead th {\n",
       "        text-align: right;\n",
       "    }\n",
       "</style>\n",
       "<table border=\"1\" class=\"dataframe\">\n",
       "  <thead>\n",
       "    <tr style=\"text-align: right;\">\n",
       "      <th></th>\n",
       "      <th>id</th>\n",
       "      <th>user_id</th>\n",
       "      <th>coordinates</th>\n",
       "      <th>location</th>\n",
       "      <th>extended_tweet_full_text</th>\n",
       "    </tr>\n",
       "  </thead>\n",
       "  <tbody>\n",
       "    <tr>\n",
       "      <th>0</th>\n",
       "      <td>1295805209722183684</td>\n",
       "      <td>1278716218766213123</td>\n",
       "      <td>NaN</td>\n",
       "      <td>NaN</td>\n",
       "      <td>can we wear clone helmets instead of masks to ...</td>\n",
       "    </tr>\n",
       "    <tr>\n",
       "      <th>1</th>\n",
       "      <td>1295805210552602630</td>\n",
       "      <td>919107205</td>\n",
       "      <td>NaN</td>\n",
       "      <td>Myrtle Beach, SC</td>\n",
       "      <td>SC Senate to reconvene in Sept. to discuss COV...</td>\n",
       "    </tr>\n",
       "    <tr>\n",
       "      <th>2</th>\n",
       "      <td>1295805210841899008</td>\n",
       "      <td>437895421</td>\n",
       "      <td>NaN</td>\n",
       "      <td>Roseville, CA</td>\n",
       "      <td>@JohnAvlon During the COVID-19 crisis, Pres. T...</td>\n",
       "    </tr>\n",
       "    <tr>\n",
       "      <th>3</th>\n",
       "      <td>1295805210452000769</td>\n",
       "      <td>2580087782</td>\n",
       "      <td>NaN</td>\n",
       "      <td>NaN</td>\n",
       "      <td>We just gonna act like @JamesStormBrand wasn’t...</td>\n",
       "    </tr>\n",
       "    <tr>\n",
       "      <th>4</th>\n",
       "      <td>1295805210997272577</td>\n",
       "      <td>85601740</td>\n",
       "      <td>NaN</td>\n",
       "      <td>Honolulu, Hawaii</td>\n",
       "      <td>The COVID-19 pandemic has created unprecedente...</td>\n",
       "    </tr>\n",
       "    <tr>\n",
       "      <th>...</th>\n",
       "      <td>...</td>\n",
       "      <td>...</td>\n",
       "      <td>...</td>\n",
       "      <td>...</td>\n",
       "      <td>...</td>\n",
       "    </tr>\n",
       "    <tr>\n",
       "      <th>2948</th>\n",
       "      <td>1295806234654904320</td>\n",
       "      <td>1249345381688848386</td>\n",
       "      <td>NaN</td>\n",
       "      <td>NaN</td>\n",
       "      <td>@annatodd @aftermovie Can you tell us about th...</td>\n",
       "    </tr>\n",
       "    <tr>\n",
       "      <th>2949</th>\n",
       "      <td>1295806234961076224</td>\n",
       "      <td>773480035231666177</td>\n",
       "      <td>NaN</td>\n",
       "      <td>United Kingdom</td>\n",
       "      <td>This is a great time to join our exciting life...</td>\n",
       "    </tr>\n",
       "    <tr>\n",
       "      <th>2950</th>\n",
       "      <td>1295806235476987904</td>\n",
       "      <td>900434878386319361</td>\n",
       "      <td>NaN</td>\n",
       "      <td>Las Vegas, NV</td>\n",
       "      <td>Even though there have been a few cases, COVID...</td>\n",
       "    </tr>\n",
       "    <tr>\n",
       "      <th>2951</th>\n",
       "      <td>1295806236173238273</td>\n",
       "      <td>1708692672</td>\n",
       "      <td>NaN</td>\n",
       "      <td>DC habitant, now Florida, USA</td>\n",
       "      <td>Covid is raging in Florida, and I just got a c...</td>\n",
       "    </tr>\n",
       "    <tr>\n",
       "      <th>2952</th>\n",
       "      <td>1295806236416528384</td>\n",
       "      <td>177278400</td>\n",
       "      <td>NaN</td>\n",
       "      <td>NaN</td>\n",
       "      <td>I thought I’d like working from home for these...</td>\n",
       "    </tr>\n",
       "  </tbody>\n",
       "</table>\n",
       "<p>2953 rows × 5 columns</p>\n",
       "</div>"
      ],
      "text/plain": [
       "                       id              user_id coordinates  \\\n",
       "0     1295805209722183684  1278716218766213123         NaN   \n",
       "1     1295805210552602630            919107205         NaN   \n",
       "2     1295805210841899008            437895421         NaN   \n",
       "3     1295805210452000769           2580087782         NaN   \n",
       "4     1295805210997272577             85601740         NaN   \n",
       "...                   ...                  ...         ...   \n",
       "2948  1295806234654904320  1249345381688848386         NaN   \n",
       "2949  1295806234961076224   773480035231666177         NaN   \n",
       "2950  1295806235476987904   900434878386319361         NaN   \n",
       "2951  1295806236173238273           1708692672         NaN   \n",
       "2952  1295806236416528384            177278400         NaN   \n",
       "\n",
       "                            location  \\\n",
       "0                                NaN   \n",
       "1                   Myrtle Beach, SC   \n",
       "2                      Roseville, CA   \n",
       "3                                NaN   \n",
       "4                   Honolulu, Hawaii   \n",
       "...                              ...   \n",
       "2948                             NaN   \n",
       "2949                  United Kingdom   \n",
       "2950                   Las Vegas, NV   \n",
       "2951   DC habitant, now Florida, USA   \n",
       "2952                             NaN   \n",
       "\n",
       "                               extended_tweet_full_text  \n",
       "0     can we wear clone helmets instead of masks to ...  \n",
       "1     SC Senate to reconvene in Sept. to discuss COV...  \n",
       "2     @JohnAvlon During the COVID-19 crisis, Pres. T...  \n",
       "3     We just gonna act like @JamesStormBrand wasn’t...  \n",
       "4     The COVID-19 pandemic has created unprecedente...  \n",
       "...                                                 ...  \n",
       "2948  @annatodd @aftermovie Can you tell us about th...  \n",
       "2949  This is a great time to join our exciting life...  \n",
       "2950  Even though there have been a few cases, COVID...  \n",
       "2951  Covid is raging in Florida, and I just got a c...  \n",
       "2952  I thought I’d like working from home for these...  \n",
       "\n",
       "[2953 rows x 5 columns]"
      ]
     },
     "execution_count": 19,
     "metadata": {},
     "output_type": "execute_result"
    }
   ],
   "source": [
    "non_rep"
   ]
  },
  {
   "cell_type": "code",
   "execution_count": 20,
   "metadata": {},
   "outputs": [
    {
     "data": {
      "text/plain": [
       "(2953, 5)"
      ]
     },
     "execution_count": 20,
     "metadata": {},
     "output_type": "execute_result"
    }
   ],
   "source": [
    "non_rep.drop_duplicates(['id']).shape"
   ]
  },
  {
   "cell_type": "code",
   "execution_count": 21,
   "metadata": {},
   "outputs": [],
   "source": [
    "non_rep = non_rep.drop_duplicates(['id']).reset_index(drop=True)"
   ]
  },
  {
   "cell_type": "markdown",
   "metadata": {},
   "source": [
    "##### is_quote_tweet --> False --> RT"
   ]
  },
  {
   "cell_type": "code",
   "execution_count": 22,
   "metadata": {},
   "outputs": [],
   "source": [
    "interim = data_en[np.where((data_en['is_quote_tweet']== False) & (data_en['RT_Flag']== True),True,False)].reset_index(drop=True)"
   ]
  },
  {
   "cell_type": "code",
   "execution_count": 23,
   "metadata": {},
   "outputs": [
    {
     "data": {
      "text/plain": [
       "(5589, 41)"
      ]
     },
     "execution_count": 23,
     "metadata": {},
     "output_type": "execute_result"
    }
   ],
   "source": [
    "interim.shape"
   ]
  },
  {
   "cell_type": "code",
   "execution_count": 24,
   "metadata": {},
   "outputs": [
    {
     "data": {
      "text/html": [
       "<div>\n",
       "<style scoped>\n",
       "    .dataframe tbody tr th:only-of-type {\n",
       "        vertical-align: middle;\n",
       "    }\n",
       "\n",
       "    .dataframe tbody tr th {\n",
       "        vertical-align: top;\n",
       "    }\n",
       "\n",
       "    .dataframe thead th {\n",
       "        text-align: right;\n",
       "    }\n",
       "</style>\n",
       "<table border=\"1\" class=\"dataframe\">\n",
       "  <thead>\n",
       "    <tr style=\"text-align: right;\">\n",
       "      <th></th>\n",
       "      <th>RT_text</th>\n",
       "      <th>RT_full_text</th>\n",
       "    </tr>\n",
       "  </thead>\n",
       "  <tbody>\n",
       "    <tr>\n",
       "      <th>0</th>\n",
       "      <td>Me in Quarantine vs the story I'll tell my gra...</td>\n",
       "      <td>NaN</td>\n",
       "    </tr>\n",
       "    <tr>\n",
       "      <th>1</th>\n",
       "      <td>Trust us. This time the data is good.\\n\\n2020,...</td>\n",
       "      <td>Trust us. This time the data is good.\\n\\n2020,...</td>\n",
       "    </tr>\n",
       "    <tr>\n",
       "      <th>2</th>\n",
       "      <td>I can’t believe China is partying and America ...</td>\n",
       "      <td>I can’t believe China is partying and America ...</td>\n",
       "    </tr>\n",
       "    <tr>\n",
       "      <th>3</th>\n",
       "      <td>Me in Quarantine vs the story I'll tell my gra...</td>\n",
       "      <td>NaN</td>\n",
       "    </tr>\n",
       "    <tr>\n",
       "      <th>4</th>\n",
       "      <td>pregnancy and corona really neck and neck for ...</td>\n",
       "      <td>NaN</td>\n",
       "    </tr>\n",
       "    <tr>\n",
       "      <th>...</th>\n",
       "      <td>...</td>\n",
       "      <td>...</td>\n",
       "    </tr>\n",
       "    <tr>\n",
       "      <th>5584</th>\n",
       "      <td>Florida reported 26,164 COVID-19 tests today w...</td>\n",
       "      <td>Florida reported 26,164 COVID-19 tests today w...</td>\n",
       "    </tr>\n",
       "    <tr>\n",
       "      <th>5585</th>\n",
       "      <td>Happy that netball is back next month, but now...</td>\n",
       "      <td>Happy that netball is back next month, but now...</td>\n",
       "    </tr>\n",
       "    <tr>\n",
       "      <th>5586</th>\n",
       "      <td>The best \"own\" that Trump has is that Michelle...</td>\n",
       "      <td>The best \"own\" that Trump has is that Michelle...</td>\n",
       "    </tr>\n",
       "    <tr>\n",
       "      <th>5587</th>\n",
       "      <td>Lessons from covid:\\n\\nLife is an absolute gif...</td>\n",
       "      <td>Lessons from covid:\\n\\nLife is an absolute gif...</td>\n",
       "    </tr>\n",
       "    <tr>\n",
       "      <th>5588</th>\n",
       "      <td>it’s a good thing tattoo parlors are closed du...</td>\n",
       "      <td>it’s a good thing tattoo parlors are closed du...</td>\n",
       "    </tr>\n",
       "  </tbody>\n",
       "</table>\n",
       "<p>5589 rows × 2 columns</p>\n",
       "</div>"
      ],
      "text/plain": [
       "                                                RT_text  \\\n",
       "0     Me in Quarantine vs the story I'll tell my gra...   \n",
       "1     Trust us. This time the data is good.\\n\\n2020,...   \n",
       "2     I can’t believe China is partying and America ...   \n",
       "3     Me in Quarantine vs the story I'll tell my gra...   \n",
       "4     pregnancy and corona really neck and neck for ...   \n",
       "...                                                 ...   \n",
       "5584  Florida reported 26,164 COVID-19 tests today w...   \n",
       "5585  Happy that netball is back next month, but now...   \n",
       "5586  The best \"own\" that Trump has is that Michelle...   \n",
       "5587  Lessons from covid:\\n\\nLife is an absolute gif...   \n",
       "5588  it’s a good thing tattoo parlors are closed du...   \n",
       "\n",
       "                                           RT_full_text  \n",
       "0                                                   NaN  \n",
       "1     Trust us. This time the data is good.\\n\\n2020,...  \n",
       "2     I can’t believe China is partying and America ...  \n",
       "3                                                   NaN  \n",
       "4                                                   NaN  \n",
       "...                                                 ...  \n",
       "5584  Florida reported 26,164 COVID-19 tests today w...  \n",
       "5585  Happy that netball is back next month, but now...  \n",
       "5586  The best \"own\" that Trump has is that Michelle...  \n",
       "5587  Lessons from covid:\\n\\nLife is an absolute gif...  \n",
       "5588  it’s a good thing tattoo parlors are closed du...  \n",
       "\n",
       "[5589 rows x 2 columns]"
      ]
     },
     "execution_count": 24,
     "metadata": {},
     "output_type": "execute_result"
    }
   ],
   "source": [
    "interim[['RT_text','RT_full_text']]"
   ]
  },
  {
   "cell_type": "code",
   "execution_count": 25,
   "metadata": {},
   "outputs": [],
   "source": [
    "interim['RT_full_text'] = np.where(interim['RT_full_text'].isna(),interim['RT_text'],interim['RT_full_text'])"
   ]
  },
  {
   "cell_type": "code",
   "execution_count": 26,
   "metadata": {},
   "outputs": [],
   "source": [
    "interim = interim[['RT_id','RT_user_id', 'RT_coordinates', 'RT_location','RT_full_text']]"
   ]
  },
  {
   "cell_type": "code",
   "execution_count": 27,
   "metadata": {
    "scrolled": false
   },
   "outputs": [
    {
     "data": {
      "text/html": [
       "<div>\n",
       "<style scoped>\n",
       "    .dataframe tbody tr th:only-of-type {\n",
       "        vertical-align: middle;\n",
       "    }\n",
       "\n",
       "    .dataframe tbody tr th {\n",
       "        vertical-align: top;\n",
       "    }\n",
       "\n",
       "    .dataframe thead th {\n",
       "        text-align: right;\n",
       "    }\n",
       "</style>\n",
       "<table border=\"1\" class=\"dataframe\">\n",
       "  <thead>\n",
       "    <tr style=\"text-align: right;\">\n",
       "      <th></th>\n",
       "      <th>RT_id</th>\n",
       "      <th>RT_user_id</th>\n",
       "      <th>RT_coordinates</th>\n",
       "      <th>RT_location</th>\n",
       "      <th>RT_full_text</th>\n",
       "    </tr>\n",
       "  </thead>\n",
       "  <tbody>\n",
       "    <tr>\n",
       "      <th>0</th>\n",
       "      <td>1.295085e+18</td>\n",
       "      <td>1.156820e+09</td>\n",
       "      <td>NaN</td>\n",
       "      <td>NaN</td>\n",
       "      <td>Me in Quarantine vs the story I'll tell my gra...</td>\n",
       "    </tr>\n",
       "    <tr>\n",
       "      <th>1</th>\n",
       "      <td>1.295767e+18</td>\n",
       "      <td>1.847898e+08</td>\n",
       "      <td>NaN</td>\n",
       "      <td>San Francisco</td>\n",
       "      <td>Trust us. This time the data is good.\\n\\n2020,...</td>\n",
       "    </tr>\n",
       "    <tr>\n",
       "      <th>2</th>\n",
       "      <td>1.295797e+18</td>\n",
       "      <td>2.581637e+07</td>\n",
       "      <td>NaN</td>\n",
       "      <td>Manhattan, New York</td>\n",
       "      <td>I can’t believe China is partying and America ...</td>\n",
       "    </tr>\n",
       "    <tr>\n",
       "      <th>3</th>\n",
       "      <td>1.295085e+18</td>\n",
       "      <td>1.156820e+09</td>\n",
       "      <td>NaN</td>\n",
       "      <td>NaN</td>\n",
       "      <td>Me in Quarantine vs the story I'll tell my gra...</td>\n",
       "    </tr>\n",
       "    <tr>\n",
       "      <th>4</th>\n",
       "      <td>1.295717e+18</td>\n",
       "      <td>2.146847e+08</td>\n",
       "      <td>NaN</td>\n",
       "      <td>NaN</td>\n",
       "      <td>pregnancy and corona really neck and neck for ...</td>\n",
       "    </tr>\n",
       "    <tr>\n",
       "      <th>...</th>\n",
       "      <td>...</td>\n",
       "      <td>...</td>\n",
       "      <td>...</td>\n",
       "      <td>...</td>\n",
       "      <td>...</td>\n",
       "    </tr>\n",
       "    <tr>\n",
       "      <th>5584</th>\n",
       "      <td>1.295743e+18</td>\n",
       "      <td>1.011971e+18</td>\n",
       "      <td>NaN</td>\n",
       "      <td>Santa Rosa Beach, FL</td>\n",
       "      <td>Florida reported 26,164 COVID-19 tests today w...</td>\n",
       "    </tr>\n",
       "    <tr>\n",
       "      <th>5585</th>\n",
       "      <td>1.295780e+18</td>\n",
       "      <td>9.655223e+07</td>\n",
       "      <td>NaN</td>\n",
       "      <td>London</td>\n",
       "      <td>Happy that netball is back next month, but now...</td>\n",
       "    </tr>\n",
       "    <tr>\n",
       "      <th>5586</th>\n",
       "      <td>1.295745e+18</td>\n",
       "      <td>2.378455e+08</td>\n",
       "      <td>NaN</td>\n",
       "      <td>Broadway - New York, NY</td>\n",
       "      <td>The best \"own\" that Trump has is that Michelle...</td>\n",
       "    </tr>\n",
       "    <tr>\n",
       "      <th>5587</th>\n",
       "      <td>1.295790e+18</td>\n",
       "      <td>9.286375e+17</td>\n",
       "      <td>NaN</td>\n",
       "      <td>Ladysmith South Africa</td>\n",
       "      <td>Lessons from covid:\\n\\nLife is an absolute gif...</td>\n",
       "    </tr>\n",
       "    <tr>\n",
       "      <th>5588</th>\n",
       "      <td>1.295538e+18</td>\n",
       "      <td>2.536561e+09</td>\n",
       "      <td>NaN</td>\n",
       "      <td>she/her</td>\n",
       "      <td>it’s a good thing tattoo parlors are closed du...</td>\n",
       "    </tr>\n",
       "  </tbody>\n",
       "</table>\n",
       "<p>5589 rows × 5 columns</p>\n",
       "</div>"
      ],
      "text/plain": [
       "             RT_id    RT_user_id RT_coordinates              RT_location  \\\n",
       "0     1.295085e+18  1.156820e+09            NaN                      NaN   \n",
       "1     1.295767e+18  1.847898e+08            NaN            San Francisco   \n",
       "2     1.295797e+18  2.581637e+07            NaN      Manhattan, New York   \n",
       "3     1.295085e+18  1.156820e+09            NaN                      NaN   \n",
       "4     1.295717e+18  2.146847e+08            NaN                      NaN   \n",
       "...            ...           ...            ...                      ...   \n",
       "5584  1.295743e+18  1.011971e+18            NaN     Santa Rosa Beach, FL   \n",
       "5585  1.295780e+18  9.655223e+07            NaN                   London   \n",
       "5586  1.295745e+18  2.378455e+08            NaN  Broadway - New York, NY   \n",
       "5587  1.295790e+18  9.286375e+17            NaN   Ladysmith South Africa   \n",
       "5588  1.295538e+18  2.536561e+09            NaN                  she/her   \n",
       "\n",
       "                                           RT_full_text  \n",
       "0     Me in Quarantine vs the story I'll tell my gra...  \n",
       "1     Trust us. This time the data is good.\\n\\n2020,...  \n",
       "2     I can’t believe China is partying and America ...  \n",
       "3     Me in Quarantine vs the story I'll tell my gra...  \n",
       "4     pregnancy and corona really neck and neck for ...  \n",
       "...                                                 ...  \n",
       "5584  Florida reported 26,164 COVID-19 tests today w...  \n",
       "5585  Happy that netball is back next month, but now...  \n",
       "5586  The best \"own\" that Trump has is that Michelle...  \n",
       "5587  Lessons from covid:\\n\\nLife is an absolute gif...  \n",
       "5588  it’s a good thing tattoo parlors are closed du...  \n",
       "\n",
       "[5589 rows x 5 columns]"
      ]
     },
     "execution_count": 27,
     "metadata": {},
     "output_type": "execute_result"
    }
   ],
   "source": [
    "interim"
   ]
  },
  {
   "cell_type": "code",
   "execution_count": 28,
   "metadata": {},
   "outputs": [],
   "source": [
    "interim = interim.drop_duplicates(['RT_id','RT_user_id']).reset_index(drop=True)"
   ]
  },
  {
   "cell_type": "code",
   "execution_count": 29,
   "metadata": {},
   "outputs": [
    {
     "data": {
      "text/plain": [
       "(2272, 5)"
      ]
     },
     "execution_count": 29,
     "metadata": {},
     "output_type": "execute_result"
    }
   ],
   "source": [
    "interim.shape"
   ]
  },
  {
   "cell_type": "code",
   "execution_count": 30,
   "metadata": {},
   "outputs": [],
   "source": [
    "interim.columns = non_rep.columns"
   ]
  },
  {
   "cell_type": "code",
   "execution_count": 31,
   "metadata": {},
   "outputs": [],
   "source": [
    "non_rep = non_rep.append(interim,ignore_index=True)"
   ]
  },
  {
   "cell_type": "code",
   "execution_count": 32,
   "metadata": {},
   "outputs": [
    {
     "data": {
      "text/plain": [
       "(5225, 5)"
      ]
     },
     "execution_count": 32,
     "metadata": {},
     "output_type": "execute_result"
    }
   ],
   "source": [
    "non_rep.shape"
   ]
  },
  {
   "cell_type": "code",
   "execution_count": 33,
   "metadata": {},
   "outputs": [
    {
     "data": {
      "text/plain": [
       "1.295806e+18    2\n",
       "1.295805e+18    2\n",
       "1.295806e+18    2\n",
       "1.295806e+18    2\n",
       "1.295806e+18    2\n",
       "               ..\n",
       "1.294645e+18    1\n",
       "1.295786e+18    1\n",
       "1.295572e+18    1\n",
       "1.295805e+18    1\n",
       "1.295776e+18    1\n",
       "Name: id, Length: 5113, dtype: int64"
      ]
     },
     "execution_count": 33,
     "metadata": {},
     "output_type": "execute_result"
    }
   ],
   "source": [
    "non_rep['id'].value_counts()"
   ]
  },
  {
   "cell_type": "code",
   "execution_count": 34,
   "metadata": {},
   "outputs": [],
   "source": [
    "non_rep = non_rep.drop_duplicates(['id']).reset_index(drop=True)"
   ]
  },
  {
   "cell_type": "code",
   "execution_count": 35,
   "metadata": {},
   "outputs": [
    {
     "data": {
      "text/plain": [
       "(5114, 5)"
      ]
     },
     "execution_count": 35,
     "metadata": {},
     "output_type": "execute_result"
    }
   ],
   "source": [
    "non_rep.shape"
   ]
  },
  {
   "cell_type": "markdown",
   "metadata": {},
   "source": [
    "##### is_quote_tweet --> True --> Non RT"
   ]
  },
  {
   "cell_type": "code",
   "execution_count": 36,
   "metadata": {},
   "outputs": [],
   "source": [
    "interim = data_en[np.where((data_en['is_quote_tweet']== True) & (data_en['RT_Flag']== False),True,False)].reset_index(drop=True)"
   ]
  },
  {
   "cell_type": "code",
   "execution_count": 37,
   "metadata": {},
   "outputs": [
    {
     "data": {
      "text/plain": [
       "(923, 41)"
      ]
     },
     "execution_count": 37,
     "metadata": {},
     "output_type": "execute_result"
    }
   ],
   "source": [
    "interim.shape"
   ]
  },
  {
   "cell_type": "code",
   "execution_count": 38,
   "metadata": {},
   "outputs": [],
   "source": [
    "interim['extended_tweet_full_text'] = np.where(~interim['truncated'],interim['text'],interim['extended_tweet_full_text'])"
   ]
  },
  {
   "cell_type": "code",
   "execution_count": 39,
   "metadata": {},
   "outputs": [],
   "source": [
    "interim = interim[['id','user_id', 'coordinates', 'location', 'extended_tweet_full_text']]"
   ]
  },
  {
   "cell_type": "code",
   "execution_count": 40,
   "metadata": {},
   "outputs": [],
   "source": [
    "interim.columns = non_rep.columns"
   ]
  },
  {
   "cell_type": "code",
   "execution_count": 41,
   "metadata": {},
   "outputs": [
    {
     "data": {
      "text/plain": [
       "(923, 5)"
      ]
     },
     "execution_count": 41,
     "metadata": {},
     "output_type": "execute_result"
    }
   ],
   "source": [
    "interim.shape"
   ]
  },
  {
   "cell_type": "code",
   "execution_count": 42,
   "metadata": {},
   "outputs": [],
   "source": [
    "interim = interim.drop_duplicates(['id','user_id']).reset_index(drop=True)"
   ]
  },
  {
   "cell_type": "code",
   "execution_count": 43,
   "metadata": {},
   "outputs": [
    {
     "data": {
      "text/plain": [
       "(923, 5)"
      ]
     },
     "execution_count": 43,
     "metadata": {},
     "output_type": "execute_result"
    }
   ],
   "source": [
    "interim.shape"
   ]
  },
  {
   "cell_type": "code",
   "execution_count": 44,
   "metadata": {},
   "outputs": [],
   "source": [
    "non_rep = non_rep.append(interim,ignore_index=True)"
   ]
  },
  {
   "cell_type": "code",
   "execution_count": 45,
   "metadata": {},
   "outputs": [
    {
     "data": {
      "text/plain": [
       "(6037, 5)"
      ]
     },
     "execution_count": 45,
     "metadata": {},
     "output_type": "execute_result"
    }
   ],
   "source": [
    "non_rep.shape"
   ]
  },
  {
   "cell_type": "code",
   "execution_count": 46,
   "metadata": {},
   "outputs": [],
   "source": [
    "non_rep = non_rep.drop_duplicates(['id']).reset_index(drop=True)"
   ]
  },
  {
   "cell_type": "code",
   "execution_count": 47,
   "metadata": {},
   "outputs": [
    {
     "data": {
      "text/plain": [
       "(6036, 5)"
      ]
     },
     "execution_count": 47,
     "metadata": {},
     "output_type": "execute_result"
    }
   ],
   "source": [
    "non_rep.shape"
   ]
  },
  {
   "cell_type": "code",
   "execution_count": 48,
   "metadata": {},
   "outputs": [],
   "source": [
    "interim = data_en[np.where((data_en['is_quote_tweet']== True) & (data_en['RT_Flag']== False),True,False)].reset_index(drop=True)"
   ]
  },
  {
   "cell_type": "code",
   "execution_count": 49,
   "metadata": {},
   "outputs": [
    {
     "data": {
      "text/plain": [
       "(923, 41)"
      ]
     },
     "execution_count": 49,
     "metadata": {},
     "output_type": "execute_result"
    }
   ],
   "source": [
    "interim.shape"
   ]
  },
  {
   "cell_type": "code",
   "execution_count": 50,
   "metadata": {},
   "outputs": [
    {
     "data": {
      "text/html": [
       "<div>\n",
       "<style scoped>\n",
       "    .dataframe tbody tr th:only-of-type {\n",
       "        vertical-align: middle;\n",
       "    }\n",
       "\n",
       "    .dataframe tbody tr th {\n",
       "        vertical-align: top;\n",
       "    }\n",
       "\n",
       "    .dataframe thead th {\n",
       "        text-align: right;\n",
       "    }\n",
       "</style>\n",
       "<table border=\"1\" class=\"dataframe\">\n",
       "  <thead>\n",
       "    <tr style=\"text-align: right;\">\n",
       "      <th></th>\n",
       "      <th>QT_text</th>\n",
       "      <th>QT_full_text</th>\n",
       "    </tr>\n",
       "  </thead>\n",
       "  <tbody>\n",
       "    <tr>\n",
       "      <th>0</th>\n",
       "      <td>“Our forecast for the US economy ... reflects ...</td>\n",
       "      <td>“Our forecast for the US economy ... reflects ...</td>\n",
       "    </tr>\n",
       "    <tr>\n",
       "      <th>1</th>\n",
       "      <td>Miami Dade’s antiquated storm drain system dum...</td>\n",
       "      <td>Miami Dade’s antiquated storm drain system dum...</td>\n",
       "    </tr>\n",
       "    <tr>\n",
       "      <th>2</th>\n",
       "      <td>Our Department will be opening up many of its ...</td>\n",
       "      <td>Our Department will be opening up many of its ...</td>\n",
       "    </tr>\n",
       "    <tr>\n",
       "      <th>3</th>\n",
       "      <td>I’m on a call with @SenBobCasey and @PAAttorne...</td>\n",
       "      <td>I’m on a call with @SenBobCasey and @PAAttorne...</td>\n",
       "    </tr>\n",
       "    <tr>\n",
       "      <th>4</th>\n",
       "      <td>my bf never missed a apt❤️ except for today ca...</td>\n",
       "      <td>NaN</td>\n",
       "    </tr>\n",
       "    <tr>\n",
       "      <th>...</th>\n",
       "      <td>...</td>\n",
       "      <td>...</td>\n",
       "    </tr>\n",
       "    <tr>\n",
       "      <th>918</th>\n",
       "      <td>UPDATE: COVID-19 cases in Ghana\\n\\nConfirmed -...</td>\n",
       "      <td>NaN</td>\n",
       "    </tr>\n",
       "    <tr>\n",
       "      <th>919</th>\n",
       "      <td>Never thought I would see the day I was sharin...</td>\n",
       "      <td>Never thought I would see the day I was sharin...</td>\n",
       "    </tr>\n",
       "    <tr>\n",
       "      <th>920</th>\n",
       "      <td>కావాల్సిన మందులు, పరికరాలు, ఇంజక్షన్లు, వెంటిల...</td>\n",
       "      <td>కావాల్సిన మందులు, పరికరాలు, ఇంజక్షన్లు, వెంటిల...</td>\n",
       "    </tr>\n",
       "    <tr>\n",
       "      <th>921</th>\n",
       "      <td>@realDonaldTrump The Trump Virus is making Ame...</td>\n",
       "      <td>@realDonaldTrump The Trump Virus is making Ame...</td>\n",
       "    </tr>\n",
       "    <tr>\n",
       "      <th>922</th>\n",
       "      <td>Wuhan wave.\\n\\nPeople watch a performance as t...</td>\n",
       "      <td>NaN</td>\n",
       "    </tr>\n",
       "  </tbody>\n",
       "</table>\n",
       "<p>923 rows × 2 columns</p>\n",
       "</div>"
      ],
      "text/plain": [
       "                                               QT_text  \\\n",
       "0    “Our forecast for the US economy ... reflects ...   \n",
       "1    Miami Dade’s antiquated storm drain system dum...   \n",
       "2    Our Department will be opening up many of its ...   \n",
       "3    I’m on a call with @SenBobCasey and @PAAttorne...   \n",
       "4    my bf never missed a apt❤️ except for today ca...   \n",
       "..                                                 ...   \n",
       "918  UPDATE: COVID-19 cases in Ghana\\n\\nConfirmed -...   \n",
       "919  Never thought I would see the day I was sharin...   \n",
       "920  కావాల్సిన మందులు, పరికరాలు, ఇంజక్షన్లు, వెంటిల...   \n",
       "921  @realDonaldTrump The Trump Virus is making Ame...   \n",
       "922  Wuhan wave.\\n\\nPeople watch a performance as t...   \n",
       "\n",
       "                                          QT_full_text  \n",
       "0    “Our forecast for the US economy ... reflects ...  \n",
       "1    Miami Dade’s antiquated storm drain system dum...  \n",
       "2    Our Department will be opening up many of its ...  \n",
       "3    I’m on a call with @SenBobCasey and @PAAttorne...  \n",
       "4                                                  NaN  \n",
       "..                                                 ...  \n",
       "918                                                NaN  \n",
       "919  Never thought I would see the day I was sharin...  \n",
       "920  కావాల్సిన మందులు, పరికరాలు, ఇంజక్షన్లు, వెంటిల...  \n",
       "921  @realDonaldTrump The Trump Virus is making Ame...  \n",
       "922                                                NaN  \n",
       "\n",
       "[923 rows x 2 columns]"
      ]
     },
     "execution_count": 50,
     "metadata": {},
     "output_type": "execute_result"
    }
   ],
   "source": [
    "interim[['QT_text','QT_full_text']]"
   ]
  },
  {
   "cell_type": "code",
   "execution_count": 51,
   "metadata": {},
   "outputs": [],
   "source": [
    "interim['QT_full_text'] = np.where(interim['QT_full_text'].isna(),interim['QT_text'],interim['QT_full_text'])"
   ]
  },
  {
   "cell_type": "code",
   "execution_count": 52,
   "metadata": {},
   "outputs": [
    {
     "data": {
      "text/html": [
       "<div>\n",
       "<style scoped>\n",
       "    .dataframe tbody tr th:only-of-type {\n",
       "        vertical-align: middle;\n",
       "    }\n",
       "\n",
       "    .dataframe tbody tr th {\n",
       "        vertical-align: top;\n",
       "    }\n",
       "\n",
       "    .dataframe thead th {\n",
       "        text-align: right;\n",
       "    }\n",
       "</style>\n",
       "<table border=\"1\" class=\"dataframe\">\n",
       "  <thead>\n",
       "    <tr style=\"text-align: right;\">\n",
       "      <th></th>\n",
       "      <th>QT_text</th>\n",
       "      <th>QT_full_text</th>\n",
       "    </tr>\n",
       "  </thead>\n",
       "  <tbody>\n",
       "    <tr>\n",
       "      <th>0</th>\n",
       "      <td>“Our forecast for the US economy ... reflects ...</td>\n",
       "      <td>“Our forecast for the US economy ... reflects ...</td>\n",
       "    </tr>\n",
       "    <tr>\n",
       "      <th>1</th>\n",
       "      <td>Miami Dade’s antiquated storm drain system dum...</td>\n",
       "      <td>Miami Dade’s antiquated storm drain system dum...</td>\n",
       "    </tr>\n",
       "    <tr>\n",
       "      <th>2</th>\n",
       "      <td>Our Department will be opening up many of its ...</td>\n",
       "      <td>Our Department will be opening up many of its ...</td>\n",
       "    </tr>\n",
       "    <tr>\n",
       "      <th>3</th>\n",
       "      <td>I’m on a call with @SenBobCasey and @PAAttorne...</td>\n",
       "      <td>I’m on a call with @SenBobCasey and @PAAttorne...</td>\n",
       "    </tr>\n",
       "    <tr>\n",
       "      <th>4</th>\n",
       "      <td>my bf never missed a apt❤️ except for today ca...</td>\n",
       "      <td>my bf never missed a apt❤️ except for today ca...</td>\n",
       "    </tr>\n",
       "    <tr>\n",
       "      <th>...</th>\n",
       "      <td>...</td>\n",
       "      <td>...</td>\n",
       "    </tr>\n",
       "    <tr>\n",
       "      <th>918</th>\n",
       "      <td>UPDATE: COVID-19 cases in Ghana\\n\\nConfirmed -...</td>\n",
       "      <td>UPDATE: COVID-19 cases in Ghana\\n\\nConfirmed -...</td>\n",
       "    </tr>\n",
       "    <tr>\n",
       "      <th>919</th>\n",
       "      <td>Never thought I would see the day I was sharin...</td>\n",
       "      <td>Never thought I would see the day I was sharin...</td>\n",
       "    </tr>\n",
       "    <tr>\n",
       "      <th>920</th>\n",
       "      <td>కావాల్సిన మందులు, పరికరాలు, ఇంజక్షన్లు, వెంటిల...</td>\n",
       "      <td>కావాల్సిన మందులు, పరికరాలు, ఇంజక్షన్లు, వెంటిల...</td>\n",
       "    </tr>\n",
       "    <tr>\n",
       "      <th>921</th>\n",
       "      <td>@realDonaldTrump The Trump Virus is making Ame...</td>\n",
       "      <td>@realDonaldTrump The Trump Virus is making Ame...</td>\n",
       "    </tr>\n",
       "    <tr>\n",
       "      <th>922</th>\n",
       "      <td>Wuhan wave.\\n\\nPeople watch a performance as t...</td>\n",
       "      <td>Wuhan wave.\\n\\nPeople watch a performance as t...</td>\n",
       "    </tr>\n",
       "  </tbody>\n",
       "</table>\n",
       "<p>923 rows × 2 columns</p>\n",
       "</div>"
      ],
      "text/plain": [
       "                                               QT_text  \\\n",
       "0    “Our forecast for the US economy ... reflects ...   \n",
       "1    Miami Dade’s antiquated storm drain system dum...   \n",
       "2    Our Department will be opening up many of its ...   \n",
       "3    I’m on a call with @SenBobCasey and @PAAttorne...   \n",
       "4    my bf never missed a apt❤️ except for today ca...   \n",
       "..                                                 ...   \n",
       "918  UPDATE: COVID-19 cases in Ghana\\n\\nConfirmed -...   \n",
       "919  Never thought I would see the day I was sharin...   \n",
       "920  కావాల్సిన మందులు, పరికరాలు, ఇంజక్షన్లు, వెంటిల...   \n",
       "921  @realDonaldTrump The Trump Virus is making Ame...   \n",
       "922  Wuhan wave.\\n\\nPeople watch a performance as t...   \n",
       "\n",
       "                                          QT_full_text  \n",
       "0    “Our forecast for the US economy ... reflects ...  \n",
       "1    Miami Dade’s antiquated storm drain system dum...  \n",
       "2    Our Department will be opening up many of its ...  \n",
       "3    I’m on a call with @SenBobCasey and @PAAttorne...  \n",
       "4    my bf never missed a apt❤️ except for today ca...  \n",
       "..                                                 ...  \n",
       "918  UPDATE: COVID-19 cases in Ghana\\n\\nConfirmed -...  \n",
       "919  Never thought I would see the day I was sharin...  \n",
       "920  కావాల్సిన మందులు, పరికరాలు, ఇంజక్షన్లు, వెంటిల...  \n",
       "921  @realDonaldTrump The Trump Virus is making Ame...  \n",
       "922  Wuhan wave.\\n\\nPeople watch a performance as t...  \n",
       "\n",
       "[923 rows x 2 columns]"
      ]
     },
     "execution_count": 52,
     "metadata": {},
     "output_type": "execute_result"
    }
   ],
   "source": [
    "interim[['QT_text','QT_full_text']]"
   ]
  },
  {
   "cell_type": "code",
   "execution_count": 53,
   "metadata": {},
   "outputs": [],
   "source": [
    "interim = interim[['QT_id','QT_user_id', 'QT_coordinates', 'QT_location', 'QT_full_text']]"
   ]
  },
  {
   "cell_type": "code",
   "execution_count": 54,
   "metadata": {},
   "outputs": [
    {
     "data": {
      "text/html": [
       "<div>\n",
       "<style scoped>\n",
       "    .dataframe tbody tr th:only-of-type {\n",
       "        vertical-align: middle;\n",
       "    }\n",
       "\n",
       "    .dataframe tbody tr th {\n",
       "        vertical-align: top;\n",
       "    }\n",
       "\n",
       "    .dataframe thead th {\n",
       "        text-align: right;\n",
       "    }\n",
       "</style>\n",
       "<table border=\"1\" class=\"dataframe\">\n",
       "  <thead>\n",
       "    <tr style=\"text-align: right;\">\n",
       "      <th></th>\n",
       "      <th>QT_id</th>\n",
       "      <th>QT_user_id</th>\n",
       "      <th>QT_coordinates</th>\n",
       "      <th>QT_location</th>\n",
       "      <th>QT_full_text</th>\n",
       "    </tr>\n",
       "  </thead>\n",
       "  <tbody>\n",
       "    <tr>\n",
       "      <th>0</th>\n",
       "      <td>1.295798e+18</td>\n",
       "      <td>3.988421e+08</td>\n",
       "      <td>NaN</td>\n",
       "      <td>Manchester, NH</td>\n",
       "      <td>“Our forecast for the US economy ... reflects ...</td>\n",
       "    </tr>\n",
       "    <tr>\n",
       "      <th>1</th>\n",
       "      <td>1.295572e+18</td>\n",
       "      <td>5.881261e+07</td>\n",
       "      <td>NaN</td>\n",
       "      <td>Los Angeles</td>\n",
       "      <td>Miami Dade’s antiquated storm drain system dum...</td>\n",
       "    </tr>\n",
       "    <tr>\n",
       "      <th>2</th>\n",
       "      <td>1.295707e+18</td>\n",
       "      <td>7.054442e+17</td>\n",
       "      <td>NaN</td>\n",
       "      <td>University Park, PA</td>\n",
       "      <td>Our Department will be opening up many of its ...</td>\n",
       "    </tr>\n",
       "    <tr>\n",
       "      <th>3</th>\n",
       "      <td>1.295789e+18</td>\n",
       "      <td>2.978838e+09</td>\n",
       "      <td>NaN</td>\n",
       "      <td>Harrisburg, PA</td>\n",
       "      <td>I’m on a call with @SenBobCasey and @PAAttorne...</td>\n",
       "    </tr>\n",
       "    <tr>\n",
       "      <th>4</th>\n",
       "      <td>1.295805e+18</td>\n",
       "      <td>1.245075e+18</td>\n",
       "      <td>NaN</td>\n",
       "      <td>NaN</td>\n",
       "      <td>my bf never missed a apt❤️ except for today ca...</td>\n",
       "    </tr>\n",
       "    <tr>\n",
       "      <th>...</th>\n",
       "      <td>...</td>\n",
       "      <td>...</td>\n",
       "      <td>...</td>\n",
       "      <td>...</td>\n",
       "      <td>...</td>\n",
       "    </tr>\n",
       "    <tr>\n",
       "      <th>918</th>\n",
       "      <td>1.295805e+18</td>\n",
       "      <td>1.200873e+18</td>\n",
       "      <td>NaN</td>\n",
       "      <td>Ghana</td>\n",
       "      <td>UPDATE: COVID-19 cases in Ghana\\n\\nConfirmed -...</td>\n",
       "    </tr>\n",
       "    <tr>\n",
       "      <th>919</th>\n",
       "      <td>1.295721e+18</td>\n",
       "      <td>1.207341e+18</td>\n",
       "      <td>NaN</td>\n",
       "      <td>NaN</td>\n",
       "      <td>Never thought I would see the day I was sharin...</td>\n",
       "    </tr>\n",
       "    <tr>\n",
       "      <th>920</th>\n",
       "      <td>1.295729e+18</td>\n",
       "      <td>2.558684e+09</td>\n",
       "      <td>NaN</td>\n",
       "      <td>Hyderabad</td>\n",
       "      <td>కావాల్సిన మందులు, పరికరాలు, ఇంజక్షన్లు, వెంటిల...</td>\n",
       "    </tr>\n",
       "    <tr>\n",
       "      <th>921</th>\n",
       "      <td>1.295793e+18</td>\n",
       "      <td>1.225147e+18</td>\n",
       "      <td>NaN</td>\n",
       "      <td>NaN</td>\n",
       "      <td>@realDonaldTrump The Trump Virus is making Ame...</td>\n",
       "    </tr>\n",
       "    <tr>\n",
       "      <th>922</th>\n",
       "      <td>1.295256e+18</td>\n",
       "      <td>3.806486e+08</td>\n",
       "      <td>NaN</td>\n",
       "      <td>France</td>\n",
       "      <td>Wuhan wave.\\n\\nPeople watch a performance as t...</td>\n",
       "    </tr>\n",
       "  </tbody>\n",
       "</table>\n",
       "<p>923 rows × 5 columns</p>\n",
       "</div>"
      ],
      "text/plain": [
       "            QT_id    QT_user_id  QT_coordinates          QT_location  \\\n",
       "0    1.295798e+18  3.988421e+08             NaN       Manchester, NH   \n",
       "1    1.295572e+18  5.881261e+07             NaN          Los Angeles   \n",
       "2    1.295707e+18  7.054442e+17             NaN  University Park, PA   \n",
       "3    1.295789e+18  2.978838e+09             NaN       Harrisburg, PA   \n",
       "4    1.295805e+18  1.245075e+18             NaN                  NaN   \n",
       "..            ...           ...             ...                  ...   \n",
       "918  1.295805e+18  1.200873e+18             NaN                Ghana   \n",
       "919  1.295721e+18  1.207341e+18             NaN                  NaN   \n",
       "920  1.295729e+18  2.558684e+09             NaN            Hyderabad   \n",
       "921  1.295793e+18  1.225147e+18             NaN                  NaN   \n",
       "922  1.295256e+18  3.806486e+08             NaN               France   \n",
       "\n",
       "                                          QT_full_text  \n",
       "0    “Our forecast for the US economy ... reflects ...  \n",
       "1    Miami Dade’s antiquated storm drain system dum...  \n",
       "2    Our Department will be opening up many of its ...  \n",
       "3    I’m on a call with @SenBobCasey and @PAAttorne...  \n",
       "4    my bf never missed a apt❤️ except for today ca...  \n",
       "..                                                 ...  \n",
       "918  UPDATE: COVID-19 cases in Ghana\\n\\nConfirmed -...  \n",
       "919  Never thought I would see the day I was sharin...  \n",
       "920  కావాల్సిన మందులు, పరికరాలు, ఇంజక్షన్లు, వెంటిల...  \n",
       "921  @realDonaldTrump The Trump Virus is making Ame...  \n",
       "922  Wuhan wave.\\n\\nPeople watch a performance as t...  \n",
       "\n",
       "[923 rows x 5 columns]"
      ]
     },
     "execution_count": 54,
     "metadata": {},
     "output_type": "execute_result"
    }
   ],
   "source": [
    "interim"
   ]
  },
  {
   "cell_type": "code",
   "execution_count": 55,
   "metadata": {},
   "outputs": [],
   "source": [
    "interim = interim.drop_duplicates(['QT_id' ,'QT_user_id']).reset_index(drop=True)"
   ]
  },
  {
   "cell_type": "code",
   "execution_count": 56,
   "metadata": {},
   "outputs": [
    {
     "data": {
      "text/plain": [
       "(680, 5)"
      ]
     },
     "execution_count": 56,
     "metadata": {},
     "output_type": "execute_result"
    }
   ],
   "source": [
    "interim.shape"
   ]
  },
  {
   "cell_type": "code",
   "execution_count": 57,
   "metadata": {},
   "outputs": [],
   "source": [
    "interim.columns = non_rep.columns"
   ]
  },
  {
   "cell_type": "code",
   "execution_count": 58,
   "metadata": {},
   "outputs": [],
   "source": [
    "non_rep = non_rep.append(interim,ignore_index=True)"
   ]
  },
  {
   "cell_type": "code",
   "execution_count": 59,
   "metadata": {},
   "outputs": [
    {
     "data": {
      "text/plain": [
       "(6716, 5)"
      ]
     },
     "execution_count": 59,
     "metadata": {},
     "output_type": "execute_result"
    }
   ],
   "source": [
    "non_rep.shape"
   ]
  },
  {
   "cell_type": "code",
   "execution_count": 60,
   "metadata": {},
   "outputs": [],
   "source": [
    "non_rep = non_rep.drop_duplicates(['id']).reset_index(drop=True)"
   ]
  },
  {
   "cell_type": "code",
   "execution_count": 61,
   "metadata": {},
   "outputs": [
    {
     "data": {
      "text/plain": [
       "(6553, 5)"
      ]
     },
     "execution_count": 61,
     "metadata": {},
     "output_type": "execute_result"
    }
   ],
   "source": [
    "non_rep.shape"
   ]
  },
  {
   "cell_type": "markdown",
   "metadata": {},
   "source": [
    "##### is_quote_tweet --> True --> RT"
   ]
  },
  {
   "cell_type": "code",
   "execution_count": 62,
   "metadata": {},
   "outputs": [],
   "source": [
    "interim = data_en[np.where((data_en['is_quote_tweet']== True) & (data_en['RT_Flag']== True),True,False)].reset_index(drop=True)"
   ]
  },
  {
   "cell_type": "code",
   "execution_count": 63,
   "metadata": {},
   "outputs": [
    {
     "data": {
      "text/plain": [
       "(1764, 41)"
      ]
     },
     "execution_count": 63,
     "metadata": {},
     "output_type": "execute_result"
    }
   ],
   "source": [
    "interim.shape"
   ]
  },
  {
   "cell_type": "code",
   "execution_count": 64,
   "metadata": {},
   "outputs": [
    {
     "data": {
      "text/html": [
       "<div>\n",
       "<style scoped>\n",
       "    .dataframe tbody tr th:only-of-type {\n",
       "        vertical-align: middle;\n",
       "    }\n",
       "\n",
       "    .dataframe tbody tr th {\n",
       "        vertical-align: top;\n",
       "    }\n",
       "\n",
       "    .dataframe thead th {\n",
       "        text-align: right;\n",
       "    }\n",
       "</style>\n",
       "<table border=\"1\" class=\"dataframe\">\n",
       "  <thead>\n",
       "    <tr style=\"text-align: right;\">\n",
       "      <th></th>\n",
       "      <th>RT_text</th>\n",
       "      <th>RT_full_text</th>\n",
       "    </tr>\n",
       "  </thead>\n",
       "  <tbody>\n",
       "    <tr>\n",
       "      <th>0</th>\n",
       "      <td>Biden thanks Cuomo. The AP recently estimated ...</td>\n",
       "      <td>Biden thanks Cuomo. The AP recently estimated ...</td>\n",
       "    </tr>\n",
       "    <tr>\n",
       "      <th>1</th>\n",
       "      <td>Nothing that includes men at night is worth it</td>\n",
       "      <td>NaN</td>\n",
       "    </tr>\n",
       "    <tr>\n",
       "      <th>2</th>\n",
       "      <td>.If they can't count tests properly, how can t...</td>\n",
       "      <td>NaN</td>\n",
       "    </tr>\n",
       "    <tr>\n",
       "      <th>3</th>\n",
       "      <td>Remember..Kim Klacik's husband Jeff Klacik is ...</td>\n",
       "      <td>Remember..Kim Klacik's husband Jeff Klacik is ...</td>\n",
       "    </tr>\n",
       "    <tr>\n",
       "      <th>4</th>\n",
       "      <td>The “I want female rappers with substance” cro...</td>\n",
       "      <td>NaN</td>\n",
       "    </tr>\n",
       "    <tr>\n",
       "      <th>...</th>\n",
       "      <td>...</td>\n",
       "      <td>...</td>\n",
       "    </tr>\n",
       "    <tr>\n",
       "      <th>1759</th>\n",
       "      <td>@drharshvardhan @myogiadityanath @republic @Re...</td>\n",
       "      <td>@drharshvardhan @myogiadityanath @republic @Re...</td>\n",
       "    </tr>\n",
       "    <tr>\n",
       "      <th>1760</th>\n",
       "      <td>Join us tonight at 8pm! Let's talk about back ...</td>\n",
       "      <td>NaN</td>\n",
       "    </tr>\n",
       "    <tr>\n",
       "      <th>1761</th>\n",
       "      <td>How BLOODY CORRUPT doe's it have to be, Wuhan ...</td>\n",
       "      <td>NaN</td>\n",
       "    </tr>\n",
       "    <tr>\n",
       "      <th>1762</th>\n",
       "      <td>More than 10,000 Texans have died from covid, ...</td>\n",
       "      <td>More than 10,000 Texans have died from covid, ...</td>\n",
       "    </tr>\n",
       "    <tr>\n",
       "      <th>1763</th>\n",
       "      <td>Freeport need a hospital ASAP\\n\\nRehire all ju...</td>\n",
       "      <td>Freeport need a hospital ASAP\\n\\nRehire all ju...</td>\n",
       "    </tr>\n",
       "  </tbody>\n",
       "</table>\n",
       "<p>1764 rows × 2 columns</p>\n",
       "</div>"
      ],
      "text/plain": [
       "                                                RT_text  \\\n",
       "0     Biden thanks Cuomo. The AP recently estimated ...   \n",
       "1        Nothing that includes men at night is worth it   \n",
       "2     .If they can't count tests properly, how can t...   \n",
       "3     Remember..Kim Klacik's husband Jeff Klacik is ...   \n",
       "4     The “I want female rappers with substance” cro...   \n",
       "...                                                 ...   \n",
       "1759  @drharshvardhan @myogiadityanath @republic @Re...   \n",
       "1760  Join us tonight at 8pm! Let's talk about back ...   \n",
       "1761  How BLOODY CORRUPT doe's it have to be, Wuhan ...   \n",
       "1762  More than 10,000 Texans have died from covid, ...   \n",
       "1763  Freeport need a hospital ASAP\\n\\nRehire all ju...   \n",
       "\n",
       "                                           RT_full_text  \n",
       "0     Biden thanks Cuomo. The AP recently estimated ...  \n",
       "1                                                   NaN  \n",
       "2                                                   NaN  \n",
       "3     Remember..Kim Klacik's husband Jeff Klacik is ...  \n",
       "4                                                   NaN  \n",
       "...                                                 ...  \n",
       "1759  @drharshvardhan @myogiadityanath @republic @Re...  \n",
       "1760                                                NaN  \n",
       "1761                                                NaN  \n",
       "1762  More than 10,000 Texans have died from covid, ...  \n",
       "1763  Freeport need a hospital ASAP\\n\\nRehire all ju...  \n",
       "\n",
       "[1764 rows x 2 columns]"
      ]
     },
     "execution_count": 64,
     "metadata": {},
     "output_type": "execute_result"
    }
   ],
   "source": [
    "interim[['RT_text','RT_full_text']]"
   ]
  },
  {
   "cell_type": "code",
   "execution_count": 65,
   "metadata": {},
   "outputs": [],
   "source": [
    "interim['RT_full_text'] = np.where(interim['RT_full_text'].isna(),interim['RT_text'],interim['RT_full_text'])"
   ]
  },
  {
   "cell_type": "code",
   "execution_count": 66,
   "metadata": {},
   "outputs": [
    {
     "data": {
      "text/plain": [
       "(1764, 41)"
      ]
     },
     "execution_count": 66,
     "metadata": {},
     "output_type": "execute_result"
    }
   ],
   "source": [
    "interim.shape"
   ]
  },
  {
   "cell_type": "code",
   "execution_count": 67,
   "metadata": {},
   "outputs": [
    {
     "data": {
      "text/html": [
       "<div>\n",
       "<style scoped>\n",
       "    .dataframe tbody tr th:only-of-type {\n",
       "        vertical-align: middle;\n",
       "    }\n",
       "\n",
       "    .dataframe tbody tr th {\n",
       "        vertical-align: top;\n",
       "    }\n",
       "\n",
       "    .dataframe thead th {\n",
       "        text-align: right;\n",
       "    }\n",
       "</style>\n",
       "<table border=\"1\" class=\"dataframe\">\n",
       "  <thead>\n",
       "    <tr style=\"text-align: right;\">\n",
       "      <th></th>\n",
       "      <th>RT_text</th>\n",
       "      <th>RT_full_text</th>\n",
       "    </tr>\n",
       "  </thead>\n",
       "  <tbody>\n",
       "    <tr>\n",
       "      <th>0</th>\n",
       "      <td>Biden thanks Cuomo. The AP recently estimated ...</td>\n",
       "      <td>Biden thanks Cuomo. The AP recently estimated ...</td>\n",
       "    </tr>\n",
       "    <tr>\n",
       "      <th>1</th>\n",
       "      <td>Nothing that includes men at night is worth it</td>\n",
       "      <td>Nothing that includes men at night is worth it</td>\n",
       "    </tr>\n",
       "    <tr>\n",
       "      <th>2</th>\n",
       "      <td>.If they can't count tests properly, how can t...</td>\n",
       "      <td>.If they can't count tests properly, how can t...</td>\n",
       "    </tr>\n",
       "    <tr>\n",
       "      <th>3</th>\n",
       "      <td>Remember..Kim Klacik's husband Jeff Klacik is ...</td>\n",
       "      <td>Remember..Kim Klacik's husband Jeff Klacik is ...</td>\n",
       "    </tr>\n",
       "    <tr>\n",
       "      <th>4</th>\n",
       "      <td>The “I want female rappers with substance” cro...</td>\n",
       "      <td>The “I want female rappers with substance” cro...</td>\n",
       "    </tr>\n",
       "    <tr>\n",
       "      <th>...</th>\n",
       "      <td>...</td>\n",
       "      <td>...</td>\n",
       "    </tr>\n",
       "    <tr>\n",
       "      <th>1759</th>\n",
       "      <td>@drharshvardhan @myogiadityanath @republic @Re...</td>\n",
       "      <td>@drharshvardhan @myogiadityanath @republic @Re...</td>\n",
       "    </tr>\n",
       "    <tr>\n",
       "      <th>1760</th>\n",
       "      <td>Join us tonight at 8pm! Let's talk about back ...</td>\n",
       "      <td>Join us tonight at 8pm! Let's talk about back ...</td>\n",
       "    </tr>\n",
       "    <tr>\n",
       "      <th>1761</th>\n",
       "      <td>How BLOODY CORRUPT doe's it have to be, Wuhan ...</td>\n",
       "      <td>How BLOODY CORRUPT doe's it have to be, Wuhan ...</td>\n",
       "    </tr>\n",
       "    <tr>\n",
       "      <th>1762</th>\n",
       "      <td>More than 10,000 Texans have died from covid, ...</td>\n",
       "      <td>More than 10,000 Texans have died from covid, ...</td>\n",
       "    </tr>\n",
       "    <tr>\n",
       "      <th>1763</th>\n",
       "      <td>Freeport need a hospital ASAP\\n\\nRehire all ju...</td>\n",
       "      <td>Freeport need a hospital ASAP\\n\\nRehire all ju...</td>\n",
       "    </tr>\n",
       "  </tbody>\n",
       "</table>\n",
       "<p>1764 rows × 2 columns</p>\n",
       "</div>"
      ],
      "text/plain": [
       "                                                RT_text  \\\n",
       "0     Biden thanks Cuomo. The AP recently estimated ...   \n",
       "1        Nothing that includes men at night is worth it   \n",
       "2     .If they can't count tests properly, how can t...   \n",
       "3     Remember..Kim Klacik's husband Jeff Klacik is ...   \n",
       "4     The “I want female rappers with substance” cro...   \n",
       "...                                                 ...   \n",
       "1759  @drharshvardhan @myogiadityanath @republic @Re...   \n",
       "1760  Join us tonight at 8pm! Let's talk about back ...   \n",
       "1761  How BLOODY CORRUPT doe's it have to be, Wuhan ...   \n",
       "1762  More than 10,000 Texans have died from covid, ...   \n",
       "1763  Freeport need a hospital ASAP\\n\\nRehire all ju...   \n",
       "\n",
       "                                           RT_full_text  \n",
       "0     Biden thanks Cuomo. The AP recently estimated ...  \n",
       "1        Nothing that includes men at night is worth it  \n",
       "2     .If they can't count tests properly, how can t...  \n",
       "3     Remember..Kim Klacik's husband Jeff Klacik is ...  \n",
       "4     The “I want female rappers with substance” cro...  \n",
       "...                                                 ...  \n",
       "1759  @drharshvardhan @myogiadityanath @republic @Re...  \n",
       "1760  Join us tonight at 8pm! Let's talk about back ...  \n",
       "1761  How BLOODY CORRUPT doe's it have to be, Wuhan ...  \n",
       "1762  More than 10,000 Texans have died from covid, ...  \n",
       "1763  Freeport need a hospital ASAP\\n\\nRehire all ju...  \n",
       "\n",
       "[1764 rows x 2 columns]"
      ]
     },
     "execution_count": 67,
     "metadata": {},
     "output_type": "execute_result"
    }
   ],
   "source": [
    "interim[['RT_text','RT_full_text']]"
   ]
  },
  {
   "cell_type": "code",
   "execution_count": 68,
   "metadata": {},
   "outputs": [],
   "source": [
    "interim = interim[['RT_id','RT_user_id', 'RT_coordinates', 'RT_location','RT_full_text']]"
   ]
  },
  {
   "cell_type": "code",
   "execution_count": 69,
   "metadata": {},
   "outputs": [
    {
     "data": {
      "text/html": [
       "<div>\n",
       "<style scoped>\n",
       "    .dataframe tbody tr th:only-of-type {\n",
       "        vertical-align: middle;\n",
       "    }\n",
       "\n",
       "    .dataframe tbody tr th {\n",
       "        vertical-align: top;\n",
       "    }\n",
       "\n",
       "    .dataframe thead th {\n",
       "        text-align: right;\n",
       "    }\n",
       "</style>\n",
       "<table border=\"1\" class=\"dataframe\">\n",
       "  <thead>\n",
       "    <tr style=\"text-align: right;\">\n",
       "      <th></th>\n",
       "      <th>RT_id</th>\n",
       "      <th>RT_user_id</th>\n",
       "      <th>RT_coordinates</th>\n",
       "      <th>RT_location</th>\n",
       "      <th>RT_full_text</th>\n",
       "    </tr>\n",
       "  </thead>\n",
       "  <tbody>\n",
       "    <tr>\n",
       "      <th>0</th>\n",
       "      <td>1.295540e+18</td>\n",
       "      <td>5.919733e+08</td>\n",
       "      <td>NaN</td>\n",
       "      <td>Washington, DC</td>\n",
       "      <td>Biden thanks Cuomo. The AP recently estimated ...</td>\n",
       "    </tr>\n",
       "    <tr>\n",
       "      <th>1</th>\n",
       "      <td>1.295752e+18</td>\n",
       "      <td>1.699632e+09</td>\n",
       "      <td>NaN</td>\n",
       "      <td>Johannesburg</td>\n",
       "      <td>Nothing that includes men at night is worth it</td>\n",
       "    </tr>\n",
       "    <tr>\n",
       "      <th>2</th>\n",
       "      <td>1.295743e+18</td>\n",
       "      <td>1.254551e+08</td>\n",
       "      <td>NaN</td>\n",
       "      <td>USA</td>\n",
       "      <td>.If they can't count tests properly, how can t...</td>\n",
       "    </tr>\n",
       "    <tr>\n",
       "      <th>3</th>\n",
       "      <td>1.295800e+18</td>\n",
       "      <td>1.694849e+07</td>\n",
       "      <td>NaN</td>\n",
       "      <td>Los Angeles</td>\n",
       "      <td>Remember..Kim Klacik's husband Jeff Klacik is ...</td>\n",
       "    </tr>\n",
       "    <tr>\n",
       "      <th>4</th>\n",
       "      <td>1.295401e+18</td>\n",
       "      <td>2.975633e+07</td>\n",
       "      <td>NaN</td>\n",
       "      <td>Negro, Please USA</td>\n",
       "      <td>The “I want female rappers with substance” cro...</td>\n",
       "    </tr>\n",
       "    <tr>\n",
       "      <th>...</th>\n",
       "      <td>...</td>\n",
       "      <td>...</td>\n",
       "      <td>...</td>\n",
       "      <td>...</td>\n",
       "      <td>...</td>\n",
       "    </tr>\n",
       "    <tr>\n",
       "      <th>1759</th>\n",
       "      <td>1.295806e+18</td>\n",
       "      <td>1.247131e+18</td>\n",
       "      <td>NaN</td>\n",
       "      <td>NaN</td>\n",
       "      <td>@drharshvardhan @myogiadityanath @republic @Re...</td>\n",
       "    </tr>\n",
       "    <tr>\n",
       "      <th>1760</th>\n",
       "      <td>1.295782e+18</td>\n",
       "      <td>5.495877e+08</td>\n",
       "      <td>NaN</td>\n",
       "      <td>Toronto, ON Canada</td>\n",
       "      <td>Join us tonight at 8pm! Let's talk about back ...</td>\n",
       "    </tr>\n",
       "    <tr>\n",
       "      <th>1761</th>\n",
       "      <td>1.295723e+18</td>\n",
       "      <td>1.249334e+18</td>\n",
       "      <td>NaN</td>\n",
       "      <td>England🏴󠁧󠁢󠁥󠁮󠁧󠁿</td>\n",
       "      <td>How BLOODY CORRUPT doe's it have to be, Wuhan ...</td>\n",
       "    </tr>\n",
       "    <tr>\n",
       "      <th>1762</th>\n",
       "      <td>1.295806e+18</td>\n",
       "      <td>3.428633e+08</td>\n",
       "      <td>NaN</td>\n",
       "      <td>El Paso, TX</td>\n",
       "      <td>More than 10,000 Texans have died from covid, ...</td>\n",
       "    </tr>\n",
       "    <tr>\n",
       "      <th>1763</th>\n",
       "      <td>1.295778e+18</td>\n",
       "      <td>7.660720e+17</td>\n",
       "      <td>NaN</td>\n",
       "      <td>Bahamas</td>\n",
       "      <td>Freeport need a hospital ASAP\\n\\nRehire all ju...</td>\n",
       "    </tr>\n",
       "  </tbody>\n",
       "</table>\n",
       "<p>1764 rows × 5 columns</p>\n",
       "</div>"
      ],
      "text/plain": [
       "             RT_id    RT_user_id RT_coordinates         RT_location  \\\n",
       "0     1.295540e+18  5.919733e+08            NaN      Washington, DC   \n",
       "1     1.295752e+18  1.699632e+09            NaN        Johannesburg   \n",
       "2     1.295743e+18  1.254551e+08            NaN                 USA   \n",
       "3     1.295800e+18  1.694849e+07            NaN         Los Angeles   \n",
       "4     1.295401e+18  2.975633e+07            NaN  Negro, Please USA    \n",
       "...            ...           ...            ...                 ...   \n",
       "1759  1.295806e+18  1.247131e+18            NaN                 NaN   \n",
       "1760  1.295782e+18  5.495877e+08            NaN  Toronto, ON Canada   \n",
       "1761  1.295723e+18  1.249334e+18            NaN      England🏴󠁧󠁢󠁥󠁮󠁧󠁿   \n",
       "1762  1.295806e+18  3.428633e+08            NaN         El Paso, TX   \n",
       "1763  1.295778e+18  7.660720e+17            NaN             Bahamas   \n",
       "\n",
       "                                           RT_full_text  \n",
       "0     Biden thanks Cuomo. The AP recently estimated ...  \n",
       "1        Nothing that includes men at night is worth it  \n",
       "2     .If they can't count tests properly, how can t...  \n",
       "3     Remember..Kim Klacik's husband Jeff Klacik is ...  \n",
       "4     The “I want female rappers with substance” cro...  \n",
       "...                                                 ...  \n",
       "1759  @drharshvardhan @myogiadityanath @republic @Re...  \n",
       "1760  Join us tonight at 8pm! Let's talk about back ...  \n",
       "1761  How BLOODY CORRUPT doe's it have to be, Wuhan ...  \n",
       "1762  More than 10,000 Texans have died from covid, ...  \n",
       "1763  Freeport need a hospital ASAP\\n\\nRehire all ju...  \n",
       "\n",
       "[1764 rows x 5 columns]"
      ]
     },
     "execution_count": 69,
     "metadata": {},
     "output_type": "execute_result"
    }
   ],
   "source": [
    "interim"
   ]
  },
  {
   "cell_type": "code",
   "execution_count": 71,
   "metadata": {},
   "outputs": [],
   "source": [
    "interim = interim.drop_duplicates(['RT_id','RT_user_id']).reset_index(drop=True)"
   ]
  },
  {
   "cell_type": "code",
   "execution_count": 72,
   "metadata": {},
   "outputs": [
    {
     "data": {
      "text/plain": [
       "(812, 5)"
      ]
     },
     "execution_count": 72,
     "metadata": {},
     "output_type": "execute_result"
    }
   ],
   "source": [
    "interim.shape"
   ]
  },
  {
   "cell_type": "code",
   "execution_count": 73,
   "metadata": {},
   "outputs": [],
   "source": [
    "interim.columns = non_rep.columns"
   ]
  },
  {
   "cell_type": "code",
   "execution_count": 74,
   "metadata": {},
   "outputs": [],
   "source": [
    "non_rep = non_rep.append(interim,ignore_index=True)"
   ]
  },
  {
   "cell_type": "code",
   "execution_count": 75,
   "metadata": {},
   "outputs": [
    {
     "data": {
      "text/plain": [
       "(7365, 5)"
      ]
     },
     "execution_count": 75,
     "metadata": {},
     "output_type": "execute_result"
    }
   ],
   "source": [
    "non_rep.shape"
   ]
  },
  {
   "cell_type": "code",
   "execution_count": 76,
   "metadata": {},
   "outputs": [],
   "source": [
    "non_rep = non_rep.drop_duplicates(['id']).reset_index(drop=True)"
   ]
  },
  {
   "cell_type": "code",
   "execution_count": 77,
   "metadata": {},
   "outputs": [
    {
     "data": {
      "text/plain": [
       "(7297, 5)"
      ]
     },
     "execution_count": 77,
     "metadata": {},
     "output_type": "execute_result"
    }
   ],
   "source": [
    "non_rep.shape"
   ]
  },
  {
   "cell_type": "code",
   "execution_count": 78,
   "metadata": {},
   "outputs": [],
   "source": [
    "interim = data_en[np.where((data_en['is_quote_tweet']== True) & (data_en['RT_Flag']== True),True,False)].reset_index(drop=True)"
   ]
  },
  {
   "cell_type": "code",
   "execution_count": 79,
   "metadata": {},
   "outputs": [
    {
     "data": {
      "text/plain": [
       "(1764, 41)"
      ]
     },
     "execution_count": 79,
     "metadata": {},
     "output_type": "execute_result"
    }
   ],
   "source": [
    "interim.shape"
   ]
  },
  {
   "cell_type": "code",
   "execution_count": 80,
   "metadata": {},
   "outputs": [
    {
     "data": {
      "text/html": [
       "<div>\n",
       "<style scoped>\n",
       "    .dataframe tbody tr th:only-of-type {\n",
       "        vertical-align: middle;\n",
       "    }\n",
       "\n",
       "    .dataframe tbody tr th {\n",
       "        vertical-align: top;\n",
       "    }\n",
       "\n",
       "    .dataframe thead th {\n",
       "        text-align: right;\n",
       "    }\n",
       "</style>\n",
       "<table border=\"1\" class=\"dataframe\">\n",
       "  <thead>\n",
       "    <tr style=\"text-align: right;\">\n",
       "      <th></th>\n",
       "      <th>QT_text</th>\n",
       "      <th>QT_full_text</th>\n",
       "    </tr>\n",
       "  </thead>\n",
       "  <tbody>\n",
       "    <tr>\n",
       "      <th>0</th>\n",
       "      <td>.@AndrewCuomo, thank you for your leadership a...</td>\n",
       "      <td>.@AndrewCuomo, thank you for your leadership a...</td>\n",
       "    </tr>\n",
       "    <tr>\n",
       "      <th>1</th>\n",
       "      <td>Gold Reef City  would make the money they’ve l...</td>\n",
       "      <td>NaN</td>\n",
       "    </tr>\n",
       "    <tr>\n",
       "      <th>2</th>\n",
       "      <td>North Carolina is now reporting they OVERCOUNT...</td>\n",
       "      <td>NaN</td>\n",
       "    </tr>\n",
       "    <tr>\n",
       "      <th>3</th>\n",
       "      <td>Data shows a low % of children in single paren...</td>\n",
       "      <td>Data shows a low % of children in single paren...</td>\n",
       "    </tr>\n",
       "    <tr>\n",
       "      <th>4</th>\n",
       "      <td>Watch @iamCardiB and @JoeBiden talk police bru...</td>\n",
       "      <td>NaN</td>\n",
       "    </tr>\n",
       "    <tr>\n",
       "      <th>...</th>\n",
       "      <td>...</td>\n",
       "      <td>...</td>\n",
       "    </tr>\n",
       "    <tr>\n",
       "      <th>1759</th>\n",
       "      <td>Lakhs of students asking you for NOT taking Ex...</td>\n",
       "      <td>Lakhs of students asking you for NOT taking Ex...</td>\n",
       "    </tr>\n",
       "    <tr>\n",
       "      <th>1760</th>\n",
       "      <td>Join us Tuesday for an important back-to-schoo...</td>\n",
       "      <td>NaN</td>\n",
       "    </tr>\n",
       "    <tr>\n",
       "      <th>1761</th>\n",
       "      <td>Due to the laughable \"recount\" of deaths in th...</td>\n",
       "      <td>Due to the laughable \"recount\" of deaths in th...</td>\n",
       "    </tr>\n",
       "    <tr>\n",
       "      <th>1762</th>\n",
       "      <td>As an ER doc, I've seen countless people die f...</td>\n",
       "      <td>As an ER doc, I've seen countless people die f...</td>\n",
       "    </tr>\n",
       "    <tr>\n",
       "      <th>1763</th>\n",
       "      <td>https://t.co/K25QaQYTtz</td>\n",
       "      <td>NaN</td>\n",
       "    </tr>\n",
       "  </tbody>\n",
       "</table>\n",
       "<p>1764 rows × 2 columns</p>\n",
       "</div>"
      ],
      "text/plain": [
       "                                                QT_text  \\\n",
       "0     .@AndrewCuomo, thank you for your leadership a...   \n",
       "1     Gold Reef City  would make the money they’ve l...   \n",
       "2     North Carolina is now reporting they OVERCOUNT...   \n",
       "3     Data shows a low % of children in single paren...   \n",
       "4     Watch @iamCardiB and @JoeBiden talk police bru...   \n",
       "...                                                 ...   \n",
       "1759  Lakhs of students asking you for NOT taking Ex...   \n",
       "1760  Join us Tuesday for an important back-to-schoo...   \n",
       "1761  Due to the laughable \"recount\" of deaths in th...   \n",
       "1762  As an ER doc, I've seen countless people die f...   \n",
       "1763                            https://t.co/K25QaQYTtz   \n",
       "\n",
       "                                           QT_full_text  \n",
       "0     .@AndrewCuomo, thank you for your leadership a...  \n",
       "1                                                   NaN  \n",
       "2                                                   NaN  \n",
       "3     Data shows a low % of children in single paren...  \n",
       "4                                                   NaN  \n",
       "...                                                 ...  \n",
       "1759  Lakhs of students asking you for NOT taking Ex...  \n",
       "1760                                                NaN  \n",
       "1761  Due to the laughable \"recount\" of deaths in th...  \n",
       "1762  As an ER doc, I've seen countless people die f...  \n",
       "1763                                                NaN  \n",
       "\n",
       "[1764 rows x 2 columns]"
      ]
     },
     "execution_count": 80,
     "metadata": {},
     "output_type": "execute_result"
    }
   ],
   "source": [
    "interim[['QT_text','QT_full_text']]"
   ]
  },
  {
   "cell_type": "code",
   "execution_count": 81,
   "metadata": {},
   "outputs": [],
   "source": [
    "interim['QT_full_text'] = np.where(interim['QT_full_text'].isna(),interim['QT_text'],interim['QT_full_text'])"
   ]
  },
  {
   "cell_type": "code",
   "execution_count": 83,
   "metadata": {},
   "outputs": [
    {
     "data": {
      "text/html": [
       "<div>\n",
       "<style scoped>\n",
       "    .dataframe tbody tr th:only-of-type {\n",
       "        vertical-align: middle;\n",
       "    }\n",
       "\n",
       "    .dataframe tbody tr th {\n",
       "        vertical-align: top;\n",
       "    }\n",
       "\n",
       "    .dataframe thead th {\n",
       "        text-align: right;\n",
       "    }\n",
       "</style>\n",
       "<table border=\"1\" class=\"dataframe\">\n",
       "  <thead>\n",
       "    <tr style=\"text-align: right;\">\n",
       "      <th></th>\n",
       "      <th>QT_text</th>\n",
       "      <th>QT_full_text</th>\n",
       "    </tr>\n",
       "  </thead>\n",
       "  <tbody>\n",
       "    <tr>\n",
       "      <th>0</th>\n",
       "      <td>.@AndrewCuomo, thank you for your leadership a...</td>\n",
       "      <td>.@AndrewCuomo, thank you for your leadership a...</td>\n",
       "    </tr>\n",
       "    <tr>\n",
       "      <th>1</th>\n",
       "      <td>Gold Reef City  would make the money they’ve l...</td>\n",
       "      <td>Gold Reef City  would make the money they’ve l...</td>\n",
       "    </tr>\n",
       "    <tr>\n",
       "      <th>2</th>\n",
       "      <td>North Carolina is now reporting they OVERCOUNT...</td>\n",
       "      <td>North Carolina is now reporting they OVERCOUNT...</td>\n",
       "    </tr>\n",
       "    <tr>\n",
       "      <th>3</th>\n",
       "      <td>Data shows a low % of children in single paren...</td>\n",
       "      <td>Data shows a low % of children in single paren...</td>\n",
       "    </tr>\n",
       "    <tr>\n",
       "      <th>4</th>\n",
       "      <td>Watch @iamCardiB and @JoeBiden talk police bru...</td>\n",
       "      <td>Watch @iamCardiB and @JoeBiden talk police bru...</td>\n",
       "    </tr>\n",
       "    <tr>\n",
       "      <th>...</th>\n",
       "      <td>...</td>\n",
       "      <td>...</td>\n",
       "    </tr>\n",
       "    <tr>\n",
       "      <th>1759</th>\n",
       "      <td>Lakhs of students asking you for NOT taking Ex...</td>\n",
       "      <td>Lakhs of students asking you for NOT taking Ex...</td>\n",
       "    </tr>\n",
       "    <tr>\n",
       "      <th>1760</th>\n",
       "      <td>Join us Tuesday for an important back-to-schoo...</td>\n",
       "      <td>Join us Tuesday for an important back-to-schoo...</td>\n",
       "    </tr>\n",
       "    <tr>\n",
       "      <th>1761</th>\n",
       "      <td>Due to the laughable \"recount\" of deaths in th...</td>\n",
       "      <td>Due to the laughable \"recount\" of deaths in th...</td>\n",
       "    </tr>\n",
       "    <tr>\n",
       "      <th>1762</th>\n",
       "      <td>As an ER doc, I've seen countless people die f...</td>\n",
       "      <td>As an ER doc, I've seen countless people die f...</td>\n",
       "    </tr>\n",
       "    <tr>\n",
       "      <th>1763</th>\n",
       "      <td>https://t.co/K25QaQYTtz</td>\n",
       "      <td>https://t.co/K25QaQYTtz</td>\n",
       "    </tr>\n",
       "  </tbody>\n",
       "</table>\n",
       "<p>1764 rows × 2 columns</p>\n",
       "</div>"
      ],
      "text/plain": [
       "                                                QT_text  \\\n",
       "0     .@AndrewCuomo, thank you for your leadership a...   \n",
       "1     Gold Reef City  would make the money they’ve l...   \n",
       "2     North Carolina is now reporting they OVERCOUNT...   \n",
       "3     Data shows a low % of children in single paren...   \n",
       "4     Watch @iamCardiB and @JoeBiden talk police bru...   \n",
       "...                                                 ...   \n",
       "1759  Lakhs of students asking you for NOT taking Ex...   \n",
       "1760  Join us Tuesday for an important back-to-schoo...   \n",
       "1761  Due to the laughable \"recount\" of deaths in th...   \n",
       "1762  As an ER doc, I've seen countless people die f...   \n",
       "1763                            https://t.co/K25QaQYTtz   \n",
       "\n",
       "                                           QT_full_text  \n",
       "0     .@AndrewCuomo, thank you for your leadership a...  \n",
       "1     Gold Reef City  would make the money they’ve l...  \n",
       "2     North Carolina is now reporting they OVERCOUNT...  \n",
       "3     Data shows a low % of children in single paren...  \n",
       "4     Watch @iamCardiB and @JoeBiden talk police bru...  \n",
       "...                                                 ...  \n",
       "1759  Lakhs of students asking you for NOT taking Ex...  \n",
       "1760  Join us Tuesday for an important back-to-schoo...  \n",
       "1761  Due to the laughable \"recount\" of deaths in th...  \n",
       "1762  As an ER doc, I've seen countless people die f...  \n",
       "1763                            https://t.co/K25QaQYTtz  \n",
       "\n",
       "[1764 rows x 2 columns]"
      ]
     },
     "execution_count": 83,
     "metadata": {},
     "output_type": "execute_result"
    }
   ],
   "source": [
    "interim[['QT_text','QT_full_text']]"
   ]
  },
  {
   "cell_type": "code",
   "execution_count": 84,
   "metadata": {},
   "outputs": [],
   "source": [
    "interim = interim[['QT_id','QT_user_id', 'QT_coordinates', 'QT_location', 'QT_full_text']]"
   ]
  },
  {
   "cell_type": "code",
   "execution_count": 85,
   "metadata": {},
   "outputs": [
    {
     "data": {
      "text/html": [
       "<div>\n",
       "<style scoped>\n",
       "    .dataframe tbody tr th:only-of-type {\n",
       "        vertical-align: middle;\n",
       "    }\n",
       "\n",
       "    .dataframe tbody tr th {\n",
       "        vertical-align: top;\n",
       "    }\n",
       "\n",
       "    .dataframe thead th {\n",
       "        text-align: right;\n",
       "    }\n",
       "</style>\n",
       "<table border=\"1\" class=\"dataframe\">\n",
       "  <thead>\n",
       "    <tr style=\"text-align: right;\">\n",
       "      <th></th>\n",
       "      <th>QT_id</th>\n",
       "      <th>QT_user_id</th>\n",
       "      <th>QT_coordinates</th>\n",
       "      <th>QT_location</th>\n",
       "      <th>QT_full_text</th>\n",
       "    </tr>\n",
       "  </thead>\n",
       "  <tbody>\n",
       "    <tr>\n",
       "      <th>0</th>\n",
       "      <td>1.295540e+18</td>\n",
       "      <td>9.390910e+05</td>\n",
       "      <td>NaN</td>\n",
       "      <td>Wilmington, DE</td>\n",
       "      <td>.@AndrewCuomo, thank you for your leadership a...</td>\n",
       "    </tr>\n",
       "    <tr>\n",
       "      <th>1</th>\n",
       "      <td>1.295673e+18</td>\n",
       "      <td>2.902877e+09</td>\n",
       "      <td>NaN</td>\n",
       "      <td>High frequency</td>\n",
       "      <td>Gold Reef City  would make the money they’ve l...</td>\n",
       "    </tr>\n",
       "    <tr>\n",
       "      <th>2</th>\n",
       "      <td>1.295721e+18</td>\n",
       "      <td>1.196555e+08</td>\n",
       "      <td>NaN</td>\n",
       "      <td>USA</td>\n",
       "      <td>North Carolina is now reporting they OVERCOUNT...</td>\n",
       "    </tr>\n",
       "    <tr>\n",
       "      <th>3</th>\n",
       "      <td>1.295315e+18</td>\n",
       "      <td>1.259714e+09</td>\n",
       "      <td>NaN</td>\n",
       "      <td>Mary Land</td>\n",
       "      <td>Data shows a low % of children in single paren...</td>\n",
       "    </tr>\n",
       "    <tr>\n",
       "      <th>4</th>\n",
       "      <td>1.295368e+18</td>\n",
       "      <td>2.397873e+07</td>\n",
       "      <td>NaN</td>\n",
       "      <td>Brooklyn, NY</td>\n",
       "      <td>Watch @iamCardiB and @JoeBiden talk police bru...</td>\n",
       "    </tr>\n",
       "    <tr>\n",
       "      <th>...</th>\n",
       "      <td>...</td>\n",
       "      <td>...</td>\n",
       "      <td>...</td>\n",
       "      <td>...</td>\n",
       "      <td>...</td>\n",
       "    </tr>\n",
       "    <tr>\n",
       "      <th>1759</th>\n",
       "      <td>1.295692e+18</td>\n",
       "      <td>1.421498e+09</td>\n",
       "      <td>NaN</td>\n",
       "      <td>Patna, India</td>\n",
       "      <td>Lakhs of students asking you for NOT taking Ex...</td>\n",
       "    </tr>\n",
       "    <tr>\n",
       "      <th>1760</th>\n",
       "      <td>1.295004e+18</td>\n",
       "      <td>3.486331e+08</td>\n",
       "      <td>NaN</td>\n",
       "      <td>Ontario</td>\n",
       "      <td>Join us Tuesday for an important back-to-schoo...</td>\n",
       "    </tr>\n",
       "    <tr>\n",
       "      <th>1761</th>\n",
       "      <td>1.295096e+18</td>\n",
       "      <td>2.666017e+09</td>\n",
       "      <td>NaN</td>\n",
       "      <td>Nottingham</td>\n",
       "      <td>Due to the laughable \"recount\" of deaths in th...</td>\n",
       "    </tr>\n",
       "    <tr>\n",
       "      <th>1762</th>\n",
       "      <td>1.295278e+18</td>\n",
       "      <td>9.539242e+17</td>\n",
       "      <td>NaN</td>\n",
       "      <td>NYC, California, Arizona</td>\n",
       "      <td>As an ER doc, I've seen countless people die f...</td>\n",
       "    </tr>\n",
       "    <tr>\n",
       "      <th>1763</th>\n",
       "      <td>1.295766e+18</td>\n",
       "      <td>1.027784e+08</td>\n",
       "      <td>NaN</td>\n",
       "      <td>Bahamas</td>\n",
       "      <td>https://t.co/K25QaQYTtz</td>\n",
       "    </tr>\n",
       "  </tbody>\n",
       "</table>\n",
       "<p>1764 rows × 5 columns</p>\n",
       "</div>"
      ],
      "text/plain": [
       "             QT_id    QT_user_id  QT_coordinates               QT_location  \\\n",
       "0     1.295540e+18  9.390910e+05             NaN            Wilmington, DE   \n",
       "1     1.295673e+18  2.902877e+09             NaN            High frequency   \n",
       "2     1.295721e+18  1.196555e+08             NaN                       USA   \n",
       "3     1.295315e+18  1.259714e+09             NaN                 Mary Land   \n",
       "4     1.295368e+18  2.397873e+07             NaN              Brooklyn, NY   \n",
       "...            ...           ...             ...                       ...   \n",
       "1759  1.295692e+18  1.421498e+09             NaN              Patna, India   \n",
       "1760  1.295004e+18  3.486331e+08             NaN                   Ontario   \n",
       "1761  1.295096e+18  2.666017e+09             NaN                Nottingham   \n",
       "1762  1.295278e+18  9.539242e+17             NaN  NYC, California, Arizona   \n",
       "1763  1.295766e+18  1.027784e+08             NaN                   Bahamas   \n",
       "\n",
       "                                           QT_full_text  \n",
       "0     .@AndrewCuomo, thank you for your leadership a...  \n",
       "1     Gold Reef City  would make the money they’ve l...  \n",
       "2     North Carolina is now reporting they OVERCOUNT...  \n",
       "3     Data shows a low % of children in single paren...  \n",
       "4     Watch @iamCardiB and @JoeBiden talk police bru...  \n",
       "...                                                 ...  \n",
       "1759  Lakhs of students asking you for NOT taking Ex...  \n",
       "1760  Join us Tuesday for an important back-to-schoo...  \n",
       "1761  Due to the laughable \"recount\" of deaths in th...  \n",
       "1762  As an ER doc, I've seen countless people die f...  \n",
       "1763                            https://t.co/K25QaQYTtz  \n",
       "\n",
       "[1764 rows x 5 columns]"
      ]
     },
     "execution_count": 85,
     "metadata": {},
     "output_type": "execute_result"
    }
   ],
   "source": [
    "interim"
   ]
  },
  {
   "cell_type": "code",
   "execution_count": 87,
   "metadata": {},
   "outputs": [],
   "source": [
    "interim = interim.drop_duplicates(['QT_id','QT_user_id']).reset_index(drop=True)"
   ]
  },
  {
   "cell_type": "code",
   "execution_count": 88,
   "metadata": {},
   "outputs": [
    {
     "data": {
      "text/plain": [
       "(641, 5)"
      ]
     },
     "execution_count": 88,
     "metadata": {},
     "output_type": "execute_result"
    }
   ],
   "source": [
    "interim.shape"
   ]
  },
  {
   "cell_type": "code",
   "execution_count": 89,
   "metadata": {},
   "outputs": [],
   "source": [
    "interim.columns = non_rep.columns"
   ]
  },
  {
   "cell_type": "code",
   "execution_count": 90,
   "metadata": {},
   "outputs": [],
   "source": [
    "non_rep = non_rep.append(interim,ignore_index=True)"
   ]
  },
  {
   "cell_type": "code",
   "execution_count": 91,
   "metadata": {},
   "outputs": [
    {
     "data": {
      "text/plain": [
       "(7938, 5)"
      ]
     },
     "execution_count": 91,
     "metadata": {},
     "output_type": "execute_result"
    }
   ],
   "source": [
    "non_rep.shape"
   ]
  },
  {
   "cell_type": "code",
   "execution_count": 92,
   "metadata": {},
   "outputs": [],
   "source": [
    "non_rep = non_rep.drop_duplicates(['id']).reset_index(drop=True)"
   ]
  },
  {
   "cell_type": "code",
   "execution_count": 93,
   "metadata": {},
   "outputs": [
    {
     "data": {
      "text/plain": [
       "(7746, 5)"
      ]
     },
     "execution_count": 93,
     "metadata": {},
     "output_type": "execute_result"
    }
   ],
   "source": [
    "non_rep.shape"
   ]
  },
  {
   "cell_type": "raw",
   "metadata": {},
   "source": [
    "non_rep.to_csv('final(Cleaned).csv',index=False)"
   ]
  },
  {
   "cell_type": "code",
   "execution_count": null,
   "metadata": {},
   "outputs": [],
   "source": []
  }
 ],
 "metadata": {
  "kernelspec": {
   "display_name": "Python 3",
   "language": "python",
   "name": "python3"
  },
  "language_info": {
   "codemirror_mode": {
    "name": "ipython",
    "version": 3
   },
   "file_extension": ".py",
   "mimetype": "text/x-python",
   "name": "python",
   "nbconvert_exporter": "python",
   "pygments_lexer": "ipython3",
   "version": "3.8.5"
  }
 },
 "nbformat": 4,
 "nbformat_minor": 4
}
