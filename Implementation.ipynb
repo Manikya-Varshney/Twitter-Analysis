{
 "cells": [
  {
   "cell_type": "markdown",
   "metadata": {},
   "source": [
    "!pip install -U numpy"
   ]
  },
  {
   "cell_type": "markdown",
   "metadata": {},
   "source": [
    "import sys\n",
    "print(sys.path) \n",
    "print(sys.executable)"
   ]
  },
  {
   "cell_type": "markdown",
   "metadata": {},
   "source": [
    "import sys \n",
    "!{sys.executable} -m pip install nltk"
   ]
  },
  {
   "cell_type": "markdown",
   "metadata": {},
   "source": [
    "# Import Packages"
   ]
  },
  {
   "cell_type": "code",
   "execution_count": 1,
   "metadata": {},
   "outputs": [],
   "source": [
    "import pandas as pd\n",
    "import numpy as np \n",
    "import csv\n",
    "import re\n",
    "import string\n",
    "\n",
    "import nltk\n",
    "from nltk.corpus import stopwords\n",
    "from nltk.tokenize import word_tokenize\n",
    "from nltk.stem import PorterStemmer\n",
    "from nltk.stem import WordNetLemmatizer\n",
    "\n",
    "import warnings\n",
    "warnings.filterwarnings(\"ignore\")\n"
   ]
  },
  {
   "cell_type": "markdown",
   "metadata": {},
   "source": [
    "# Dataset Cleaning"
   ]
  },
  {
   "cell_type": "code",
   "execution_count": 2,
   "metadata": {},
   "outputs": [],
   "source": [
    "path = '/home/manikya_varshney/Documents/Python/Yale/Data/h01-20200912-101538.csv'\n",
    "data = pd.read_csv(path, low_memory=False)"
   ]
  },
  {
   "cell_type": "code",
   "execution_count": 3,
   "metadata": {},
   "outputs": [
    {
     "data": {
      "text/plain": [
       "(19966, 79)"
      ]
     },
     "execution_count": 3,
     "metadata": {},
     "output_type": "execute_result"
    }
   ],
   "source": [
    "data.shape"
   ]
  },
  {
   "cell_type": "code",
   "execution_count": 4,
   "metadata": {},
   "outputs": [],
   "source": [
    "cols = [1, 3, 4, 5,6, 7, 8, 9, 10, 11, 17, 18, 19, 22, 30, 31, 32, 34, 35, 36, 37, 38, 39, 40, 41, 42, 43, 45, 54, 55, 56, 58, 63, 64, 65, 67, 76, 77]"
   ]
  },
  {
   "cell_type": "code",
   "execution_count": 5,
   "metadata": {},
   "outputs": [],
   "source": [
    "data = data[data.columns.values[cols]]"
   ]
  },
  {
   "cell_type": "code",
   "execution_count": 6,
   "metadata": {},
   "outputs": [
    {
     "data": {
      "text/plain": [
       "(19966, 38)"
      ]
     },
     "execution_count": 6,
     "metadata": {},
     "output_type": "execute_result"
    }
   ],
   "source": [
    "data.shape"
   ]
  },
  {
   "cell_type": "code",
   "execution_count": 7,
   "metadata": {},
   "outputs": [],
   "source": [
    "data.to_csv('data_filtered_h01-20200912-101538.csv',index=False)"
   ]
  },
  {
   "cell_type": "raw",
   "metadata": {},
   "source": [
    "path_output = '/home/manikya_varshney/Documents/Python/Yale/h01-20200912-101538_output.csv'\n",
    "with open(path, \"r\") as source: \n",
    "    reader = csv.reader(source) \n",
    "      \n",
    "    with open(path_output, \"w\") as result: \n",
    "        writer = csv.writer(result) \n",
    "        for r in reader: \n",
    "            \n",
    "            # Use CSV Index to remove a column from CSV \n",
    "            #r[3] = r['year'] \n",
    "            writer.writerow((r[1], r[3], r[4], r[5],r[6], r[7], r[8], r[9], r[10], r[11], r[17], r[18], r[19], r[22], r[30], r[31], r[32], r[34], r[35], r[36], r[37], r[38], r[39], r[40], r[41], r[42], r[43], r[45], r[54], r[55], r[56], r[58], r[63], r[64], r[65], r[67], r[76], r[77]))"
   ]
  },
  {
   "cell_type": "raw",
   "metadata": {},
   "source": [
    "path_output = '/home/manikya_varshney/Documents/Python/Yale/h01-20200912-101538_output.csv'\n",
    "data_output = pd.read_csv(path_output, low_memory=False)"
   ]
  },
  {
   "cell_type": "code",
   "execution_count": 8,
   "metadata": {},
   "outputs": [
    {
     "data": {
      "text/plain": [
       "en     10043\n",
       "es      3085\n",
       "ja      2151\n",
       "pt      1251\n",
       "hi       645\n",
       "fr       458\n",
       "in       450\n",
       "und      398\n",
       "ko       213\n",
       "tr       182\n",
       "ar       177\n",
       "de       149\n",
       "th       145\n",
       "ca       132\n",
       "it       113\n",
       "tl       101\n",
       "nl        59\n",
       "zh        46\n",
       "mr        28\n",
       "ne        18\n",
       "et        16\n",
       "pl        15\n",
       "cs        11\n",
       "el        11\n",
       "ro         9\n",
       "ta         7\n",
       "da         5\n",
       "lt         4\n",
       "bn         4\n",
       "gu         4\n",
       "ru         3\n",
       "no         3\n",
       "fa         3\n",
       "eu         3\n",
       "ht         3\n",
       "cy         3\n",
       "sv         3\n",
       "ur         2\n",
       "vi         2\n",
       "iw         2\n",
       "fi         2\n",
       "or         2\n",
       "kn         2\n",
       "te         1\n",
       "sl         1\n",
       "lv         1\n",
       "Name: lang, dtype: int64"
      ]
     },
     "execution_count": 8,
     "metadata": {},
     "output_type": "execute_result"
    }
   ],
   "source": [
    "data['lang'].value_counts()"
   ]
  },
  {
   "cell_type": "code",
   "execution_count": 9,
   "metadata": {},
   "outputs": [
    {
     "data": {
      "text/plain": [
       "(10043, 38)"
      ]
     },
     "execution_count": 9,
     "metadata": {},
     "output_type": "execute_result"
    }
   ],
   "source": [
    "data[data['lang'] == 'en'].shape"
   ]
  },
  {
   "cell_type": "code",
   "execution_count": 10,
   "metadata": {},
   "outputs": [],
   "source": [
    "data_en = data[data['lang'] == 'en'].reset_index(drop=True)"
   ]
  },
  {
   "cell_type": "code",
   "execution_count": 11,
   "metadata": {},
   "outputs": [
    {
     "data": {
      "text/html": [
       "<div>\n",
       "<style scoped>\n",
       "    .dataframe tbody tr th:only-of-type {\n",
       "        vertical-align: middle;\n",
       "    }\n",
       "\n",
       "    .dataframe tbody tr th {\n",
       "        vertical-align: top;\n",
       "    }\n",
       "\n",
       "    .dataframe thead th {\n",
       "        text-align: right;\n",
       "    }\n",
       "</style>\n",
       "<table border=\"1\" class=\"dataframe\">\n",
       "  <thead>\n",
       "    <tr style=\"text-align: right;\">\n",
       "      <th></th>\n",
       "      <th>id</th>\n",
       "      <th>is_quote_tweet</th>\n",
       "      <th>quoted_tweet_id</th>\n",
       "      <th>in_reply_to_status_id_str</th>\n",
       "      <th>in_reply_to_user_id_str</th>\n",
       "      <th>in_reply_to_screen_name</th>\n",
       "      <th>lang</th>\n",
       "      <th>quote_count</th>\n",
       "      <th>reply_count</th>\n",
       "      <th>retweet_count</th>\n",
       "      <th>...</th>\n",
       "      <th>RT_text</th>\n",
       "      <th>RT_full_text</th>\n",
       "      <th>QT_id</th>\n",
       "      <th>QT_lang</th>\n",
       "      <th>QT_user_id</th>\n",
       "      <th>QT_username</th>\n",
       "      <th>QT_name</th>\n",
       "      <th>QT_location</th>\n",
       "      <th>QT_text</th>\n",
       "      <th>QT_full_text</th>\n",
       "    </tr>\n",
       "  </thead>\n",
       "  <tbody>\n",
       "    <tr>\n",
       "      <th>0</th>\n",
       "      <td>1.304786e+18</td>\n",
       "      <td>True</td>\n",
       "      <td>1.304732e+18</td>\n",
       "      <td>NaN</td>\n",
       "      <td>NaN</td>\n",
       "      <td>NaN</td>\n",
       "      <td>en</td>\n",
       "      <td>0</td>\n",
       "      <td>0</td>\n",
       "      <td>0</td>\n",
       "      <td>...</td>\n",
       "      <td>NaN</td>\n",
       "      <td>NaN</td>\n",
       "      <td>1.304732e+18</td>\n",
       "      <td>en</td>\n",
       "      <td>1.074866e+18</td>\n",
       "      <td>stfuravenn</td>\n",
       "      <td>ʀᴀᴠᴇɴ</td>\n",
       "      <td>Philippines</td>\n",
       "      <td>R.I.P to my unhealthy phone charging habit</td>\n",
       "      <td>NaN</td>\n",
       "    </tr>\n",
       "    <tr>\n",
       "      <th>1</th>\n",
       "      <td>1.304786e+18</td>\n",
       "      <td>True</td>\n",
       "      <td>1.304631e+18</td>\n",
       "      <td>NaN</td>\n",
       "      <td>NaN</td>\n",
       "      <td>NaN</td>\n",
       "      <td>en</td>\n",
       "      <td>0</td>\n",
       "      <td>0</td>\n",
       "      <td>0</td>\n",
       "      <td>...</td>\n",
       "      <td>This is why many of us have cautioned from the...</td>\n",
       "      <td>This is why many of us have cautioned from the...</td>\n",
       "      <td>1.304631e+18</td>\n",
       "      <td>en</td>\n",
       "      <td>8.312794e+17</td>\n",
       "      <td>Craig_A_Spencer</td>\n",
       "      <td>Craig Spencer MD MPH</td>\n",
       "      <td>New York City</td>\n",
       "      <td>A radiologist with ZERO credentials for this r...</td>\n",
       "      <td>A radiologist with ZERO credentials for this r...</td>\n",
       "    </tr>\n",
       "    <tr>\n",
       "      <th>2</th>\n",
       "      <td>1.304786e+18</td>\n",
       "      <td>False</td>\n",
       "      <td>NaN</td>\n",
       "      <td>NaN</td>\n",
       "      <td>NaN</td>\n",
       "      <td>NaN</td>\n",
       "      <td>en</td>\n",
       "      <td>0</td>\n",
       "      <td>0</td>\n",
       "      <td>0</td>\n",
       "      <td>...</td>\n",
       "      <td>Let me get this right, it was okay for Steven ...</td>\n",
       "      <td>Let me get this right, it was okay for Steven ...</td>\n",
       "      <td>NaN</td>\n",
       "      <td>NaN</td>\n",
       "      <td>NaN</td>\n",
       "      <td>NaN</td>\n",
       "      <td>NaN</td>\n",
       "      <td>NaN</td>\n",
       "      <td>NaN</td>\n",
       "      <td>NaN</td>\n",
       "    </tr>\n",
       "    <tr>\n",
       "      <th>3</th>\n",
       "      <td>1.304786e+18</td>\n",
       "      <td>False</td>\n",
       "      <td>NaN</td>\n",
       "      <td>NaN</td>\n",
       "      <td>NaN</td>\n",
       "      <td>NaN</td>\n",
       "      <td>en</td>\n",
       "      <td>0</td>\n",
       "      <td>0</td>\n",
       "      <td>0</td>\n",
       "      <td>...</td>\n",
       "      <td>NaN</td>\n",
       "      <td>NaN</td>\n",
       "      <td>NaN</td>\n",
       "      <td>NaN</td>\n",
       "      <td>NaN</td>\n",
       "      <td>NaN</td>\n",
       "      <td>NaN</td>\n",
       "      <td>NaN</td>\n",
       "      <td>NaN</td>\n",
       "      <td>NaN</td>\n",
       "    </tr>\n",
       "    <tr>\n",
       "      <th>4</th>\n",
       "      <td>1.304786e+18</td>\n",
       "      <td>True</td>\n",
       "      <td>1.304775e+18</td>\n",
       "      <td>NaN</td>\n",
       "      <td>NaN</td>\n",
       "      <td>NaN</td>\n",
       "      <td>en</td>\n",
       "      <td>0</td>\n",
       "      <td>0</td>\n",
       "      <td>0</td>\n",
       "      <td>...</td>\n",
       "      <td>NaN</td>\n",
       "      <td>NaN</td>\n",
       "      <td>1.304775e+18</td>\n",
       "      <td>en</td>\n",
       "      <td>2.508580e+07</td>\n",
       "      <td>iTweetDaPUSSY</td>\n",
       "      <td>DONZELL 🦈</td>\n",
       "      <td>The Bronx ✈️ Souf Cak</td>\n",
       "      <td>So does mask or a face shield work better 🤣</td>\n",
       "      <td>NaN</td>\n",
       "    </tr>\n",
       "    <tr>\n",
       "      <th>...</th>\n",
       "      <td>...</td>\n",
       "      <td>...</td>\n",
       "      <td>...</td>\n",
       "      <td>...</td>\n",
       "      <td>...</td>\n",
       "      <td>...</td>\n",
       "      <td>...</td>\n",
       "      <td>...</td>\n",
       "      <td>...</td>\n",
       "      <td>...</td>\n",
       "      <td>...</td>\n",
       "      <td>...</td>\n",
       "      <td>...</td>\n",
       "      <td>...</td>\n",
       "      <td>...</td>\n",
       "      <td>...</td>\n",
       "      <td>...</td>\n",
       "      <td>...</td>\n",
       "      <td>...</td>\n",
       "      <td>...</td>\n",
       "      <td>...</td>\n",
       "    </tr>\n",
       "    <tr>\n",
       "      <th>10038</th>\n",
       "      <td>1.304787e+18</td>\n",
       "      <td>False</td>\n",
       "      <td>NaN</td>\n",
       "      <td>NaN</td>\n",
       "      <td>NaN</td>\n",
       "      <td>NaN</td>\n",
       "      <td>en</td>\n",
       "      <td>0</td>\n",
       "      <td>0</td>\n",
       "      <td>0</td>\n",
       "      <td>...</td>\n",
       "      <td>Have you struggled with your eating habits sin...</td>\n",
       "      <td>NaN</td>\n",
       "      <td>NaN</td>\n",
       "      <td>NaN</td>\n",
       "      <td>NaN</td>\n",
       "      <td>NaN</td>\n",
       "      <td>NaN</td>\n",
       "      <td>NaN</td>\n",
       "      <td>NaN</td>\n",
       "      <td>NaN</td>\n",
       "    </tr>\n",
       "    <tr>\n",
       "      <th>10039</th>\n",
       "      <td>1.304787e+18</td>\n",
       "      <td>False</td>\n",
       "      <td>NaN</td>\n",
       "      <td>NaN</td>\n",
       "      <td>NaN</td>\n",
       "      <td>NaN</td>\n",
       "      <td>en</td>\n",
       "      <td>0</td>\n",
       "      <td>0</td>\n",
       "      <td>0</td>\n",
       "      <td>...</td>\n",
       "      <td>I looked up the definition of corona in the Ch...</td>\n",
       "      <td>NaN</td>\n",
       "      <td>NaN</td>\n",
       "      <td>NaN</td>\n",
       "      <td>NaN</td>\n",
       "      <td>NaN</td>\n",
       "      <td>NaN</td>\n",
       "      <td>NaN</td>\n",
       "      <td>NaN</td>\n",
       "      <td>NaN</td>\n",
       "    </tr>\n",
       "    <tr>\n",
       "      <th>10040</th>\n",
       "      <td>1.304787e+18</td>\n",
       "      <td>True</td>\n",
       "      <td>1.304093e+18</td>\n",
       "      <td>NaN</td>\n",
       "      <td>NaN</td>\n",
       "      <td>NaN</td>\n",
       "      <td>en</td>\n",
       "      <td>0</td>\n",
       "      <td>0</td>\n",
       "      <td>0</td>\n",
       "      <td>...</td>\n",
       "      <td>Fun fact: in 2008 this officer pistol whipped ...</td>\n",
       "      <td>Fun fact: in 2008 this officer pistol whipped ...</td>\n",
       "      <td>1.304093e+18</td>\n",
       "      <td>en</td>\n",
       "      <td>8.863983e+17</td>\n",
       "      <td>davenewworld_2</td>\n",
       "      <td>Fifty Shades of Whey</td>\n",
       "      <td>He/Him — NYC-LI</td>\n",
       "      <td>Police officer in Pittsburgh arrests a man for...</td>\n",
       "      <td>NaN</td>\n",
       "    </tr>\n",
       "    <tr>\n",
       "      <th>10041</th>\n",
       "      <td>1.304787e+18</td>\n",
       "      <td>False</td>\n",
       "      <td>NaN</td>\n",
       "      <td>NaN</td>\n",
       "      <td>NaN</td>\n",
       "      <td>NaN</td>\n",
       "      <td>en</td>\n",
       "      <td>0</td>\n",
       "      <td>0</td>\n",
       "      <td>0</td>\n",
       "      <td>...</td>\n",
       "      <td>a stay at home challenge to keep people safe, ...</td>\n",
       "      <td>a stay at home challenge to keep people safe, ...</td>\n",
       "      <td>NaN</td>\n",
       "      <td>NaN</td>\n",
       "      <td>NaN</td>\n",
       "      <td>NaN</td>\n",
       "      <td>NaN</td>\n",
       "      <td>NaN</td>\n",
       "      <td>NaN</td>\n",
       "      <td>NaN</td>\n",
       "    </tr>\n",
       "    <tr>\n",
       "      <th>10042</th>\n",
       "      <td>1.304787e+18</td>\n",
       "      <td>False</td>\n",
       "      <td>NaN</td>\n",
       "      <td>NaN</td>\n",
       "      <td>NaN</td>\n",
       "      <td>NaN</td>\n",
       "      <td>en</td>\n",
       "      <td>0</td>\n",
       "      <td>0</td>\n",
       "      <td>0</td>\n",
       "      <td>...</td>\n",
       "      <td>Deep State Fauci Calls for Economic Lockdown U...</td>\n",
       "      <td>Deep State Fauci Calls for Economic Lockdown U...</td>\n",
       "      <td>NaN</td>\n",
       "      <td>NaN</td>\n",
       "      <td>NaN</td>\n",
       "      <td>NaN</td>\n",
       "      <td>NaN</td>\n",
       "      <td>NaN</td>\n",
       "      <td>NaN</td>\n",
       "      <td>NaN</td>\n",
       "    </tr>\n",
       "  </tbody>\n",
       "</table>\n",
       "<p>10043 rows × 38 columns</p>\n",
       "</div>"
      ],
      "text/plain": [
       "                 id  is_quote_tweet  quoted_tweet_id  \\\n",
       "0      1.304786e+18            True     1.304732e+18   \n",
       "1      1.304786e+18            True     1.304631e+18   \n",
       "2      1.304786e+18           False              NaN   \n",
       "3      1.304786e+18           False              NaN   \n",
       "4      1.304786e+18            True     1.304775e+18   \n",
       "...             ...             ...              ...   \n",
       "10038  1.304787e+18           False              NaN   \n",
       "10039  1.304787e+18           False              NaN   \n",
       "10040  1.304787e+18            True     1.304093e+18   \n",
       "10041  1.304787e+18           False              NaN   \n",
       "10042  1.304787e+18           False              NaN   \n",
       "\n",
       "       in_reply_to_status_id_str  in_reply_to_user_id_str  \\\n",
       "0                            NaN                      NaN   \n",
       "1                            NaN                      NaN   \n",
       "2                            NaN                      NaN   \n",
       "3                            NaN                      NaN   \n",
       "4                            NaN                      NaN   \n",
       "...                          ...                      ...   \n",
       "10038                        NaN                      NaN   \n",
       "10039                        NaN                      NaN   \n",
       "10040                        NaN                      NaN   \n",
       "10041                        NaN                      NaN   \n",
       "10042                        NaN                      NaN   \n",
       "\n",
       "      in_reply_to_screen_name lang  quote_count  reply_count  retweet_count  \\\n",
       "0                         NaN   en            0            0              0   \n",
       "1                         NaN   en            0            0              0   \n",
       "2                         NaN   en            0            0              0   \n",
       "3                         NaN   en            0            0              0   \n",
       "4                         NaN   en            0            0              0   \n",
       "...                       ...  ...          ...          ...            ...   \n",
       "10038                     NaN   en            0            0              0   \n",
       "10039                     NaN   en            0            0              0   \n",
       "10040                     NaN   en            0            0              0   \n",
       "10041                     NaN   en            0            0              0   \n",
       "10042                     NaN   en            0            0              0   \n",
       "\n",
       "       ...                                            RT_text  \\\n",
       "0      ...                                                NaN   \n",
       "1      ...  This is why many of us have cautioned from the...   \n",
       "2      ...  Let me get this right, it was okay for Steven ...   \n",
       "3      ...                                                NaN   \n",
       "4      ...                                                NaN   \n",
       "...    ...                                                ...   \n",
       "10038  ...  Have you struggled with your eating habits sin...   \n",
       "10039  ...  I looked up the definition of corona in the Ch...   \n",
       "10040  ...  Fun fact: in 2008 this officer pistol whipped ...   \n",
       "10041  ...  a stay at home challenge to keep people safe, ...   \n",
       "10042  ...  Deep State Fauci Calls for Economic Lockdown U...   \n",
       "\n",
       "                                            RT_full_text         QT_id  \\\n",
       "0                                                    NaN  1.304732e+18   \n",
       "1      This is why many of us have cautioned from the...  1.304631e+18   \n",
       "2      Let me get this right, it was okay for Steven ...           NaN   \n",
       "3                                                    NaN           NaN   \n",
       "4                                                    NaN  1.304775e+18   \n",
       "...                                                  ...           ...   \n",
       "10038                                                NaN           NaN   \n",
       "10039                                                NaN           NaN   \n",
       "10040  Fun fact: in 2008 this officer pistol whipped ...  1.304093e+18   \n",
       "10041  a stay at home challenge to keep people safe, ...           NaN   \n",
       "10042  Deep State Fauci Calls for Economic Lockdown U...           NaN   \n",
       "\n",
       "      QT_lang    QT_user_id      QT_username               QT_name  \\\n",
       "0          en  1.074866e+18       stfuravenn                 ʀᴀᴠᴇɴ   \n",
       "1          en  8.312794e+17  Craig_A_Spencer  Craig Spencer MD MPH   \n",
       "2         NaN           NaN              NaN                   NaN   \n",
       "3         NaN           NaN              NaN                   NaN   \n",
       "4          en  2.508580e+07    iTweetDaPUSSY             DONZELL 🦈   \n",
       "...       ...           ...              ...                   ...   \n",
       "10038     NaN           NaN              NaN                   NaN   \n",
       "10039     NaN           NaN              NaN                   NaN   \n",
       "10040      en  8.863983e+17   davenewworld_2  Fifty Shades of Whey   \n",
       "10041     NaN           NaN              NaN                   NaN   \n",
       "10042     NaN           NaN              NaN                   NaN   \n",
       "\n",
       "                 QT_location  \\\n",
       "0                Philippines   \n",
       "1              New York City   \n",
       "2                        NaN   \n",
       "3                        NaN   \n",
       "4      The Bronx ✈️ Souf Cak   \n",
       "...                      ...   \n",
       "10038                    NaN   \n",
       "10039                    NaN   \n",
       "10040        He/Him — NYC-LI   \n",
       "10041                    NaN   \n",
       "10042                    NaN   \n",
       "\n",
       "                                                 QT_text  \\\n",
       "0             R.I.P to my unhealthy phone charging habit   \n",
       "1      A radiologist with ZERO credentials for this r...   \n",
       "2                                                    NaN   \n",
       "3                                                    NaN   \n",
       "4            So does mask or a face shield work better 🤣   \n",
       "...                                                  ...   \n",
       "10038                                                NaN   \n",
       "10039                                                NaN   \n",
       "10040  Police officer in Pittsburgh arrests a man for...   \n",
       "10041                                                NaN   \n",
       "10042                                                NaN   \n",
       "\n",
       "                                            QT_full_text  \n",
       "0                                                    NaN  \n",
       "1      A radiologist with ZERO credentials for this r...  \n",
       "2                                                    NaN  \n",
       "3                                                    NaN  \n",
       "4                                                    NaN  \n",
       "...                                                  ...  \n",
       "10038                                                NaN  \n",
       "10039                                                NaN  \n",
       "10040                                                NaN  \n",
       "10041                                                NaN  \n",
       "10042                                                NaN  \n",
       "\n",
       "[10043 rows x 38 columns]"
      ]
     },
     "execution_count": 11,
     "metadata": {},
     "output_type": "execute_result"
    }
   ],
   "source": [
    "data_en"
   ]
  },
  {
   "cell_type": "code",
   "execution_count": 12,
   "metadata": {},
   "outputs": [],
   "source": [
    "data_en['RT_Flag'] = data_en['text'].str[:2]=='RT'"
   ]
  },
  {
   "cell_type": "code",
   "execution_count": 13,
   "metadata": {},
   "outputs": [
    {
     "data": {
      "text/plain": [
       "(10043, 39)"
      ]
     },
     "execution_count": 13,
     "metadata": {},
     "output_type": "execute_result"
    }
   ],
   "source": [
    "data_en.shape"
   ]
  },
  {
   "cell_type": "markdown",
   "metadata": {},
   "source": [
    "##### is_quote_tweet --> False --> Non RT"
   ]
  },
  {
   "cell_type": "code",
   "execution_count": 14,
   "metadata": {},
   "outputs": [],
   "source": [
    "interim = data_en[np.where((data_en['is_quote_tweet']==False) & (data_en['RT_Flag']==False),True,False)].reset_index(drop=True)"
   ]
  },
  {
   "cell_type": "code",
   "execution_count": 15,
   "metadata": {},
   "outputs": [],
   "source": [
    "interim['extended_tweet_full_text'] = np.where(~interim['truncated'],interim['text'],interim['extended_tweet_full_text'])"
   ]
  },
  {
   "cell_type": "code",
   "execution_count": 16,
   "metadata": {},
   "outputs": [
    {
     "data": {
      "text/plain": [
       "(2288, 39)"
      ]
     },
     "execution_count": 16,
     "metadata": {},
     "output_type": "execute_result"
    }
   ],
   "source": [
    "interim.shape"
   ]
  },
  {
   "cell_type": "code",
   "execution_count": 17,
   "metadata": {},
   "outputs": [],
   "source": [
    "non_rep = interim[['id','user_id','extended_tweet_full_text']]"
   ]
  },
  {
   "cell_type": "code",
   "execution_count": 18,
   "metadata": {},
   "outputs": [
    {
     "data": {
      "text/plain": [
       "(2288, 3)"
      ]
     },
     "execution_count": 18,
     "metadata": {},
     "output_type": "execute_result"
    }
   ],
   "source": [
    "non_rep.shape"
   ]
  },
  {
   "cell_type": "code",
   "execution_count": 19,
   "metadata": {},
   "outputs": [
    {
     "data": {
      "text/plain": [
       "(2287, 3)"
      ]
     },
     "execution_count": 19,
     "metadata": {},
     "output_type": "execute_result"
    }
   ],
   "source": [
    "non_rep.drop_duplicates(['id']).shape"
   ]
  },
  {
   "cell_type": "code",
   "execution_count": 20,
   "metadata": {},
   "outputs": [],
   "source": [
    "non_rep = non_rep.drop_duplicates(['id']).reset_index(drop=True)"
   ]
  },
  {
   "cell_type": "markdown",
   "metadata": {},
   "source": [
    "##### is_quote_tweet --> False --> RT"
   ]
  },
  {
   "cell_type": "code",
   "execution_count": 21,
   "metadata": {},
   "outputs": [],
   "source": [
    "interim = data_en[np.where((data_en['is_quote_tweet']== False) & (data_en['RT_Flag']== True),True,False)].reset_index(drop=True)"
   ]
  },
  {
   "cell_type": "code",
   "execution_count": 22,
   "metadata": {},
   "outputs": [
    {
     "data": {
      "text/plain": [
       "(5182, 39)"
      ]
     },
     "execution_count": 22,
     "metadata": {},
     "output_type": "execute_result"
    }
   ],
   "source": [
    "interim.shape"
   ]
  },
  {
   "cell_type": "code",
   "execution_count": 23,
   "metadata": {},
   "outputs": [
    {
     "data": {
      "text/html": [
       "<div>\n",
       "<style scoped>\n",
       "    .dataframe tbody tr th:only-of-type {\n",
       "        vertical-align: middle;\n",
       "    }\n",
       "\n",
       "    .dataframe tbody tr th {\n",
       "        vertical-align: top;\n",
       "    }\n",
       "\n",
       "    .dataframe thead th {\n",
       "        text-align: right;\n",
       "    }\n",
       "</style>\n",
       "<table border=\"1\" class=\"dataframe\">\n",
       "  <thead>\n",
       "    <tr style=\"text-align: right;\">\n",
       "      <th></th>\n",
       "      <th>RT_text</th>\n",
       "      <th>RT_full_text</th>\n",
       "    </tr>\n",
       "  </thead>\n",
       "  <tbody>\n",
       "    <tr>\n",
       "      <th>0</th>\n",
       "      <td>Let me get this right, it was okay for Steven ...</td>\n",
       "      <td>Let me get this right, it was okay for Steven ...</td>\n",
       "    </tr>\n",
       "    <tr>\n",
       "      <th>1</th>\n",
       "      <td>Hospitals in the United States have turned dow...</td>\n",
       "      <td>Hospitals in the United States have turned dow...</td>\n",
       "    </tr>\n",
       "    <tr>\n",
       "      <th>2</th>\n",
       "      <td>My friends parents have died from Covid &amp;amp; ...</td>\n",
       "      <td>My friends parents have died from Covid &amp;amp; ...</td>\n",
       "    </tr>\n",
       "    <tr>\n",
       "      <th>3</th>\n",
       "      <td>📢 Our 7-part series on life after lockdown ‘EM...</td>\n",
       "      <td>📢 Our 7-part series on life after lockdown ‘EM...</td>\n",
       "    </tr>\n",
       "    <tr>\n",
       "      <th>4</th>\n",
       "      <td>@JoeTalkShow I wrote a tweet after u came back...</td>\n",
       "      <td>@JoeTalkShow I wrote a tweet after u came back...</td>\n",
       "    </tr>\n",
       "    <tr>\n",
       "      <th>...</th>\n",
       "      <td>...</td>\n",
       "      <td>...</td>\n",
       "    </tr>\n",
       "    <tr>\n",
       "      <th>5177</th>\n",
       "      <td>A Perth woman in quarantine has become the fir...</td>\n",
       "      <td>A Perth woman in quarantine has become the fir...</td>\n",
       "    </tr>\n",
       "    <tr>\n",
       "      <th>5178</th>\n",
       "      <td>Have you struggled with your eating habits sin...</td>\n",
       "      <td>NaN</td>\n",
       "    </tr>\n",
       "    <tr>\n",
       "      <th>5179</th>\n",
       "      <td>I looked up the definition of corona in the Ch...</td>\n",
       "      <td>NaN</td>\n",
       "    </tr>\n",
       "    <tr>\n",
       "      <th>5180</th>\n",
       "      <td>a stay at home challenge to keep people safe, ...</td>\n",
       "      <td>a stay at home challenge to keep people safe, ...</td>\n",
       "    </tr>\n",
       "    <tr>\n",
       "      <th>5181</th>\n",
       "      <td>Deep State Fauci Calls for Economic Lockdown U...</td>\n",
       "      <td>Deep State Fauci Calls for Economic Lockdown U...</td>\n",
       "    </tr>\n",
       "  </tbody>\n",
       "</table>\n",
       "<p>5182 rows × 2 columns</p>\n",
       "</div>"
      ],
      "text/plain": [
       "                                                RT_text  \\\n",
       "0     Let me get this right, it was okay for Steven ...   \n",
       "1     Hospitals in the United States have turned dow...   \n",
       "2     My friends parents have died from Covid &amp; ...   \n",
       "3     📢 Our 7-part series on life after lockdown ‘EM...   \n",
       "4     @JoeTalkShow I wrote a tweet after u came back...   \n",
       "...                                                 ...   \n",
       "5177  A Perth woman in quarantine has become the fir...   \n",
       "5178  Have you struggled with your eating habits sin...   \n",
       "5179  I looked up the definition of corona in the Ch...   \n",
       "5180  a stay at home challenge to keep people safe, ...   \n",
       "5181  Deep State Fauci Calls for Economic Lockdown U...   \n",
       "\n",
       "                                           RT_full_text  \n",
       "0     Let me get this right, it was okay for Steven ...  \n",
       "1     Hospitals in the United States have turned dow...  \n",
       "2     My friends parents have died from Covid &amp; ...  \n",
       "3     📢 Our 7-part series on life after lockdown ‘EM...  \n",
       "4     @JoeTalkShow I wrote a tweet after u came back...  \n",
       "...                                                 ...  \n",
       "5177  A Perth woman in quarantine has become the fir...  \n",
       "5178                                                NaN  \n",
       "5179                                                NaN  \n",
       "5180  a stay at home challenge to keep people safe, ...  \n",
       "5181  Deep State Fauci Calls for Economic Lockdown U...  \n",
       "\n",
       "[5182 rows x 2 columns]"
      ]
     },
     "execution_count": 23,
     "metadata": {},
     "output_type": "execute_result"
    }
   ],
   "source": [
    "interim[['RT_text','RT_full_text']]"
   ]
  },
  {
   "cell_type": "code",
   "execution_count": 24,
   "metadata": {},
   "outputs": [],
   "source": [
    "interim['RT_full_text'] = np.where(interim['RT_full_text'].isna(),interim['RT_text'],interim['RT_full_text'])"
   ]
  },
  {
   "cell_type": "code",
   "execution_count": 25,
   "metadata": {},
   "outputs": [],
   "source": [
    "interim = interim[['RT_id','RT_user_id','RT_full_text']]"
   ]
  },
  {
   "cell_type": "code",
   "execution_count": 26,
   "metadata": {},
   "outputs": [],
   "source": [
    "interim.columns = non_rep.columns"
   ]
  },
  {
   "cell_type": "code",
   "execution_count": 27,
   "metadata": {},
   "outputs": [
    {
     "data": {
      "text/plain": [
       "(5182, 3)"
      ]
     },
     "execution_count": 27,
     "metadata": {},
     "output_type": "execute_result"
    }
   ],
   "source": [
    "interim.shape"
   ]
  },
  {
   "cell_type": "code",
   "execution_count": 28,
   "metadata": {},
   "outputs": [],
   "source": [
    "interim = interim.drop_duplicates(['id','user_id']).reset_index(drop=True)"
   ]
  },
  {
   "cell_type": "code",
   "execution_count": 29,
   "metadata": {},
   "outputs": [
    {
     "data": {
      "text/plain": [
       "(2221, 3)"
      ]
     },
     "execution_count": 29,
     "metadata": {},
     "output_type": "execute_result"
    }
   ],
   "source": [
    "interim.shape"
   ]
  },
  {
   "cell_type": "code",
   "execution_count": 30,
   "metadata": {},
   "outputs": [],
   "source": [
    "non_rep = non_rep.append(interim,ignore_index=True)"
   ]
  },
  {
   "cell_type": "code",
   "execution_count": 31,
   "metadata": {},
   "outputs": [
    {
     "data": {
      "text/plain": [
       "(4508, 3)"
      ]
     },
     "execution_count": 31,
     "metadata": {},
     "output_type": "execute_result"
    }
   ],
   "source": [
    "non_rep.shape"
   ]
  },
  {
   "cell_type": "code",
   "execution_count": 32,
   "metadata": {},
   "outputs": [
    {
     "data": {
      "text/plain": [
       "1.304786e+18    2\n",
       "1.304786e+18    2\n",
       "1.304786e+18    2\n",
       "1.304786e+18    2\n",
       "1.304786e+18    2\n",
       "               ..\n",
       "1.304787e+18    1\n",
       "1.304786e+18    1\n",
       "1.304786e+18    1\n",
       "1.304787e+18    1\n",
       "1.304705e+18    1\n",
       "Name: id, Length: 4444, dtype: int64"
      ]
     },
     "execution_count": 32,
     "metadata": {},
     "output_type": "execute_result"
    }
   ],
   "source": [
    "non_rep['id'].value_counts()"
   ]
  },
  {
   "cell_type": "code",
   "execution_count": 33,
   "metadata": {},
   "outputs": [],
   "source": [
    "non_rep = non_rep.drop_duplicates(['id']).reset_index(drop=True)"
   ]
  },
  {
   "cell_type": "code",
   "execution_count": 34,
   "metadata": {},
   "outputs": [
    {
     "data": {
      "text/plain": [
       "(4444, 3)"
      ]
     },
     "execution_count": 34,
     "metadata": {},
     "output_type": "execute_result"
    }
   ],
   "source": [
    "non_rep.shape"
   ]
  },
  {
   "cell_type": "markdown",
   "metadata": {},
   "source": [
    "##### is_quote_tweet --> True --> Non RT"
   ]
  },
  {
   "cell_type": "code",
   "execution_count": 35,
   "metadata": {},
   "outputs": [],
   "source": [
    "interim = data_en[np.where((data_en['is_quote_tweet']== True) & (data_en['RT_Flag']== False),True,False)].reset_index(drop=True)"
   ]
  },
  {
   "cell_type": "code",
   "execution_count": 36,
   "metadata": {},
   "outputs": [
    {
     "data": {
      "text/plain": [
       "(758, 39)"
      ]
     },
     "execution_count": 36,
     "metadata": {},
     "output_type": "execute_result"
    }
   ],
   "source": [
    "interim.shape"
   ]
  },
  {
   "cell_type": "code",
   "execution_count": 37,
   "metadata": {},
   "outputs": [],
   "source": [
    "interim['extended_tweet_full_text'] = np.where(~interim['truncated'],interim['text'],interim['extended_tweet_full_text'])"
   ]
  },
  {
   "cell_type": "code",
   "execution_count": 38,
   "metadata": {},
   "outputs": [
    {
     "data": {
      "text/html": [
       "<div>\n",
       "<style scoped>\n",
       "    .dataframe tbody tr th:only-of-type {\n",
       "        vertical-align: middle;\n",
       "    }\n",
       "\n",
       "    .dataframe tbody tr th {\n",
       "        vertical-align: top;\n",
       "    }\n",
       "\n",
       "    .dataframe thead th {\n",
       "        text-align: right;\n",
       "    }\n",
       "</style>\n",
       "<table border=\"1\" class=\"dataframe\">\n",
       "  <thead>\n",
       "    <tr style=\"text-align: right;\">\n",
       "      <th></th>\n",
       "      <th>text</th>\n",
       "      <th>extended_tweet_full_text</th>\n",
       "    </tr>\n",
       "  </thead>\n",
       "  <tbody>\n",
       "    <tr>\n",
       "      <th>0</th>\n",
       "      <td>What i gain in this pandemic</td>\n",
       "      <td>What i gain in this pandemic</td>\n",
       "    </tr>\n",
       "    <tr>\n",
       "      <th>1</th>\n",
       "      <td>My baby school got them wearing both</td>\n",
       "      <td>My baby school got them wearing both</td>\n",
       "    </tr>\n",
       "    <tr>\n",
       "      <th>2</th>\n",
       "      <td>And it should not be radical. \\n\\nMilitary and...</td>\n",
       "      <td>And it should not be radical. \\n\\nMilitary and...</td>\n",
       "    </tr>\n",
       "    <tr>\n",
       "      <th>3</th>\n",
       "      <td>No brainer, it's all political &amp;amp; it's not ...</td>\n",
       "      <td>No brainer, it's all political &amp;amp; it's not ...</td>\n",
       "    </tr>\n",
       "    <tr>\n",
       "      <th>4</th>\n",
       "      <td>In case you haven't noticed, we're in the midd...</td>\n",
       "      <td>In case you haven't noticed, we're in the midd...</td>\n",
       "    </tr>\n",
       "    <tr>\n",
       "      <th>...</th>\n",
       "      <td>...</td>\n",
       "      <td>...</td>\n",
       "    </tr>\n",
       "    <tr>\n",
       "      <th>753</th>\n",
       "      <td>And still nothing is done to stop Merchant Cit...</td>\n",
       "      <td>And still nothing is done to stop Merchant Cit...</td>\n",
       "    </tr>\n",
       "    <tr>\n",
       "      <th>754</th>\n",
       "      <td>Betul............</td>\n",
       "      <td>Betul............</td>\n",
       "    </tr>\n",
       "    <tr>\n",
       "      <th>755</th>\n",
       "      <td>@ScottMorrisonMP  are proud of this happening ...</td>\n",
       "      <td>@ScottMorrisonMP  are proud of this happening ...</td>\n",
       "    </tr>\n",
       "    <tr>\n",
       "      <th>756</th>\n",
       "      <td>#BlackLivesMatter Andy. Words matter, especial...</td>\n",
       "      <td>#BlackLivesMatter Andy. Words matter, especial...</td>\n",
       "    </tr>\n",
       "    <tr>\n",
       "      <th>757</th>\n",
       "      <td>Excellent visual of the numbers of the R0 for ...</td>\n",
       "      <td>Excellent visual of the numbers of the R0 for ...</td>\n",
       "    </tr>\n",
       "  </tbody>\n",
       "</table>\n",
       "<p>758 rows × 2 columns</p>\n",
       "</div>"
      ],
      "text/plain": [
       "                                                  text  \\\n",
       "0                         What i gain in this pandemic   \n",
       "1                 My baby school got them wearing both   \n",
       "2    And it should not be radical. \\n\\nMilitary and...   \n",
       "3    No brainer, it's all political &amp; it's not ...   \n",
       "4    In case you haven't noticed, we're in the midd...   \n",
       "..                                                 ...   \n",
       "753  And still nothing is done to stop Merchant Cit...   \n",
       "754                                  Betul............   \n",
       "755  @ScottMorrisonMP  are proud of this happening ...   \n",
       "756  #BlackLivesMatter Andy. Words matter, especial...   \n",
       "757  Excellent visual of the numbers of the R0 for ...   \n",
       "\n",
       "                              extended_tweet_full_text  \n",
       "0                         What i gain in this pandemic  \n",
       "1                 My baby school got them wearing both  \n",
       "2    And it should not be radical. \\n\\nMilitary and...  \n",
       "3    No brainer, it's all political &amp; it's not ...  \n",
       "4    In case you haven't noticed, we're in the midd...  \n",
       "..                                                 ...  \n",
       "753  And still nothing is done to stop Merchant Cit...  \n",
       "754                                  Betul............  \n",
       "755  @ScottMorrisonMP  are proud of this happening ...  \n",
       "756  #BlackLivesMatter Andy. Words matter, especial...  \n",
       "757  Excellent visual of the numbers of the R0 for ...  \n",
       "\n",
       "[758 rows x 2 columns]"
      ]
     },
     "execution_count": 38,
     "metadata": {},
     "output_type": "execute_result"
    }
   ],
   "source": [
    "interim[['text','extended_tweet_full_text']]"
   ]
  },
  {
   "cell_type": "code",
   "execution_count": 39,
   "metadata": {},
   "outputs": [],
   "source": [
    "interim = interim[['id','user_id','extended_tweet_full_text']]"
   ]
  },
  {
   "cell_type": "code",
   "execution_count": 40,
   "metadata": {},
   "outputs": [],
   "source": [
    "interim.columns = non_rep.columns"
   ]
  },
  {
   "cell_type": "code",
   "execution_count": 41,
   "metadata": {},
   "outputs": [
    {
     "data": {
      "text/plain": [
       "(758, 3)"
      ]
     },
     "execution_count": 41,
     "metadata": {},
     "output_type": "execute_result"
    }
   ],
   "source": [
    "interim.shape"
   ]
  },
  {
   "cell_type": "code",
   "execution_count": 42,
   "metadata": {},
   "outputs": [
    {
     "data": {
      "text/html": [
       "<div>\n",
       "<style scoped>\n",
       "    .dataframe tbody tr th:only-of-type {\n",
       "        vertical-align: middle;\n",
       "    }\n",
       "\n",
       "    .dataframe tbody tr th {\n",
       "        vertical-align: top;\n",
       "    }\n",
       "\n",
       "    .dataframe thead th {\n",
       "        text-align: right;\n",
       "    }\n",
       "</style>\n",
       "<table border=\"1\" class=\"dataframe\">\n",
       "  <thead>\n",
       "    <tr style=\"text-align: right;\">\n",
       "      <th></th>\n",
       "      <th>id</th>\n",
       "      <th>user_id</th>\n",
       "      <th>extended_tweet_full_text</th>\n",
       "    </tr>\n",
       "  </thead>\n",
       "  <tbody>\n",
       "    <tr>\n",
       "      <th>0</th>\n",
       "      <td>1.304786e+18</td>\n",
       "      <td>1.310861e+08</td>\n",
       "      <td>What i gain in this pandemic</td>\n",
       "    </tr>\n",
       "    <tr>\n",
       "      <th>1</th>\n",
       "      <td>1.304786e+18</td>\n",
       "      <td>2.996246e+09</td>\n",
       "      <td>My baby school got them wearing both</td>\n",
       "    </tr>\n",
       "    <tr>\n",
       "      <th>2</th>\n",
       "      <td>1.304786e+18</td>\n",
       "      <td>1.034838e+18</td>\n",
       "      <td>And it should not be radical. \\n\\nMilitary and...</td>\n",
       "    </tr>\n",
       "    <tr>\n",
       "      <th>3</th>\n",
       "      <td>1.304786e+18</td>\n",
       "      <td>5.273566e+08</td>\n",
       "      <td>No brainer, it's all political &amp;amp; it's not ...</td>\n",
       "    </tr>\n",
       "    <tr>\n",
       "      <th>4</th>\n",
       "      <td>1.304786e+18</td>\n",
       "      <td>1.292052e+09</td>\n",
       "      <td>In case you haven't noticed, we're in the midd...</td>\n",
       "    </tr>\n",
       "    <tr>\n",
       "      <th>...</th>\n",
       "      <td>...</td>\n",
       "      <td>...</td>\n",
       "      <td>...</td>\n",
       "    </tr>\n",
       "    <tr>\n",
       "      <th>753</th>\n",
       "      <td>1.304787e+18</td>\n",
       "      <td>3.310412e+09</td>\n",
       "      <td>And still nothing is done to stop Merchant Cit...</td>\n",
       "    </tr>\n",
       "    <tr>\n",
       "      <th>754</th>\n",
       "      <td>1.304787e+18</td>\n",
       "      <td>2.838848e+09</td>\n",
       "      <td>Betul............</td>\n",
       "    </tr>\n",
       "    <tr>\n",
       "      <th>755</th>\n",
       "      <td>1.304787e+18</td>\n",
       "      <td>1.097800e+18</td>\n",
       "      <td>@ScottMorrisonMP  are proud of this happening ...</td>\n",
       "    </tr>\n",
       "    <tr>\n",
       "      <th>756</th>\n",
       "      <td>1.304787e+18</td>\n",
       "      <td>1.022819e+18</td>\n",
       "      <td>#BlackLivesMatter Andy. Words matter, especial...</td>\n",
       "    </tr>\n",
       "    <tr>\n",
       "      <th>757</th>\n",
       "      <td>1.304787e+18</td>\n",
       "      <td>2.555459e+08</td>\n",
       "      <td>Excellent visual of the numbers of the R0 for ...</td>\n",
       "    </tr>\n",
       "  </tbody>\n",
       "</table>\n",
       "<p>758 rows × 3 columns</p>\n",
       "</div>"
      ],
      "text/plain": [
       "               id       user_id  \\\n",
       "0    1.304786e+18  1.310861e+08   \n",
       "1    1.304786e+18  2.996246e+09   \n",
       "2    1.304786e+18  1.034838e+18   \n",
       "3    1.304786e+18  5.273566e+08   \n",
       "4    1.304786e+18  1.292052e+09   \n",
       "..            ...           ...   \n",
       "753  1.304787e+18  3.310412e+09   \n",
       "754  1.304787e+18  2.838848e+09   \n",
       "755  1.304787e+18  1.097800e+18   \n",
       "756  1.304787e+18  1.022819e+18   \n",
       "757  1.304787e+18  2.555459e+08   \n",
       "\n",
       "                              extended_tweet_full_text  \n",
       "0                         What i gain in this pandemic  \n",
       "1                 My baby school got them wearing both  \n",
       "2    And it should not be radical. \\n\\nMilitary and...  \n",
       "3    No brainer, it's all political &amp; it's not ...  \n",
       "4    In case you haven't noticed, we're in the midd...  \n",
       "..                                                 ...  \n",
       "753  And still nothing is done to stop Merchant Cit...  \n",
       "754                                  Betul............  \n",
       "755  @ScottMorrisonMP  are proud of this happening ...  \n",
       "756  #BlackLivesMatter Andy. Words matter, especial...  \n",
       "757  Excellent visual of the numbers of the R0 for ...  \n",
       "\n",
       "[758 rows x 3 columns]"
      ]
     },
     "execution_count": 42,
     "metadata": {},
     "output_type": "execute_result"
    }
   ],
   "source": [
    "interim"
   ]
  },
  {
   "cell_type": "code",
   "execution_count": 43,
   "metadata": {},
   "outputs": [],
   "source": [
    "interim = interim.drop_duplicates(['id','user_id']).reset_index(drop=True)"
   ]
  },
  {
   "cell_type": "code",
   "execution_count": 44,
   "metadata": {},
   "outputs": [
    {
     "data": {
      "text/plain": [
       "(758, 3)"
      ]
     },
     "execution_count": 44,
     "metadata": {},
     "output_type": "execute_result"
    }
   ],
   "source": [
    "interim.shape"
   ]
  },
  {
   "cell_type": "code",
   "execution_count": 45,
   "metadata": {},
   "outputs": [],
   "source": [
    "non_rep = non_rep.append(interim,ignore_index=True)"
   ]
  },
  {
   "cell_type": "code",
   "execution_count": 46,
   "metadata": {},
   "outputs": [
    {
     "data": {
      "text/plain": [
       "(5202, 3)"
      ]
     },
     "execution_count": 46,
     "metadata": {},
     "output_type": "execute_result"
    }
   ],
   "source": [
    "non_rep.shape"
   ]
  },
  {
   "cell_type": "code",
   "execution_count": 47,
   "metadata": {},
   "outputs": [],
   "source": [
    "non_rep = non_rep.drop_duplicates(['id']).reset_index(drop=True)"
   ]
  },
  {
   "cell_type": "code",
   "execution_count": 48,
   "metadata": {},
   "outputs": [
    {
     "data": {
      "text/plain": [
       "(5200, 3)"
      ]
     },
     "execution_count": 48,
     "metadata": {},
     "output_type": "execute_result"
    }
   ],
   "source": [
    "non_rep.shape"
   ]
  },
  {
   "cell_type": "code",
   "execution_count": 49,
   "metadata": {},
   "outputs": [],
   "source": [
    "interim = data_en[np.where((data_en['is_quote_tweet']== True) & (data_en['RT_Flag']== False),True,False)].reset_index(drop=True)"
   ]
  },
  {
   "cell_type": "code",
   "execution_count": 50,
   "metadata": {},
   "outputs": [
    {
     "data": {
      "text/plain": [
       "(758, 39)"
      ]
     },
     "execution_count": 50,
     "metadata": {},
     "output_type": "execute_result"
    }
   ],
   "source": [
    "interim.shape"
   ]
  },
  {
   "cell_type": "code",
   "execution_count": 51,
   "metadata": {},
   "outputs": [
    {
     "data": {
      "text/html": [
       "<div>\n",
       "<style scoped>\n",
       "    .dataframe tbody tr th:only-of-type {\n",
       "        vertical-align: middle;\n",
       "    }\n",
       "\n",
       "    .dataframe tbody tr th {\n",
       "        vertical-align: top;\n",
       "    }\n",
       "\n",
       "    .dataframe thead th {\n",
       "        text-align: right;\n",
       "    }\n",
       "</style>\n",
       "<table border=\"1\" class=\"dataframe\">\n",
       "  <thead>\n",
       "    <tr style=\"text-align: right;\">\n",
       "      <th></th>\n",
       "      <th>QT_text</th>\n",
       "      <th>QT_full_text</th>\n",
       "    </tr>\n",
       "  </thead>\n",
       "  <tbody>\n",
       "    <tr>\n",
       "      <th>0</th>\n",
       "      <td>R.I.P to my unhealthy phone charging habit</td>\n",
       "      <td>NaN</td>\n",
       "    </tr>\n",
       "    <tr>\n",
       "      <th>1</th>\n",
       "      <td>So does mask or a face shield work better 🤣</td>\n",
       "      <td>NaN</td>\n",
       "    </tr>\n",
       "    <tr>\n",
       "      <th>2</th>\n",
       "      <td>BERNIE BUCKS: Sanders Says ‘Every Working Clas...</td>\n",
       "      <td>NaN</td>\n",
       "    </tr>\n",
       "    <tr>\n",
       "      <th>3</th>\n",
       "      <td>Do you think some STATE SHUTDOWNS are directly...</td>\n",
       "      <td>NaN</td>\n",
       "    </tr>\n",
       "    <tr>\n",
       "      <th>4</th>\n",
       "      <td>“The RNC says it has knocked on the doors of 1...</td>\n",
       "      <td>“The RNC says it has knocked on the doors of 1...</td>\n",
       "    </tr>\n",
       "    <tr>\n",
       "      <th>...</th>\n",
       "      <td>...</td>\n",
       "      <td>...</td>\n",
       "    </tr>\n",
       "    <tr>\n",
       "      <th>753</th>\n",
       "      <td>BREAKING: 221 people have tested positive for ...</td>\n",
       "      <td>BREAKING: 221 people have tested positive for ...</td>\n",
       "    </tr>\n",
       "    <tr>\n",
       "      <th>754</th>\n",
       "      <td>Kalau tidak py wacana perbaikan soal penangana...</td>\n",
       "      <td>Kalau tidak py wacana perbaikan soal penangana...</td>\n",
       "    </tr>\n",
       "    <tr>\n",
       "      <th>755</th>\n",
       "      <td>This is what’s occurring in Australia @ScottMo...</td>\n",
       "      <td>This is what’s occurring in Australia @ScottMo...</td>\n",
       "    </tr>\n",
       "    <tr>\n",
       "      <th>756</th>\n",
       "      <td>Every life matters and this virus is our enemy...</td>\n",
       "      <td>Every life matters and this virus is our enemy...</td>\n",
       "    </tr>\n",
       "    <tr>\n",
       "      <th>757</th>\n",
       "      <td>@Hood_Biologist Just to give a quick compariso...</td>\n",
       "      <td>@Hood_Biologist Just to give a quick compariso...</td>\n",
       "    </tr>\n",
       "  </tbody>\n",
       "</table>\n",
       "<p>758 rows × 2 columns</p>\n",
       "</div>"
      ],
      "text/plain": [
       "                                               QT_text  \\\n",
       "0           R.I.P to my unhealthy phone charging habit   \n",
       "1          So does mask or a face shield work better 🤣   \n",
       "2    BERNIE BUCKS: Sanders Says ‘Every Working Clas...   \n",
       "3    Do you think some STATE SHUTDOWNS are directly...   \n",
       "4    “The RNC says it has knocked on the doors of 1...   \n",
       "..                                                 ...   \n",
       "753  BREAKING: 221 people have tested positive for ...   \n",
       "754  Kalau tidak py wacana perbaikan soal penangana...   \n",
       "755  This is what’s occurring in Australia @ScottMo...   \n",
       "756  Every life matters and this virus is our enemy...   \n",
       "757  @Hood_Biologist Just to give a quick compariso...   \n",
       "\n",
       "                                          QT_full_text  \n",
       "0                                                  NaN  \n",
       "1                                                  NaN  \n",
       "2                                                  NaN  \n",
       "3                                                  NaN  \n",
       "4    “The RNC says it has knocked on the doors of 1...  \n",
       "..                                                 ...  \n",
       "753  BREAKING: 221 people have tested positive for ...  \n",
       "754  Kalau tidak py wacana perbaikan soal penangana...  \n",
       "755  This is what’s occurring in Australia @ScottMo...  \n",
       "756  Every life matters and this virus is our enemy...  \n",
       "757  @Hood_Biologist Just to give a quick compariso...  \n",
       "\n",
       "[758 rows x 2 columns]"
      ]
     },
     "execution_count": 51,
     "metadata": {},
     "output_type": "execute_result"
    }
   ],
   "source": [
    "interim[['QT_text','QT_full_text']]"
   ]
  },
  {
   "cell_type": "code",
   "execution_count": 52,
   "metadata": {},
   "outputs": [],
   "source": [
    "interim['QT_full_text'] = np.where(interim['QT_full_text'].isna(),interim['QT_text'],interim['QT_full_text'])"
   ]
  },
  {
   "cell_type": "code",
   "execution_count": 53,
   "metadata": {},
   "outputs": [
    {
     "data": {
      "text/plain": [
       "(758, 39)"
      ]
     },
     "execution_count": 53,
     "metadata": {},
     "output_type": "execute_result"
    }
   ],
   "source": [
    "interim.shape"
   ]
  },
  {
   "cell_type": "code",
   "execution_count": 54,
   "metadata": {},
   "outputs": [
    {
     "data": {
      "text/html": [
       "<div>\n",
       "<style scoped>\n",
       "    .dataframe tbody tr th:only-of-type {\n",
       "        vertical-align: middle;\n",
       "    }\n",
       "\n",
       "    .dataframe tbody tr th {\n",
       "        vertical-align: top;\n",
       "    }\n",
       "\n",
       "    .dataframe thead th {\n",
       "        text-align: right;\n",
       "    }\n",
       "</style>\n",
       "<table border=\"1\" class=\"dataframe\">\n",
       "  <thead>\n",
       "    <tr style=\"text-align: right;\">\n",
       "      <th></th>\n",
       "      <th>QT_text</th>\n",
       "      <th>QT_full_text</th>\n",
       "    </tr>\n",
       "  </thead>\n",
       "  <tbody>\n",
       "    <tr>\n",
       "      <th>0</th>\n",
       "      <td>R.I.P to my unhealthy phone charging habit</td>\n",
       "      <td>R.I.P to my unhealthy phone charging habit</td>\n",
       "    </tr>\n",
       "    <tr>\n",
       "      <th>1</th>\n",
       "      <td>So does mask or a face shield work better 🤣</td>\n",
       "      <td>So does mask or a face shield work better 🤣</td>\n",
       "    </tr>\n",
       "    <tr>\n",
       "      <th>2</th>\n",
       "      <td>BERNIE BUCKS: Sanders Says ‘Every Working Clas...</td>\n",
       "      <td>BERNIE BUCKS: Sanders Says ‘Every Working Clas...</td>\n",
       "    </tr>\n",
       "    <tr>\n",
       "      <th>3</th>\n",
       "      <td>Do you think some STATE SHUTDOWNS are directly...</td>\n",
       "      <td>Do you think some STATE SHUTDOWNS are directly...</td>\n",
       "    </tr>\n",
       "    <tr>\n",
       "      <th>4</th>\n",
       "      <td>“The RNC says it has knocked on the doors of 1...</td>\n",
       "      <td>“The RNC says it has knocked on the doors of 1...</td>\n",
       "    </tr>\n",
       "    <tr>\n",
       "      <th>...</th>\n",
       "      <td>...</td>\n",
       "      <td>...</td>\n",
       "    </tr>\n",
       "    <tr>\n",
       "      <th>753</th>\n",
       "      <td>BREAKING: 221 people have tested positive for ...</td>\n",
       "      <td>BREAKING: 221 people have tested positive for ...</td>\n",
       "    </tr>\n",
       "    <tr>\n",
       "      <th>754</th>\n",
       "      <td>Kalau tidak py wacana perbaikan soal penangana...</td>\n",
       "      <td>Kalau tidak py wacana perbaikan soal penangana...</td>\n",
       "    </tr>\n",
       "    <tr>\n",
       "      <th>755</th>\n",
       "      <td>This is what’s occurring in Australia @ScottMo...</td>\n",
       "      <td>This is what’s occurring in Australia @ScottMo...</td>\n",
       "    </tr>\n",
       "    <tr>\n",
       "      <th>756</th>\n",
       "      <td>Every life matters and this virus is our enemy...</td>\n",
       "      <td>Every life matters and this virus is our enemy...</td>\n",
       "    </tr>\n",
       "    <tr>\n",
       "      <th>757</th>\n",
       "      <td>@Hood_Biologist Just to give a quick compariso...</td>\n",
       "      <td>@Hood_Biologist Just to give a quick compariso...</td>\n",
       "    </tr>\n",
       "  </tbody>\n",
       "</table>\n",
       "<p>758 rows × 2 columns</p>\n",
       "</div>"
      ],
      "text/plain": [
       "                                               QT_text  \\\n",
       "0           R.I.P to my unhealthy phone charging habit   \n",
       "1          So does mask or a face shield work better 🤣   \n",
       "2    BERNIE BUCKS: Sanders Says ‘Every Working Clas...   \n",
       "3    Do you think some STATE SHUTDOWNS are directly...   \n",
       "4    “The RNC says it has knocked on the doors of 1...   \n",
       "..                                                 ...   \n",
       "753  BREAKING: 221 people have tested positive for ...   \n",
       "754  Kalau tidak py wacana perbaikan soal penangana...   \n",
       "755  This is what’s occurring in Australia @ScottMo...   \n",
       "756  Every life matters and this virus is our enemy...   \n",
       "757  @Hood_Biologist Just to give a quick compariso...   \n",
       "\n",
       "                                          QT_full_text  \n",
       "0           R.I.P to my unhealthy phone charging habit  \n",
       "1          So does mask or a face shield work better 🤣  \n",
       "2    BERNIE BUCKS: Sanders Says ‘Every Working Clas...  \n",
       "3    Do you think some STATE SHUTDOWNS are directly...  \n",
       "4    “The RNC says it has knocked on the doors of 1...  \n",
       "..                                                 ...  \n",
       "753  BREAKING: 221 people have tested positive for ...  \n",
       "754  Kalau tidak py wacana perbaikan soal penangana...  \n",
       "755  This is what’s occurring in Australia @ScottMo...  \n",
       "756  Every life matters and this virus is our enemy...  \n",
       "757  @Hood_Biologist Just to give a quick compariso...  \n",
       "\n",
       "[758 rows x 2 columns]"
      ]
     },
     "execution_count": 54,
     "metadata": {},
     "output_type": "execute_result"
    }
   ],
   "source": [
    "interim[['QT_text','QT_full_text']]"
   ]
  },
  {
   "cell_type": "code",
   "execution_count": 55,
   "metadata": {},
   "outputs": [],
   "source": [
    "interim = interim[['QT_id','QT_user_id','QT_full_text']]"
   ]
  },
  {
   "cell_type": "code",
   "execution_count": 56,
   "metadata": {
    "scrolled": true
   },
   "outputs": [],
   "source": [
    "interim.columns = non_rep.columns"
   ]
  },
  {
   "cell_type": "code",
   "execution_count": 57,
   "metadata": {},
   "outputs": [
    {
     "data": {
      "text/html": [
       "<div>\n",
       "<style scoped>\n",
       "    .dataframe tbody tr th:only-of-type {\n",
       "        vertical-align: middle;\n",
       "    }\n",
       "\n",
       "    .dataframe tbody tr th {\n",
       "        vertical-align: top;\n",
       "    }\n",
       "\n",
       "    .dataframe thead th {\n",
       "        text-align: right;\n",
       "    }\n",
       "</style>\n",
       "<table border=\"1\" class=\"dataframe\">\n",
       "  <thead>\n",
       "    <tr style=\"text-align: right;\">\n",
       "      <th></th>\n",
       "      <th>id</th>\n",
       "      <th>user_id</th>\n",
       "      <th>extended_tweet_full_text</th>\n",
       "    </tr>\n",
       "  </thead>\n",
       "  <tbody>\n",
       "    <tr>\n",
       "      <th>0</th>\n",
       "      <td>1.304732e+18</td>\n",
       "      <td>1.074866e+18</td>\n",
       "      <td>R.I.P to my unhealthy phone charging habit</td>\n",
       "    </tr>\n",
       "    <tr>\n",
       "      <th>1</th>\n",
       "      <td>1.304775e+18</td>\n",
       "      <td>2.508580e+07</td>\n",
       "      <td>So does mask or a face shield work better 🤣</td>\n",
       "    </tr>\n",
       "    <tr>\n",
       "      <th>2</th>\n",
       "      <td>1.304543e+18</td>\n",
       "      <td>4.163452e+07</td>\n",
       "      <td>BERNIE BUCKS: Sanders Says ‘Every Working Clas...</td>\n",
       "    </tr>\n",
       "    <tr>\n",
       "      <th>3</th>\n",
       "      <td>1.304783e+18</td>\n",
       "      <td>4.765364e+09</td>\n",
       "      <td>Do you think some STATE SHUTDOWNS are directly...</td>\n",
       "    </tr>\n",
       "    <tr>\n",
       "      <th>4</th>\n",
       "      <td>1.304774e+18</td>\n",
       "      <td>1.113425e+07</td>\n",
       "      <td>“The RNC says it has knocked on the doors of 1...</td>\n",
       "    </tr>\n",
       "    <tr>\n",
       "      <th>...</th>\n",
       "      <td>...</td>\n",
       "      <td>...</td>\n",
       "      <td>...</td>\n",
       "    </tr>\n",
       "    <tr>\n",
       "      <th>753</th>\n",
       "      <td>1.304772e+18</td>\n",
       "      <td>1.568751e+07</td>\n",
       "      <td>BREAKING: 221 people have tested positive for ...</td>\n",
       "    </tr>\n",
       "    <tr>\n",
       "      <th>754</th>\n",
       "      <td>1.304775e+18</td>\n",
       "      <td>3.254877e+09</td>\n",
       "      <td>Kalau tidak py wacana perbaikan soal penangana...</td>\n",
       "    </tr>\n",
       "    <tr>\n",
       "      <th>755</th>\n",
       "      <td>1.304754e+18</td>\n",
       "      <td>1.292287e+18</td>\n",
       "      <td>This is what’s occurring in Australia @ScottMo...</td>\n",
       "    </tr>\n",
       "    <tr>\n",
       "      <th>756</th>\n",
       "      <td>1.304783e+18</td>\n",
       "      <td>1.192550e+18</td>\n",
       "      <td>Every life matters and this virus is our enemy...</td>\n",
       "    </tr>\n",
       "    <tr>\n",
       "      <th>757</th>\n",
       "      <td>1.304785e+18</td>\n",
       "      <td>9.679572e+17</td>\n",
       "      <td>@Hood_Biologist Just to give a quick compariso...</td>\n",
       "    </tr>\n",
       "  </tbody>\n",
       "</table>\n",
       "<p>758 rows × 3 columns</p>\n",
       "</div>"
      ],
      "text/plain": [
       "               id       user_id  \\\n",
       "0    1.304732e+18  1.074866e+18   \n",
       "1    1.304775e+18  2.508580e+07   \n",
       "2    1.304543e+18  4.163452e+07   \n",
       "3    1.304783e+18  4.765364e+09   \n",
       "4    1.304774e+18  1.113425e+07   \n",
       "..            ...           ...   \n",
       "753  1.304772e+18  1.568751e+07   \n",
       "754  1.304775e+18  3.254877e+09   \n",
       "755  1.304754e+18  1.292287e+18   \n",
       "756  1.304783e+18  1.192550e+18   \n",
       "757  1.304785e+18  9.679572e+17   \n",
       "\n",
       "                              extended_tweet_full_text  \n",
       "0           R.I.P to my unhealthy phone charging habit  \n",
       "1          So does mask or a face shield work better 🤣  \n",
       "2    BERNIE BUCKS: Sanders Says ‘Every Working Clas...  \n",
       "3    Do you think some STATE SHUTDOWNS are directly...  \n",
       "4    “The RNC says it has knocked on the doors of 1...  \n",
       "..                                                 ...  \n",
       "753  BREAKING: 221 people have tested positive for ...  \n",
       "754  Kalau tidak py wacana perbaikan soal penangana...  \n",
       "755  This is what’s occurring in Australia @ScottMo...  \n",
       "756  Every life matters and this virus is our enemy...  \n",
       "757  @Hood_Biologist Just to give a quick compariso...  \n",
       "\n",
       "[758 rows x 3 columns]"
      ]
     },
     "execution_count": 57,
     "metadata": {},
     "output_type": "execute_result"
    }
   ],
   "source": [
    "interim"
   ]
  },
  {
   "cell_type": "code",
   "execution_count": 58,
   "metadata": {},
   "outputs": [],
   "source": [
    "interim = interim.drop_duplicates(['id','user_id']).reset_index(drop=True)"
   ]
  },
  {
   "cell_type": "code",
   "execution_count": 59,
   "metadata": {},
   "outputs": [
    {
     "data": {
      "text/plain": [
       "(553, 3)"
      ]
     },
     "execution_count": 59,
     "metadata": {},
     "output_type": "execute_result"
    }
   ],
   "source": [
    "interim.shape"
   ]
  },
  {
   "cell_type": "code",
   "execution_count": 60,
   "metadata": {},
   "outputs": [],
   "source": [
    "non_rep = non_rep.append(interim,ignore_index=True)"
   ]
  },
  {
   "cell_type": "code",
   "execution_count": 61,
   "metadata": {},
   "outputs": [
    {
     "data": {
      "text/plain": [
       "(5753, 3)"
      ]
     },
     "execution_count": 61,
     "metadata": {},
     "output_type": "execute_result"
    }
   ],
   "source": [
    "non_rep.shape"
   ]
  },
  {
   "cell_type": "code",
   "execution_count": 62,
   "metadata": {},
   "outputs": [],
   "source": [
    "non_rep = non_rep.drop_duplicates(['id']).reset_index(drop=True)"
   ]
  },
  {
   "cell_type": "code",
   "execution_count": 63,
   "metadata": {},
   "outputs": [
    {
     "data": {
      "text/plain": [
       "(5588, 3)"
      ]
     },
     "execution_count": 63,
     "metadata": {},
     "output_type": "execute_result"
    }
   ],
   "source": [
    "non_rep.shape"
   ]
  },
  {
   "cell_type": "markdown",
   "metadata": {},
   "source": [
    "##### is_quote_tweet --> True --> RT"
   ]
  },
  {
   "cell_type": "code",
   "execution_count": 64,
   "metadata": {},
   "outputs": [
    {
     "data": {
      "text/html": [
       "<div>\n",
       "<style scoped>\n",
       "    .dataframe tbody tr th:only-of-type {\n",
       "        vertical-align: middle;\n",
       "    }\n",
       "\n",
       "    .dataframe tbody tr th {\n",
       "        vertical-align: top;\n",
       "    }\n",
       "\n",
       "    .dataframe thead th {\n",
       "        text-align: right;\n",
       "    }\n",
       "</style>\n",
       "<table border=\"1\" class=\"dataframe\">\n",
       "  <thead>\n",
       "    <tr style=\"text-align: right;\">\n",
       "      <th></th>\n",
       "      <th>id</th>\n",
       "      <th>is_quote_tweet</th>\n",
       "      <th>quoted_tweet_id</th>\n",
       "      <th>in_reply_to_status_id_str</th>\n",
       "      <th>in_reply_to_user_id_str</th>\n",
       "      <th>in_reply_to_screen_name</th>\n",
       "      <th>lang</th>\n",
       "      <th>quote_count</th>\n",
       "      <th>reply_count</th>\n",
       "      <th>retweet_count</th>\n",
       "      <th>...</th>\n",
       "      <th>RT_full_text</th>\n",
       "      <th>QT_id</th>\n",
       "      <th>QT_lang</th>\n",
       "      <th>QT_user_id</th>\n",
       "      <th>QT_username</th>\n",
       "      <th>QT_name</th>\n",
       "      <th>QT_location</th>\n",
       "      <th>QT_text</th>\n",
       "      <th>QT_full_text</th>\n",
       "      <th>RT_Flag</th>\n",
       "    </tr>\n",
       "  </thead>\n",
       "  <tbody>\n",
       "    <tr>\n",
       "      <th>0</th>\n",
       "      <td>1.304786e+18</td>\n",
       "      <td>True</td>\n",
       "      <td>1.304631e+18</td>\n",
       "      <td>NaN</td>\n",
       "      <td>NaN</td>\n",
       "      <td>NaN</td>\n",
       "      <td>en</td>\n",
       "      <td>0</td>\n",
       "      <td>0</td>\n",
       "      <td>0</td>\n",
       "      <td>...</td>\n",
       "      <td>This is why many of us have cautioned from the...</td>\n",
       "      <td>1.304631e+18</td>\n",
       "      <td>en</td>\n",
       "      <td>8.312794e+17</td>\n",
       "      <td>Craig_A_Spencer</td>\n",
       "      <td>Craig Spencer MD MPH</td>\n",
       "      <td>New York City</td>\n",
       "      <td>A radiologist with ZERO credentials for this r...</td>\n",
       "      <td>A radiologist with ZERO credentials for this r...</td>\n",
       "      <td>True</td>\n",
       "    </tr>\n",
       "    <tr>\n",
       "      <th>1</th>\n",
       "      <td>1.304786e+18</td>\n",
       "      <td>True</td>\n",
       "      <td>1.304568e+18</td>\n",
       "      <td>NaN</td>\n",
       "      <td>NaN</td>\n",
       "      <td>NaN</td>\n",
       "      <td>en</td>\n",
       "      <td>0</td>\n",
       "      <td>0</td>\n",
       "      <td>0</td>\n",
       "      <td>...</td>\n",
       "      <td>NaN</td>\n",
       "      <td>1.304568e+18</td>\n",
       "      <td>en</td>\n",
       "      <td>2.949916e+08</td>\n",
       "      <td>MindfulMajority</td>\n",
       "      <td>Mindful Majority</td>\n",
       "      <td>Denver, CO</td>\n",
       "      <td>Joe Biden is mobilizing an impressive team of ...</td>\n",
       "      <td>Joe Biden is mobilizing an impressive team of ...</td>\n",
       "      <td>True</td>\n",
       "    </tr>\n",
       "    <tr>\n",
       "      <th>2</th>\n",
       "      <td>1.304786e+18</td>\n",
       "      <td>True</td>\n",
       "      <td>1.304603e+18</td>\n",
       "      <td>NaN</td>\n",
       "      <td>NaN</td>\n",
       "      <td>NaN</td>\n",
       "      <td>en</td>\n",
       "      <td>0</td>\n",
       "      <td>0</td>\n",
       "      <td>0</td>\n",
       "      <td>...</td>\n",
       "      <td>Folks, literally for week ending Sep. 5, the P...</td>\n",
       "      <td>1.304603e+18</td>\n",
       "      <td>en</td>\n",
       "      <td>4.445154e+07</td>\n",
       "      <td>kylamb8</td>\n",
       "      <td>Kyle Lamb</td>\n",
       "      <td>Columbus, OH</td>\n",
       "      <td>Weekly Covid Indicators (Covid Indicator Trend...</td>\n",
       "      <td>Weekly Covid Indicators (Covid Indicator Trend...</td>\n",
       "      <td>True</td>\n",
       "    </tr>\n",
       "    <tr>\n",
       "      <th>3</th>\n",
       "      <td>1.304786e+18</td>\n",
       "      <td>True</td>\n",
       "      <td>1.304626e+18</td>\n",
       "      <td>NaN</td>\n",
       "      <td>NaN</td>\n",
       "      <td>NaN</td>\n",
       "      <td>en</td>\n",
       "      <td>0</td>\n",
       "      <td>0</td>\n",
       "      <td>0</td>\n",
       "      <td>...</td>\n",
       "      <td>NaN</td>\n",
       "      <td>1.304626e+18</td>\n",
       "      <td>en</td>\n",
       "      <td>3.287109e+07</td>\n",
       "      <td>kylegriffin1</td>\n",
       "      <td>Kyle Griffin</td>\n",
       "      <td>Manhattan, NY</td>\n",
       "      <td>TORONTO (Reuters) - Canada reported zero COVID...</td>\n",
       "      <td>TORONTO (Reuters) - Canada reported zero COVID...</td>\n",
       "      <td>True</td>\n",
       "    </tr>\n",
       "    <tr>\n",
       "      <th>4</th>\n",
       "      <td>1.304786e+18</td>\n",
       "      <td>True</td>\n",
       "      <td>1.304341e+18</td>\n",
       "      <td>NaN</td>\n",
       "      <td>NaN</td>\n",
       "      <td>NaN</td>\n",
       "      <td>en</td>\n",
       "      <td>0</td>\n",
       "      <td>0</td>\n",
       "      <td>0</td>\n",
       "      <td>...</td>\n",
       "      <td>NaN</td>\n",
       "      <td>1.304341e+18</td>\n",
       "      <td>en</td>\n",
       "      <td>7.585442e+07</td>\n",
       "      <td>konkonas</td>\n",
       "      <td>Konkona Sensharma</td>\n",
       "      <td>India</td>\n",
       "      <td>What an irresponsible statement! Corona cases ...</td>\n",
       "      <td>NaN</td>\n",
       "      <td>True</td>\n",
       "    </tr>\n",
       "    <tr>\n",
       "      <th>...</th>\n",
       "      <td>...</td>\n",
       "      <td>...</td>\n",
       "      <td>...</td>\n",
       "      <td>...</td>\n",
       "      <td>...</td>\n",
       "      <td>...</td>\n",
       "      <td>...</td>\n",
       "      <td>...</td>\n",
       "      <td>...</td>\n",
       "      <td>...</td>\n",
       "      <td>...</td>\n",
       "      <td>...</td>\n",
       "      <td>...</td>\n",
       "      <td>...</td>\n",
       "      <td>...</td>\n",
       "      <td>...</td>\n",
       "      <td>...</td>\n",
       "      <td>...</td>\n",
       "      <td>...</td>\n",
       "      <td>...</td>\n",
       "      <td>...</td>\n",
       "    </tr>\n",
       "    <tr>\n",
       "      <th>1810</th>\n",
       "      <td>1.304787e+18</td>\n",
       "      <td>True</td>\n",
       "      <td>1.304503e+18</td>\n",
       "      <td>NaN</td>\n",
       "      <td>NaN</td>\n",
       "      <td>NaN</td>\n",
       "      <td>en</td>\n",
       "      <td>0</td>\n",
       "      <td>0</td>\n",
       "      <td>0</td>\n",
       "      <td>...</td>\n",
       "      <td>NaN</td>\n",
       "      <td>1.304503e+18</td>\n",
       "      <td>en</td>\n",
       "      <td>1.501249e+07</td>\n",
       "      <td>CBSNews</td>\n",
       "      <td>CBS News</td>\n",
       "      <td>New York, NY</td>\n",
       "      <td>WATCH: While hosting a large house party, Miam...</td>\n",
       "      <td>WATCH: While hosting a large house party, Miam...</td>\n",
       "      <td>True</td>\n",
       "    </tr>\n",
       "    <tr>\n",
       "      <th>1811</th>\n",
       "      <td>1.304787e+18</td>\n",
       "      <td>True</td>\n",
       "      <td>1.304756e+18</td>\n",
       "      <td>NaN</td>\n",
       "      <td>NaN</td>\n",
       "      <td>NaN</td>\n",
       "      <td>en</td>\n",
       "      <td>0</td>\n",
       "      <td>0</td>\n",
       "      <td>0</td>\n",
       "      <td>...</td>\n",
       "      <td>Completely forgot about the Louisville escorts...</td>\n",
       "      <td>1.304756e+18</td>\n",
       "      <td>en</td>\n",
       "      <td>2.215891e+09</td>\n",
       "      <td>LouClinicEscort</td>\n",
       "      <td>LvilleClinicEscorts</td>\n",
       "      <td>NaN</td>\n",
       "      <td>65 Catholics across the street only 7 wearing ...</td>\n",
       "      <td>NaN</td>\n",
       "      <td>True</td>\n",
       "    </tr>\n",
       "    <tr>\n",
       "      <th>1812</th>\n",
       "      <td>1.304787e+18</td>\n",
       "      <td>True</td>\n",
       "      <td>1.304610e+18</td>\n",
       "      <td>NaN</td>\n",
       "      <td>NaN</td>\n",
       "      <td>NaN</td>\n",
       "      <td>en</td>\n",
       "      <td>0</td>\n",
       "      <td>0</td>\n",
       "      <td>0</td>\n",
       "      <td>...</td>\n",
       "      <td>Good morning. As 1,000+ Americans die a day, a...</td>\n",
       "      <td>1.304610e+18</td>\n",
       "      <td>en</td>\n",
       "      <td>1.975016e+07</td>\n",
       "      <td>justinhendrix</td>\n",
       "      <td>Justin Hendrix</td>\n",
       "      <td>NYC</td>\n",
       "      <td>Politico exclusive: Trump political appointees...</td>\n",
       "      <td>Politico exclusive: Trump political appointees...</td>\n",
       "      <td>True</td>\n",
       "    </tr>\n",
       "    <tr>\n",
       "      <th>1813</th>\n",
       "      <td>1.304787e+18</td>\n",
       "      <td>True</td>\n",
       "      <td>1.304093e+18</td>\n",
       "      <td>NaN</td>\n",
       "      <td>NaN</td>\n",
       "      <td>NaN</td>\n",
       "      <td>en</td>\n",
       "      <td>0</td>\n",
       "      <td>0</td>\n",
       "      <td>0</td>\n",
       "      <td>...</td>\n",
       "      <td>Fun fact: in 2008 this officer pistol whipped ...</td>\n",
       "      <td>1.304093e+18</td>\n",
       "      <td>en</td>\n",
       "      <td>8.863983e+17</td>\n",
       "      <td>davenewworld_2</td>\n",
       "      <td>Fifty Shades of Whey</td>\n",
       "      <td>He/Him — NYC-LI</td>\n",
       "      <td>Police officer in Pittsburgh arrests a man for...</td>\n",
       "      <td>NaN</td>\n",
       "      <td>True</td>\n",
       "    </tr>\n",
       "    <tr>\n",
       "      <th>1814</th>\n",
       "      <td>1.304787e+18</td>\n",
       "      <td>True</td>\n",
       "      <td>1.304093e+18</td>\n",
       "      <td>NaN</td>\n",
       "      <td>NaN</td>\n",
       "      <td>NaN</td>\n",
       "      <td>en</td>\n",
       "      <td>0</td>\n",
       "      <td>0</td>\n",
       "      <td>0</td>\n",
       "      <td>...</td>\n",
       "      <td>Fun fact: in 2008 this officer pistol whipped ...</td>\n",
       "      <td>1.304093e+18</td>\n",
       "      <td>en</td>\n",
       "      <td>8.863983e+17</td>\n",
       "      <td>davenewworld_2</td>\n",
       "      <td>Fifty Shades of Whey</td>\n",
       "      <td>He/Him — NYC-LI</td>\n",
       "      <td>Police officer in Pittsburgh arrests a man for...</td>\n",
       "      <td>NaN</td>\n",
       "      <td>True</td>\n",
       "    </tr>\n",
       "  </tbody>\n",
       "</table>\n",
       "<p>1815 rows × 39 columns</p>\n",
       "</div>"
      ],
      "text/plain": [
       "                id  is_quote_tweet  quoted_tweet_id  \\\n",
       "0     1.304786e+18            True     1.304631e+18   \n",
       "1     1.304786e+18            True     1.304568e+18   \n",
       "2     1.304786e+18            True     1.304603e+18   \n",
       "3     1.304786e+18            True     1.304626e+18   \n",
       "4     1.304786e+18            True     1.304341e+18   \n",
       "...            ...             ...              ...   \n",
       "1810  1.304787e+18            True     1.304503e+18   \n",
       "1811  1.304787e+18            True     1.304756e+18   \n",
       "1812  1.304787e+18            True     1.304610e+18   \n",
       "1813  1.304787e+18            True     1.304093e+18   \n",
       "1814  1.304787e+18            True     1.304093e+18   \n",
       "\n",
       "      in_reply_to_status_id_str  in_reply_to_user_id_str  \\\n",
       "0                           NaN                      NaN   \n",
       "1                           NaN                      NaN   \n",
       "2                           NaN                      NaN   \n",
       "3                           NaN                      NaN   \n",
       "4                           NaN                      NaN   \n",
       "...                         ...                      ...   \n",
       "1810                        NaN                      NaN   \n",
       "1811                        NaN                      NaN   \n",
       "1812                        NaN                      NaN   \n",
       "1813                        NaN                      NaN   \n",
       "1814                        NaN                      NaN   \n",
       "\n",
       "     in_reply_to_screen_name lang  quote_count  reply_count  retweet_count  \\\n",
       "0                        NaN   en            0            0              0   \n",
       "1                        NaN   en            0            0              0   \n",
       "2                        NaN   en            0            0              0   \n",
       "3                        NaN   en            0            0              0   \n",
       "4                        NaN   en            0            0              0   \n",
       "...                      ...  ...          ...          ...            ...   \n",
       "1810                     NaN   en            0            0              0   \n",
       "1811                     NaN   en            0            0              0   \n",
       "1812                     NaN   en            0            0              0   \n",
       "1813                     NaN   en            0            0              0   \n",
       "1814                     NaN   en            0            0              0   \n",
       "\n",
       "      ...                                       RT_full_text         QT_id  \\\n",
       "0     ...  This is why many of us have cautioned from the...  1.304631e+18   \n",
       "1     ...                                                NaN  1.304568e+18   \n",
       "2     ...  Folks, literally for week ending Sep. 5, the P...  1.304603e+18   \n",
       "3     ...                                                NaN  1.304626e+18   \n",
       "4     ...                                                NaN  1.304341e+18   \n",
       "...   ...                                                ...           ...   \n",
       "1810  ...                                                NaN  1.304503e+18   \n",
       "1811  ...  Completely forgot about the Louisville escorts...  1.304756e+18   \n",
       "1812  ...  Good morning. As 1,000+ Americans die a day, a...  1.304610e+18   \n",
       "1813  ...  Fun fact: in 2008 this officer pistol whipped ...  1.304093e+18   \n",
       "1814  ...  Fun fact: in 2008 this officer pistol whipped ...  1.304093e+18   \n",
       "\n",
       "      QT_lang    QT_user_id      QT_username               QT_name  \\\n",
       "0          en  8.312794e+17  Craig_A_Spencer  Craig Spencer MD MPH   \n",
       "1          en  2.949916e+08  MindfulMajority      Mindful Majority   \n",
       "2          en  4.445154e+07          kylamb8             Kyle Lamb   \n",
       "3          en  3.287109e+07     kylegriffin1          Kyle Griffin   \n",
       "4          en  7.585442e+07         konkonas     Konkona Sensharma   \n",
       "...       ...           ...              ...                   ...   \n",
       "1810       en  1.501249e+07          CBSNews              CBS News   \n",
       "1811       en  2.215891e+09  LouClinicEscort   LvilleClinicEscorts   \n",
       "1812       en  1.975016e+07    justinhendrix        Justin Hendrix   \n",
       "1813       en  8.863983e+17   davenewworld_2  Fifty Shades of Whey   \n",
       "1814       en  8.863983e+17   davenewworld_2  Fifty Shades of Whey   \n",
       "\n",
       "          QT_location                                            QT_text  \\\n",
       "0       New York City  A radiologist with ZERO credentials for this r...   \n",
       "1          Denver, CO  Joe Biden is mobilizing an impressive team of ...   \n",
       "2        Columbus, OH  Weekly Covid Indicators (Covid Indicator Trend...   \n",
       "3       Manhattan, NY  TORONTO (Reuters) - Canada reported zero COVID...   \n",
       "4               India  What an irresponsible statement! Corona cases ...   \n",
       "...               ...                                                ...   \n",
       "1810     New York, NY  WATCH: While hosting a large house party, Miam...   \n",
       "1811              NaN  65 Catholics across the street only 7 wearing ...   \n",
       "1812              NYC  Politico exclusive: Trump political appointees...   \n",
       "1813  He/Him — NYC-LI  Police officer in Pittsburgh arrests a man for...   \n",
       "1814  He/Him — NYC-LI  Police officer in Pittsburgh arrests a man for...   \n",
       "\n",
       "                                           QT_full_text RT_Flag  \n",
       "0     A radiologist with ZERO credentials for this r...    True  \n",
       "1     Joe Biden is mobilizing an impressive team of ...    True  \n",
       "2     Weekly Covid Indicators (Covid Indicator Trend...    True  \n",
       "3     TORONTO (Reuters) - Canada reported zero COVID...    True  \n",
       "4                                                   NaN    True  \n",
       "...                                                 ...     ...  \n",
       "1810  WATCH: While hosting a large house party, Miam...    True  \n",
       "1811                                                NaN    True  \n",
       "1812  Politico exclusive: Trump political appointees...    True  \n",
       "1813                                                NaN    True  \n",
       "1814                                                NaN    True  \n",
       "\n",
       "[1815 rows x 39 columns]"
      ]
     },
     "execution_count": 64,
     "metadata": {},
     "output_type": "execute_result"
    }
   ],
   "source": [
    "data_en[np.where((data_en['is_quote_tweet']== True) & (data_en['RT_Flag']== True),True,False)].reset_index(drop=True)"
   ]
  }
 ],
 "metadata": {
  "kernelspec": {
   "display_name": "Python 3",
   "language": "python",
   "name": "python3"
  },
  "language_info": {
   "codemirror_mode": {
    "name": "ipython",
    "version": 3
   },
   "file_extension": ".py",
   "mimetype": "text/x-python",
   "name": "python",
   "nbconvert_exporter": "python",
   "pygments_lexer": "ipython3",
   "version": "3.8.5"
  }
 },
 "nbformat": 4,
 "nbformat_minor": 4
}
